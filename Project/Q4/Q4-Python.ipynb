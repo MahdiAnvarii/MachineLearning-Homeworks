{
 "cells": [
  {
   "cell_type": "markdown",
   "metadata": {},
   "source": [
    "# NAFLD detection using RNA-Seq data\n",
    "\n",
    "\n",
    "__Content creators:__  Mahdi Anvari, Sadegh Rizi\n",
    "\n",
    "**University of Tehran, Department of Biotechnology**"
   ]
  },
  {
   "cell_type": "markdown",
   "metadata": {},
   "source": [
    "In this part, we need to perform a regression task to predict the age of samples based on their gene expression profiles and clinical data."
   ]
  },
  {
   "cell_type": "markdown",
   "metadata": {},
   "source": [
    "We will then split the dataset based on sex, repeat the regression task, and compare the results between the groups."
   ]
  },
  {
   "cell_type": "markdown",
   "metadata": {
    "id": "-tINqWBIw-iJ"
   },
   "source": [
    "# Q4 - Python section ##"
   ]
  },
  {
   "cell_type": "code",
   "execution_count": 24,
   "metadata": {
    "id": "KSeWWxUN7YBS"
   },
   "outputs": [],
   "source": [
    "# Import needed libraries\n",
    "import pandas as pd\n",
    "import numpy as np\n",
    "import matplotlib.pyplot as plt\n",
    "import seaborn as sns\n",
    "from sklearn.metrics import precision_score, recall_score\n",
    "from sklearn.model_selection import train_test_split\n",
    "from sklearn.preprocessing import LabelEncoder\n",
    "from sklearn.linear_model import LassoCV\n",
    "import warnings\n",
    "warnings.filterwarnings(\"ignore\")\n",
    "from sklearn.linear_model import LinearRegression, Ridge, ElasticNet\n",
    "from sklearn.svm import SVR\n",
    "from sklearn.metrics import mean_squared_error, r2_score\n",
    "from sklearn.preprocessing import StandardScaler, OneHotEncoder\n",
    "from sklearn.compose import ColumnTransformer\n",
    "from sklearn.pipeline import Pipeline\n",
    "from sklearn.feature_selection import VarianceThreshold"
   ]
  },
  {
   "cell_type": "code",
   "execution_count": 2,
   "metadata": {
    "colab": {
     "base_uri": "https://localhost:8080/"
    },
    "id": "I5zIPrS08dhc",
    "outputId": "00f495aa-bfff-4227-fb26-5e31491cf44b"
   },
   "outputs": [],
   "source": [
    "# Load Data\n",
    "normal_counts = pd.read_csv('Normal.counts.voom.csv')\n",
    "meta_data = pd.read_csv('meta_data.csv')"
   ]
  },
  {
   "cell_type": "code",
   "execution_count": 3,
   "metadata": {
    "colab": {
     "base_uri": "https://localhost:8080/",
     "height": 255
    },
    "id": "8HhR4b_A-nSN",
    "outputId": "06e36813-beba-4a66-fa04-9d9d8ae05f4f"
   },
   "outputs": [
    {
     "data": {
      "text/html": [
       "<div>\n",
       "<style scoped>\n",
       "    .dataframe tbody tr th:only-of-type {\n",
       "        vertical-align: middle;\n",
       "    }\n",
       "\n",
       "    .dataframe tbody tr th {\n",
       "        vertical-align: top;\n",
       "    }\n",
       "\n",
       "    .dataframe thead th {\n",
       "        text-align: right;\n",
       "    }\n",
       "</style>\n",
       "<table border=\"1\" class=\"dataframe\">\n",
       "  <thead>\n",
       "    <tr style=\"text-align: right;\">\n",
       "      <th></th>\n",
       "      <th>gene</th>\n",
       "      <th>DLDR_0001</th>\n",
       "      <th>DLDR_0002</th>\n",
       "      <th>DLDR_0003</th>\n",
       "      <th>DLDR_0004</th>\n",
       "      <th>DLDR_0005</th>\n",
       "      <th>DLDR_0006</th>\n",
       "      <th>DLDR_0007</th>\n",
       "      <th>DLDR_0008</th>\n",
       "      <th>DLDR_0009</th>\n",
       "      <th>...</th>\n",
       "      <th>DLDR_0183</th>\n",
       "      <th>DLDR_0184</th>\n",
       "      <th>DLDR_0185</th>\n",
       "      <th>DLDR_0186</th>\n",
       "      <th>DLDR_0187</th>\n",
       "      <th>DLDR_0188</th>\n",
       "      <th>DLDR_0189</th>\n",
       "      <th>DLDR_0190</th>\n",
       "      <th>DLDR_0191</th>\n",
       "      <th>DLDR_0192</th>\n",
       "    </tr>\n",
       "  </thead>\n",
       "  <tbody>\n",
       "    <tr>\n",
       "      <th>0</th>\n",
       "      <td>ENSG00000000003</td>\n",
       "      <td>5.965571</td>\n",
       "      <td>5.741587</td>\n",
       "      <td>5.996891</td>\n",
       "      <td>5.551919</td>\n",
       "      <td>6.430237</td>\n",
       "      <td>6.234619</td>\n",
       "      <td>6.071503</td>\n",
       "      <td>6.441882</td>\n",
       "      <td>5.752712</td>\n",
       "      <td>...</td>\n",
       "      <td>6.304802</td>\n",
       "      <td>6.576246</td>\n",
       "      <td>6.735760</td>\n",
       "      <td>6.344234</td>\n",
       "      <td>6.608924</td>\n",
       "      <td>6.480745</td>\n",
       "      <td>6.360397</td>\n",
       "      <td>6.367705</td>\n",
       "      <td>6.604050</td>\n",
       "      <td>6.514539</td>\n",
       "    </tr>\n",
       "    <tr>\n",
       "      <th>1</th>\n",
       "      <td>ENSG00000000005</td>\n",
       "      <td>1.612375</td>\n",
       "      <td>2.147793</td>\n",
       "      <td>0.418542</td>\n",
       "      <td>0.702492</td>\n",
       "      <td>1.215978</td>\n",
       "      <td>0.920810</td>\n",
       "      <td>0.458163</td>\n",
       "      <td>0.927224</td>\n",
       "      <td>1.089389</td>\n",
       "      <td>...</td>\n",
       "      <td>-0.031596</td>\n",
       "      <td>-1.091275</td>\n",
       "      <td>-0.942637</td>\n",
       "      <td>-0.026585</td>\n",
       "      <td>-0.757399</td>\n",
       "      <td>-1.083676</td>\n",
       "      <td>0.886550</td>\n",
       "      <td>-0.902201</td>\n",
       "      <td>-0.865036</td>\n",
       "      <td>-1.588749</td>\n",
       "    </tr>\n",
       "    <tr>\n",
       "      <th>2</th>\n",
       "      <td>ENSG00000000419</td>\n",
       "      <td>4.133821</td>\n",
       "      <td>4.120969</td>\n",
       "      <td>4.086129</td>\n",
       "      <td>4.116240</td>\n",
       "      <td>4.393797</td>\n",
       "      <td>4.390909</td>\n",
       "      <td>4.148242</td>\n",
       "      <td>4.554655</td>\n",
       "      <td>4.203819</td>\n",
       "      <td>...</td>\n",
       "      <td>4.176599</td>\n",
       "      <td>4.244459</td>\n",
       "      <td>4.342765</td>\n",
       "      <td>4.179319</td>\n",
       "      <td>4.274450</td>\n",
       "      <td>4.361634</td>\n",
       "      <td>4.093280</td>\n",
       "      <td>4.148010</td>\n",
       "      <td>4.351489</td>\n",
       "      <td>3.859711</td>\n",
       "    </tr>\n",
       "    <tr>\n",
       "      <th>3</th>\n",
       "      <td>ENSG00000000457</td>\n",
       "      <td>4.111056</td>\n",
       "      <td>3.922234</td>\n",
       "      <td>3.964871</td>\n",
       "      <td>3.978350</td>\n",
       "      <td>4.018235</td>\n",
       "      <td>3.864521</td>\n",
       "      <td>4.263119</td>\n",
       "      <td>3.896271</td>\n",
       "      <td>4.139546</td>\n",
       "      <td>...</td>\n",
       "      <td>4.378342</td>\n",
       "      <td>4.453838</td>\n",
       "      <td>4.685598</td>\n",
       "      <td>4.438796</td>\n",
       "      <td>4.042577</td>\n",
       "      <td>4.313540</td>\n",
       "      <td>4.205119</td>\n",
       "      <td>4.506058</td>\n",
       "      <td>4.072137</td>\n",
       "      <td>4.341988</td>\n",
       "    </tr>\n",
       "    <tr>\n",
       "      <th>4</th>\n",
       "      <td>ENSG00000000460</td>\n",
       "      <td>4.150662</td>\n",
       "      <td>3.732756</td>\n",
       "      <td>3.634637</td>\n",
       "      <td>3.853979</td>\n",
       "      <td>3.614220</td>\n",
       "      <td>3.500857</td>\n",
       "      <td>4.000565</td>\n",
       "      <td>4.016287</td>\n",
       "      <td>3.904500</td>\n",
       "      <td>...</td>\n",
       "      <td>2.974209</td>\n",
       "      <td>3.720038</td>\n",
       "      <td>4.640011</td>\n",
       "      <td>3.814717</td>\n",
       "      <td>2.126408</td>\n",
       "      <td>3.120196</td>\n",
       "      <td>3.336802</td>\n",
       "      <td>3.982071</td>\n",
       "      <td>3.143138</td>\n",
       "      <td>2.741172</td>\n",
       "    </tr>\n",
       "  </tbody>\n",
       "</table>\n",
       "<p>5 rows × 193 columns</p>\n",
       "</div>"
      ],
      "text/plain": [
       "              gene  DLDR_0001  DLDR_0002  DLDR_0003  DLDR_0004  DLDR_0005  \\\n",
       "0  ENSG00000000003   5.965571   5.741587   5.996891   5.551919   6.430237   \n",
       "1  ENSG00000000005   1.612375   2.147793   0.418542   0.702492   1.215978   \n",
       "2  ENSG00000000419   4.133821   4.120969   4.086129   4.116240   4.393797   \n",
       "3  ENSG00000000457   4.111056   3.922234   3.964871   3.978350   4.018235   \n",
       "4  ENSG00000000460   4.150662   3.732756   3.634637   3.853979   3.614220   \n",
       "\n",
       "   DLDR_0006  DLDR_0007  DLDR_0008  DLDR_0009  ...  DLDR_0183  DLDR_0184  \\\n",
       "0   6.234619   6.071503   6.441882   5.752712  ...   6.304802   6.576246   \n",
       "1   0.920810   0.458163   0.927224   1.089389  ...  -0.031596  -1.091275   \n",
       "2   4.390909   4.148242   4.554655   4.203819  ...   4.176599   4.244459   \n",
       "3   3.864521   4.263119   3.896271   4.139546  ...   4.378342   4.453838   \n",
       "4   3.500857   4.000565   4.016287   3.904500  ...   2.974209   3.720038   \n",
       "\n",
       "   DLDR_0185  DLDR_0186  DLDR_0187  DLDR_0188  DLDR_0189  DLDR_0190  \\\n",
       "0   6.735760   6.344234   6.608924   6.480745   6.360397   6.367705   \n",
       "1  -0.942637  -0.026585  -0.757399  -1.083676   0.886550  -0.902201   \n",
       "2   4.342765   4.179319   4.274450   4.361634   4.093280   4.148010   \n",
       "3   4.685598   4.438796   4.042577   4.313540   4.205119   4.506058   \n",
       "4   4.640011   3.814717   2.126408   3.120196   3.336802   3.982071   \n",
       "\n",
       "   DLDR_0191  DLDR_0192  \n",
       "0   6.604050   6.514539  \n",
       "1  -0.865036  -1.588749  \n",
       "2   4.351489   3.859711  \n",
       "3   4.072137   4.341988  \n",
       "4   3.143138   2.741172  \n",
       "\n",
       "[5 rows x 193 columns]"
      ]
     },
     "execution_count": 3,
     "metadata": {},
     "output_type": "execute_result"
    }
   ],
   "source": [
    "normal_counts.head()"
   ]
  },
  {
   "cell_type": "code",
   "execution_count": 4,
   "metadata": {
    "colab": {
     "base_uri": "https://localhost:8080/"
    },
    "id": "mMe2Ge-2AICA",
    "outputId": "77668e90-9264-4464-b063-228ed22f90c8"
   },
   "outputs": [
    {
     "data": {
      "text/plain": [
       "(17396, 193)"
      ]
     },
     "execution_count": 4,
     "metadata": {},
     "output_type": "execute_result"
    }
   ],
   "source": [
    "normal_counts.shape"
   ]
  },
  {
   "cell_type": "code",
   "execution_count": 5,
   "metadata": {
    "colab": {
     "base_uri": "https://localhost:8080/",
     "height": 206
    },
    "id": "9yw90VVg9xwt",
    "outputId": "0d14c668-2686-41ab-8c9e-58d48bf2f04f"
   },
   "outputs": [
    {
     "data": {
      "text/html": [
       "<div>\n",
       "<style scoped>\n",
       "    .dataframe tbody tr th:only-of-type {\n",
       "        vertical-align: middle;\n",
       "    }\n",
       "\n",
       "    .dataframe tbody tr th {\n",
       "        vertical-align: top;\n",
       "    }\n",
       "\n",
       "    .dataframe thead th {\n",
       "        text-align: right;\n",
       "    }\n",
       "</style>\n",
       "<table border=\"1\" class=\"dataframe\">\n",
       "  <thead>\n",
       "    <tr style=\"text-align: right;\">\n",
       "      <th></th>\n",
       "      <th>Patient_ID</th>\n",
       "      <th>SEX</th>\n",
       "      <th>BMI_surg</th>\n",
       "      <th>Age</th>\n",
       "      <th>Run</th>\n",
       "      <th>Diabet</th>\n",
       "      <th>Simplified_class</th>\n",
       "    </tr>\n",
       "  </thead>\n",
       "  <tbody>\n",
       "    <tr>\n",
       "      <th>0</th>\n",
       "      <td>DLDR_0001</td>\n",
       "      <td>Female</td>\n",
       "      <td>35.214555</td>\n",
       "      <td>55</td>\n",
       "      <td>SRR8378590</td>\n",
       "      <td>Non Diabetic</td>\n",
       "      <td>Normal</td>\n",
       "    </tr>\n",
       "    <tr>\n",
       "      <th>1</th>\n",
       "      <td>DLDR_0002</td>\n",
       "      <td>Female</td>\n",
       "      <td>39.421748</td>\n",
       "      <td>47</td>\n",
       "      <td>SRR8378589</td>\n",
       "      <td>Diabetic</td>\n",
       "      <td>Normal</td>\n",
       "    </tr>\n",
       "    <tr>\n",
       "      <th>2</th>\n",
       "      <td>DLDR_0003</td>\n",
       "      <td>Male</td>\n",
       "      <td>48.758108</td>\n",
       "      <td>46</td>\n",
       "      <td>SRR8378432</td>\n",
       "      <td>Non Diabetic</td>\n",
       "      <td>Normal</td>\n",
       "    </tr>\n",
       "    <tr>\n",
       "      <th>3</th>\n",
       "      <td>DLDR_0004</td>\n",
       "      <td>Female</td>\n",
       "      <td>41.822607</td>\n",
       "      <td>36</td>\n",
       "      <td>SRR8378431</td>\n",
       "      <td>Non Diabetic</td>\n",
       "      <td>Normal</td>\n",
       "    </tr>\n",
       "    <tr>\n",
       "      <th>4</th>\n",
       "      <td>DLDR_0005</td>\n",
       "      <td>Female</td>\n",
       "      <td>53.582192</td>\n",
       "      <td>54</td>\n",
       "      <td>SRR8378434</td>\n",
       "      <td>Non Diabetic</td>\n",
       "      <td>Normal</td>\n",
       "    </tr>\n",
       "  </tbody>\n",
       "</table>\n",
       "</div>"
      ],
      "text/plain": [
       "  Patient_ID     SEX   BMI_surg  Age         Run        Diabet  \\\n",
       "0  DLDR_0001  Female  35.214555   55  SRR8378590  Non Diabetic   \n",
       "1  DLDR_0002  Female  39.421748   47  SRR8378589      Diabetic   \n",
       "2  DLDR_0003    Male  48.758108   46  SRR8378432  Non Diabetic   \n",
       "3  DLDR_0004  Female  41.822607   36  SRR8378431  Non Diabetic   \n",
       "4  DLDR_0005  Female  53.582192   54  SRR8378434  Non Diabetic   \n",
       "\n",
       "  Simplified_class  \n",
       "0           Normal  \n",
       "1           Normal  \n",
       "2           Normal  \n",
       "3           Normal  \n",
       "4           Normal  "
      ]
     },
     "execution_count": 5,
     "metadata": {},
     "output_type": "execute_result"
    }
   ],
   "source": [
    "meta_data.head()"
   ]
  },
  {
   "cell_type": "code",
   "execution_count": 6,
   "metadata": {
    "colab": {
     "base_uri": "https://localhost:8080/"
    },
    "id": "1iOVAvhSATlU",
    "outputId": "e6f4e4cb-76ed-498d-cd7f-52ede794d0fb"
   },
   "outputs": [
    {
     "data": {
      "text/plain": [
       "(192, 7)"
      ]
     },
     "execution_count": 6,
     "metadata": {},
     "output_type": "execute_result"
    }
   ],
   "source": [
    "meta_data.shape"
   ]
  },
  {
   "cell_type": "code",
   "execution_count": 13,
   "metadata": {
    "colab": {
     "base_uri": "https://localhost:8080/"
    },
    "id": "4294TsWRGJNP",
    "outputId": "0a9cf59f-6d0a-44b5-c3a1-45400f6fbf48"
   },
   "outputs": [
    {
     "name": "stdout",
     "output_type": "stream",
     "text": [
      "Number of Female samples:  154\n",
      "Number of Male samples:  38\n"
     ]
    }
   ],
   "source": [
    "print(\"Number of Female samples: \", meta_data['SEX'].to_list().count(\"Female\"))\n",
    "print(\"Number of Male samples: \", meta_data['SEX'].to_list().count(\"Male\"))"
   ]
  },
  {
   "cell_type": "markdown",
   "metadata": {},
   "source": [
    "To include our clinical data, we need to perform some preprocessing steps. For categorical data, we will use one-hot encoding, and for continuous data, we will apply normalization."
   ]
  },
  {
   "cell_type": "code",
   "execution_count": 14,
   "metadata": {
    "id": "IkKZQbAzexfk"
   },
   "outputs": [],
   "source": [
    "# One-Hot Encoding for categorical features\n",
    "categorical_features = ['SEX', 'Diabet']\n",
    "ohe = OneHotEncoder()\n",
    "# Standardize continuous variables\n",
    "numerical_features = ['BMI_surg', 'Age']\n",
    "scaler = StandardScaler()\n",
    "# Preprocess clinical data\n",
    "preprocessor = ColumnTransformer(\n",
    "    transformers=[\n",
    "        ('num', scaler, numerical_features),\n",
    "        ('cat', ohe, categorical_features)])"
   ]
  },
  {
   "cell_type": "code",
   "execution_count": 15,
   "metadata": {
    "id": "iRnIXn1AfVZO"
   },
   "outputs": [],
   "source": [
    "clinical_data = preprocessor.fit_transform(meta_data)"
   ]
  },
  {
   "cell_type": "code",
   "execution_count": 16,
   "metadata": {
    "id": "jLrMdiTVgLm7"
   },
   "outputs": [],
   "source": [
    "clinical_data = pd.DataFrame(clinical_data).iloc[:, [0, 2, 4]]\n",
    "clinical_data.columns = ['BMI_surg', 'Sex', 'Diabet']"
   ]
  },
  {
   "cell_type": "code",
   "execution_count": 17,
   "metadata": {
    "colab": {
     "base_uri": "https://localhost:8080/",
     "height": 423
    },
    "id": "upqTPu2ZiARV",
    "outputId": "786322b7-068f-4863-87a7-56b8fc7c4b7c"
   },
   "outputs": [
    {
     "data": {
      "text/html": [
       "<div>\n",
       "<style scoped>\n",
       "    .dataframe tbody tr th:only-of-type {\n",
       "        vertical-align: middle;\n",
       "    }\n",
       "\n",
       "    .dataframe tbody tr th {\n",
       "        vertical-align: top;\n",
       "    }\n",
       "\n",
       "    .dataframe thead th {\n",
       "        text-align: right;\n",
       "    }\n",
       "</style>\n",
       "<table border=\"1\" class=\"dataframe\">\n",
       "  <thead>\n",
       "    <tr style=\"text-align: right;\">\n",
       "      <th></th>\n",
       "      <th>BMI_surg</th>\n",
       "      <th>Sex</th>\n",
       "      <th>Diabet</th>\n",
       "    </tr>\n",
       "  </thead>\n",
       "  <tbody>\n",
       "    <tr>\n",
       "      <th>0</th>\n",
       "      <td>-1.308155</td>\n",
       "      <td>1.0</td>\n",
       "      <td>0.0</td>\n",
       "    </tr>\n",
       "    <tr>\n",
       "      <th>1</th>\n",
       "      <td>-0.857325</td>\n",
       "      <td>1.0</td>\n",
       "      <td>1.0</td>\n",
       "    </tr>\n",
       "    <tr>\n",
       "      <th>2</th>\n",
       "      <td>0.143131</td>\n",
       "      <td>0.0</td>\n",
       "      <td>0.0</td>\n",
       "    </tr>\n",
       "    <tr>\n",
       "      <th>3</th>\n",
       "      <td>-0.600056</td>\n",
       "      <td>1.0</td>\n",
       "      <td>0.0</td>\n",
       "    </tr>\n",
       "    <tr>\n",
       "      <th>4</th>\n",
       "      <td>0.660065</td>\n",
       "      <td>1.0</td>\n",
       "      <td>0.0</td>\n",
       "    </tr>\n",
       "    <tr>\n",
       "      <th>...</th>\n",
       "      <td>...</td>\n",
       "      <td>...</td>\n",
       "      <td>...</td>\n",
       "    </tr>\n",
       "    <tr>\n",
       "      <th>187</th>\n",
       "      <td>-0.772196</td>\n",
       "      <td>0.0</td>\n",
       "      <td>1.0</td>\n",
       "    </tr>\n",
       "    <tr>\n",
       "      <th>188</th>\n",
       "      <td>0.284524</td>\n",
       "      <td>1.0</td>\n",
       "      <td>0.0</td>\n",
       "    </tr>\n",
       "    <tr>\n",
       "      <th>189</th>\n",
       "      <td>6.161411</td>\n",
       "      <td>0.0</td>\n",
       "      <td>1.0</td>\n",
       "    </tr>\n",
       "    <tr>\n",
       "      <th>190</th>\n",
       "      <td>0.007788</td>\n",
       "      <td>1.0</td>\n",
       "      <td>0.0</td>\n",
       "    </tr>\n",
       "    <tr>\n",
       "      <th>191</th>\n",
       "      <td>-0.214761</td>\n",
       "      <td>1.0</td>\n",
       "      <td>0.0</td>\n",
       "    </tr>\n",
       "  </tbody>\n",
       "</table>\n",
       "<p>192 rows × 3 columns</p>\n",
       "</div>"
      ],
      "text/plain": [
       "     BMI_surg  Sex  Diabet\n",
       "0   -1.308155  1.0     0.0\n",
       "1   -0.857325  1.0     1.0\n",
       "2    0.143131  0.0     0.0\n",
       "3   -0.600056  1.0     0.0\n",
       "4    0.660065  1.0     0.0\n",
       "..        ...  ...     ...\n",
       "187 -0.772196  0.0     1.0\n",
       "188  0.284524  1.0     0.0\n",
       "189  6.161411  0.0     1.0\n",
       "190  0.007788  1.0     0.0\n",
       "191 -0.214761  1.0     0.0\n",
       "\n",
       "[192 rows x 3 columns]"
      ]
     },
     "execution_count": 17,
     "metadata": {},
     "output_type": "execute_result"
    }
   ],
   "source": [
    "clinical_data"
   ]
  },
  {
   "cell_type": "code",
   "execution_count": 18,
   "metadata": {
    "colab": {
     "base_uri": "https://localhost:8080/"
    },
    "id": "5qKPJBAamT__",
    "outputId": "8f0cfbcd-b84d-4655-c99d-752c06629324"
   },
   "outputs": [],
   "source": [
    "gene_names = normal_counts.iloc[:,0]\n",
    "gene_names.at[17396] = 'BMI_surg'\n",
    "gene_names.at[17397] = 'SEX'\n",
    "gene_names.at[17398] = 'Diabet'"
   ]
  },
  {
   "cell_type": "code",
   "execution_count": 19,
   "metadata": {},
   "outputs": [
    {
     "data": {
      "text/plain": [
       "0        ENSG00000000003\n",
       "1        ENSG00000000005\n",
       "2        ENSG00000000419\n",
       "3        ENSG00000000457\n",
       "4        ENSG00000000460\n",
       "              ...       \n",
       "17394    ENSG00000273274\n",
       "17395    ENSG00000273294\n",
       "17396           BMI_surg\n",
       "17397                SEX\n",
       "17398             Diabet\n",
       "Name: gene, Length: 17399, dtype: object"
      ]
     },
     "execution_count": 19,
     "metadata": {},
     "output_type": "execute_result"
    }
   ],
   "source": [
    "gene_names"
   ]
  },
  {
   "cell_type": "markdown",
   "metadata": {},
   "source": [
    "Now, let's combine our gene expression data with clinical data"
   ]
  },
  {
   "cell_type": "code",
   "execution_count": 20,
   "metadata": {
    "id": "2Dvd-3xgluTl"
   },
   "outputs": [],
   "source": [
    "combined_data = np.hstack((normal_counts.iloc[0:,1:].T, clinical_data))\n",
    "df_deg = pd.DataFrame(combined_data)\n",
    "df_deg.columns = gene_names"
   ]
  },
  {
   "cell_type": "code",
   "execution_count": 21,
   "metadata": {},
   "outputs": [
    {
     "data": {
      "text/html": [
       "<div>\n",
       "<style scoped>\n",
       "    .dataframe tbody tr th:only-of-type {\n",
       "        vertical-align: middle;\n",
       "    }\n",
       "\n",
       "    .dataframe tbody tr th {\n",
       "        vertical-align: top;\n",
       "    }\n",
       "\n",
       "    .dataframe thead th {\n",
       "        text-align: right;\n",
       "    }\n",
       "</style>\n",
       "<table border=\"1\" class=\"dataframe\">\n",
       "  <thead>\n",
       "    <tr style=\"text-align: right;\">\n",
       "      <th>gene</th>\n",
       "      <th>ENSG00000000003</th>\n",
       "      <th>ENSG00000000005</th>\n",
       "      <th>ENSG00000000419</th>\n",
       "      <th>ENSG00000000457</th>\n",
       "      <th>ENSG00000000460</th>\n",
       "      <th>ENSG00000000938</th>\n",
       "      <th>ENSG00000000971</th>\n",
       "      <th>ENSG00000001036</th>\n",
       "      <th>ENSG00000001084</th>\n",
       "      <th>ENSG00000001167</th>\n",
       "      <th>...</th>\n",
       "      <th>ENSG00000272658</th>\n",
       "      <th>ENSG00000272869</th>\n",
       "      <th>ENSG00000273079</th>\n",
       "      <th>ENSG00000273173</th>\n",
       "      <th>ENSG00000273259</th>\n",
       "      <th>ENSG00000273274</th>\n",
       "      <th>ENSG00000273294</th>\n",
       "      <th>BMI_surg</th>\n",
       "      <th>SEX</th>\n",
       "      <th>Diabet</th>\n",
       "    </tr>\n",
       "  </thead>\n",
       "  <tbody>\n",
       "    <tr>\n",
       "      <th>0</th>\n",
       "      <td>5.965571</td>\n",
       "      <td>1.612375</td>\n",
       "      <td>4.133821</td>\n",
       "      <td>4.111056</td>\n",
       "      <td>4.150662</td>\n",
       "      <td>2.975845</td>\n",
       "      <td>11.005488</td>\n",
       "      <td>4.405768</td>\n",
       "      <td>6.825329</td>\n",
       "      <td>4.221450</td>\n",
       "      <td>...</td>\n",
       "      <td>1.365460</td>\n",
       "      <td>0.691230</td>\n",
       "      <td>5.637483</td>\n",
       "      <td>-0.005377</td>\n",
       "      <td>1.675800</td>\n",
       "      <td>2.683536</td>\n",
       "      <td>-0.339797</td>\n",
       "      <td>-1.308155</td>\n",
       "      <td>1.0</td>\n",
       "      <td>0.0</td>\n",
       "    </tr>\n",
       "    <tr>\n",
       "      <th>1</th>\n",
       "      <td>5.741587</td>\n",
       "      <td>2.147793</td>\n",
       "      <td>4.120969</td>\n",
       "      <td>3.922234</td>\n",
       "      <td>3.732756</td>\n",
       "      <td>3.199989</td>\n",
       "      <td>10.860700</td>\n",
       "      <td>3.895350</td>\n",
       "      <td>6.453687</td>\n",
       "      <td>4.218183</td>\n",
       "      <td>...</td>\n",
       "      <td>0.935490</td>\n",
       "      <td>1.004202</td>\n",
       "      <td>5.975612</td>\n",
       "      <td>0.532134</td>\n",
       "      <td>1.555218</td>\n",
       "      <td>2.926666</td>\n",
       "      <td>0.435919</td>\n",
       "      <td>-0.857325</td>\n",
       "      <td>1.0</td>\n",
       "      <td>1.0</td>\n",
       "    </tr>\n",
       "    <tr>\n",
       "      <th>2</th>\n",
       "      <td>5.996891</td>\n",
       "      <td>0.418542</td>\n",
       "      <td>4.086129</td>\n",
       "      <td>3.964871</td>\n",
       "      <td>3.634637</td>\n",
       "      <td>2.949733</td>\n",
       "      <td>10.934025</td>\n",
       "      <td>4.282577</td>\n",
       "      <td>6.437658</td>\n",
       "      <td>3.736947</td>\n",
       "      <td>...</td>\n",
       "      <td>0.675699</td>\n",
       "      <td>0.943633</td>\n",
       "      <td>5.531648</td>\n",
       "      <td>-0.184123</td>\n",
       "      <td>2.391906</td>\n",
       "      <td>2.260662</td>\n",
       "      <td>-0.691083</td>\n",
       "      <td>0.143131</td>\n",
       "      <td>0.0</td>\n",
       "      <td>0.0</td>\n",
       "    </tr>\n",
       "    <tr>\n",
       "      <th>3</th>\n",
       "      <td>5.551919</td>\n",
       "      <td>0.702492</td>\n",
       "      <td>4.116240</td>\n",
       "      <td>3.978350</td>\n",
       "      <td>3.853979</td>\n",
       "      <td>2.991061</td>\n",
       "      <td>10.760445</td>\n",
       "      <td>4.297722</td>\n",
       "      <td>6.710840</td>\n",
       "      <td>4.003661</td>\n",
       "      <td>...</td>\n",
       "      <td>0.702492</td>\n",
       "      <td>0.431190</td>\n",
       "      <td>5.571799</td>\n",
       "      <td>-0.034474</td>\n",
       "      <td>1.639298</td>\n",
       "      <td>2.341393</td>\n",
       "      <td>0.096771</td>\n",
       "      <td>-0.600056</td>\n",
       "      <td>1.0</td>\n",
       "      <td>0.0</td>\n",
       "    </tr>\n",
       "    <tr>\n",
       "      <th>4</th>\n",
       "      <td>6.430237</td>\n",
       "      <td>1.215978</td>\n",
       "      <td>4.393797</td>\n",
       "      <td>4.018235</td>\n",
       "      <td>3.614220</td>\n",
       "      <td>2.836130</td>\n",
       "      <td>11.491427</td>\n",
       "      <td>4.405558</td>\n",
       "      <td>7.437655</td>\n",
       "      <td>4.377965</td>\n",
       "      <td>...</td>\n",
       "      <td>0.898496</td>\n",
       "      <td>0.085581</td>\n",
       "      <td>5.636848</td>\n",
       "      <td>-1.216981</td>\n",
       "      <td>1.974160</td>\n",
       "      <td>1.351861</td>\n",
       "      <td>-0.079478</td>\n",
       "      <td>0.660065</td>\n",
       "      <td>1.0</td>\n",
       "      <td>0.0</td>\n",
       "    </tr>\n",
       "    <tr>\n",
       "      <th>...</th>\n",
       "      <td>...</td>\n",
       "      <td>...</td>\n",
       "      <td>...</td>\n",
       "      <td>...</td>\n",
       "      <td>...</td>\n",
       "      <td>...</td>\n",
       "      <td>...</td>\n",
       "      <td>...</td>\n",
       "      <td>...</td>\n",
       "      <td>...</td>\n",
       "      <td>...</td>\n",
       "      <td>...</td>\n",
       "      <td>...</td>\n",
       "      <td>...</td>\n",
       "      <td>...</td>\n",
       "      <td>...</td>\n",
       "      <td>...</td>\n",
       "      <td>...</td>\n",
       "      <td>...</td>\n",
       "      <td>...</td>\n",
       "      <td>...</td>\n",
       "    </tr>\n",
       "    <tr>\n",
       "      <th>187</th>\n",
       "      <td>6.480745</td>\n",
       "      <td>-1.083676</td>\n",
       "      <td>4.361634</td>\n",
       "      <td>4.313540</td>\n",
       "      <td>3.120196</td>\n",
       "      <td>1.941859</td>\n",
       "      <td>11.451981</td>\n",
       "      <td>4.556052</td>\n",
       "      <td>7.183779</td>\n",
       "      <td>5.066071</td>\n",
       "      <td>...</td>\n",
       "      <td>0.632531</td>\n",
       "      <td>-0.431600</td>\n",
       "      <td>2.616763</td>\n",
       "      <td>1.063165</td>\n",
       "      <td>1.941859</td>\n",
       "      <td>-2.306069</td>\n",
       "      <td>0.632531</td>\n",
       "      <td>-0.772196</td>\n",
       "      <td>0.0</td>\n",
       "      <td>1.0</td>\n",
       "    </tr>\n",
       "    <tr>\n",
       "      <th>188</th>\n",
       "      <td>6.360397</td>\n",
       "      <td>0.886550</td>\n",
       "      <td>4.093280</td>\n",
       "      <td>4.205119</td>\n",
       "      <td>3.336802</td>\n",
       "      <td>2.911496</td>\n",
       "      <td>11.658711</td>\n",
       "      <td>4.315153</td>\n",
       "      <td>7.384726</td>\n",
       "      <td>4.627703</td>\n",
       "      <td>...</td>\n",
       "      <td>-0.147398</td>\n",
       "      <td>-1.080284</td>\n",
       "      <td>2.975985</td>\n",
       "      <td>0.589568</td>\n",
       "      <td>2.754906</td>\n",
       "      <td>-0.839275</td>\n",
       "      <td>-0.016153</td>\n",
       "      <td>0.284524</td>\n",
       "      <td>1.0</td>\n",
       "      <td>0.0</td>\n",
       "    </tr>\n",
       "    <tr>\n",
       "      <th>189</th>\n",
       "      <td>6.367705</td>\n",
       "      <td>-0.902201</td>\n",
       "      <td>4.148010</td>\n",
       "      <td>4.506058</td>\n",
       "      <td>3.982071</td>\n",
       "      <td>2.202136</td>\n",
       "      <td>11.864397</td>\n",
       "      <td>4.348255</td>\n",
       "      <td>7.326297</td>\n",
       "      <td>4.528530</td>\n",
       "      <td>...</td>\n",
       "      <td>0.048889</td>\n",
       "      <td>-1.108652</td>\n",
       "      <td>3.218814</td>\n",
       "      <td>-0.416774</td>\n",
       "      <td>2.246191</td>\n",
       "      <td>-1.639167</td>\n",
       "      <td>0.145105</td>\n",
       "      <td>6.161411</td>\n",
       "      <td>0.0</td>\n",
       "      <td>1.0</td>\n",
       "    </tr>\n",
       "    <tr>\n",
       "      <th>190</th>\n",
       "      <td>6.604050</td>\n",
       "      <td>-0.865036</td>\n",
       "      <td>4.351489</td>\n",
       "      <td>4.072137</td>\n",
       "      <td>3.143138</td>\n",
       "      <td>4.037476</td>\n",
       "      <td>11.782524</td>\n",
       "      <td>4.358527</td>\n",
       "      <td>8.468526</td>\n",
       "      <td>5.013154</td>\n",
       "      <td>...</td>\n",
       "      <td>-1.154543</td>\n",
       "      <td>-0.624028</td>\n",
       "      <td>2.050571</td>\n",
       "      <td>-1.517113</td>\n",
       "      <td>2.084923</td>\n",
       "      <td>-4.324468</td>\n",
       "      <td>0.067849</td>\n",
       "      <td>0.007788</td>\n",
       "      <td>1.0</td>\n",
       "      <td>0.0</td>\n",
       "    </tr>\n",
       "    <tr>\n",
       "      <th>191</th>\n",
       "      <td>6.514539</td>\n",
       "      <td>-1.588749</td>\n",
       "      <td>3.859711</td>\n",
       "      <td>4.341988</td>\n",
       "      <td>2.741172</td>\n",
       "      <td>2.803568</td>\n",
       "      <td>11.474777</td>\n",
       "      <td>3.895962</td>\n",
       "      <td>7.617180</td>\n",
       "      <td>4.778544</td>\n",
       "      <td>...</td>\n",
       "      <td>-0.114818</td>\n",
       "      <td>-0.510747</td>\n",
       "      <td>2.572243</td>\n",
       "      <td>0.667591</td>\n",
       "      <td>2.160189</td>\n",
       "      <td>-3.173712</td>\n",
       "      <td>1.218606</td>\n",
       "      <td>-0.214761</td>\n",
       "      <td>1.0</td>\n",
       "      <td>0.0</td>\n",
       "    </tr>\n",
       "  </tbody>\n",
       "</table>\n",
       "<p>192 rows × 17399 columns</p>\n",
       "</div>"
      ],
      "text/plain": [
       "gene  ENSG00000000003  ENSG00000000005  ENSG00000000419  ENSG00000000457  \\\n",
       "0            5.965571         1.612375         4.133821         4.111056   \n",
       "1            5.741587         2.147793         4.120969         3.922234   \n",
       "2            5.996891         0.418542         4.086129         3.964871   \n",
       "3            5.551919         0.702492         4.116240         3.978350   \n",
       "4            6.430237         1.215978         4.393797         4.018235   \n",
       "..                ...              ...              ...              ...   \n",
       "187          6.480745        -1.083676         4.361634         4.313540   \n",
       "188          6.360397         0.886550         4.093280         4.205119   \n",
       "189          6.367705        -0.902201         4.148010         4.506058   \n",
       "190          6.604050        -0.865036         4.351489         4.072137   \n",
       "191          6.514539        -1.588749         3.859711         4.341988   \n",
       "\n",
       "gene  ENSG00000000460  ENSG00000000938  ENSG00000000971  ENSG00000001036  \\\n",
       "0            4.150662         2.975845        11.005488         4.405768   \n",
       "1            3.732756         3.199989        10.860700         3.895350   \n",
       "2            3.634637         2.949733        10.934025         4.282577   \n",
       "3            3.853979         2.991061        10.760445         4.297722   \n",
       "4            3.614220         2.836130        11.491427         4.405558   \n",
       "..                ...              ...              ...              ...   \n",
       "187          3.120196         1.941859        11.451981         4.556052   \n",
       "188          3.336802         2.911496        11.658711         4.315153   \n",
       "189          3.982071         2.202136        11.864397         4.348255   \n",
       "190          3.143138         4.037476        11.782524         4.358527   \n",
       "191          2.741172         2.803568        11.474777         3.895962   \n",
       "\n",
       "gene  ENSG00000001084  ENSG00000001167  ...  ENSG00000272658  ENSG00000272869  \\\n",
       "0            6.825329         4.221450  ...         1.365460         0.691230   \n",
       "1            6.453687         4.218183  ...         0.935490         1.004202   \n",
       "2            6.437658         3.736947  ...         0.675699         0.943633   \n",
       "3            6.710840         4.003661  ...         0.702492         0.431190   \n",
       "4            7.437655         4.377965  ...         0.898496         0.085581   \n",
       "..                ...              ...  ...              ...              ...   \n",
       "187          7.183779         5.066071  ...         0.632531        -0.431600   \n",
       "188          7.384726         4.627703  ...        -0.147398        -1.080284   \n",
       "189          7.326297         4.528530  ...         0.048889        -1.108652   \n",
       "190          8.468526         5.013154  ...        -1.154543        -0.624028   \n",
       "191          7.617180         4.778544  ...        -0.114818        -0.510747   \n",
       "\n",
       "gene  ENSG00000273079  ENSG00000273173  ENSG00000273259  ENSG00000273274  \\\n",
       "0            5.637483        -0.005377         1.675800         2.683536   \n",
       "1            5.975612         0.532134         1.555218         2.926666   \n",
       "2            5.531648        -0.184123         2.391906         2.260662   \n",
       "3            5.571799        -0.034474         1.639298         2.341393   \n",
       "4            5.636848        -1.216981         1.974160         1.351861   \n",
       "..                ...              ...              ...              ...   \n",
       "187          2.616763         1.063165         1.941859        -2.306069   \n",
       "188          2.975985         0.589568         2.754906        -0.839275   \n",
       "189          3.218814        -0.416774         2.246191        -1.639167   \n",
       "190          2.050571        -1.517113         2.084923        -4.324468   \n",
       "191          2.572243         0.667591         2.160189        -3.173712   \n",
       "\n",
       "gene  ENSG00000273294  BMI_surg  SEX  Diabet  \n",
       "0           -0.339797 -1.308155  1.0     0.0  \n",
       "1            0.435919 -0.857325  1.0     1.0  \n",
       "2           -0.691083  0.143131  0.0     0.0  \n",
       "3            0.096771 -0.600056  1.0     0.0  \n",
       "4           -0.079478  0.660065  1.0     0.0  \n",
       "..                ...       ...  ...     ...  \n",
       "187          0.632531 -0.772196  0.0     1.0  \n",
       "188         -0.016153  0.284524  1.0     0.0  \n",
       "189          0.145105  6.161411  0.0     1.0  \n",
       "190          0.067849  0.007788  1.0     0.0  \n",
       "191          1.218606 -0.214761  1.0     0.0  \n",
       "\n",
       "[192 rows x 17399 columns]"
      ]
     },
     "execution_count": 21,
     "metadata": {},
     "output_type": "execute_result"
    }
   ],
   "source": [
    "df_deg"
   ]
  },
  {
   "cell_type": "markdown",
   "metadata": {},
   "source": [
    "Let's split our data and labels to train and test sets"
   ]
  },
  {
   "cell_type": "code",
   "execution_count": 22,
   "metadata": {},
   "outputs": [],
   "source": [
    "X_train, X_test, y_train, y_test = train_test_split(df_deg, meta_data['Age'], test_size=0.2, random_state = 10101)"
   ]
  },
  {
   "cell_type": "markdown",
   "metadata": {},
   "source": [
    "First, we applied a variance threshold to filter out features that do not have sufficient variation."
   ]
  },
  {
   "cell_type": "code",
   "execution_count": 25,
   "metadata": {},
   "outputs": [],
   "source": [
    "threshold = 0.8\n",
    "selector = VarianceThreshold(threshold)\n",
    "filtered_data = selector.fit_transform(X_train)\n",
    "selected_features = X_train.columns[selector.get_support()]\n",
    "X_train_filtered = pd.DataFrame(filtered_data, columns=selected_features)"
   ]
  },
  {
   "cell_type": "code",
   "execution_count": 26,
   "metadata": {},
   "outputs": [
    {
     "data": {
      "text/plain": [
       "(153, 5229)"
      ]
     },
     "execution_count": 26,
     "metadata": {},
     "output_type": "execute_result"
    }
   ],
   "source": [
    "X_train_filtered.shape"
   ]
  },
  {
   "cell_type": "markdown",
   "metadata": {},
   "source": [
    "Next, we performed LASSO to extract the most relevant features for this task."
   ]
  },
  {
   "cell_type": "code",
   "execution_count": 21,
   "metadata": {
    "id": "SeZeETIVpVSE"
   },
   "outputs": [],
   "source": [
    "lasso = LassoCV(cv=5).fit(X_train_filtered, y_train)\n",
    "# Extract the non-zero coefficients\n",
    "important_genes = X_train_filtered.columns[(lasso.coef_ != 0)]"
   ]
  },
  {
   "cell_type": "code",
   "execution_count": 22,
   "metadata": {
    "colab": {
     "base_uri": "https://localhost:8080/"
    },
    "id": "QR6X6ZjnrPFN",
    "outputId": "d956c627-fb90-4eb5-ddc2-0304c3ef097c"
   },
   "outputs": [
    {
     "data": {
      "text/plain": [
       "Index(['ENSG00000001630', 'ENSG00000007001', 'ENSG00000011083',\n",
       "       'ENSG00000024526', 'ENSG00000064205', 'ENSG00000071909',\n",
       "       'ENSG00000086548', 'ENSG00000091129', 'ENSG00000103154',\n",
       "       'ENSG00000104369', 'ENSG00000109182', 'ENSG00000115009',\n",
       "       'ENSG00000115457', 'ENSG00000129824', 'ENSG00000131080',\n",
       "       'ENSG00000134184', 'ENSG00000141668', 'ENSG00000144229',\n",
       "       'ENSG00000151025', 'ENSG00000152726', 'ENSG00000152779',\n",
       "       'ENSG00000162391', 'ENSG00000164266', 'ENSG00000165246',\n",
       "       'ENSG00000166923', 'ENSG00000170160', 'ENSG00000171496',\n",
       "       'ENSG00000171747', 'ENSG00000181333', 'ENSG00000182771',\n",
       "       'ENSG00000182870', 'ENSG00000184674', 'ENSG00000184698',\n",
       "       'ENSG00000189266', 'ENSG00000221890', 'ENSG00000236882',\n",
       "       'ENSG00000244694', 'ENSG00000255798', 'ENSG00000256618'],\n",
       "      dtype='object', name='gene')"
      ]
     },
     "execution_count": 22,
     "metadata": {},
     "output_type": "execute_result"
    }
   ],
   "source": [
    "important_genes"
   ]
  },
  {
   "cell_type": "code",
   "execution_count": 23,
   "metadata": {
    "colab": {
     "base_uri": "https://localhost:8080/"
    },
    "id": "hk0G8EGR0deg",
    "outputId": "5354ea0e-b153-44bf-d92b-61d1f77a87b5"
   },
   "outputs": [
    {
     "data": {
      "text/plain": [
       "39"
      ]
     },
     "execution_count": 23,
     "metadata": {},
     "output_type": "execute_result"
    }
   ],
   "source": [
    "len(important_genes)"
   ]
  },
  {
   "cell_type": "code",
   "execution_count": 24,
   "metadata": {
    "colab": {
     "base_uri": "https://localhost:8080/",
     "height": 443
    },
    "id": "g7W1qkdEelkD",
    "outputId": "23fd756b-cc4c-45dc-9d7a-446d71f8a0b4"
   },
   "outputs": [
    {
     "data": {
      "text/html": [
       "<div>\n",
       "<style scoped>\n",
       "    .dataframe tbody tr th:only-of-type {\n",
       "        vertical-align: middle;\n",
       "    }\n",
       "\n",
       "    .dataframe tbody tr th {\n",
       "        vertical-align: top;\n",
       "    }\n",
       "\n",
       "    .dataframe thead th {\n",
       "        text-align: right;\n",
       "    }\n",
       "</style>\n",
       "<table border=\"1\" class=\"dataframe\">\n",
       "  <thead>\n",
       "    <tr style=\"text-align: right;\">\n",
       "      <th>gene</th>\n",
       "      <th>ENSG00000001630</th>\n",
       "      <th>ENSG00000007001</th>\n",
       "      <th>ENSG00000011083</th>\n",
       "      <th>ENSG00000024526</th>\n",
       "      <th>ENSG00000064205</th>\n",
       "      <th>ENSG00000071909</th>\n",
       "      <th>ENSG00000086548</th>\n",
       "      <th>ENSG00000091129</th>\n",
       "      <th>ENSG00000103154</th>\n",
       "      <th>ENSG00000104369</th>\n",
       "      <th>...</th>\n",
       "      <th>ENSG00000182771</th>\n",
       "      <th>ENSG00000182870</th>\n",
       "      <th>ENSG00000184674</th>\n",
       "      <th>ENSG00000184698</th>\n",
       "      <th>ENSG00000189266</th>\n",
       "      <th>ENSG00000221890</th>\n",
       "      <th>ENSG00000236882</th>\n",
       "      <th>ENSG00000244694</th>\n",
       "      <th>ENSG00000255798</th>\n",
       "      <th>ENSG00000256618</th>\n",
       "    </tr>\n",
       "  </thead>\n",
       "  <tbody>\n",
       "    <tr>\n",
       "      <th>9</th>\n",
       "      <td>-0.579836</td>\n",
       "      <td>5.686951</td>\n",
       "      <td>2.307689</td>\n",
       "      <td>0.467470</td>\n",
       "      <td>1.067862</td>\n",
       "      <td>1.780060</td>\n",
       "      <td>0.036835</td>\n",
       "      <td>3.584736</td>\n",
       "      <td>3.075516</td>\n",
       "      <td>-1.027295</td>\n",
       "      <td>...</td>\n",
       "      <td>2.052432</td>\n",
       "      <td>2.254740</td>\n",
       "      <td>4.527294</td>\n",
       "      <td>-0.399264</td>\n",
       "      <td>0.467470</td>\n",
       "      <td>0.722727</td>\n",
       "      <td>6.884506</td>\n",
       "      <td>0.798676</td>\n",
       "      <td>2.432137</td>\n",
       "      <td>6.505504</td>\n",
       "    </tr>\n",
       "    <tr>\n",
       "      <th>16</th>\n",
       "      <td>0.467219</td>\n",
       "      <td>3.764056</td>\n",
       "      <td>3.043866</td>\n",
       "      <td>2.238594</td>\n",
       "      <td>2.238594</td>\n",
       "      <td>3.534050</td>\n",
       "      <td>2.575022</td>\n",
       "      <td>3.603591</td>\n",
       "      <td>3.027090</td>\n",
       "      <td>1.223948</td>\n",
       "      <td>...</td>\n",
       "      <td>2.957966</td>\n",
       "      <td>2.575022</td>\n",
       "      <td>3.659086</td>\n",
       "      <td>0.894640</td>\n",
       "      <td>-0.142835</td>\n",
       "      <td>2.267449</td>\n",
       "      <td>5.158060</td>\n",
       "      <td>2.209151</td>\n",
       "      <td>-0.690322</td>\n",
       "      <td>7.458252</td>\n",
       "    </tr>\n",
       "    <tr>\n",
       "      <th>149</th>\n",
       "      <td>-1.395729</td>\n",
       "      <td>6.789909</td>\n",
       "      <td>-5.096169</td>\n",
       "      <td>-1.008706</td>\n",
       "      <td>-2.288814</td>\n",
       "      <td>-0.703852</td>\n",
       "      <td>-0.238188</td>\n",
       "      <td>0.685191</td>\n",
       "      <td>2.985980</td>\n",
       "      <td>-1.636737</td>\n",
       "      <td>...</td>\n",
       "      <td>2.355042</td>\n",
       "      <td>-5.096169</td>\n",
       "      <td>3.889673</td>\n",
       "      <td>-2.288814</td>\n",
       "      <td>-2.774241</td>\n",
       "      <td>1.503744</td>\n",
       "      <td>4.096124</td>\n",
       "      <td>-1.395729</td>\n",
       "      <td>-5.096169</td>\n",
       "      <td>4.302575</td>\n",
       "    </tr>\n",
       "    <tr>\n",
       "      <th>63</th>\n",
       "      <td>-0.910103</td>\n",
       "      <td>2.403314</td>\n",
       "      <td>2.927247</td>\n",
       "      <td>1.445378</td>\n",
       "      <td>1.770618</td>\n",
       "      <td>2.803334</td>\n",
       "      <td>1.991119</td>\n",
       "      <td>2.777221</td>\n",
       "      <td>3.635429</td>\n",
       "      <td>0.933171</td>\n",
       "      <td>...</td>\n",
       "      <td>2.533816</td>\n",
       "      <td>2.549329</td>\n",
       "      <td>5.584576</td>\n",
       "      <td>0.674859</td>\n",
       "      <td>-4.997566</td>\n",
       "      <td>1.822613</td>\n",
       "      <td>5.936862</td>\n",
       "      <td>1.411825</td>\n",
       "      <td>1.541593</td>\n",
       "      <td>6.323799</td>\n",
       "    </tr>\n",
       "    <tr>\n",
       "      <th>41</th>\n",
       "      <td>0.522448</td>\n",
       "      <td>6.611324</td>\n",
       "      <td>-4.969405</td>\n",
       "      <td>-4.969405</td>\n",
       "      <td>-1.268966</td>\n",
       "      <td>-4.969405</td>\n",
       "      <td>-1.509974</td>\n",
       "      <td>0.456859</td>\n",
       "      <td>3.235166</td>\n",
       "      <td>-4.969405</td>\n",
       "      <td>...</td>\n",
       "      <td>1.096684</td>\n",
       "      <td>-3.384443</td>\n",
       "      <td>-4.969405</td>\n",
       "      <td>-2.647477</td>\n",
       "      <td>1.659951</td>\n",
       "      <td>-2.647477</td>\n",
       "      <td>8.626668</td>\n",
       "      <td>-2.647477</td>\n",
       "      <td>-2.162050</td>\n",
       "      <td>6.275553</td>\n",
       "    </tr>\n",
       "    <tr>\n",
       "      <th>...</th>\n",
       "      <td>...</td>\n",
       "      <td>...</td>\n",
       "      <td>...</td>\n",
       "      <td>...</td>\n",
       "      <td>...</td>\n",
       "      <td>...</td>\n",
       "      <td>...</td>\n",
       "      <td>...</td>\n",
       "      <td>...</td>\n",
       "      <td>...</td>\n",
       "      <td>...</td>\n",
       "      <td>...</td>\n",
       "      <td>...</td>\n",
       "      <td>...</td>\n",
       "      <td>...</td>\n",
       "      <td>...</td>\n",
       "      <td>...</td>\n",
       "      <td>...</td>\n",
       "      <td>...</td>\n",
       "      <td>...</td>\n",
       "      <td>...</td>\n",
       "    </tr>\n",
       "    <tr>\n",
       "      <th>186</th>\n",
       "      <td>-0.105322</td>\n",
       "      <td>7.730441</td>\n",
       "      <td>-5.149716</td>\n",
       "      <td>-5.149716</td>\n",
       "      <td>-3.564753</td>\n",
       "      <td>-0.901788</td>\n",
       "      <td>-5.149716</td>\n",
       "      <td>-1.242825</td>\n",
       "      <td>1.536785</td>\n",
       "      <td>-2.827788</td>\n",
       "      <td>...</td>\n",
       "      <td>-2.827788</td>\n",
       "      <td>-3.564753</td>\n",
       "      <td>4.975697</td>\n",
       "      <td>-5.149716</td>\n",
       "      <td>0.827564</td>\n",
       "      <td>0.059737</td>\n",
       "      <td>7.257286</td>\n",
       "      <td>-1.242825</td>\n",
       "      <td>-1.062253</td>\n",
       "      <td>9.595696</td>\n",
       "    </tr>\n",
       "    <tr>\n",
       "      <th>185</th>\n",
       "      <td>-0.823052</td>\n",
       "      <td>7.831961</td>\n",
       "      <td>-3.486017</td>\n",
       "      <td>-1.370540</td>\n",
       "      <td>-5.070979</td>\n",
       "      <td>-3.486017</td>\n",
       "      <td>-2.749051</td>\n",
       "      <td>0.601446</td>\n",
       "      <td>1.774511</td>\n",
       "      <td>-1.901054</td>\n",
       "      <td>...</td>\n",
       "      <td>2.047962</td>\n",
       "      <td>-5.070979</td>\n",
       "      <td>-5.070979</td>\n",
       "      <td>-1.611548</td>\n",
       "      <td>2.005836</td>\n",
       "      <td>-0.316092</td>\n",
       "      <td>4.631193</td>\n",
       "      <td>-2.263624</td>\n",
       "      <td>2.148189</td>\n",
       "      <td>8.637566</td>\n",
       "    </tr>\n",
       "    <tr>\n",
       "      <th>178</th>\n",
       "      <td>-0.983901</td>\n",
       "      <td>7.563422</td>\n",
       "      <td>-2.568864</td>\n",
       "      <td>-2.568864</td>\n",
       "      <td>-1.831898</td>\n",
       "      <td>-4.153826</td>\n",
       "      <td>-4.153826</td>\n",
       "      <td>-0.246936</td>\n",
       "      <td>1.868542</td>\n",
       "      <td>-1.831898</td>\n",
       "      <td>...</td>\n",
       "      <td>0.800370</td>\n",
       "      <td>-1.831898</td>\n",
       "      <td>3.782812</td>\n",
       "      <td>-2.568864</td>\n",
       "      <td>0.800370</td>\n",
       "      <td>-0.246936</td>\n",
       "      <td>7.818077</td>\n",
       "      <td>-1.831898</td>\n",
       "      <td>-2.568864</td>\n",
       "      <td>7.130998</td>\n",
       "    </tr>\n",
       "    <tr>\n",
       "      <th>181</th>\n",
       "      <td>-0.255283</td>\n",
       "      <td>4.830607</td>\n",
       "      <td>-5.010171</td>\n",
       "      <td>-5.010171</td>\n",
       "      <td>-2.688243</td>\n",
       "      <td>-2.688243</td>\n",
       "      <td>-2.688243</td>\n",
       "      <td>-1.550739</td>\n",
       "      <td>2.407682</td>\n",
       "      <td>-2.202816</td>\n",
       "      <td>...</td>\n",
       "      <td>-1.550739</td>\n",
       "      <td>-3.425208</td>\n",
       "      <td>3.644465</td>\n",
       "      <td>-5.010171</td>\n",
       "      <td>1.619186</td>\n",
       "      <td>-1.840246</td>\n",
       "      <td>4.988419</td>\n",
       "      <td>0.481682</td>\n",
       "      <td>-1.840246</td>\n",
       "      <td>9.887060</td>\n",
       "    </tr>\n",
       "    <tr>\n",
       "      <th>0</th>\n",
       "      <td>-0.956468</td>\n",
       "      <td>3.061454</td>\n",
       "      <td>2.537521</td>\n",
       "      <td>1.019285</td>\n",
       "      <td>1.823142</td>\n",
       "      <td>2.924544</td>\n",
       "      <td>2.234674</td>\n",
       "      <td>2.937541</td>\n",
       "      <td>2.911429</td>\n",
       "      <td>0.691230</td>\n",
       "      <td>...</td>\n",
       "      <td>2.975845</td>\n",
       "      <td>2.055505</td>\n",
       "      <td>5.048033</td>\n",
       "      <td>0.751351</td>\n",
       "      <td>1.644436</td>\n",
       "      <td>1.706497</td>\n",
       "      <td>3.960009</td>\n",
       "      <td>1.245166</td>\n",
       "      <td>2.007006</td>\n",
       "      <td>6.124616</td>\n",
       "    </tr>\n",
       "  </tbody>\n",
       "</table>\n",
       "<p>153 rows × 39 columns</p>\n",
       "</div>"
      ],
      "text/plain": [
       "gene  ENSG00000001630  ENSG00000007001  ENSG00000011083  ENSG00000024526  \\\n",
       "9           -0.579836         5.686951         2.307689         0.467470   \n",
       "16           0.467219         3.764056         3.043866         2.238594   \n",
       "149         -1.395729         6.789909        -5.096169        -1.008706   \n",
       "63          -0.910103         2.403314         2.927247         1.445378   \n",
       "41           0.522448         6.611324        -4.969405        -4.969405   \n",
       "..                ...              ...              ...              ...   \n",
       "186         -0.105322         7.730441        -5.149716        -5.149716   \n",
       "185         -0.823052         7.831961        -3.486017        -1.370540   \n",
       "178         -0.983901         7.563422        -2.568864        -2.568864   \n",
       "181         -0.255283         4.830607        -5.010171        -5.010171   \n",
       "0           -0.956468         3.061454         2.537521         1.019285   \n",
       "\n",
       "gene  ENSG00000064205  ENSG00000071909  ENSG00000086548  ENSG00000091129  \\\n",
       "9            1.067862         1.780060         0.036835         3.584736   \n",
       "16           2.238594         3.534050         2.575022         3.603591   \n",
       "149         -2.288814        -0.703852        -0.238188         0.685191   \n",
       "63           1.770618         2.803334         1.991119         2.777221   \n",
       "41          -1.268966        -4.969405        -1.509974         0.456859   \n",
       "..                ...              ...              ...              ...   \n",
       "186         -3.564753        -0.901788        -5.149716        -1.242825   \n",
       "185         -5.070979        -3.486017        -2.749051         0.601446   \n",
       "178         -1.831898        -4.153826        -4.153826        -0.246936   \n",
       "181         -2.688243        -2.688243        -2.688243        -1.550739   \n",
       "0            1.823142         2.924544         2.234674         2.937541   \n",
       "\n",
       "gene  ENSG00000103154  ENSG00000104369  ...  ENSG00000182771  ENSG00000182870  \\\n",
       "9            3.075516        -1.027295  ...         2.052432         2.254740   \n",
       "16           3.027090         1.223948  ...         2.957966         2.575022   \n",
       "149          2.985980        -1.636737  ...         2.355042        -5.096169   \n",
       "63           3.635429         0.933171  ...         2.533816         2.549329   \n",
       "41           3.235166        -4.969405  ...         1.096684        -3.384443   \n",
       "..                ...              ...  ...              ...              ...   \n",
       "186          1.536785        -2.827788  ...        -2.827788        -3.564753   \n",
       "185          1.774511        -1.901054  ...         2.047962        -5.070979   \n",
       "178          1.868542        -1.831898  ...         0.800370        -1.831898   \n",
       "181          2.407682        -2.202816  ...        -1.550739        -3.425208   \n",
       "0            2.911429         0.691230  ...         2.975845         2.055505   \n",
       "\n",
       "gene  ENSG00000184674  ENSG00000184698  ENSG00000189266  ENSG00000221890  \\\n",
       "9            4.527294        -0.399264         0.467470         0.722727   \n",
       "16           3.659086         0.894640        -0.142835         2.267449   \n",
       "149          3.889673        -2.288814        -2.774241         1.503744   \n",
       "63           5.584576         0.674859        -4.997566         1.822613   \n",
       "41          -4.969405        -2.647477         1.659951        -2.647477   \n",
       "..                ...              ...              ...              ...   \n",
       "186          4.975697        -5.149716         0.827564         0.059737   \n",
       "185         -5.070979        -1.611548         2.005836        -0.316092   \n",
       "178          3.782812        -2.568864         0.800370        -0.246936   \n",
       "181          3.644465        -5.010171         1.619186        -1.840246   \n",
       "0            5.048033         0.751351         1.644436         1.706497   \n",
       "\n",
       "gene  ENSG00000236882  ENSG00000244694  ENSG00000255798  ENSG00000256618  \n",
       "9            6.884506         0.798676         2.432137         6.505504  \n",
       "16           5.158060         2.209151        -0.690322         7.458252  \n",
       "149          4.096124        -1.395729        -5.096169         4.302575  \n",
       "63           5.936862         1.411825         1.541593         6.323799  \n",
       "41           8.626668        -2.647477        -2.162050         6.275553  \n",
       "..                ...              ...              ...              ...  \n",
       "186          7.257286        -1.242825        -1.062253         9.595696  \n",
       "185          4.631193        -2.263624         2.148189         8.637566  \n",
       "178          7.818077        -1.831898        -2.568864         7.130998  \n",
       "181          4.988419         0.481682        -1.840246         9.887060  \n",
       "0            3.960009         1.245166         2.007006         6.124616  \n",
       "\n",
       "[153 rows x 39 columns]"
      ]
     },
     "execution_count": 24,
     "metadata": {},
     "output_type": "execute_result"
    }
   ],
   "source": [
    "X_train[important_genes]"
   ]
  },
  {
   "cell_type": "code",
   "execution_count": 25,
   "metadata": {},
   "outputs": [
    {
     "data": {
      "text/plain": [
       "(39, 39)"
      ]
     },
     "execution_count": 25,
     "metadata": {},
     "output_type": "execute_result"
    }
   ],
   "source": [
    "X_test[important_genes].shape"
   ]
  },
  {
   "cell_type": "markdown",
   "metadata": {},
   "source": [
    "It's time for regression. I have used three types of regressors in this part to ensure consistency. These regressors are well-established in machine learning and are well-suited for this task. The regressors used are: Linear Regression, Ridge Regression, and ElasticNet Regression."
   ]
  },
  {
   "cell_type": "code",
   "execution_count": 52,
   "metadata": {
    "colab": {
     "base_uri": "https://localhost:8080/"
    },
    "id": "YdL6_AhvzQ0q",
    "outputId": "53674090-be5f-4338-ce0f-9b4c13df4f09"
   },
   "outputs": [
    {
     "name": "stdout",
     "output_type": "stream",
     "text": [
      "Linear Regression:\n",
      "\tMSE: 109.75763313259237\n",
      "\tR²: 0.14127465204431466\n",
      "\n",
      "Ridge Regression:\n",
      "\tMSE: 109.66346309043713\n",
      "\tR²: 0.14201142268986122\n",
      "\n",
      "ElasticNet Regression:\n",
      "\tMSE: 98.05173665922788\n",
      "\tR²: 0.23285962645861957\n",
      "\n"
     ]
    }
   ],
   "source": [
    "models = {\n",
    "    \"Linear Regression\": LinearRegression(),\n",
    "    \"Ridge Regression\": Ridge(alpha=0.5),\n",
    "    \"ElasticNet Regression\": ElasticNet(alpha=1.0, l1_ratio=0.5),\n",
    "}\n",
    "\n",
    "results = {}\n",
    "\n",
    "for name, model in models.items():\n",
    "    model.fit(X_train_filtered[important_genes], y_train)\n",
    "    y_pred = model.predict(X_test[important_genes])\n",
    "    \n",
    "    mse = mean_squared_error(y_test, y_pred)\n",
    "    r2 = r2_score(y_test, y_pred)\n",
    "    results[name] = {\n",
    "        \"MSE\": mse,\n",
    "        \"R²\": r2\n",
    "    }\n",
    "\n",
    "for model_name, metrics in results.items():\n",
    "    print(f\"{model_name}:\\n\\tMSE: {metrics['MSE']}\\n\\tR²: {metrics['R²']}\\n\")"
   ]
  },
  {
   "cell_type": "markdown",
   "metadata": {},
   "source": [
    "Let's split the dataset based on sex, repeat the regression task, and compare the results between the groups."
   ]
  },
  {
   "cell_type": "markdown",
   "metadata": {},
   "source": [
    "### Female"
   ]
  },
  {
   "cell_type": "code",
   "execution_count": 27,
   "metadata": {
    "id": "gn3kZV1yPtTB"
   },
   "outputs": [],
   "source": [
    "female_df_deg = df_deg[df_deg['SEX'] == 1]"
   ]
  },
  {
   "cell_type": "code",
   "execution_count": 28,
   "metadata": {
    "colab": {
     "base_uri": "https://localhost:8080/"
    },
    "id": "450FsrqxRIvZ",
    "outputId": "ffb946e5-3fed-4e8e-c95e-ba7fd267a1dc"
   },
   "outputs": [
    {
     "data": {
      "text/plain": [
       "(154, 17399)"
      ]
     },
     "execution_count": 28,
     "metadata": {},
     "output_type": "execute_result"
    }
   ],
   "source": [
    "female_df_deg.shape"
   ]
  },
  {
   "cell_type": "code",
   "execution_count": 29,
   "metadata": {
    "id": "3Zf_tO0rSQRw"
   },
   "outputs": [],
   "source": [
    "female_meta_data = meta_data[meta_data['SEX'] == 'Female']"
   ]
  },
  {
   "cell_type": "code",
   "execution_count": 30,
   "metadata": {
    "colab": {
     "base_uri": "https://localhost:8080/"
    },
    "id": "XiCY_ibRSnTy",
    "outputId": "b569baf4-eb1a-4945-84b8-6f94924ae0c6"
   },
   "outputs": [
    {
     "data": {
      "text/plain": [
       "(154, 7)"
      ]
     },
     "execution_count": 30,
     "metadata": {},
     "output_type": "execute_result"
    }
   ],
   "source": [
    "female_meta_data.shape"
   ]
  },
  {
   "cell_type": "markdown",
   "metadata": {},
   "source": [
    "Let's split our data and labels to train and test sets"
   ]
  },
  {
   "cell_type": "code",
   "execution_count": 31,
   "metadata": {},
   "outputs": [],
   "source": [
    "X_train, X_test, y_train, y_test = train_test_split(female_df_deg, female_meta_data, test_size=0.2, random_state = 10101)"
   ]
  },
  {
   "cell_type": "markdown",
   "metadata": {},
   "source": [
    "First, we applied a variance threshold to filter out features that do not have sufficient variation."
   ]
  },
  {
   "cell_type": "code",
   "execution_count": 32,
   "metadata": {},
   "outputs": [],
   "source": [
    "threshold = 0.8\n",
    "selector = VarianceThreshold(threshold)\n",
    "filtered_data = selector.fit_transform(X_train)\n",
    "selected_features = X_train.columns[selector.get_support()]\n",
    "X_train_filtered = pd.DataFrame(filtered_data, columns=selected_features)"
   ]
  },
  {
   "cell_type": "code",
   "execution_count": 33,
   "metadata": {},
   "outputs": [
    {
     "data": {
      "text/plain": [
       "(123, 5223)"
      ]
     },
     "execution_count": 33,
     "metadata": {},
     "output_type": "execute_result"
    }
   ],
   "source": [
    "X_train_filtered.shape"
   ]
  },
  {
   "cell_type": "markdown",
   "metadata": {},
   "source": [
    "Next, we performed LASSO to extract the most relevant features for this task."
   ]
  },
  {
   "cell_type": "code",
   "execution_count": 33,
   "metadata": {
    "id": "FncRL2w7S1pP"
   },
   "outputs": [],
   "source": [
    "lasso = LassoCV(cv=5).fit(X_train_filtered, y_train['Age'])\n",
    "# Extract the non-zero coefficients\n",
    "female_important_genes = X_train_filtered.columns[(lasso.coef_ != 0)]"
   ]
  },
  {
   "cell_type": "code",
   "execution_count": 34,
   "metadata": {
    "colab": {
     "base_uri": "https://localhost:8080/"
    },
    "id": "wX0rzrckTAgH",
    "outputId": "a16210e9-3ccd-4f0a-ddff-54f9730ae854"
   },
   "outputs": [
    {
     "data": {
      "text/plain": [
       "Index(['ENSG00000007001', 'ENSG00000070193', 'ENSG00000086548',\n",
       "       'ENSG00000100867', 'ENSG00000104044', 'ENSG00000104435',\n",
       "       'ENSG00000112852', 'ENSG00000128313', 'ENSG00000129824',\n",
       "       'ENSG00000131080', 'ENSG00000132872', 'ENSG00000134121',\n",
       "       'ENSG00000134640', 'ENSG00000134668', 'ENSG00000139515',\n",
       "       'ENSG00000151962', 'ENSG00000161973', 'ENSG00000162391',\n",
       "       'ENSG00000162426', 'ENSG00000164266', 'ENSG00000165246',\n",
       "       'ENSG00000166206', 'ENSG00000169876', 'ENSG00000171747',\n",
       "       'ENSG00000174226', 'ENSG00000179674', 'ENSG00000180440',\n",
       "       'ENSG00000182256', 'ENSG00000182771', 'ENSG00000196844',\n",
       "       'ENSG00000198885', 'ENSG00000205358', 'ENSG00000206077',\n",
       "       'ENSG00000213088', 'ENSG00000221890', 'ENSG00000223609',\n",
       "       'ENSG00000236882', 'ENSG00000237693', 'ENSG00000239839',\n",
       "       'ENSG00000250361', 'ENSG00000251209', 'ENSG00000255798',\n",
       "       'ENSG00000256618', 'ENSG00000258484'],\n",
       "      dtype='object', name='gene')"
      ]
     },
     "execution_count": 34,
     "metadata": {},
     "output_type": "execute_result"
    }
   ],
   "source": [
    "female_important_genes"
   ]
  },
  {
   "cell_type": "code",
   "execution_count": 35,
   "metadata": {
    "colab": {
     "base_uri": "https://localhost:8080/"
    },
    "id": "SVNz11mJTAsT",
    "outputId": "ae9369de-668f-4bcd-c785-ca8479148819"
   },
   "outputs": [
    {
     "data": {
      "text/plain": [
       "44"
      ]
     },
     "execution_count": 35,
     "metadata": {},
     "output_type": "execute_result"
    }
   ],
   "source": [
    "len(female_important_genes)"
   ]
  },
  {
   "cell_type": "code",
   "execution_count": 34,
   "metadata": {
    "colab": {
     "base_uri": "https://localhost:8080/",
     "height": 443
    },
    "id": "VTKX-2mhTP19",
    "outputId": "a64f8df0-9068-4458-9673-86c073996ea6"
   },
   "outputs": [
    {
     "data": {
      "text/html": [
       "<div>\n",
       "<style scoped>\n",
       "    .dataframe tbody tr th:only-of-type {\n",
       "        vertical-align: middle;\n",
       "    }\n",
       "\n",
       "    .dataframe tbody tr th {\n",
       "        vertical-align: top;\n",
       "    }\n",
       "\n",
       "    .dataframe thead th {\n",
       "        text-align: right;\n",
       "    }\n",
       "</style>\n",
       "<table border=\"1\" class=\"dataframe\">\n",
       "  <thead>\n",
       "    <tr style=\"text-align: right;\">\n",
       "      <th>gene</th>\n",
       "      <th>ENSG00000007001</th>\n",
       "      <th>ENSG00000070193</th>\n",
       "      <th>ENSG00000086548</th>\n",
       "      <th>ENSG00000100867</th>\n",
       "      <th>ENSG00000104044</th>\n",
       "      <th>ENSG00000104435</th>\n",
       "      <th>ENSG00000112852</th>\n",
       "      <th>ENSG00000128313</th>\n",
       "      <th>ENSG00000129824</th>\n",
       "      <th>ENSG00000131080</th>\n",
       "      <th>...</th>\n",
       "      <th>ENSG00000221890</th>\n",
       "      <th>ENSG00000223609</th>\n",
       "      <th>ENSG00000236882</th>\n",
       "      <th>ENSG00000237693</th>\n",
       "      <th>ENSG00000239839</th>\n",
       "      <th>ENSG00000250361</th>\n",
       "      <th>ENSG00000251209</th>\n",
       "      <th>ENSG00000255798</th>\n",
       "      <th>ENSG00000256618</th>\n",
       "      <th>ENSG00000258484</th>\n",
       "    </tr>\n",
       "  </thead>\n",
       "  <tbody>\n",
       "    <tr>\n",
       "      <th>0</th>\n",
       "      <td>3.061454</td>\n",
       "      <td>0.346095</td>\n",
       "      <td>2.234674</td>\n",
       "      <td>2.830128</td>\n",
       "      <td>1.956820</td>\n",
       "      <td>1.440422</td>\n",
       "      <td>0.809067</td>\n",
       "      <td>0.265925</td>\n",
       "      <td>-3.278396</td>\n",
       "      <td>2.758693</td>\n",
       "      <td>...</td>\n",
       "      <td>1.706497</td>\n",
       "      <td>0.181036</td>\n",
       "      <td>3.960009</td>\n",
       "      <td>1.245166</td>\n",
       "      <td>3.000828</td>\n",
       "      <td>1.019285</td>\n",
       "      <td>0.751351</td>\n",
       "      <td>2.007006</td>\n",
       "      <td>6.124616</td>\n",
       "      <td>-0.219502</td>\n",
       "    </tr>\n",
       "    <tr>\n",
       "      <th>1</th>\n",
       "      <td>8.213882</td>\n",
       "      <td>0.863340</td>\n",
       "      <td>2.961642</td>\n",
       "      <td>3.886277</td>\n",
       "      <td>2.372354</td>\n",
       "      <td>1.460581</td>\n",
       "      <td>0.863340</td>\n",
       "      <td>1.132527</td>\n",
       "      <td>-2.837100</td>\n",
       "      <td>2.890821</td>\n",
       "      <td>...</td>\n",
       "      <td>1.952977</td>\n",
       "      <td>0.787391</td>\n",
       "      <td>7.135880</td>\n",
       "      <td>2.020881</td>\n",
       "      <td>-0.334599</td>\n",
       "      <td>0.935490</td>\n",
       "      <td>1.460581</td>\n",
       "      <td>1.600305</td>\n",
       "      <td>6.772079</td>\n",
       "      <td>-0.721623</td>\n",
       "    </tr>\n",
       "    <tr>\n",
       "      <th>3</th>\n",
       "      <td>9.549683</td>\n",
       "      <td>0.096771</td>\n",
       "      <td>2.112367</td>\n",
       "      <td>2.341393</td>\n",
       "      <td>1.503946</td>\n",
       "      <td>1.354568</td>\n",
       "      <td>1.127797</td>\n",
       "      <td>0.617603</td>\n",
       "      <td>-4.426791</td>\n",
       "      <td>2.314676</td>\n",
       "      <td>...</td>\n",
       "      <td>1.913059</td>\n",
       "      <td>-0.726352</td>\n",
       "      <td>5.746886</td>\n",
       "      <td>1.127797</td>\n",
       "      <td>-0.339329</td>\n",
       "      <td>-0.339329</td>\n",
       "      <td>0.431190</td>\n",
       "      <td>-0.967360</td>\n",
       "      <td>6.704422</td>\n",
       "      <td>-0.339329</td>\n",
       "    </tr>\n",
       "    <tr>\n",
       "      <th>4</th>\n",
       "      <td>2.541464</td>\n",
       "      <td>0.085581</td>\n",
       "      <td>1.142914</td>\n",
       "      <td>1.746493</td>\n",
       "      <td>0.490838</td>\n",
       "      <td>0.430717</td>\n",
       "      <td>0.161530</td>\n",
       "      <td>0.005411</td>\n",
       "      <td>-5.123872</td>\n",
       "      <td>2.555608</td>\n",
       "      <td>...</td>\n",
       "      <td>0.233680</td>\n",
       "      <td>-0.265891</td>\n",
       "      <td>5.103744</td>\n",
       "      <td>0.302393</td>\n",
       "      <td>-0.265891</td>\n",
       "      <td>-0.600310</td>\n",
       "      <td>0.657488</td>\n",
       "      <td>-0.875945</td>\n",
       "      <td>5.328369</td>\n",
       "      <td>0.430717</td>\n",
       "    </tr>\n",
       "    <tr>\n",
       "      <th>5</th>\n",
       "      <td>4.478528</td>\n",
       "      <td>0.350495</td>\n",
       "      <td>1.645951</td>\n",
       "      <td>2.773706</td>\n",
       "      <td>1.414625</td>\n",
       "      <td>0.920810</td>\n",
       "      <td>0.435384</td>\n",
       "      <td>-0.445972</td>\n",
       "      <td>-4.693899</td>\n",
       "      <td>3.132649</td>\n",
       "      <td>...</td>\n",
       "      <td>1.681140</td>\n",
       "      <td>-0.606437</td>\n",
       "      <td>6.590925</td>\n",
       "      <td>-0.050043</td>\n",
       "      <td>-2.371971</td>\n",
       "      <td>0.060988</td>\n",
       "      <td>1.188744</td>\n",
       "      <td>2.486010</td>\n",
       "      <td>6.479153</td>\n",
       "      <td>-1.886544</td>\n",
       "    </tr>\n",
       "    <tr>\n",
       "      <th>...</th>\n",
       "      <td>...</td>\n",
       "      <td>...</td>\n",
       "      <td>...</td>\n",
       "      <td>...</td>\n",
       "      <td>...</td>\n",
       "      <td>...</td>\n",
       "      <td>...</td>\n",
       "      <td>...</td>\n",
       "      <td>...</td>\n",
       "      <td>...</td>\n",
       "      <td>...</td>\n",
       "      <td>...</td>\n",
       "      <td>...</td>\n",
       "      <td>...</td>\n",
       "      <td>...</td>\n",
       "      <td>...</td>\n",
       "      <td>...</td>\n",
       "      <td>...</td>\n",
       "      <td>...</td>\n",
       "      <td>...</td>\n",
       "      <td>...</td>\n",
       "    </tr>\n",
       "    <tr>\n",
       "      <th>185</th>\n",
       "      <td>7.831961</td>\n",
       "      <td>-0.678662</td>\n",
       "      <td>-2.749051</td>\n",
       "      <td>-3.486017</td>\n",
       "      <td>-1.901054</td>\n",
       "      <td>-3.486017</td>\n",
       "      <td>-2.263624</td>\n",
       "      <td>-2.263624</td>\n",
       "      <td>-5.070979</td>\n",
       "      <td>-5.070979</td>\n",
       "      <td>...</td>\n",
       "      <td>-0.316092</td>\n",
       "      <td>-5.070979</td>\n",
       "      <td>4.631193</td>\n",
       "      <td>-5.070979</td>\n",
       "      <td>-0.427123</td>\n",
       "      <td>-2.749051</td>\n",
       "      <td>-0.427123</td>\n",
       "      <td>2.148189</td>\n",
       "      <td>8.637566</td>\n",
       "      <td>-1.901054</td>\n",
       "    </tr>\n",
       "    <tr>\n",
       "      <th>186</th>\n",
       "      <td>7.730441</td>\n",
       "      <td>-2.342361</td>\n",
       "      <td>-5.149716</td>\n",
       "      <td>2.584994</td>\n",
       "      <td>-2.827788</td>\n",
       "      <td>-1.979791</td>\n",
       "      <td>-1.062253</td>\n",
       "      <td>-5.149716</td>\n",
       "      <td>-3.564753</td>\n",
       "      <td>-0.901788</td>\n",
       "      <td>...</td>\n",
       "      <td>0.059737</td>\n",
       "      <td>-3.564753</td>\n",
       "      <td>7.257286</td>\n",
       "      <td>-3.564753</td>\n",
       "      <td>-1.979791</td>\n",
       "      <td>-2.827788</td>\n",
       "      <td>-2.827788</td>\n",
       "      <td>-1.062253</td>\n",
       "      <td>9.595696</td>\n",
       "      <td>-1.979791</td>\n",
       "    </tr>\n",
       "    <tr>\n",
       "      <th>188</th>\n",
       "      <td>7.990447</td>\n",
       "      <td>-0.632825</td>\n",
       "      <td>-4.539715</td>\n",
       "      <td>1.241645</td>\n",
       "      <td>-4.539715</td>\n",
       "      <td>-2.217787</td>\n",
       "      <td>-2.954753</td>\n",
       "      <td>-0.839275</td>\n",
       "      <td>2.201752</td>\n",
       "      <td>0.952138</td>\n",
       "      <td>...</td>\n",
       "      <td>-1.732360</td>\n",
       "      <td>-4.539715</td>\n",
       "      <td>6.416661</td>\n",
       "      <td>-0.632825</td>\n",
       "      <td>1.903228</td>\n",
       "      <td>-2.954753</td>\n",
       "      <td>0.504679</td>\n",
       "      <td>-0.839275</td>\n",
       "      <td>9.543349</td>\n",
       "      <td>-0.839275</td>\n",
       "    </tr>\n",
       "    <tr>\n",
       "      <th>190</th>\n",
       "      <td>4.256733</td>\n",
       "      <td>-2.002540</td>\n",
       "      <td>-1.517113</td>\n",
       "      <td>4.977028</td>\n",
       "      <td>-2.002540</td>\n",
       "      <td>-2.739505</td>\n",
       "      <td>-1.517113</td>\n",
       "      <td>-0.624028</td>\n",
       "      <td>-4.324468</td>\n",
       "      <td>-0.865036</td>\n",
       "      <td>...</td>\n",
       "      <td>0.067849</td>\n",
       "      <td>-2.002540</td>\n",
       "      <td>6.016495</td>\n",
       "      <td>-4.324468</td>\n",
       "      <td>1.942319</td>\n",
       "      <td>-2.739505</td>\n",
       "      <td>-0.865036</td>\n",
       "      <td>-0.417577</td>\n",
       "      <td>9.142755</td>\n",
       "      <td>-2.739505</td>\n",
       "    </tr>\n",
       "    <tr>\n",
       "      <th>191</th>\n",
       "      <td>4.089949</td>\n",
       "      <td>-3.173712</td>\n",
       "      <td>-1.951319</td>\n",
       "      <td>-1.299243</td>\n",
       "      <td>-4.758674</td>\n",
       "      <td>-0.851784</td>\n",
       "      <td>-1.588749</td>\n",
       "      <td>0.667591</td>\n",
       "      <td>-3.173712</td>\n",
       "      <td>1.391073</td>\n",
       "      <td>...</td>\n",
       "      <td>-0.671211</td>\n",
       "      <td>-3.173712</td>\n",
       "      <td>6.967970</td>\n",
       "      <td>-4.758674</td>\n",
       "      <td>-0.235112</td>\n",
       "      <td>-4.758674</td>\n",
       "      <td>-1.588749</td>\n",
       "      <td>-4.758674</td>\n",
       "      <td>10.316011</td>\n",
       "      <td>-1.058235</td>\n",
       "    </tr>\n",
       "  </tbody>\n",
       "</table>\n",
       "<p>154 rows × 44 columns</p>\n",
       "</div>"
      ],
      "text/plain": [
       "gene  ENSG00000007001  ENSG00000070193  ENSG00000086548  ENSG00000100867  \\\n",
       "0            3.061454         0.346095         2.234674         2.830128   \n",
       "1            8.213882         0.863340         2.961642         3.886277   \n",
       "3            9.549683         0.096771         2.112367         2.341393   \n",
       "4            2.541464         0.085581         1.142914         1.746493   \n",
       "5            4.478528         0.350495         1.645951         2.773706   \n",
       "..                ...              ...              ...              ...   \n",
       "185          7.831961        -0.678662        -2.749051        -3.486017   \n",
       "186          7.730441        -2.342361        -5.149716         2.584994   \n",
       "188          7.990447        -0.632825        -4.539715         1.241645   \n",
       "190          4.256733        -2.002540        -1.517113         4.977028   \n",
       "191          4.089949        -3.173712        -1.951319        -1.299243   \n",
       "\n",
       "gene  ENSG00000104044  ENSG00000104435  ENSG00000112852  ENSG00000128313  \\\n",
       "0            1.956820         1.440422         0.809067         0.265925   \n",
       "1            2.372354         1.460581         0.863340         1.132527   \n",
       "3            1.503946         1.354568         1.127797         0.617603   \n",
       "4            0.490838         0.430717         0.161530         0.005411   \n",
       "5            1.414625         0.920810         0.435384        -0.445972   \n",
       "..                ...              ...              ...              ...   \n",
       "185         -1.901054        -3.486017        -2.263624        -2.263624   \n",
       "186         -2.827788        -1.979791        -1.062253        -5.149716   \n",
       "188         -4.539715        -2.217787        -2.954753        -0.839275   \n",
       "190         -2.002540        -2.739505        -1.517113        -0.624028   \n",
       "191         -4.758674        -0.851784        -1.588749         0.667591   \n",
       "\n",
       "gene  ENSG00000129824  ENSG00000131080  ...  ENSG00000221890  ENSG00000223609  \\\n",
       "0           -3.278396         2.758693  ...         1.706497         0.181036   \n",
       "1           -2.837100         2.890821  ...         1.952977         0.787391   \n",
       "3           -4.426791         2.314676  ...         1.913059        -0.726352   \n",
       "4           -5.123872         2.555608  ...         0.233680        -0.265891   \n",
       "5           -4.693899         3.132649  ...         1.681140        -0.606437   \n",
       "..                ...              ...  ...              ...              ...   \n",
       "185         -5.070979        -5.070979  ...        -0.316092        -5.070979   \n",
       "186         -3.564753        -0.901788  ...         0.059737        -3.564753   \n",
       "188          2.201752         0.952138  ...        -1.732360        -4.539715   \n",
       "190         -4.324468        -0.865036  ...         0.067849        -2.002540   \n",
       "191         -3.173712         1.391073  ...        -0.671211        -3.173712   \n",
       "\n",
       "gene  ENSG00000236882  ENSG00000237693  ENSG00000239839  ENSG00000250361  \\\n",
       "0            3.960009         1.245166         3.000828         1.019285   \n",
       "1            7.135880         2.020881        -0.334599         0.935490   \n",
       "3            5.746886         1.127797        -0.339329        -0.339329   \n",
       "4            5.103744         0.302393        -0.265891        -0.600310   \n",
       "5            6.590925        -0.050043        -2.371971         0.060988   \n",
       "..                ...              ...              ...              ...   \n",
       "185          4.631193        -5.070979        -0.427123        -2.749051   \n",
       "186          7.257286        -3.564753        -1.979791        -2.827788   \n",
       "188          6.416661        -0.632825         1.903228        -2.954753   \n",
       "190          6.016495        -4.324468         1.942319        -2.739505   \n",
       "191          6.967970        -4.758674        -0.235112        -4.758674   \n",
       "\n",
       "gene  ENSG00000251209  ENSG00000255798  ENSG00000256618  ENSG00000258484  \n",
       "0            0.751351         2.007006         6.124616        -0.219502  \n",
       "1            1.460581         1.600305         6.772079        -0.721623  \n",
       "3            0.431190        -0.967360         6.704422        -0.339329  \n",
       "4            0.657488        -0.875945         5.328369         0.430717  \n",
       "5            1.188744         2.486010         6.479153        -1.886544  \n",
       "..                ...              ...              ...              ...  \n",
       "185         -0.427123         2.148189         8.637566        -1.901054  \n",
       "186         -2.827788        -1.062253         9.595696        -1.979791  \n",
       "188          0.504679        -0.839275         9.543349        -0.839275  \n",
       "190         -0.865036        -0.417577         9.142755        -2.739505  \n",
       "191         -1.588749        -4.758674        10.316011        -1.058235  \n",
       "\n",
       "[154 rows x 44 columns]"
      ]
     },
     "execution_count": 34,
     "metadata": {},
     "output_type": "execute_result"
    }
   ],
   "source": [
    "female_df_deg[female_important_genes]"
   ]
  },
  {
   "cell_type": "markdown",
   "metadata": {},
   "source": [
    "It's time for regression. I have used three types of regressors in this part to ensure consistency. These regressors are well-established in machine learning and are well-suited for this task. The regressors used are: Linear Regression, Ridge Regression, and ElasticNet Regression."
   ]
  },
  {
   "cell_type": "code",
   "execution_count": 56,
   "metadata": {},
   "outputs": [
    {
     "name": "stdout",
     "output_type": "stream",
     "text": [
      "Linear Regression:\n",
      "\tMSE: 88.31876196989404\n",
      "\tR²: 0.3969937886987882\n",
      "\n",
      "Ridge Regression:\n",
      "\tMSE: 88.56495689237829\n",
      "\tR²: 0.39531286536904964\n",
      "\n",
      "ElasticNet Regression:\n",
      "\tMSE: 97.7445429895872\n",
      "\tR²: 0.3326382160609207\n",
      "\n"
     ]
    }
   ],
   "source": [
    "models = {\n",
    "    \"Linear Regression\": LinearRegression(),\n",
    "    \"Ridge Regression\": Ridge(alpha=1.0),\n",
    "    \"ElasticNet Regression\": ElasticNet(alpha=1.0, l1_ratio=0.5),\n",
    "}\n",
    "\n",
    "results = {}\n",
    "\n",
    "for name, model in models.items():\n",
    "    model.fit(X_train_filtered[female_important_genes], y_train['Age'])\n",
    "    y_pred = model.predict(X_test[female_important_genes])\n",
    "\n",
    "    mse = mean_squared_error(y_test['Age'], y_pred)\n",
    "    r2 = r2_score(y_test['Age'], y_pred)\n",
    "    results[name] = {\n",
    "        \"MSE\": mse,\n",
    "        \"R²\": r2\n",
    "    }\n",
    "\n",
    "for model_name, metrics in results.items():\n",
    "    print(f\"{model_name}:\\n\\tMSE: {metrics['MSE']}\\n\\tR²: {metrics['R²']}\\n\")"
   ]
  },
  {
   "cell_type": "markdown",
   "metadata": {},
   "source": [
    "### Male"
   ]
  },
  {
   "cell_type": "code",
   "execution_count": 34,
   "metadata": {},
   "outputs": [],
   "source": [
    "male_df_deg = df_deg[df_deg['SEX'] == 0]"
   ]
  },
  {
   "cell_type": "code",
   "execution_count": 35,
   "metadata": {},
   "outputs": [
    {
     "data": {
      "text/plain": [
       "(38, 17399)"
      ]
     },
     "execution_count": 35,
     "metadata": {},
     "output_type": "execute_result"
    }
   ],
   "source": [
    "male_df_deg.shape"
   ]
  },
  {
   "cell_type": "code",
   "execution_count": 36,
   "metadata": {},
   "outputs": [],
   "source": [
    "male_meta_data = meta_data[meta_data['SEX'] == 'Male']"
   ]
  },
  {
   "cell_type": "code",
   "execution_count": 37,
   "metadata": {},
   "outputs": [
    {
     "data": {
      "text/plain": [
       "(38, 7)"
      ]
     },
     "execution_count": 37,
     "metadata": {},
     "output_type": "execute_result"
    }
   ],
   "source": [
    "male_meta_data.shape"
   ]
  },
  {
   "cell_type": "markdown",
   "metadata": {},
   "source": [
    "Let's split our data and labels to train and test sets"
   ]
  },
  {
   "cell_type": "code",
   "execution_count": 38,
   "metadata": {},
   "outputs": [],
   "source": [
    "X_train, X_test, y_train, y_test = train_test_split(male_df_deg, male_meta_data, test_size=0.2, random_state = 10101)"
   ]
  },
  {
   "cell_type": "markdown",
   "metadata": {},
   "source": [
    "First, we applied a variance threshold to filter out features that do not have sufficient variation."
   ]
  },
  {
   "cell_type": "code",
   "execution_count": 39,
   "metadata": {},
   "outputs": [],
   "source": [
    "threshold = 0.8\n",
    "selector = VarianceThreshold(threshold)\n",
    "filtered_data = selector.fit_transform(X_train)\n",
    "selected_features = X_train.columns[selector.get_support()]\n",
    "X_train_filtered = pd.DataFrame(filtered_data, columns=selected_features)"
   ]
  },
  {
   "cell_type": "code",
   "execution_count": 40,
   "metadata": {},
   "outputs": [
    {
     "data": {
      "text/plain": [
       "(30, 5016)"
      ]
     },
     "execution_count": 40,
     "metadata": {},
     "output_type": "execute_result"
    }
   ],
   "source": [
    "X_train_filtered.shape"
   ]
  },
  {
   "cell_type": "markdown",
   "metadata": {},
   "source": [
    "Next, we performed LASSO to extract the most relevant features for this task."
   ]
  },
  {
   "cell_type": "code",
   "execution_count": 45,
   "metadata": {
    "id": "o6fqFOdXVaqX"
   },
   "outputs": [],
   "source": [
    "lasso = LassoCV(cv=5).fit(X_train_filtered, y_train['Age'])\n",
    "# Extract the non-zero coefficients\n",
    "male_important_genes = X_train_filtered.columns[(lasso.coef_ != 0)]"
   ]
  },
  {
   "cell_type": "code",
   "execution_count": 42,
   "metadata": {
    "colab": {
     "base_uri": "https://localhost:8080/"
    },
    "id": "YJgpFvSrVpY3",
    "outputId": "3864bfcf-4f74-4654-a9c2-e6ef5e3b7fab"
   },
   "outputs": [
    {
     "data": {
      "text/plain": [
       "Index(['ENSG00000091138', 'ENSG00000095596', 'ENSG00000106236',\n",
       "       'ENSG00000122121', 'ENSG00000131080', 'ENSG00000134184',\n",
       "       'ENSG00000140379', 'ENSG00000141668', 'ENSG00000147257',\n",
       "       'ENSG00000152726', 'ENSG00000168398', 'ENSG00000184674',\n",
       "       'ENSG00000198074', 'ENSG00000215700', 'ENSG00000235098',\n",
       "       'ENSG00000235961', 'ENSG00000244694'],\n",
       "      dtype='object', name='gene')"
      ]
     },
     "execution_count": 42,
     "metadata": {},
     "output_type": "execute_result"
    }
   ],
   "source": [
    "male_important_genes"
   ]
  },
  {
   "cell_type": "code",
   "execution_count": 43,
   "metadata": {
    "colab": {
     "base_uri": "https://localhost:8080/"
    },
    "id": "lKGiGV_SVpcV",
    "outputId": "1e1a6d9e-c56d-43c1-9db6-a89a059ba803"
   },
   "outputs": [
    {
     "data": {
      "text/plain": [
       "17"
      ]
     },
     "execution_count": 43,
     "metadata": {},
     "output_type": "execute_result"
    }
   ],
   "source": [
    "len(male_important_genes)"
   ]
  },
  {
   "cell_type": "code",
   "execution_count": 44,
   "metadata": {
    "colab": {
     "base_uri": "https://localhost:8080/",
     "height": 1000
    },
    "id": "57lXCok6Vpoi",
    "outputId": "a25c397a-7764-482d-bf52-28101fa541ec"
   },
   "outputs": [
    {
     "data": {
      "text/plain": [
       "(8, 17)"
      ]
     },
     "execution_count": 44,
     "metadata": {},
     "output_type": "execute_result"
    }
   ],
   "source": [
    "X_test[male_important_genes].shape"
   ]
  },
  {
   "cell_type": "markdown",
   "metadata": {},
   "source": [
    "It's time for regression. I have used three types of regressors in this part to ensure consistency. These regressors are well-established in machine learning and are well-suited for this task. The regressors used are: Linear Regression, Ridge Regression, and ElasticNet Regression."
   ]
  },
  {
   "cell_type": "code",
   "execution_count": 48,
   "metadata": {},
   "outputs": [
    {
     "name": "stdout",
     "output_type": "stream",
     "text": [
      "Linear Regression:\n",
      "\tMSE: 120.18807385165366\n",
      "\tR²: -0.6186945973286688\n",
      "\n",
      "Ridge Regression:\n",
      "\tMSE: 121.76068452045129\n",
      "\tR²: -0.639874538995977\n",
      "\n",
      "ElasticNet Regression:\n",
      "\tMSE: 132.0734434710684\n",
      "\tR²: -0.7787669154352648\n",
      "\n"
     ]
    }
   ],
   "source": [
    "models = {\n",
    "    \"Linear Regression\": LinearRegression(),\n",
    "    \"Ridge Regression\": Ridge(alpha=1.0),\n",
    "    \"ElasticNet Regression\": ElasticNet(alpha=1.0, l1_ratio=0.5),\n",
    "}\n",
    "\n",
    "results = {}\n",
    "\n",
    "for name, model in models.items():\n",
    "    model.fit(X_train_filtered[male_important_genes], y_train['Age'])\n",
    "    y_pred = model.predict(X_test[male_important_genes])\n",
    "\n",
    "    mse = mean_squared_error(y_test['Age'], y_pred)\n",
    "    r2 = r2_score(y_test['Age'], y_pred)\n",
    "    results[name] = {\n",
    "        \"MSE\": mse,\n",
    "        \"R²\": r2\n",
    "    }\n",
    "\n",
    "for model_name, metrics in results.items():\n",
    "    print(f\"{model_name}:\\n\\tMSE: {metrics['MSE']}\\n\\tR²: {metrics['R²']}\\n\")"
   ]
  },
  {
   "cell_type": "markdown",
   "metadata": {},
   "source": [
    "So far, we have obtained only a single result for each regressor, but these results are not statistically valid. To test for reproducibility, we have put the entire process into a loop to run it 10 times."
   ]
  },
  {
   "cell_type": "code",
   "execution_count": 61,
   "metadata": {},
   "outputs": [
    {
     "name": "stdout",
     "output_type": "stream",
     "text": [
      "iteration 0\n",
      "iteration 1\n",
      "iteration 2\n",
      "iteration 3\n",
      "iteration 4\n",
      "iteration 5\n",
      "iteration 6\n",
      "iteration 7\n",
      "iteration 8\n",
      "iteration 9\n"
     ]
    }
   ],
   "source": [
    "# Load Data\n",
    "normal_counts = pd.read_csv('Normal.counts.voom.csv')\n",
    "meta_data = pd.read_csv('meta_data.csv')\n",
    "\n",
    "categorical_features = ['SEX', 'Diabet']\n",
    "ohe = OneHotEncoder()\n",
    "numerical_features = ['BMI_surg', 'Age']\n",
    "scaler = StandardScaler()\n",
    "preprocessor = ColumnTransformer(\n",
    "    transformers=[\n",
    "        ('num', scaler, numerical_features),\n",
    "        ('cat', ohe, categorical_features)])\n",
    "clinical_data = preprocessor.fit_transform(meta_data)\n",
    "clinical_data = pd.DataFrame(clinical_data).iloc[:, [0, 2, 4]]\n",
    "clinical_data.columns = ['BMI_surg', 'Sex', 'Diabet']\n",
    "gene_names = normal_counts.iloc[:,0]\n",
    "gene_names.at[17396] = 'BMI_surg'\n",
    "gene_names.at[17397] = 'SEX'\n",
    "gene_names.at[17398] = 'Diabet'\n",
    "\n",
    "combined_data = np.hstack((normal_counts.iloc[0:,1:].T, clinical_data))\n",
    "df_deg = pd.DataFrame(combined_data)\n",
    "df_deg.columns = gene_names\n",
    "\n",
    "LR_R2s = []\n",
    "LR_MSEs = []\n",
    "f_LR_R2s = []\n",
    "f_LR_MSEs = []\n",
    "m_LR_R2s = []\n",
    "m_LR_MSEs = []\n",
    "\n",
    "RR_R2s = []\n",
    "RR_MSEs = []\n",
    "f_RR_R2s = []\n",
    "f_RR_MSEs = []\n",
    "m_RR_R2s = []\n",
    "m_RR_MSEs = []\n",
    "\n",
    "ENR_R2s = []\n",
    "ENR_MSEs = []\n",
    "f_ENR_R2s = []\n",
    "f_ENR_MSEs = []\n",
    "m_ENR_R2s = []\n",
    "m_ENR_MSEs = []\n",
    "\n",
    "for i in range(10):\n",
    "    print('iteration',i)\n",
    "    X_train, X_test, y_train, y_test = train_test_split(df_deg, meta_data['Age'], test_size=0.2, random_state = i)\n",
    "    threshold = 0.8\n",
    "    selector = VarianceThreshold(threshold)\n",
    "    filtered_data = selector.fit_transform(X_train)\n",
    "    selected_features = X_train.columns[selector.get_support()]\n",
    "    X_train_filtered = pd.DataFrame(filtered_data, columns=selected_features)\n",
    "    lasso = LassoCV(cv=5).fit(X_train_filtered, y_train)\n",
    "    # Extract the non-zero coefficients\n",
    "    important_genes = X_train_filtered.columns[(lasso.coef_ != 0)]\n",
    "\n",
    "    # Linear Regression\n",
    "    LR_model = LinearRegression()\n",
    "    LR_model.fit(X_train_filtered[important_genes], y_train)\n",
    "    y_pred_LR = LR_model.predict(X_test[important_genes])\n",
    "    LR_MSE = mean_squared_error(y_test, y_pred_LR)\n",
    "    LR_R2 = r2_score(y_test, y_pred_LR)\n",
    "    LR_MSEs.append(LR_MSE)\n",
    "    LR_R2s.append(LR_R2)\n",
    "\n",
    "    # Ridge Regression\n",
    "    RR_model = Ridge(alpha=0.5)\n",
    "    RR_model.fit(X_train_filtered[important_genes], y_train)\n",
    "    y_pred_RR = RR_model.predict(X_test[important_genes])\n",
    "    RR_MSE = mean_squared_error(y_test, y_pred_RR)\n",
    "    RR_R2 = r2_score(y_test, y_pred_RR)\n",
    "    RR_MSEs.append(RR_MSE)\n",
    "    RR_R2s.append(RR_R2)\n",
    "\n",
    "    # ElasticNet Regression\n",
    "    ENR_model = ElasticNet(alpha=1.0, l1_ratio=0.5)\n",
    "    ENR_model.fit(X_train_filtered[important_genes], y_train)\n",
    "    y_pred_ENR = ENR_model.predict(X_test[important_genes])\n",
    "    ENR_MSE = mean_squared_error(y_test, y_pred_ENR)\n",
    "    ENR_R2 = r2_score(y_test, y_pred_ENR)\n",
    "    ENR_MSEs.append(ENR_MSE)\n",
    "    ENR_R2s.append(ENR_R2)\n",
    "\n",
    "\n",
    "    female_df_deg = df_deg[df_deg['SEX'] == 1]\n",
    "    female_meta_data = meta_data[meta_data['SEX'] == 'Female']\n",
    "    X_train, X_test, y_train, y_test = train_test_split(female_df_deg, female_meta_data, test_size=0.2, random_state = i)\n",
    "    threshold = 0.8\n",
    "    selector = VarianceThreshold(threshold)\n",
    "    filtered_data = selector.fit_transform(X_train)\n",
    "    selected_features = X_train.columns[selector.get_support()]\n",
    "    X_train_filtered = pd.DataFrame(filtered_data, columns=selected_features)\n",
    "    lasso = LassoCV(cv=5).fit(X_train_filtered, y_train['Age'])\n",
    "    # Extract the non-zero coefficients\n",
    "    female_important_genes = X_train_filtered.columns[(lasso.coef_ != 0)]\n",
    "\n",
    "    # Linear Regression\n",
    "    LR_model = LinearRegression()\n",
    "    LR_model.fit(X_train_filtered[female_important_genes], y_train['Age'])\n",
    "    y_pred_LR = LR_model.predict(X_test[female_important_genes])\n",
    "    LR_MSE = mean_squared_error(y_test['Age'], y_pred_LR)\n",
    "    LR_R2 = r2_score(y_test['Age'], y_pred_LR)\n",
    "    f_LR_MSEs.append(LR_MSE)\n",
    "    f_LR_R2s.append(LR_R2)\n",
    "\n",
    "    # Ridge Regression\n",
    "    RR_model = Ridge(alpha=0.5)\n",
    "    RR_model.fit(X_train_filtered[female_important_genes], y_train['Age'])\n",
    "    y_pred_RR = RR_model.predict(X_test[female_important_genes])\n",
    "    RR_MSE = mean_squared_error(y_test['Age'], y_pred_RR)\n",
    "    RR_R2 = r2_score(y_test['Age'], y_pred_RR)\n",
    "    f_RR_MSEs.append(RR_MSE)\n",
    "    f_RR_R2s.append(RR_R2)\n",
    "\n",
    "    # ElasticNet Regression\n",
    "    ENR_model = ElasticNet(alpha=1.0, l1_ratio=0.5)\n",
    "    ENR_model.fit(X_train_filtered[female_important_genes], y_train['Age'])\n",
    "    y_pred_ENR = ENR_model.predict(X_test[female_important_genes])\n",
    "    ENR_MSE = mean_squared_error(y_test['Age'], y_pred_ENR)\n",
    "    ENR_R2 = r2_score(y_test['Age'], y_pred_ENR)\n",
    "    f_ENR_MSEs.append(ENR_MSE)\n",
    "    f_ENR_R2s.append(ENR_R2)\n",
    "    \n",
    "\n",
    "    male_df_deg = df_deg[df_deg['SEX'] == 0]  \n",
    "    male_meta_data = meta_data[meta_data['SEX'] == 'Male']\n",
    "    X_train, X_test, y_train, y_test = train_test_split(male_df_deg, male_meta_data, test_size=0.2, random_state = i)\n",
    "    threshold = 0.8\n",
    "    selector = VarianceThreshold(threshold)\n",
    "    filtered_data = selector.fit_transform(X_train)\n",
    "    selected_features = X_train.columns[selector.get_support()]\n",
    "    X_train_filtered = pd.DataFrame(filtered_data, columns=selected_features)\n",
    "    lasso = LassoCV(cv=5).fit(X_train_filtered, y_train['Age'])\n",
    "    # Extract the non-zero coefficients\n",
    "    male_important_genes = X_train_filtered.columns[(lasso.coef_ != 0)]\n",
    "\n",
    "    # Linear Regression\n",
    "    LR_model = LinearRegression()\n",
    "    LR_model.fit(X_train_filtered[male_important_genes], y_train['Age'])\n",
    "    y_pred_LR = LR_model.predict(X_test[male_important_genes])\n",
    "    LR_MSE = mean_squared_error(y_test['Age'], y_pred_LR)\n",
    "    LR_R2 = r2_score(y_test['Age'], y_pred_LR)\n",
    "    m_LR_MSEs.append(LR_MSE)\n",
    "    m_LR_R2s.append(LR_R2)\n",
    "\n",
    "    # Ridge Regression\n",
    "    RR_model = Ridge(alpha=0.5)\n",
    "    RR_model.fit(X_train_filtered[male_important_genes], y_train['Age'])\n",
    "    y_pred_RR = RR_model.predict(X_test[male_important_genes])\n",
    "    RR_MSE = mean_squared_error(y_test['Age'], y_pred_RR)\n",
    "    RR_R2 = r2_score(y_test['Age'], y_pred_RR)\n",
    "    m_RR_MSEs.append(RR_MSE)\n",
    "    m_RR_R2s.append(RR_R2)\n",
    "\n",
    "    # ElasticNet Regression\n",
    "    ENR_model = ElasticNet(alpha=1.0, l1_ratio=0.5)\n",
    "    ENR_model.fit(X_train_filtered[male_important_genes], y_train['Age'])\n",
    "    y_pred_ENR = ENR_model.predict(X_test[male_important_genes])\n",
    "    ENR_MSE = mean_squared_error(y_test['Age'], y_pred_ENR)\n",
    "    ENR_R2 = r2_score(y_test['Age'], y_pred_ENR)\n",
    "    m_ENR_MSEs.append(ENR_MSE)\n",
    "    m_ENR_R2s.append(ENR_R2)\n",
    "\n"
   ]
  },
  {
   "cell_type": "markdown",
   "metadata": {},
   "source": [
    "Last but not least, we need to report the average and confidence interval for the results of each classifier. We will also create a bar plot to visually compare the results of the classifiers. We also need to compare the results of the three conditions to determine whether splitting the data based on sex will affect the performance or not"
   ]
  },
  {
   "cell_type": "code",
   "execution_count": 70,
   "metadata": {},
   "outputs": [],
   "source": [
    "def evaluation(LR_MSEs,LR_R2s,RR_MSEs,RR_R2s,ENR_MSEs,ENR_R2s):\n",
    "\n",
    "  LR_mean_MSE = np.mean(LR_MSEs)\n",
    "  LR_mean_R2 = np.mean(LR_R2s)\n",
    "  LR_MSE_conf_interval = np.percentile(LR_MSEs, [2.5, 97.5])\n",
    "  LR_R2_conf_interval = np.percentile(LR_R2s, [2.5, 97.5])\n",
    "  print(f'Mean MSE for Linear Regression: {LR_mean_MSE}, 95% CI: {LR_MSE_conf_interval}')\n",
    "  print(f'Mean R2 for Linear Regression: {LR_mean_R2}, 95% CI: {LR_R2_conf_interval}')\n",
    "  print(\"-------------------------------------------------------------------------------------------------\")\n",
    "\n",
    "  RR_mean_MSE = np.mean(RR_MSEs)\n",
    "  RR_mean_R2 = np.mean(RR_R2s)\n",
    "  RR_MSE_conf_interval = np.percentile(RR_MSEs, [2.5, 97.5])\n",
    "  RR_R2_conf_interval = np.percentile(RR_R2s, [2.5, 97.5])\n",
    "  print(f'Mean MSE for Ridge Regression: {RR_mean_MSE}, 95% CI: {RR_MSE_conf_interval}')\n",
    "  print(f'Mean R2 for Ridge Regression: {RR_mean_R2}, 95% CI: {RR_R2_conf_interval}')\n",
    "  print(\"-------------------------------------------------------------------------------------------------\")\n",
    "\n",
    "  ENR_mean_MSE = np.mean(ENR_MSEs)\n",
    "  ENR_mean_R2 = np.mean(ENR_R2s)\n",
    "  ENR_MSE_conf_interval = np.percentile(ENR_MSEs, [2.5, 97.5])\n",
    "  ENR_R2_conf_interval = np.percentile(ENR_R2s, [2.5, 97.5])\n",
    "  print(f'Mean MSE for ElasticNet Regression: {ENR_mean_MSE}, 95% CI: {ENR_MSE_conf_interval}')\n",
    "  print(f'Mean R2 for ElasticNet Regression: {ENR_mean_R2}, 95% CI: {ENR_R2_conf_interval}')\n",
    "\n",
    "  model_results = {\n",
    "      'Linear Regression': {\n",
    "          'mean_MSE': LR_mean_MSE,\n",
    "          'MSE_ci': LR_MSE_conf_interval,\n",
    "          'mean_R2': LR_mean_R2,\n",
    "          'R2_ci': LR_R2_conf_interval\n",
    "      },\n",
    "      'Ridge Regression': {\n",
    "          'mean_MSE': RR_mean_MSE,\n",
    "          'MSE_ci': RR_MSE_conf_interval,\n",
    "          'mean_R2': RR_mean_R2,\n",
    "          'R2_ci': RR_R2_conf_interval\n",
    "      },\n",
    "      'ElasticNet Regression': {\n",
    "          'mean_MSE': ENR_mean_MSE,\n",
    "          'MSE_ci': ENR_MSE_conf_interval,\n",
    "          'mean_R2': ENR_mean_R2,\n",
    "          'R2_ci': ENR_R2_conf_interval\n",
    "      }\n",
    "  }\n",
    "\n",
    "  models = list(model_results.keys())\n",
    "  mean_MSEs = [model_results[model]['mean_MSE'] for model in models]\n",
    "  MSE_cis = [model_results[model]['MSE_ci'] for model in models]\n",
    "  mean_R2s = [model_results[model]['mean_R2'] for model in models]\n",
    "  R2_cis = [model_results[model]['R2_ci'] for model in models]\n",
    "  MSE_errors = np.array([[mean - ci[0], ci[1] - mean] for mean, ci in zip(mean_MSEs, MSE_cis)]).T\n",
    "  R2_errors = np.array([[mean - ci[0], ci[1] - mean] for mean, ci in zip(mean_R2s, R2_cis)]).T\n",
    "\n",
    "\n",
    "  fig, ax = plt.subplots(1, 2, figsize=(14, 6))\n",
    "\n",
    "  # Plot MSE\n",
    "  ax[0].bar(models, mean_MSEs, yerr=MSE_errors, capsize=5, color='skyblue')\n",
    "  ax[0].set_title('Mean MSE with 95% Confidence Interval')\n",
    "  ax[0].set_ylabel('MSE')\n",
    "  ax[0].set_ylim([20, 200])\n",
    "  ax[0].set_xticklabels(models, rotation=45, ha=\"right\")\n",
    "\n",
    "  # Plot R2\n",
    "  ax[1].bar(models, mean_R2s, yerr=R2_errors, capsize=5, color='lightgreen')\n",
    "  ax[1].set_title('Mean R2 with 95% Confidence Interval')\n",
    "  ax[1].set_ylabel('R2')\n",
    "  ax[1].set_ylim([0, 1])\n",
    "  ax[1].set_xticklabels(models, rotation=45, ha=\"right\")\n",
    "\n",
    "  plt.tight_layout()\n",
    "  plt.show()"
   ]
  },
  {
   "cell_type": "markdown",
   "metadata": {},
   "source": [
    "#### 1- Men and women"
   ]
  },
  {
   "cell_type": "code",
   "execution_count": 71,
   "metadata": {},
   "outputs": [
    {
     "name": "stdout",
     "output_type": "stream",
     "text": [
      "Mean MSE for Linear Regression: 93.72387171724446, 95% CI: [ 76.13892279 122.3389011 ]\n",
      "Mean R2 for Linear Regression: 0.22398519282954946, 95% CI: [-0.15693711  0.3652658 ]\n",
      "-------------------------------------------------------------------------------------------------\n",
      "Mean MSE for Ridge Regression: 93.58325500454752, 95% CI: [ 75.99978915 122.15512382]\n",
      "Mean R2 for Ridge Regression: 0.2252074305987804, 95% CI: [-0.15420639  0.36603938]\n",
      "-------------------------------------------------------------------------------------------------\n",
      "Mean MSE for ElasticNet Regression: 85.03072068605735, 95% CI: [ 66.24003299 109.73508623]\n",
      "Mean R2 for ElasticNet Regression: 0.30500370984307895, 95% CI: [0.12720519 0.4558891 ]\n"
     ]
    },
    {
     "data": {
      "image/png": "[encoded data removed]",
      "text/plain": [
       "<Figure size 1400x600 with 2 Axes>"
      ]
     },
     "metadata": {},
     "output_type": "display_data"
    }
   ],
   "source": [
    "evaluation(LR_MSEs,LR_R2s,RR_MSEs,RR_R2s,ENR_MSEs,ENR_R2s)"
   ]
  },
  {
   "cell_type": "markdown",
   "metadata": {},
   "source": [
    "#### 2- Women only"
   ]
  },
  {
   "cell_type": "code",
   "execution_count": 72,
   "metadata": {},
   "outputs": [
    {
     "name": "stdout",
     "output_type": "stream",
     "text": [
      "Mean MSE for Linear Regression: 81.4039767743786, 95% CI: [ 61.99474362 102.30060272]\n",
      "Mean R2 for Linear Regression: 0.32655859857434866, 95% CI: [0.07109799 0.52107335]\n",
      "-------------------------------------------------------------------------------------------------\n",
      "Mean MSE for Ridge Regression: 81.26961196554569, 95% CI: [ 61.87980603 102.27423771]\n",
      "Mean R2 for Ridge Regression: 0.3277495253969612, 95% CI: [0.07221842 0.52102313]\n",
      "-------------------------------------------------------------------------------------------------\n",
      "Mean MSE for ElasticNet Regression: 82.14879724899781, 95% CI: [ 65.95899767 102.71718425]\n",
      "Mean R2 for ElasticNet Regression: 0.3258626266544995, 95% CI: [0.14689447 0.45795909]\n"
     ]
    },
    {
     "data": {
      "image/png": "[encoded data removed]",
      "text/plain": [
       "<Figure size 1400x600 with 2 Axes>"
      ]
     },
     "metadata": {},
     "output_type": "display_data"
    }
   ],
   "source": [
    "evaluation(f_LR_MSEs,f_LR_R2s,f_RR_MSEs,f_RR_R2s,f_ENR_MSEs,f_ENR_R2s)"
   ]
  },
  {
   "cell_type": "markdown",
   "metadata": {},
   "source": [
    "#### 3- Men only"
   ]
  },
  {
   "cell_type": "code",
   "execution_count": 73,
   "metadata": {},
   "outputs": [
    {
     "name": "stdout",
     "output_type": "stream",
     "text": [
      "Mean MSE for Linear Regression: 134.5769243894009, 95% CI: [ 77.24690153 277.44700226]\n",
      "Mean R2 for Linear Regression: -0.4490993665624063, 95% CI: [-1.73943844  0.3035828 ]\n",
      "-------------------------------------------------------------------------------------------------\n",
      "Mean MSE for Ridge Regression: 124.60972408899434, 95% CI: [ 75.26276249 244.97374347]\n",
      "Mean R2 for Ridge Regression: -0.33927324390218344, 95% CI: [-1.46493756  0.30066489]\n",
      "-------------------------------------------------------------------------------------------------\n",
      "Mean MSE for ElasticNet Regression: 115.57231466443727, 95% CI: [ 75.20562135 168.87937051]\n",
      "Mean R2 for ElasticNet Regression: -0.25273830383631973, 95% CI: [-1.23332149  0.28383753]\n"
     ]
    },
    {
     "data": {
      "image/png": "[encoded data removed]",
      "text/plain": [
       "<Figure size 1400x600 with 2 Axes>"
      ]
     },
     "metadata": {},
     "output_type": "display_data"
    }
   ],
   "source": [
    "evaluation(m_LR_MSEs,m_LR_R2s,m_RR_MSEs,m_RR_R2s,m_ENR_MSEs,m_ENR_R2s)"
   ]
  },
  {
   "cell_type": "markdown",
   "metadata": {},
   "source": [
    "As you can see, we were unable to achieve a satisfactory R² for any of the conditions. While it is biologically and computationally feasible to estimate human age based on gene expression data, our results suggest that the limited sample size was a significant factor in our lack of success. With fewer than 200 samples, there was insufficient data to effectively perform this regression task. Additionally, although we hypothesized that splitting the data based on sex might improve age prediction, this approach further reduced the number of samples (to fewer than 40 for men), making it impossible for us to accomplish our desired results."
   ]
  }
 ],
 "metadata": {
  "colab": {
   "provenance": []
  },
  "kernelspec": {
   "display_name": "Python 3 (ipykernel)",
   "language": "python",
   "name": "python3"
  },
  "language_info": {
   "codemirror_mode": {
    "name": "ipython",
    "version": 3
   },
   "file_extension": ".py",
   "mimetype": "text/x-python",
   "name": "python",
   "nbconvert_exporter": "python",
   "pygments_lexer": "ipython3",
   "version": "3.10.0"
  }
 },
 "nbformat": 4,
 "nbformat_minor": 4
}
