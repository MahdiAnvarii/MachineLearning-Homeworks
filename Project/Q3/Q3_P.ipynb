{
 "cells": [
  {
   "cell_type": "markdown",
   "metadata": {},
   "source": [
    "# NAFLD detection using RNA-Seq data\n",
    "\n",
    "\n",
    "__Content creators:__  Mahdi Anvari, Sadegh Rizi\n",
    "\n",
    "**University of Tehran, Department of Biotechnology**"
   ]
  },
  {
   "cell_type": "markdown",
   "metadata": {
    "id": "-tINqWBIw-iJ"
   },
   "source": [
    "# Q3 - Python section"
   ]
  },
  {
   "cell_type": "code",
   "execution_count": 51,
   "metadata": {
    "id": "KSeWWxUN7YBS"
   },
   "outputs": [],
   "source": [
    "# Import needed libraries\n",
    "import pandas as pd\n",
    "import numpy as np\n",
    "import matplotlib.pyplot as plt\n",
    "import seaborn as sns\n",
    "from sklearn.metrics import precision_score, recall_score\n",
    "from sklearn.model_selection import train_test_split\n",
    "from sklearn.preprocessing import LabelEncoder\n",
    "from sklearn.linear_model import LassoCV\n",
    "from sklearn.decomposition import PCA\n",
    "from sklearn.manifold import TSNE\n",
    "import warnings\n",
    "warnings.filterwarnings(\"ignore\")\n",
    "from sklearn.linear_model import LogisticRegression\n",
    "from sklearn.svm import SVC\n",
    "from sklearn.ensemble import RandomForestClassifier\n",
    "from sklearn.neural_network import MLPClassifier"
   ]
  },
  {
   "cell_type": "code",
   "execution_count": 52,
   "metadata": {
    "colab": {
     "base_uri": "https://localhost:8080/"
    },
    "id": "I5zIPrS08dhc",
    "outputId": "01b0f5cc-e814-4064-ce75-007b950be40c"
   },
   "outputs": [],
   "source": [
    "# Load Data\n",
    "normal_counts = pd.read_csv('Normal.counts.voom.csv')\n",
    "meta_data = pd.read_csv('meta_data.csv')"
   ]
  },
  {
   "cell_type": "code",
   "execution_count": 53,
   "metadata": {},
   "outputs": [],
   "source": [
    "def determine_class(row):\n",
    "    if row['Simplified_class'] == 'Normal':\n",
    "        return \"Normal\"\n",
    "    else:\n",
    "        return \"Fibrosis\""
   ]
  },
  {
   "cell_type": "code",
   "execution_count": 54,
   "metadata": {},
   "outputs": [],
   "source": [
    "meta_data['class'] = meta_data.apply(determine_class, axis=1)\n",
    "meta_data = pd.DataFrame(meta_data)"
   ]
  },
  {
   "cell_type": "code",
   "execution_count": 56,
   "metadata": {},
   "outputs": [
    {
     "data": {
      "text/html": [
       "<div>\n",
       "<style scoped>\n",
       "    .dataframe tbody tr th:only-of-type {\n",
       "        vertical-align: middle;\n",
       "    }\n",
       "\n",
       "    .dataframe tbody tr th {\n",
       "        vertical-align: top;\n",
       "    }\n",
       "\n",
       "    .dataframe thead th {\n",
       "        text-align: right;\n",
       "    }\n",
       "</style>\n",
       "<table border=\"1\" class=\"dataframe\">\n",
       "  <thead>\n",
       "    <tr style=\"text-align: right;\">\n",
       "      <th></th>\n",
       "      <th>Patient_ID</th>\n",
       "      <th>SEX</th>\n",
       "      <th>BMI_surg</th>\n",
       "      <th>Age</th>\n",
       "      <th>Run</th>\n",
       "      <th>Diabet</th>\n",
       "      <th>Simplified_class</th>\n",
       "      <th>class</th>\n",
       "    </tr>\n",
       "  </thead>\n",
       "  <tbody>\n",
       "    <tr>\n",
       "      <th>0</th>\n",
       "      <td>DLDR_0001</td>\n",
       "      <td>Female</td>\n",
       "      <td>35.214555</td>\n",
       "      <td>55</td>\n",
       "      <td>SRR8378590</td>\n",
       "      <td>Non Diabetic</td>\n",
       "      <td>Normal</td>\n",
       "      <td>Normal</td>\n",
       "    </tr>\n",
       "    <tr>\n",
       "      <th>1</th>\n",
       "      <td>DLDR_0002</td>\n",
       "      <td>Female</td>\n",
       "      <td>39.421748</td>\n",
       "      <td>47</td>\n",
       "      <td>SRR8378589</td>\n",
       "      <td>Diabetic</td>\n",
       "      <td>Normal</td>\n",
       "      <td>Normal</td>\n",
       "    </tr>\n",
       "    <tr>\n",
       "      <th>2</th>\n",
       "      <td>DLDR_0003</td>\n",
       "      <td>Male</td>\n",
       "      <td>48.758108</td>\n",
       "      <td>46</td>\n",
       "      <td>SRR8378432</td>\n",
       "      <td>Non Diabetic</td>\n",
       "      <td>Normal</td>\n",
       "      <td>Normal</td>\n",
       "    </tr>\n",
       "    <tr>\n",
       "      <th>3</th>\n",
       "      <td>DLDR_0004</td>\n",
       "      <td>Female</td>\n",
       "      <td>41.822607</td>\n",
       "      <td>36</td>\n",
       "      <td>SRR8378431</td>\n",
       "      <td>Non Diabetic</td>\n",
       "      <td>Normal</td>\n",
       "      <td>Normal</td>\n",
       "    </tr>\n",
       "    <tr>\n",
       "      <th>4</th>\n",
       "      <td>DLDR_0005</td>\n",
       "      <td>Female</td>\n",
       "      <td>53.582192</td>\n",
       "      <td>54</td>\n",
       "      <td>SRR8378434</td>\n",
       "      <td>Non Diabetic</td>\n",
       "      <td>Normal</td>\n",
       "      <td>Normal</td>\n",
       "    </tr>\n",
       "    <tr>\n",
       "      <th>...</th>\n",
       "      <td>...</td>\n",
       "      <td>...</td>\n",
       "      <td>...</td>\n",
       "      <td>...</td>\n",
       "      <td>...</td>\n",
       "      <td>...</td>\n",
       "      <td>...</td>\n",
       "      <td>...</td>\n",
       "    </tr>\n",
       "    <tr>\n",
       "      <th>187</th>\n",
       "      <td>DLDR_0188</td>\n",
       "      <td>Male</td>\n",
       "      <td>40.216173</td>\n",
       "      <td>59</td>\n",
       "      <td>SRR8378532</td>\n",
       "      <td>Diabetic</td>\n",
       "      <td>Normal</td>\n",
       "      <td>Normal</td>\n",
       "    </tr>\n",
       "    <tr>\n",
       "      <th>188</th>\n",
       "      <td>DLDR_0189</td>\n",
       "      <td>Female</td>\n",
       "      <td>50.077601</td>\n",
       "      <td>52</td>\n",
       "      <td>SRR8378525</td>\n",
       "      <td>Non Diabetic</td>\n",
       "      <td>Normal</td>\n",
       "      <td>Normal</td>\n",
       "    </tr>\n",
       "    <tr>\n",
       "      <th>189</th>\n",
       "      <td>DLDR_0190</td>\n",
       "      <td>Male</td>\n",
       "      <td>104.921344</td>\n",
       "      <td>28</td>\n",
       "      <td>SRR8378526</td>\n",
       "      <td>Diabetic</td>\n",
       "      <td>Normal</td>\n",
       "      <td>Normal</td>\n",
       "    </tr>\n",
       "    <tr>\n",
       "      <th>190</th>\n",
       "      <td>DLDR_0191</td>\n",
       "      <td>Female</td>\n",
       "      <td>47.495069</td>\n",
       "      <td>36</td>\n",
       "      <td>SRR8378566</td>\n",
       "      <td>Non Diabetic</td>\n",
       "      <td>Normal</td>\n",
       "      <td>Normal</td>\n",
       "    </tr>\n",
       "    <tr>\n",
       "      <th>191</th>\n",
       "      <td>DLDR_0192</td>\n",
       "      <td>Female</td>\n",
       "      <td>45.418221</td>\n",
       "      <td>53</td>\n",
       "      <td>SRR8378565</td>\n",
       "      <td>Non Diabetic</td>\n",
       "      <td>Normal</td>\n",
       "      <td>Normal</td>\n",
       "    </tr>\n",
       "  </tbody>\n",
       "</table>\n",
       "<p>192 rows × 8 columns</p>\n",
       "</div>"
      ],
      "text/plain": [
       "    Patient_ID     SEX    BMI_surg  Age         Run        Diabet  \\\n",
       "0    DLDR_0001  Female   35.214555   55  SRR8378590  Non Diabetic   \n",
       "1    DLDR_0002  Female   39.421748   47  SRR8378589      Diabetic   \n",
       "2    DLDR_0003    Male   48.758108   46  SRR8378432  Non Diabetic   \n",
       "3    DLDR_0004  Female   41.822607   36  SRR8378431  Non Diabetic   \n",
       "4    DLDR_0005  Female   53.582192   54  SRR8378434  Non Diabetic   \n",
       "..         ...     ...         ...  ...         ...           ...   \n",
       "187  DLDR_0188    Male   40.216173   59  SRR8378532      Diabetic   \n",
       "188  DLDR_0189  Female   50.077601   52  SRR8378525  Non Diabetic   \n",
       "189  DLDR_0190    Male  104.921344   28  SRR8378526      Diabetic   \n",
       "190  DLDR_0191  Female   47.495069   36  SRR8378566  Non Diabetic   \n",
       "191  DLDR_0192  Female   45.418221   53  SRR8378565  Non Diabetic   \n",
       "\n",
       "    Simplified_class   class  \n",
       "0             Normal  Normal  \n",
       "1             Normal  Normal  \n",
       "2             Normal  Normal  \n",
       "3             Normal  Normal  \n",
       "4             Normal  Normal  \n",
       "..               ...     ...  \n",
       "187           Normal  Normal  \n",
       "188           Normal  Normal  \n",
       "189           Normal  Normal  \n",
       "190           Normal  Normal  \n",
       "191           Normal  Normal  \n",
       "\n",
       "[192 rows x 8 columns]"
      ]
     },
     "execution_count": 56,
     "metadata": {},
     "output_type": "execute_result"
    }
   ],
   "source": [
    "meta_data"
   ]
  },
  {
   "cell_type": "code",
   "execution_count": 64,
   "metadata": {},
   "outputs": [],
   "source": [
    "X_train, X_test, y_train, y_test = train_test_split(normal_counts.iloc[0:,1:].T, meta_data[['Simplified_class', 'class']], test_size=0.3, random_state = 10101)"
   ]
  },
  {
   "cell_type": "code",
   "execution_count": 63,
   "metadata": {},
   "outputs": [],
   "source": [
    "X_train.T.to_csv('train_normal_counts.csv', index=False)\n",
    "y_train.to_csv('train_meta_data.csv', index=False)"
   ]
  },
  {
   "cell_type": "code",
   "execution_count": 6,
   "metadata": {},
   "outputs": [],
   "source": [
    "# Run R script"
   ]
  },
  {
   "cell_type": "markdown",
   "metadata": {
    "id": "m8x2l0R5vxBT"
   },
   "source": [
    "## First Machine"
   ]
  },
  {
   "cell_type": "code",
   "execution_count": 241,
   "metadata": {},
   "outputs": [],
   "source": [
    "subset_data1 = pd.read_csv('subset_data1.csv')"
   ]
  },
  {
   "cell_type": "code",
   "execution_count": 242,
   "metadata": {
    "colab": {
     "base_uri": "https://localhost:8080/",
     "height": 255
    },
    "id": "8HhR4b_A-nSN",
    "outputId": "0c07b589-dd67-4e02-d059-1fad1cae2798"
   },
   "outputs": [
    {
     "data": {
      "text/html": [
       "<div>\n",
       "<style scoped>\n",
       "    .dataframe tbody tr th:only-of-type {\n",
       "        vertical-align: middle;\n",
       "    }\n",
       "\n",
       "    .dataframe tbody tr th {\n",
       "        vertical-align: top;\n",
       "    }\n",
       "\n",
       "    .dataframe thead th {\n",
       "        text-align: right;\n",
       "    }\n",
       "</style>\n",
       "<table border=\"1\" class=\"dataframe\">\n",
       "  <thead>\n",
       "    <tr style=\"text-align: right;\">\n",
       "      <th></th>\n",
       "      <th>Unnamed: 0</th>\n",
       "      <th>DLDR_0036</th>\n",
       "      <th>DLDR_0081</th>\n",
       "      <th>DLDR_0191</th>\n",
       "      <th>DLDR_0188</th>\n",
       "      <th>DLDR_0130</th>\n",
       "      <th>DLDR_0013</th>\n",
       "      <th>DLDR_0079</th>\n",
       "      <th>DLDR_0131</th>\n",
       "      <th>DLDR_0135</th>\n",
       "      <th>...</th>\n",
       "      <th>DLDR_0175</th>\n",
       "      <th>DLDR_0052</th>\n",
       "      <th>DLDR_0087</th>\n",
       "      <th>DLDR_0155</th>\n",
       "      <th>DLDR_0092</th>\n",
       "      <th>DLDR_0187</th>\n",
       "      <th>DLDR_0186</th>\n",
       "      <th>DLDR_0179</th>\n",
       "      <th>DLDR_0182</th>\n",
       "      <th>DLDR_0001</th>\n",
       "    </tr>\n",
       "  </thead>\n",
       "  <tbody>\n",
       "    <tr>\n",
       "      <th>0</th>\n",
       "      <td>10</td>\n",
       "      <td>4.589555</td>\n",
       "      <td>5.482169</td>\n",
       "      <td>5.013154</td>\n",
       "      <td>5.066071</td>\n",
       "      <td>4.655817</td>\n",
       "      <td>4.299078</td>\n",
       "      <td>4.752957</td>\n",
       "      <td>5.409514</td>\n",
       "      <td>4.993777</td>\n",
       "      <td>...</td>\n",
       "      <td>4.853565</td>\n",
       "      <td>4.567173</td>\n",
       "      <td>4.985158</td>\n",
       "      <td>5.234776</td>\n",
       "      <td>4.900754</td>\n",
       "      <td>4.923087</td>\n",
       "      <td>5.004500</td>\n",
       "      <td>5.058062</td>\n",
       "      <td>5.002454</td>\n",
       "      <td>4.221450</td>\n",
       "    </tr>\n",
       "    <tr>\n",
       "      <th>1</th>\n",
       "      <td>17</td>\n",
       "      <td>5.449846</td>\n",
       "      <td>5.626559</td>\n",
       "      <td>5.668470</td>\n",
       "      <td>5.824931</td>\n",
       "      <td>5.645748</td>\n",
       "      <td>5.172477</td>\n",
       "      <td>5.550495</td>\n",
       "      <td>5.445684</td>\n",
       "      <td>5.825299</td>\n",
       "      <td>...</td>\n",
       "      <td>5.574066</td>\n",
       "      <td>5.250757</td>\n",
       "      <td>6.008989</td>\n",
       "      <td>6.014251</td>\n",
       "      <td>5.971633</td>\n",
       "      <td>5.707487</td>\n",
       "      <td>5.784668</td>\n",
       "      <td>5.655138</td>\n",
       "      <td>5.919827</td>\n",
       "      <td>5.086468</td>\n",
       "    </tr>\n",
       "    <tr>\n",
       "      <th>2</th>\n",
       "      <td>67</td>\n",
       "      <td>5.513839</td>\n",
       "      <td>6.027475</td>\n",
       "      <td>6.073207</td>\n",
       "      <td>5.862186</td>\n",
       "      <td>5.755947</td>\n",
       "      <td>4.997887</td>\n",
       "      <td>5.706940</td>\n",
       "      <td>5.780650</td>\n",
       "      <td>6.019866</td>\n",
       "      <td>...</td>\n",
       "      <td>5.756585</td>\n",
       "      <td>5.475180</td>\n",
       "      <td>5.981856</td>\n",
       "      <td>5.873197</td>\n",
       "      <td>5.862836</td>\n",
       "      <td>5.832565</td>\n",
       "      <td>5.770585</td>\n",
       "      <td>5.658351</td>\n",
       "      <td>6.017044</td>\n",
       "      <td>5.071807</td>\n",
       "    </tr>\n",
       "    <tr>\n",
       "      <th>3</th>\n",
       "      <td>278</td>\n",
       "      <td>5.529902</td>\n",
       "      <td>5.846272</td>\n",
       "      <td>5.553583</td>\n",
       "      <td>5.359267</td>\n",
       "      <td>5.774549</td>\n",
       "      <td>4.962662</td>\n",
       "      <td>5.201300</td>\n",
       "      <td>5.500205</td>\n",
       "      <td>5.782051</td>\n",
       "      <td>...</td>\n",
       "      <td>5.862067</td>\n",
       "      <td>5.038603</td>\n",
       "      <td>5.665231</td>\n",
       "      <td>5.781140</td>\n",
       "      <td>5.745159</td>\n",
       "      <td>5.438062</td>\n",
       "      <td>5.570169</td>\n",
       "      <td>5.558701</td>\n",
       "      <td>5.733822</td>\n",
       "      <td>5.220121</td>\n",
       "    </tr>\n",
       "    <tr>\n",
       "      <th>4</th>\n",
       "      <td>301</td>\n",
       "      <td>5.713408</td>\n",
       "      <td>6.171415</td>\n",
       "      <td>5.919896</td>\n",
       "      <td>6.081949</td>\n",
       "      <td>5.670238</td>\n",
       "      <td>5.175044</td>\n",
       "      <td>5.884826</td>\n",
       "      <td>5.889699</td>\n",
       "      <td>6.276855</td>\n",
       "      <td>...</td>\n",
       "      <td>5.934795</td>\n",
       "      <td>5.737267</td>\n",
       "      <td>6.233433</td>\n",
       "      <td>6.223520</td>\n",
       "      <td>5.936271</td>\n",
       "      <td>6.109439</td>\n",
       "      <td>5.724249</td>\n",
       "      <td>6.160191</td>\n",
       "      <td>6.032172</td>\n",
       "      <td>5.201384</td>\n",
       "    </tr>\n",
       "  </tbody>\n",
       "</table>\n",
       "<p>5 rows × 135 columns</p>\n",
       "</div>"
      ],
      "text/plain": [
       "   Unnamed: 0  DLDR_0036  DLDR_0081  DLDR_0191  DLDR_0188  DLDR_0130  \\\n",
       "0          10   4.589555   5.482169   5.013154   5.066071   4.655817   \n",
       "1          17   5.449846   5.626559   5.668470   5.824931   5.645748   \n",
       "2          67   5.513839   6.027475   6.073207   5.862186   5.755947   \n",
       "3         278   5.529902   5.846272   5.553583   5.359267   5.774549   \n",
       "4         301   5.713408   6.171415   5.919896   6.081949   5.670238   \n",
       "\n",
       "   DLDR_0013  DLDR_0079  DLDR_0131  DLDR_0135  ...  DLDR_0175  DLDR_0052  \\\n",
       "0   4.299078   4.752957   5.409514   4.993777  ...   4.853565   4.567173   \n",
       "1   5.172477   5.550495   5.445684   5.825299  ...   5.574066   5.250757   \n",
       "2   4.997887   5.706940   5.780650   6.019866  ...   5.756585   5.475180   \n",
       "3   4.962662   5.201300   5.500205   5.782051  ...   5.862067   5.038603   \n",
       "4   5.175044   5.884826   5.889699   6.276855  ...   5.934795   5.737267   \n",
       "\n",
       "   DLDR_0087  DLDR_0155  DLDR_0092  DLDR_0187  DLDR_0186  DLDR_0179  \\\n",
       "0   4.985158   5.234776   4.900754   4.923087   5.004500   5.058062   \n",
       "1   6.008989   6.014251   5.971633   5.707487   5.784668   5.655138   \n",
       "2   5.981856   5.873197   5.862836   5.832565   5.770585   5.658351   \n",
       "3   5.665231   5.781140   5.745159   5.438062   5.570169   5.558701   \n",
       "4   6.233433   6.223520   5.936271   6.109439   5.724249   6.160191   \n",
       "\n",
       "   DLDR_0182  DLDR_0001  \n",
       "0   5.002454   4.221450  \n",
       "1   5.919827   5.086468  \n",
       "2   6.017044   5.071807  \n",
       "3   5.733822   5.220121  \n",
       "4   6.032172   5.201384  \n",
       "\n",
       "[5 rows x 135 columns]"
      ]
     },
     "execution_count": 242,
     "metadata": {},
     "output_type": "execute_result"
    }
   ],
   "source": [
    "subset_data1.head()"
   ]
  },
  {
   "cell_type": "code",
   "execution_count": 243,
   "metadata": {
    "colab": {
     "base_uri": "https://localhost:8080/"
    },
    "id": "mMe2Ge-2AICA",
    "outputId": "1d3557b3-b6c7-4f29-d753-3a43c3945c9e"
   },
   "outputs": [
    {
     "data": {
      "text/plain": [
       "(300, 135)"
      ]
     },
     "execution_count": 243,
     "metadata": {},
     "output_type": "execute_result"
    }
   ],
   "source": [
    "subset_data1.shape"
   ]
  },
  {
   "cell_type": "code",
   "execution_count": 244,
   "metadata": {},
   "outputs": [],
   "source": [
    "meta_data1 = pd.read_csv('meta_data1.csv')"
   ]
  },
  {
   "cell_type": "code",
   "execution_count": 245,
   "metadata": {
    "colab": {
     "base_uri": "https://localhost:8080/",
     "height": 206
    },
    "id": "9yw90VVg9xwt",
    "outputId": "6a211f57-4216-49cc-eac8-eb95d784165d"
   },
   "outputs": [
    {
     "data": {
      "text/html": [
       "<div>\n",
       "<style scoped>\n",
       "    .dataframe tbody tr th:only-of-type {\n",
       "        vertical-align: middle;\n",
       "    }\n",
       "\n",
       "    .dataframe tbody tr th {\n",
       "        vertical-align: top;\n",
       "    }\n",
       "\n",
       "    .dataframe thead th {\n",
       "        text-align: right;\n",
       "    }\n",
       "</style>\n",
       "<table border=\"1\" class=\"dataframe\">\n",
       "  <thead>\n",
       "    <tr style=\"text-align: right;\">\n",
       "      <th></th>\n",
       "      <th>Unnamed: 0</th>\n",
       "      <th>Simplified_class</th>\n",
       "      <th>class</th>\n",
       "    </tr>\n",
       "  </thead>\n",
       "  <tbody>\n",
       "    <tr>\n",
       "      <th>0</th>\n",
       "      <td>1</td>\n",
       "      <td>Normal</td>\n",
       "      <td>Normal</td>\n",
       "    </tr>\n",
       "    <tr>\n",
       "      <th>1</th>\n",
       "      <td>2</td>\n",
       "      <td>Advanced_fibrosis</td>\n",
       "      <td>Fibrosis</td>\n",
       "    </tr>\n",
       "    <tr>\n",
       "      <th>2</th>\n",
       "      <td>3</td>\n",
       "      <td>Normal</td>\n",
       "      <td>Normal</td>\n",
       "    </tr>\n",
       "    <tr>\n",
       "      <th>3</th>\n",
       "      <td>4</td>\n",
       "      <td>Normal</td>\n",
       "      <td>Normal</td>\n",
       "    </tr>\n",
       "    <tr>\n",
       "      <th>4</th>\n",
       "      <td>5</td>\n",
       "      <td>Non_advanced_Fibrosis</td>\n",
       "      <td>Fibrosis</td>\n",
       "    </tr>\n",
       "  </tbody>\n",
       "</table>\n",
       "</div>"
      ],
      "text/plain": [
       "   Unnamed: 0       Simplified_class     class\n",
       "0           1                 Normal    Normal\n",
       "1           2      Advanced_fibrosis  Fibrosis\n",
       "2           3                 Normal    Normal\n",
       "3           4                 Normal    Normal\n",
       "4           5  Non_advanced_Fibrosis  Fibrosis"
      ]
     },
     "execution_count": 245,
     "metadata": {},
     "output_type": "execute_result"
    }
   ],
   "source": [
    "meta_data1.head()"
   ]
  },
  {
   "cell_type": "code",
   "execution_count": 246,
   "metadata": {
    "colab": {
     "base_uri": "https://localhost:8080/"
    },
    "id": "1iOVAvhSATlU",
    "outputId": "6bea73b5-1acb-44d4-f758-534d7ba5c3fa"
   },
   "outputs": [
    {
     "data": {
      "text/plain": [
       "(134, 3)"
      ]
     },
     "execution_count": 246,
     "metadata": {},
     "output_type": "execute_result"
    }
   ],
   "source": [
    "meta_data1.shape"
   ]
  },
  {
   "cell_type": "code",
   "execution_count": 247,
   "metadata": {
    "colab": {
     "base_uri": "https://localhost:8080/"
    },
    "id": "4294TsWRGJNP",
    "outputId": "fe63a00f-88ad-4adf-e044-91b62b465670"
   },
   "outputs": [
    {
     "name": "stdout",
     "output_type": "stream",
     "text": [
      "44\n",
      "90\n"
     ]
    }
   ],
   "source": [
    "print(meta_data1['class'].to_list().count(\"Normal\"))\n",
    "print(meta_data1['class'].to_list().count(\"Fibrosis\"))"
   ]
  },
  {
   "cell_type": "code",
   "execution_count": 248,
   "metadata": {},
   "outputs": [],
   "source": [
    "selected_genes_R = subset_data1.T.iloc[0,:].to_list()"
   ]
  },
  {
   "cell_type": "code",
   "execution_count": 249,
   "metadata": {},
   "outputs": [],
   "source": [
    "selected_genes_Python = [int(i-1) for i in selected_genes_R ]"
   ]
  },
  {
   "cell_type": "code",
   "execution_count": 250,
   "metadata": {},
   "outputs": [
    {
     "data": {
      "text/plain": [
       "[9, 16, 66, 277, 300, 309, 340, 351, 406, 469]"
      ]
     },
     "execution_count": 250,
     "metadata": {},
     "output_type": "execute_result"
    }
   ],
   "source": [
    "selected_genes_Python[:10]"
   ]
  },
  {
   "cell_type": "code",
   "execution_count": 251,
   "metadata": {},
   "outputs": [
    {
     "data": {
      "text/plain": [
       "300"
      ]
     },
     "execution_count": 251,
     "metadata": {},
     "output_type": "execute_result"
    }
   ],
   "source": [
    "len(selected_genes_Python)"
   ]
  },
  {
   "cell_type": "code",
   "execution_count": 252,
   "metadata": {},
   "outputs": [],
   "source": [
    "df_deg = subset_data1.iloc[0:,1:].T\n",
    "df_deg_test = X_test[selected_genes_Python]"
   ]
  },
  {
   "cell_type": "code",
   "execution_count": 253,
   "metadata": {},
   "outputs": [
    {
     "data": {
      "text/html": [
       "<div>\n",
       "<style scoped>\n",
       "    .dataframe tbody tr th:only-of-type {\n",
       "        vertical-align: middle;\n",
       "    }\n",
       "\n",
       "    .dataframe tbody tr th {\n",
       "        vertical-align: top;\n",
       "    }\n",
       "\n",
       "    .dataframe thead th {\n",
       "        text-align: right;\n",
       "    }\n",
       "</style>\n",
       "<table border=\"1\" class=\"dataframe\">\n",
       "  <thead>\n",
       "    <tr style=\"text-align: right;\">\n",
       "      <th></th>\n",
       "      <th>0</th>\n",
       "      <th>1</th>\n",
       "      <th>2</th>\n",
       "      <th>3</th>\n",
       "      <th>4</th>\n",
       "      <th>5</th>\n",
       "      <th>6</th>\n",
       "      <th>7</th>\n",
       "      <th>8</th>\n",
       "      <th>9</th>\n",
       "      <th>...</th>\n",
       "      <th>290</th>\n",
       "      <th>291</th>\n",
       "      <th>292</th>\n",
       "      <th>293</th>\n",
       "      <th>294</th>\n",
       "      <th>295</th>\n",
       "      <th>296</th>\n",
       "      <th>297</th>\n",
       "      <th>298</th>\n",
       "      <th>299</th>\n",
       "    </tr>\n",
       "  </thead>\n",
       "  <tbody>\n",
       "    <tr>\n",
       "      <th>DLDR_0036</th>\n",
       "      <td>4.589555</td>\n",
       "      <td>5.449846</td>\n",
       "      <td>5.513839</td>\n",
       "      <td>5.529902</td>\n",
       "      <td>5.713408</td>\n",
       "      <td>0.318451</td>\n",
       "      <td>6.089009</td>\n",
       "      <td>5.898008</td>\n",
       "      <td>5.466634</td>\n",
       "      <td>7.043227</td>\n",
       "      <td>...</td>\n",
       "      <td>3.701934</td>\n",
       "      <td>-0.719024</td>\n",
       "      <td>7.142553</td>\n",
       "      <td>-2.645023</td>\n",
       "      <td>1.442439</td>\n",
       "      <td>-1.797026</td>\n",
       "      <td>0.318451</td>\n",
       "      <td>3.496573</td>\n",
       "      <td>6.925971</td>\n",
       "      <td>4.440316</td>\n",
       "    </tr>\n",
       "    <tr>\n",
       "      <th>DLDR_0081</th>\n",
       "      <td>5.482169</td>\n",
       "      <td>5.626559</td>\n",
       "      <td>6.027475</td>\n",
       "      <td>5.846272</td>\n",
       "      <td>6.171415</td>\n",
       "      <td>0.096738</td>\n",
       "      <td>6.539682</td>\n",
       "      <td>6.101239</td>\n",
       "      <td>5.802716</td>\n",
       "      <td>6.942228</td>\n",
       "      <td>...</td>\n",
       "      <td>4.184201</td>\n",
       "      <td>-2.225190</td>\n",
       "      <td>7.531366</td>\n",
       "      <td>-2.225190</td>\n",
       "      <td>0.582165</td>\n",
       "      <td>-2.225190</td>\n",
       "      <td>-2.225190</td>\n",
       "      <td>2.984263</td>\n",
       "      <td>7.323632</td>\n",
       "      <td>5.032198</td>\n",
       "    </tr>\n",
       "    <tr>\n",
       "      <th>DLDR_0191</th>\n",
       "      <td>5.013154</td>\n",
       "      <td>5.668470</td>\n",
       "      <td>6.073207</td>\n",
       "      <td>5.553583</td>\n",
       "      <td>5.919896</td>\n",
       "      <td>1.033084</td>\n",
       "      <td>6.434588</td>\n",
       "      <td>6.098648</td>\n",
       "      <td>5.685361</td>\n",
       "      <td>7.127258</td>\n",
       "      <td>...</td>\n",
       "      <td>3.703438</td>\n",
       "      <td>-0.624028</td>\n",
       "      <td>7.789600</td>\n",
       "      <td>-4.324468</td>\n",
       "      <td>0.884985</td>\n",
       "      <td>-1.154543</td>\n",
       "      <td>0.199094</td>\n",
       "      <td>2.333744</td>\n",
       "      <td>7.411511</td>\n",
       "      <td>4.749674</td>\n",
       "    </tr>\n",
       "    <tr>\n",
       "      <th>DLDR_0188</th>\n",
       "      <td>5.066071</td>\n",
       "      <td>5.824931</td>\n",
       "      <td>5.862186</td>\n",
       "      <td>5.359267</td>\n",
       "      <td>6.081949</td>\n",
       "      <td>0.356896</td>\n",
       "      <td>6.476384</td>\n",
       "      <td>6.118797</td>\n",
       "      <td>5.751021</td>\n",
       "      <td>7.095522</td>\n",
       "      <td>...</td>\n",
       "      <td>3.731021</td>\n",
       "      <td>-0.190591</td>\n",
       "      <td>7.891558</td>\n",
       "      <td>-3.891031</td>\n",
       "      <td>2.131337</td>\n",
       "      <td>1.238252</td>\n",
       "      <td>2.086249</td>\n",
       "      <td>2.518360</td>\n",
       "      <td>7.189120</td>\n",
       "      <td>5.276387</td>\n",
       "    </tr>\n",
       "    <tr>\n",
       "      <th>DLDR_0130</th>\n",
       "      <td>4.655817</td>\n",
       "      <td>5.645748</td>\n",
       "      <td>5.755947</td>\n",
       "      <td>5.774549</td>\n",
       "      <td>5.670238</td>\n",
       "      <td>0.362589</td>\n",
       "      <td>6.486240</td>\n",
       "      <td>6.239292</td>\n",
       "      <td>5.826980</td>\n",
       "      <td>7.227713</td>\n",
       "      <td>...</td>\n",
       "      <td>3.965653</td>\n",
       "      <td>-3.096843</td>\n",
       "      <td>7.909951</td>\n",
       "      <td>-4.681805</td>\n",
       "      <td>1.248932</td>\n",
       "      <td>-3.096843</td>\n",
       "      <td>-0.774915</td>\n",
       "      <td>2.925525</td>\n",
       "      <td>7.519400</td>\n",
       "      <td>5.094628</td>\n",
       "    </tr>\n",
       "  </tbody>\n",
       "</table>\n",
       "<p>5 rows × 300 columns</p>\n",
       "</div>"
      ],
      "text/plain": [
       "                0         1         2         3         4         5    \\\n",
       "DLDR_0036  4.589555  5.449846  5.513839  5.529902  5.713408  0.318451   \n",
       "DLDR_0081  5.482169  5.626559  6.027475  5.846272  6.171415  0.096738   \n",
       "DLDR_0191  5.013154  5.668470  6.073207  5.553583  5.919896  1.033084   \n",
       "DLDR_0188  5.066071  5.824931  5.862186  5.359267  6.081949  0.356896   \n",
       "DLDR_0130  4.655817  5.645748  5.755947  5.774549  5.670238  0.362589   \n",
       "\n",
       "                6         7         8         9    ...       290       291  \\\n",
       "DLDR_0036  6.089009  5.898008  5.466634  7.043227  ...  3.701934 -0.719024   \n",
       "DLDR_0081  6.539682  6.101239  5.802716  6.942228  ...  4.184201 -2.225190   \n",
       "DLDR_0191  6.434588  6.098648  5.685361  7.127258  ...  3.703438 -0.624028   \n",
       "DLDR_0188  6.476384  6.118797  5.751021  7.095522  ...  3.731021 -0.190591   \n",
       "DLDR_0130  6.486240  6.239292  5.826980  7.227713  ...  3.965653 -3.096843   \n",
       "\n",
       "                292       293       294       295       296       297  \\\n",
       "DLDR_0036  7.142553 -2.645023  1.442439 -1.797026  0.318451  3.496573   \n",
       "DLDR_0081  7.531366 -2.225190  0.582165 -2.225190 -2.225190  2.984263   \n",
       "DLDR_0191  7.789600 -4.324468  0.884985 -1.154543  0.199094  2.333744   \n",
       "DLDR_0188  7.891558 -3.891031  2.131337  1.238252  2.086249  2.518360   \n",
       "DLDR_0130  7.909951 -4.681805  1.248932 -3.096843 -0.774915  2.925525   \n",
       "\n",
       "                298       299  \n",
       "DLDR_0036  6.925971  4.440316  \n",
       "DLDR_0081  7.323632  5.032198  \n",
       "DLDR_0191  7.411511  4.749674  \n",
       "DLDR_0188  7.189120  5.276387  \n",
       "DLDR_0130  7.519400  5.094628  \n",
       "\n",
       "[5 rows x 300 columns]"
      ]
     },
     "execution_count": 253,
     "metadata": {},
     "output_type": "execute_result"
    }
   ],
   "source": [
    "df_deg.head()"
   ]
  },
  {
   "cell_type": "code",
   "execution_count": 254,
   "metadata": {},
   "outputs": [
    {
     "data": {
      "text/html": [
       "<div>\n",
       "<style scoped>\n",
       "    .dataframe tbody tr th:only-of-type {\n",
       "        vertical-align: middle;\n",
       "    }\n",
       "\n",
       "    .dataframe tbody tr th {\n",
       "        vertical-align: top;\n",
       "    }\n",
       "\n",
       "    .dataframe thead th {\n",
       "        text-align: right;\n",
       "    }\n",
       "</style>\n",
       "<table border=\"1\" class=\"dataframe\">\n",
       "  <thead>\n",
       "    <tr style=\"text-align: right;\">\n",
       "      <th></th>\n",
       "      <th>9</th>\n",
       "      <th>16</th>\n",
       "      <th>66</th>\n",
       "      <th>277</th>\n",
       "      <th>300</th>\n",
       "      <th>309</th>\n",
       "      <th>340</th>\n",
       "      <th>351</th>\n",
       "      <th>406</th>\n",
       "      <th>469</th>\n",
       "      <th>...</th>\n",
       "      <th>15501</th>\n",
       "      <th>15828</th>\n",
       "      <th>15857</th>\n",
       "      <th>15977</th>\n",
       "      <th>16049</th>\n",
       "      <th>16112</th>\n",
       "      <th>16277</th>\n",
       "      <th>16419</th>\n",
       "      <th>17074</th>\n",
       "      <th>17347</th>\n",
       "    </tr>\n",
       "  </thead>\n",
       "  <tbody>\n",
       "    <tr>\n",
       "      <th>DLDR_0022</th>\n",
       "      <td>3.967031</td>\n",
       "      <td>4.998491</td>\n",
       "      <td>5.013351</td>\n",
       "      <td>5.101756</td>\n",
       "      <td>4.988498</td>\n",
       "      <td>2.077214</td>\n",
       "      <td>5.845657</td>\n",
       "      <td>5.444621</td>\n",
       "      <td>5.221772</td>\n",
       "      <td>6.469531</td>\n",
       "      <td>...</td>\n",
       "      <td>3.735705</td>\n",
       "      <td>1.561293</td>\n",
       "      <td>6.821586</td>\n",
       "      <td>-0.425287</td>\n",
       "      <td>3.172973</td>\n",
       "      <td>1.999735</td>\n",
       "      <td>2.186148</td>\n",
       "      <td>3.883221</td>\n",
       "      <td>6.646771</td>\n",
       "      <td>3.811348</td>\n",
       "    </tr>\n",
       "    <tr>\n",
       "      <th>DLDR_0016</th>\n",
       "      <td>4.603126</td>\n",
       "      <td>5.185253</td>\n",
       "      <td>5.176144</td>\n",
       "      <td>5.079298</td>\n",
       "      <td>5.421363</td>\n",
       "      <td>2.274384</td>\n",
       "      <td>5.735367</td>\n",
       "      <td>5.394124</td>\n",
       "      <td>5.403911</td>\n",
       "      <td>6.502406</td>\n",
       "      <td>...</td>\n",
       "      <td>3.078076</td>\n",
       "      <td>1.531716</td>\n",
       "      <td>7.132365</td>\n",
       "      <td>-0.172299</td>\n",
       "      <td>2.725254</td>\n",
       "      <td>2.389205</td>\n",
       "      <td>2.373351</td>\n",
       "      <td>3.416537</td>\n",
       "      <td>6.739625</td>\n",
       "      <td>3.447152</td>\n",
       "    </tr>\n",
       "    <tr>\n",
       "      <th>DLDR_0004</th>\n",
       "      <td>4.003661</td>\n",
       "      <td>5.030589</td>\n",
       "      <td>4.919722</td>\n",
       "      <td>5.125878</td>\n",
       "      <td>5.200742</td>\n",
       "      <td>2.538993</td>\n",
       "      <td>6.049955</td>\n",
       "      <td>5.583037</td>\n",
       "      <td>5.306224</td>\n",
       "      <td>6.467268</td>\n",
       "      <td>...</td>\n",
       "      <td>3.697330</td>\n",
       "      <td>2.231420</td>\n",
       "      <td>6.847587</td>\n",
       "      <td>0.328096</td>\n",
       "      <td>3.209833</td>\n",
       "      <td>2.468026</td>\n",
       "      <td>2.921937</td>\n",
       "      <td>3.697330</td>\n",
       "      <td>6.827647</td>\n",
       "      <td>3.707635</td>\n",
       "    </tr>\n",
       "    <tr>\n",
       "      <th>DLDR_0165</th>\n",
       "      <td>5.286333</td>\n",
       "      <td>5.689689</td>\n",
       "      <td>5.901682</td>\n",
       "      <td>5.827910</td>\n",
       "      <td>5.834420</td>\n",
       "      <td>1.225221</td>\n",
       "      <td>6.994423</td>\n",
       "      <td>6.261908</td>\n",
       "      <td>6.098429</td>\n",
       "      <td>7.503492</td>\n",
       "      <td>...</td>\n",
       "      <td>4.231154</td>\n",
       "      <td>-3.697611</td>\n",
       "      <td>8.110147</td>\n",
       "      <td>-5.282573</td>\n",
       "      <td>0.907251</td>\n",
       "      <td>-1.582134</td>\n",
       "      <td>-1.582134</td>\n",
       "      <td>2.543975</td>\n",
       "      <td>7.434889</td>\n",
       "      <td>5.282529</td>\n",
       "    </tr>\n",
       "    <tr>\n",
       "      <th>DLDR_0127</th>\n",
       "      <td>5.118729</td>\n",
       "      <td>5.592257</td>\n",
       "      <td>5.464008</td>\n",
       "      <td>5.446251</td>\n",
       "      <td>5.955723</td>\n",
       "      <td>0.897457</td>\n",
       "      <td>6.472366</td>\n",
       "      <td>5.832644</td>\n",
       "      <td>5.859725</td>\n",
       "      <td>7.239886</td>\n",
       "      <td>...</td>\n",
       "      <td>3.857711</td>\n",
       "      <td>0.766213</td>\n",
       "      <td>7.988758</td>\n",
       "      <td>-1.510628</td>\n",
       "      <td>1.231876</td>\n",
       "      <td>0.146485</td>\n",
       "      <td>1.777617</td>\n",
       "      <td>2.816839</td>\n",
       "      <td>7.391864</td>\n",
       "      <td>4.626561</td>\n",
       "    </tr>\n",
       "  </tbody>\n",
       "</table>\n",
       "<p>5 rows × 300 columns</p>\n",
       "</div>"
      ],
      "text/plain": [
       "              9         16        66        277       300       309    \\\n",
       "DLDR_0022  3.967031  4.998491  5.013351  5.101756  4.988498  2.077214   \n",
       "DLDR_0016  4.603126  5.185253  5.176144  5.079298  5.421363  2.274384   \n",
       "DLDR_0004  4.003661  5.030589  4.919722  5.125878  5.200742  2.538993   \n",
       "DLDR_0165  5.286333  5.689689  5.901682  5.827910  5.834420  1.225221   \n",
       "DLDR_0127  5.118729  5.592257  5.464008  5.446251  5.955723  0.897457   \n",
       "\n",
       "              340       351       406       469    ...     15501     15828  \\\n",
       "DLDR_0022  5.845657  5.444621  5.221772  6.469531  ...  3.735705  1.561293   \n",
       "DLDR_0016  5.735367  5.394124  5.403911  6.502406  ...  3.078076  1.531716   \n",
       "DLDR_0004  6.049955  5.583037  5.306224  6.467268  ...  3.697330  2.231420   \n",
       "DLDR_0165  6.994423  6.261908  6.098429  7.503492  ...  4.231154 -3.697611   \n",
       "DLDR_0127  6.472366  5.832644  5.859725  7.239886  ...  3.857711  0.766213   \n",
       "\n",
       "              15857     15977     16049     16112     16277     16419  \\\n",
       "DLDR_0022  6.821586 -0.425287  3.172973  1.999735  2.186148  3.883221   \n",
       "DLDR_0016  7.132365 -0.172299  2.725254  2.389205  2.373351  3.416537   \n",
       "DLDR_0004  6.847587  0.328096  3.209833  2.468026  2.921937  3.697330   \n",
       "DLDR_0165  8.110147 -5.282573  0.907251 -1.582134 -1.582134  2.543975   \n",
       "DLDR_0127  7.988758 -1.510628  1.231876  0.146485  1.777617  2.816839   \n",
       "\n",
       "              17074     17347  \n",
       "DLDR_0022  6.646771  3.811348  \n",
       "DLDR_0016  6.739625  3.447152  \n",
       "DLDR_0004  6.827647  3.707635  \n",
       "DLDR_0165  7.434889  5.282529  \n",
       "DLDR_0127  7.391864  4.626561  \n",
       "\n",
       "[5 rows x 300 columns]"
      ]
     },
     "execution_count": 254,
     "metadata": {},
     "output_type": "execute_result"
    }
   ],
   "source": [
    "df_deg_test.head()"
   ]
  },
  {
   "cell_type": "code",
   "execution_count": 255,
   "metadata": {},
   "outputs": [
    {
     "name": "stdout",
     "output_type": "stream",
     "text": [
      "0.8273809523809523\n",
      "0.8273809523809523\n"
     ]
    }
   ],
   "source": [
    "# Logistic Regression\n",
    "LR_model = LogisticRegression(solver='saga')\n",
    "LR_model.fit(df_deg, y_train['class'])\n",
    "\n",
    "y_pred_LR = LR_model.predict(df_deg_test)\n",
    "LR_precision = precision_score(y_test['class'], y_pred_LR, average='macro')\n",
    "LR_recall = recall_score(y_test['class'], y_pred_LR, average='macro')\n",
    "print(LR_precision)\n",
    "print(LR_recall)"
   ]
  },
  {
   "cell_type": "code",
   "execution_count": 256,
   "metadata": {},
   "outputs": [
    {
     "name": "stdout",
     "output_type": "stream",
     "text": [
      "0.8490909090909091\n",
      "0.8428571428571429\n"
     ]
    }
   ],
   "source": [
    "# Support Vector Machine\n",
    "SVM_model = SVC(kernel='linear', C=1)\n",
    "SVM_model.fit(df_deg, y_train['class'])\n",
    "\n",
    "y_pred_SVM = SVM_model.predict(df_deg_test)\n",
    "SVM_precision = precision_score(y_test['class'], y_pred_SVM, average='macro')\n",
    "SVM_recall = recall_score(y_test['class'], y_pred_SVM, average='macro')\n",
    "print(SVM_precision)\n",
    "print(SVM_recall)"
   ]
  },
  {
   "cell_type": "code",
   "execution_count": 261,
   "metadata": {},
   "outputs": [
    {
     "name": "stdout",
     "output_type": "stream",
     "text": [
      "0.8799283154121864\n",
      "0.8785714285714286\n"
     ]
    }
   ],
   "source": [
    "# Random Forest\n",
    "RF_model = RandomForestClassifier(random_state=10101)\n",
    "RF_model.fit(df_deg, y_train['class'])\n",
    "\n",
    "y_pred_RF = RF_model.predict(df_deg_test)\n",
    "RF_precision = precision_score(y_test['class'], y_pred_RF, average='macro')\n",
    "RF_recall = recall_score(y_test['class'], y_pred_RF, average='macro')\n",
    "print(RF_precision)\n",
    "print(RF_recall)"
   ]
  },
  {
   "cell_type": "code",
   "execution_count": 262,
   "metadata": {},
   "outputs": [
    {
     "name": "stdout",
     "output_type": "stream",
     "text": [
      "0.7138888888888889\n",
      "0.6833333333333333\n"
     ]
    }
   ],
   "source": [
    "# Multi Layer Perceptron\n",
    "MLP_model = MLPClassifier(hidden_layer_sizes=(100,), max_iter=300, activation='relu', solver='adam',random_state=10101)\n",
    "MLP_model.fit(df_deg, y_train['class'])\n",
    "\n",
    "y_pred_MLP = MLP_model.predict(df_deg_test)\n",
    "MLP_precision = precision_score(y_test['class'], y_pred_MLP, average='macro')\n",
    "MLP_recall = recall_score(y_test['class'], y_pred_MLP, average='macro')\n",
    "print(MLP_precision)\n",
    "print(MLP_recall)"
   ]
  },
  {
   "cell_type": "markdown",
   "metadata": {
    "id": "HNH6wAi9083k"
   },
   "source": [
    "## Second Machine"
   ]
  },
  {
   "cell_type": "code",
   "execution_count": 263,
   "metadata": {},
   "outputs": [],
   "source": [
    "subset_data2 = pd.read_csv('subset_data2.csv')"
   ]
  },
  {
   "cell_type": "code",
   "execution_count": 264,
   "metadata": {
    "colab": {
     "base_uri": "https://localhost:8080/",
     "height": 255
    },
    "id": "0NS_ZmYD1IfX",
    "outputId": "a1098a34-e4d2-4afe-ed08-4886df199367"
   },
   "outputs": [
    {
     "data": {
      "text/html": [
       "<div>\n",
       "<style scoped>\n",
       "    .dataframe tbody tr th:only-of-type {\n",
       "        vertical-align: middle;\n",
       "    }\n",
       "\n",
       "    .dataframe tbody tr th {\n",
       "        vertical-align: top;\n",
       "    }\n",
       "\n",
       "    .dataframe thead th {\n",
       "        text-align: right;\n",
       "    }\n",
       "</style>\n",
       "<table border=\"1\" class=\"dataframe\">\n",
       "  <thead>\n",
       "    <tr style=\"text-align: right;\">\n",
       "      <th></th>\n",
       "      <th>Unnamed: 0</th>\n",
       "      <th>DLDR_0081</th>\n",
       "      <th>DLDR_0130</th>\n",
       "      <th>DLDR_0079</th>\n",
       "      <th>DLDR_0131</th>\n",
       "      <th>DLDR_0135</th>\n",
       "      <th>DLDR_0095</th>\n",
       "      <th>DLDR_0097</th>\n",
       "      <th>DLDR_0086</th>\n",
       "      <th>DLDR_0149</th>\n",
       "      <th>...</th>\n",
       "      <th>DLDR_0166</th>\n",
       "      <th>DLDR_0089</th>\n",
       "      <th>DLDR_0141</th>\n",
       "      <th>DLDR_0111</th>\n",
       "      <th>DLDR_0136</th>\n",
       "      <th>DLDR_0134</th>\n",
       "      <th>DLDR_0175</th>\n",
       "      <th>DLDR_0087</th>\n",
       "      <th>DLDR_0155</th>\n",
       "      <th>DLDR_0092</th>\n",
       "    </tr>\n",
       "  </thead>\n",
       "  <tbody>\n",
       "    <tr>\n",
       "      <th>0</th>\n",
       "      <td>57</td>\n",
       "      <td>0.582165</td>\n",
       "      <td>-0.289488</td>\n",
       "      <td>-1.138550</td>\n",
       "      <td>-4.060128</td>\n",
       "      <td>-2.104255</td>\n",
       "      <td>0.018120</td>\n",
       "      <td>-0.056554</td>\n",
       "      <td>-1.903604</td>\n",
       "      <td>-1.742234</td>\n",
       "      <td>...</td>\n",
       "      <td>-1.954119</td>\n",
       "      <td>-0.631565</td>\n",
       "      <td>-4.286453</td>\n",
       "      <td>0.493507</td>\n",
       "      <td>-2.021838</td>\n",
       "      <td>-2.650924</td>\n",
       "      <td>-2.285986</td>\n",
       "      <td>-0.385647</td>\n",
       "      <td>-3.580073</td>\n",
       "      <td>0.317259</td>\n",
       "    </tr>\n",
       "    <tr>\n",
       "      <th>1</th>\n",
       "      <td>209</td>\n",
       "      <td>7.001222</td>\n",
       "      <td>7.205796</td>\n",
       "      <td>6.750193</td>\n",
       "      <td>7.459017</td>\n",
       "      <td>7.379157</td>\n",
       "      <td>7.114793</td>\n",
       "      <td>7.020261</td>\n",
       "      <td>7.433126</td>\n",
       "      <td>7.577028</td>\n",
       "      <td>...</td>\n",
       "      <td>7.233940</td>\n",
       "      <td>7.386481</td>\n",
       "      <td>7.616299</td>\n",
       "      <td>6.879088</td>\n",
       "      <td>7.280747</td>\n",
       "      <td>7.098946</td>\n",
       "      <td>7.339114</td>\n",
       "      <td>7.366168</td>\n",
       "      <td>7.612425</td>\n",
       "      <td>7.340979</td>\n",
       "    </tr>\n",
       "    <tr>\n",
       "      <th>2</th>\n",
       "      <td>232</td>\n",
       "      <td>7.169273</td>\n",
       "      <td>6.998994</td>\n",
       "      <td>7.278919</td>\n",
       "      <td>7.887874</td>\n",
       "      <td>7.723881</td>\n",
       "      <td>7.414587</td>\n",
       "      <td>7.020261</td>\n",
       "      <td>7.363651</td>\n",
       "      <td>7.612316</td>\n",
       "      <td>...</td>\n",
       "      <td>7.585871</td>\n",
       "      <td>6.621626</td>\n",
       "      <td>7.817818</td>\n",
       "      <td>7.058071</td>\n",
       "      <td>7.793088</td>\n",
       "      <td>7.454723</td>\n",
       "      <td>7.755217</td>\n",
       "      <td>7.485884</td>\n",
       "      <td>7.339038</td>\n",
       "      <td>6.906979</td>\n",
       "    </tr>\n",
       "    <tr>\n",
       "      <th>3</th>\n",
       "      <td>275</td>\n",
       "      <td>2.529697</td>\n",
       "      <td>1.467942</td>\n",
       "      <td>2.031375</td>\n",
       "      <td>2.048397</td>\n",
       "      <td>0.528013</td>\n",
       "      <td>1.130013</td>\n",
       "      <td>1.708980</td>\n",
       "      <td>0.418324</td>\n",
       "      <td>0.775615</td>\n",
       "      <td>...</td>\n",
       "      <td>1.777685</td>\n",
       "      <td>1.926431</td>\n",
       "      <td>1.644284</td>\n",
       "      <td>1.992313</td>\n",
       "      <td>0.504708</td>\n",
       "      <td>0.755069</td>\n",
       "      <td>1.083248</td>\n",
       "      <td>2.055951</td>\n",
       "      <td>1.374123</td>\n",
       "      <td>1.902221</td>\n",
       "    </tr>\n",
       "    <tr>\n",
       "      <th>4</th>\n",
       "      <td>297</td>\n",
       "      <td>7.759228</td>\n",
       "      <td>7.439405</td>\n",
       "      <td>7.481170</td>\n",
       "      <td>7.556880</td>\n",
       "      <td>8.322219</td>\n",
       "      <td>8.616473</td>\n",
       "      <td>8.950753</td>\n",
       "      <td>8.212480</td>\n",
       "      <td>7.661166</td>\n",
       "      <td>...</td>\n",
       "      <td>7.898745</td>\n",
       "      <td>7.797958</td>\n",
       "      <td>7.851498</td>\n",
       "      <td>8.601349</td>\n",
       "      <td>7.190977</td>\n",
       "      <td>7.577174</td>\n",
       "      <td>7.462766</td>\n",
       "      <td>8.581307</td>\n",
       "      <td>7.940709</td>\n",
       "      <td>8.730887</td>\n",
       "    </tr>\n",
       "  </tbody>\n",
       "</table>\n",
       "<p>5 rows × 91 columns</p>\n",
       "</div>"
      ],
      "text/plain": [
       "   Unnamed: 0  DLDR_0081  DLDR_0130  DLDR_0079  DLDR_0131  DLDR_0135  \\\n",
       "0          57   0.582165  -0.289488  -1.138550  -4.060128  -2.104255   \n",
       "1         209   7.001222   7.205796   6.750193   7.459017   7.379157   \n",
       "2         232   7.169273   6.998994   7.278919   7.887874   7.723881   \n",
       "3         275   2.529697   1.467942   2.031375   2.048397   0.528013   \n",
       "4         297   7.759228   7.439405   7.481170   7.556880   8.322219   \n",
       "\n",
       "   DLDR_0095  DLDR_0097  DLDR_0086  DLDR_0149  ...  DLDR_0166  DLDR_0089  \\\n",
       "0   0.018120  -0.056554  -1.903604  -1.742234  ...  -1.954119  -0.631565   \n",
       "1   7.114793   7.020261   7.433126   7.577028  ...   7.233940   7.386481   \n",
       "2   7.414587   7.020261   7.363651   7.612316  ...   7.585871   6.621626   \n",
       "3   1.130013   1.708980   0.418324   0.775615  ...   1.777685   1.926431   \n",
       "4   8.616473   8.950753   8.212480   7.661166  ...   7.898745   7.797958   \n",
       "\n",
       "   DLDR_0141  DLDR_0111  DLDR_0136  DLDR_0134  DLDR_0175  DLDR_0087  \\\n",
       "0  -4.286453   0.493507  -2.021838  -2.650924  -2.285986  -0.385647   \n",
       "1   7.616299   6.879088   7.280747   7.098946   7.339114   7.366168   \n",
       "2   7.817818   7.058071   7.793088   7.454723   7.755217   7.485884   \n",
       "3   1.644284   1.992313   0.504708   0.755069   1.083248   2.055951   \n",
       "4   7.851498   8.601349   7.190977   7.577174   7.462766   8.581307   \n",
       "\n",
       "   DLDR_0155  DLDR_0092  \n",
       "0  -3.580073   0.317259  \n",
       "1   7.612425   7.340979  \n",
       "2   7.339038   6.906979  \n",
       "3   1.374123   1.902221  \n",
       "4   7.940709   8.730887  \n",
       "\n",
       "[5 rows x 91 columns]"
      ]
     },
     "execution_count": 264,
     "metadata": {},
     "output_type": "execute_result"
    }
   ],
   "source": [
    "subset_data2.head()"
   ]
  },
  {
   "cell_type": "code",
   "execution_count": 265,
   "metadata": {
    "colab": {
     "base_uri": "https://localhost:8080/"
    },
    "id": "YAl-Du_n1QDp",
    "outputId": "34f83574-538e-418c-84fe-8dd13070c626"
   },
   "outputs": [
    {
     "data": {
      "text/plain": [
       "(300, 91)"
      ]
     },
     "execution_count": 265,
     "metadata": {},
     "output_type": "execute_result"
    }
   ],
   "source": [
    "subset_data2.shape"
   ]
  },
  {
   "cell_type": "code",
   "execution_count": 266,
   "metadata": {},
   "outputs": [],
   "source": [
    "meta_data2 = pd.read_csv('meta_data2.csv')"
   ]
  },
  {
   "cell_type": "code",
   "execution_count": 267,
   "metadata": {},
   "outputs": [
    {
     "data": {
      "text/html": [
       "<div>\n",
       "<style scoped>\n",
       "    .dataframe tbody tr th:only-of-type {\n",
       "        vertical-align: middle;\n",
       "    }\n",
       "\n",
       "    .dataframe tbody tr th {\n",
       "        vertical-align: top;\n",
       "    }\n",
       "\n",
       "    .dataframe thead th {\n",
       "        text-align: right;\n",
       "    }\n",
       "</style>\n",
       "<table border=\"1\" class=\"dataframe\">\n",
       "  <thead>\n",
       "    <tr style=\"text-align: right;\">\n",
       "      <th></th>\n",
       "      <th>Unnamed: 0</th>\n",
       "      <th>Simplified_class</th>\n",
       "      <th>class</th>\n",
       "    </tr>\n",
       "  </thead>\n",
       "  <tbody>\n",
       "    <tr>\n",
       "      <th>0</th>\n",
       "      <td>2</td>\n",
       "      <td>Advanced_fibrosis</td>\n",
       "      <td>Fibrosis</td>\n",
       "    </tr>\n",
       "    <tr>\n",
       "      <th>1</th>\n",
       "      <td>5</td>\n",
       "      <td>Non_advanced_Fibrosis</td>\n",
       "      <td>Fibrosis</td>\n",
       "    </tr>\n",
       "    <tr>\n",
       "      <th>2</th>\n",
       "      <td>7</td>\n",
       "      <td>Advanced_fibrosis</td>\n",
       "      <td>Fibrosis</td>\n",
       "    </tr>\n",
       "    <tr>\n",
       "      <th>3</th>\n",
       "      <td>8</td>\n",
       "      <td>Non_advanced_Fibrosis</td>\n",
       "      <td>Fibrosis</td>\n",
       "    </tr>\n",
       "    <tr>\n",
       "      <th>4</th>\n",
       "      <td>9</td>\n",
       "      <td>Non_advanced_Fibrosis</td>\n",
       "      <td>Fibrosis</td>\n",
       "    </tr>\n",
       "  </tbody>\n",
       "</table>\n",
       "</div>"
      ],
      "text/plain": [
       "   Unnamed: 0       Simplified_class     class\n",
       "0           2      Advanced_fibrosis  Fibrosis\n",
       "1           5  Non_advanced_Fibrosis  Fibrosis\n",
       "2           7      Advanced_fibrosis  Fibrosis\n",
       "3           8  Non_advanced_Fibrosis  Fibrosis\n",
       "4           9  Non_advanced_Fibrosis  Fibrosis"
      ]
     },
     "execution_count": 267,
     "metadata": {},
     "output_type": "execute_result"
    }
   ],
   "source": [
    "meta_data2.head()"
   ]
  },
  {
   "cell_type": "code",
   "execution_count": 268,
   "metadata": {
    "colab": {
     "base_uri": "https://localhost:8080/",
     "height": 206
    },
    "id": "jKUZmPaA1Z9R",
    "outputId": "08c22e51-4d10-42be-90b8-3bde59ca45d7"
   },
   "outputs": [
    {
     "data": {
      "text/plain": [
       "(90, 3)"
      ]
     },
     "execution_count": 268,
     "metadata": {},
     "output_type": "execute_result"
    }
   ],
   "source": [
    "meta_data2.shape"
   ]
  },
  {
   "cell_type": "code",
   "execution_count": 269,
   "metadata": {
    "colab": {
     "base_uri": "https://localhost:8080/"
    },
    "id": "YYNZTXJ83jn5",
    "outputId": "a7c4e561-5a5e-4515-b58b-6a80c0f3e250"
   },
   "outputs": [
    {
     "name": "stdout",
     "output_type": "stream",
     "text": [
      "52\n",
      "38\n"
     ]
    }
   ],
   "source": [
    "print(meta_data2['Simplified_class'].to_list().count(\"Advanced_fibrosis\"))\n",
    "print(meta_data2['Simplified_class'].to_list().count(\"Non_advanced_Fibrosis\"))"
   ]
  },
  {
   "cell_type": "code",
   "execution_count": 270,
   "metadata": {},
   "outputs": [],
   "source": [
    "selected_genes_R = subset_data2.T.iloc[0,:].to_list()"
   ]
  },
  {
   "cell_type": "code",
   "execution_count": 271,
   "metadata": {},
   "outputs": [],
   "source": [
    "selected_genes_Python = [int(i-1) for i in selected_genes_R ]"
   ]
  },
  {
   "cell_type": "code",
   "execution_count": 272,
   "metadata": {},
   "outputs": [
    {
     "data": {
      "text/plain": [
       "[56, 208, 231, 274, 296, 389, 445, 447, 503, 524]"
      ]
     },
     "execution_count": 272,
     "metadata": {},
     "output_type": "execute_result"
    }
   ],
   "source": [
    "selected_genes_Python[:10]"
   ]
  },
  {
   "cell_type": "code",
   "execution_count": 273,
   "metadata": {},
   "outputs": [
    {
     "data": {
      "text/plain": [
       "300"
      ]
     },
     "execution_count": 273,
     "metadata": {},
     "output_type": "execute_result"
    }
   ],
   "source": [
    "len(selected_genes_Python)"
   ]
  },
  {
   "cell_type": "code",
   "execution_count": 274,
   "metadata": {},
   "outputs": [],
   "source": [
    "X_test_reset = X_test.reset_index(drop=True)\n",
    "y_test_reset = y_test.reset_index(drop=True)\n",
    "X_not_normal = X_test_reset[y_pred_LR != 'Normal']\n",
    "y_not_normal = y_test_reset[y_pred_LR != 'Normal']"
   ]
  },
  {
   "cell_type": "code",
   "execution_count": 275,
   "metadata": {},
   "outputs": [],
   "source": [
    "df_deg = subset_data2.iloc[0:,1:].T\n",
    "df_deg_test = X_not_normal[selected_genes_Python]"
   ]
  },
  {
   "cell_type": "code",
   "execution_count": 276,
   "metadata": {},
   "outputs": [],
   "source": [
    "y_train2 = y_train[y_train['Simplified_class'] != 'Normal']"
   ]
  },
  {
   "cell_type": "code",
   "execution_count": 277,
   "metadata": {},
   "outputs": [
    {
     "name": "stdout",
     "output_type": "stream",
     "text": [
      "0.5\n",
      "0.6058201058201058\n"
     ]
    }
   ],
   "source": [
    "# Logistic Regression\n",
    "LR_model = LogisticRegression(solver='saga')\n",
    "LR_model.fit(df_deg, y_train2['Simplified_class'])\n",
    "\n",
    "y_pred_LR2 = LR_model.predict(df_deg_test)\n",
    "LR_precision = precision_score(y_not_normal['Simplified_class'], y_pred_LR2, average='macro')\n",
    "LR_recall = recall_score(y_not_normal['Simplified_class'], y_pred_LR2, average='macro')\n",
    "print(LR_precision)\n",
    "print(LR_recall)"
   ]
  },
  {
   "cell_type": "code",
   "execution_count": 278,
   "metadata": {},
   "outputs": [],
   "source": [
    "y_pred_LR[y_pred_LR == 'Fibrosis'] = y_pred_LR2"
   ]
  },
  {
   "cell_type": "code",
   "execution_count": 279,
   "metadata": {},
   "outputs": [
    {
     "name": "stdout",
     "output_type": "stream",
     "text": [
      "0.7777777777777778\n",
      "0.7717948717948718\n"
     ]
    }
   ],
   "source": [
    "LR_precision = precision_score(y_test['Simplified_class'], y_pred_LR, average='macro')\n",
    "LR_recall = recall_score(y_test['Simplified_class'], y_pred_LR, average='macro')\n",
    "print(LR_precision)\n",
    "print(LR_recall)"
   ]
  },
  {
   "cell_type": "code",
   "execution_count": 280,
   "metadata": {},
   "outputs": [],
   "source": [
    "X_test_reset = X_test.reset_index(drop=True)\n",
    "y_test_reset = y_test.reset_index(drop=True)\n",
    "X_not_normal = X_test_reset[y_pred_SVM != 'Normal']\n",
    "y_not_normal = y_test_reset[y_pred_SVM != 'Normal']\n",
    "df_deg = subset_data2.iloc[0:,1:].T\n",
    "df_deg_test = X_not_normal[selected_genes_Python]\n",
    "y_train2 = y_train[y_train['Simplified_class'] != 'Normal']"
   ]
  },
  {
   "cell_type": "code",
   "execution_count": 281,
   "metadata": {},
   "outputs": [
    {
     "name": "stdout",
     "output_type": "stream",
     "text": [
      "0.4632034632034632\n",
      "0.527065527065527\n"
     ]
    }
   ],
   "source": [
    "# Support Vector Machine\n",
    "SVM_model = SVC(kernel='linear', C=1)\n",
    "SVM_model.fit(df_deg, y_train2['Simplified_class'])\n",
    "\n",
    "y_pred_SVM2 = SVM_model.predict(df_deg_test)\n",
    "SVM_precision = precision_score(y_not_normal['Simplified_class'], y_pred_SVM2, average='macro')\n",
    "SVM_recall = recall_score(y_not_normal['Simplified_class'], y_pred_SVM2, average='macro')\n",
    "print(SVM_precision)\n",
    "print(SVM_recall)"
   ]
  },
  {
   "cell_type": "code",
   "execution_count": 282,
   "metadata": {},
   "outputs": [],
   "source": [
    "y_pred_SVM[y_pred_SVM == 'Fibrosis'] = y_pred_SVM2"
   ]
  },
  {
   "cell_type": "code",
   "execution_count": 283,
   "metadata": {},
   "outputs": [
    {
     "name": "stdout",
     "output_type": "stream",
     "text": [
      "0.735930735930736\n",
      "0.7051282051282052\n"
     ]
    }
   ],
   "source": [
    "SVM_precision = precision_score(y_test['Simplified_class'], y_pred_SVM, average='macro')\n",
    "SVM_recall = recall_score(y_test['Simplified_class'], y_pred_SVM, average='macro')\n",
    "print(SVM_precision)\n",
    "print(SVM_recall)"
   ]
  },
  {
   "cell_type": "code",
   "execution_count": 284,
   "metadata": {},
   "outputs": [],
   "source": [
    "X_test_reset = X_test.reset_index(drop=True)\n",
    "y_test_reset = y_test.reset_index(drop=True)\n",
    "X_not_normal = X_test_reset[y_pred_RF != 'Normal']\n",
    "y_not_normal = y_test_reset[y_pred_RF != 'Normal']\n",
    "df_deg = subset_data2.iloc[0:,1:].T\n",
    "df_deg_test = X_not_normal[selected_genes_Python]\n",
    "y_train2 = y_train[y_train['Simplified_class'] != 'Normal']"
   ]
  },
  {
   "cell_type": "code",
   "execution_count": 285,
   "metadata": {},
   "outputs": [
    {
     "name": "stdout",
     "output_type": "stream",
     "text": [
      "0.5146520146520147\n",
      "0.5851851851851851\n"
     ]
    }
   ],
   "source": [
    "# Random Forest\n",
    "RF_model = RandomForestClassifier(random_state=10101)\n",
    "RF_model.fit(df_deg, y_train2['Simplified_class'])\n",
    "\n",
    "y_pred_RF2 = RF_model.predict(df_deg_test)\n",
    "RF_precision = precision_score(y_not_normal['Simplified_class'], y_pred_RF2, average='macro')\n",
    "RF_recall = recall_score(y_not_normal['Simplified_class'], y_pred_RF2, average='macro')\n",
    "print(RF_precision)\n",
    "print(RF_recall)"
   ]
  },
  {
   "cell_type": "code",
   "execution_count": 286,
   "metadata": {},
   "outputs": [],
   "source": [
    "y_pred_RF[y_pred_RF == 'Fibrosis'] = y_pred_RF2"
   ]
  },
  {
   "cell_type": "code",
   "execution_count": 287,
   "metadata": {},
   "outputs": [
    {
     "name": "stdout",
     "output_type": "stream",
     "text": [
      "0.804974595297176\n",
      "0.794017094017094\n"
     ]
    }
   ],
   "source": [
    "RF_precision = precision_score(y_test['Simplified_class'], y_pred_RF, average='macro')\n",
    "RF_recall = recall_score(y_test['Simplified_class'], y_pred_RF, average='macro')\n",
    "print(RF_precision)\n",
    "print(RF_recall)"
   ]
  },
  {
   "cell_type": "code",
   "execution_count": 288,
   "metadata": {},
   "outputs": [],
   "source": [
    "X_test_reset = X_test.reset_index(drop=True)\n",
    "y_test_reset = y_test.reset_index(drop=True)\n",
    "X_not_normal = X_test_reset[y_pred_MLP != 'Normal']\n",
    "y_not_normal = y_test_reset[y_pred_MLP != 'Normal']\n",
    "df_deg = subset_data2.iloc[0:,1:].T\n",
    "df_deg_test = X_not_normal[selected_genes_Python]\n",
    "y_train2 = y_train[y_train['Simplified_class'] != 'Normal']"
   ]
  },
  {
   "cell_type": "code",
   "execution_count": 289,
   "metadata": {},
   "outputs": [
    {
     "name": "stdout",
     "output_type": "stream",
     "text": [
      "0.45\n",
      "0.5714285714285714\n"
     ]
    }
   ],
   "source": [
    "# Multi Layer Perceptron\n",
    "MLP_model = MLPClassifier(hidden_layer_sizes=(100,), max_iter=300, activation='relu', solver='adam', random_state=10101)\n",
    "MLP_model.fit(df_deg, y_train2['Simplified_class'])\n",
    "\n",
    "y_pred_MLP2 = MLP_model.predict(df_deg_test)\n",
    "MLP_precision = precision_score(y_not_normal['Simplified_class'], y_pred_MLP2, average='macro')\n",
    "MLP_recall = recall_score(y_not_normal['Simplified_class'], y_pred_MLP2, average='macro')\n",
    "print(MLP_precision)\n",
    "print(MLP_recall)"
   ]
  },
  {
   "cell_type": "code",
   "execution_count": 290,
   "metadata": {},
   "outputs": [],
   "source": [
    "y_pred_MLP[y_pred_MLP == 'Fibrosis'] = y_pred_MLP2"
   ]
  },
  {
   "cell_type": "code",
   "execution_count": 291,
   "metadata": {},
   "outputs": [
    {
     "name": "stdout",
     "output_type": "stream",
     "text": [
      "0.13\n",
      "0.17333333333333334\n"
     ]
    }
   ],
   "source": [
    "MLP_precision = precision_score(y_test['Simplified_class'], y_pred_MLP, average='macro')\n",
    "MLP_recall = recall_score(y_test['Simplified_class'], y_pred_MLP, average='macro')\n",
    "print(MLP_precision)\n",
    "print(MLP_recall)"
   ]
  },
  {
   "cell_type": "code",
   "execution_count": 309,
   "metadata": {},
   "outputs": [
    {
     "name": "stdout",
     "output_type": "stream",
     "text": [
      "iteration 0\n",
      "iteration 1\n",
      "iteration 2\n",
      "iteration 3\n",
      "iteration 4\n",
      "iteration 5\n",
      "iteration 6\n",
      "iteration 7\n",
      "iteration 8\n",
      "iteration 9\n",
      "iteration 10\n",
      "iteration 11\n",
      "iteration 12\n",
      "iteration 13\n",
      "iteration 14\n",
      "iteration 15\n",
      "iteration 16\n",
      "iteration 17\n",
      "iteration 18\n",
      "iteration 19\n",
      "iteration 20\n",
      "iteration 21\n",
      "iteration 22\n",
      "iteration 23\n",
      "iteration 24\n",
      "iteration 25\n",
      "iteration 26\n",
      "iteration 27\n",
      "iteration 28\n",
      "iteration 29\n",
      "iteration 30\n",
      "iteration 31\n",
      "iteration 32\n",
      "iteration 33\n",
      "iteration 34\n",
      "iteration 35\n",
      "iteration 36\n",
      "iteration 37\n",
      "iteration 38\n",
      "iteration 39\n",
      "iteration 40\n",
      "iteration 41\n",
      "iteration 42\n",
      "iteration 43\n",
      "iteration 44\n",
      "iteration 45\n",
      "iteration 46\n",
      "iteration 47\n",
      "iteration 48\n",
      "iteration 49\n",
      "iteration 50\n",
      "iteration 51\n",
      "iteration 52\n",
      "iteration 53\n",
      "iteration 54\n",
      "iteration 55\n",
      "iteration 56\n",
      "iteration 57\n",
      "iteration 58\n",
      "iteration 59\n",
      "iteration 60\n",
      "iteration 61\n",
      "iteration 62\n",
      "iteration 63\n",
      "iteration 64\n",
      "iteration 65\n",
      "iteration 66\n",
      "iteration 67\n",
      "iteration 68\n",
      "iteration 69\n",
      "iteration 70\n",
      "iteration 71\n",
      "iteration 72\n",
      "iteration 73\n",
      "iteration 74\n",
      "iteration 75\n",
      "iteration 76\n",
      "iteration 77\n",
      "iteration 78\n",
      "iteration 79\n",
      "iteration 80\n",
      "iteration 81\n",
      "iteration 82\n",
      "iteration 83\n",
      "iteration 84\n",
      "iteration 85\n",
      "iteration 86\n",
      "iteration 87\n",
      "iteration 88\n",
      "iteration 89\n",
      "iteration 90\n",
      "iteration 91\n",
      "iteration 92\n",
      "iteration 93\n",
      "iteration 94\n",
      "iteration 95\n",
      "iteration 96\n",
      "iteration 97\n",
      "iteration 98\n",
      "iteration 99\n"
     ]
    }
   ],
   "source": [
    "import subprocess\n",
    "\n",
    "# Load Data\n",
    "normal_counts = pd.read_csv('Normal.counts.voom.csv')\n",
    "meta_data = pd.read_csv('meta_data.csv')\n",
    "\n",
    "def determine_class(row):\n",
    "    if row['Simplified_class'] == 'Normal':\n",
    "        return \"Normal\"\n",
    "    else:\n",
    "        return \"Fibrosis\"\n",
    "meta_data['class'] = meta_data.apply(determine_class, axis=1)\n",
    "meta_data = pd.DataFrame(meta_data)\n",
    "\n",
    "\n",
    "n_iterations = 300\n",
    "test_size = 0.3\n",
    "\n",
    "LR_precisions = []\n",
    "LR_recalls = []\n",
    "LR_precisions2 = []\n",
    "LR_recalls2 = []\n",
    "LR_precisions3 = []\n",
    "LR_recalls3 = []\n",
    "\n",
    "SVM_precisions = []\n",
    "SVM_recalls = []\n",
    "SVM_precisions2 = []\n",
    "SVM_recalls2 = []\n",
    "SVM_precisions3 = []\n",
    "SVM_recalls3 = []\n",
    "\n",
    "RF_precisions = []\n",
    "RF_recalls = []\n",
    "RF_precisions2 = []\n",
    "RF_recalls2 = []\n",
    "RF_precisions3 = []\n",
    "RF_recalls3 = []\n",
    "\n",
    "MLP_precisions = []\n",
    "MLP_recalls = []\n",
    "MLP_precisions2 = []\n",
    "MLP_recalls2 = []\n",
    "MLP_precisions3 = []\n",
    "MLP_recalls3 = []\n",
    "\n",
    "for i in range(100):\n",
    "    print('iteration',i)\n",
    "    X_train, X_test, y_train, y_test = train_test_split(normal_counts.iloc[0:,1:].T, meta_data[['Simplified_class', 'class']], test_size=0.3, random_state = i)\n",
    "    X_train.T.to_csv('train_normal_counts.csv', index=False)\n",
    "    y_train.to_csv('train_meta_data.csv', index=False)\n",
    "\n",
    "    r_script_path = r\"q3r.R\"\n",
    "    rscript_path = r\"C:\\Program Files\\R\\R-4.2.1\\bin\\Rscript.exe\"\n",
    "    # Execute the R script\n",
    "    try:\n",
    "    \tsubprocess.run([rscript_path, r_script_path], capture_output=True, text=True)\n",
    "    except subprocess.CalledProcessError as e:\n",
    "    \tprint(f\"Error executing R script: {e}\")\n",
    "\n",
    "\n",
    "    # Machine 1\n",
    "    subset_data1 = pd.read_csv('subset_data1.csv')\n",
    "    meta_data1 = pd.read_csv('meta_data1.csv')\n",
    "    selected_genes_R = subset_data1.T.iloc[0,:].to_list()\n",
    "    selected_genes_Python = [int(i-1) for i in selected_genes_R ]\n",
    "    df_deg = subset_data1.iloc[0:,1:].T\n",
    "    df_deg_test = X_test[selected_genes_Python]\n",
    "\n",
    "    # Logistic Regression\n",
    "    LR_model = LogisticRegression(solver='saga')\n",
    "    LR_model.fit(df_deg, y_train['class'])\n",
    "    y_pred_LR = LR_model.predict(df_deg_test)\n",
    "    LR_precision = precision_score(y_test['class'], y_pred_LR, average='macro')\n",
    "    LR_recall = recall_score(y_test['class'], y_pred_LR, average='macro')\n",
    "    LR_precisions.append(LR_precision)\n",
    "    LR_recalls.append(LR_recall)\n",
    "\n",
    "    # Support Vector Machine\n",
    "    SVM_model = SVC(kernel='linear', C=1)\n",
    "    SVM_model.fit(df_deg, y_train['class'])\n",
    "    y_pred_SVM = SVM_model.predict(df_deg_test)\n",
    "    SVM_precision = precision_score(y_test['class'], y_pred_SVM, average='macro')\n",
    "    SVM_recall = recall_score(y_test['class'], y_pred_SVM, average='macro')\n",
    "    SVM_precisions.append(SVM_precision)\n",
    "    SVM_recalls.append(SVM_recall)\n",
    "\n",
    "    # Random Forest\n",
    "    RF_model = RandomForestClassifier(random_state=i)\n",
    "    RF_model.fit(df_deg, y_train['class'])\n",
    "    y_pred_RF = RF_model.predict(df_deg_test)\n",
    "    RF_precision = precision_score(y_test['class'], y_pred_RF, average='macro')\n",
    "    RF_recall = recall_score(y_test['class'], y_pred_RF, average='macro')\n",
    "    RF_precisions.append(RF_precision)\n",
    "    RF_recalls.append(RF_recall)\n",
    "\n",
    "    # Multi Layer Perceptron\n",
    "    MLP_model = MLPClassifier(hidden_layer_sizes=(100,), max_iter=300, activation='relu', solver='adam',random_state=i)\n",
    "    MLP_model.fit(df_deg, y_train['class'])\n",
    "    y_pred_MLP = MLP_model.predict(df_deg_test)\n",
    "    MLP_precision = precision_score(y_test['class'], y_pred_MLP, average='macro')\n",
    "    MLP_recall = recall_score(y_test['class'], y_pred_MLP, average='macro')\n",
    "    MLP_precisions.append(MLP_precision)\n",
    "    MLP_recalls.append(MLP_recall)\n",
    "\n",
    "\n",
    "\n",
    "    # Machine 2\n",
    "    subset_data2 = pd.read_csv('subset_data2.csv')\n",
    "    meta_data2 = pd.read_csv('meta_data2.csv')\n",
    "\n",
    "    selected_genes_R = subset_data2.T.iloc[0,:].to_list()\n",
    "    selected_genes_Python = [int(i-1) for i in selected_genes_R ]\n",
    "\n",
    "\n",
    "    X_test_reset = X_test.reset_index(drop=True)\n",
    "    y_test_reset = y_test.reset_index(drop=True)\n",
    "    X_not_normal = X_test_reset[y_pred_LR != 'Normal']\n",
    "    y_not_normal = y_test_reset[y_pred_LR != 'Normal']\n",
    "    df_deg = subset_data2.iloc[0:,1:].T\n",
    "    df_deg_test = X_not_normal[selected_genes_Python]\n",
    "    y_train2 = y_train[y_train['Simplified_class'] != 'Normal']\n",
    "    \n",
    "    # Logistic Regression\n",
    "    LR_model = LogisticRegression(solver='saga')\n",
    "    LR_model.fit(df_deg, y_train2['Simplified_class'])\n",
    "    y_pred_LR2 = LR_model.predict(df_deg_test)\n",
    "    LR_precision = precision_score(y_not_normal['Simplified_class'], y_pred_LR2, average='macro')\n",
    "    LR_recall = recall_score(y_not_normal['Simplified_class'], y_pred_LR2, average='macro')\n",
    "    LR_precisions2.append(LR_precision)\n",
    "    LR_recalls2.append(LR_recall)\n",
    "\n",
    "    y_pred_LR[y_pred_LR == 'Fibrosis'] = y_pred_LR2\n",
    "    LR_precision = precision_score(y_test['Simplified_class'], y_pred_LR, average='macro')\n",
    "    LR_recall = recall_score(y_test['Simplified_class'], y_pred_LR, average='macro')\n",
    "    LR_precisions3.append(LR_precision)\n",
    "    LR_recalls3.append(LR_recall)\n",
    "\n",
    "\n",
    "\n",
    "    X_test_reset = X_test.reset_index(drop=True)\n",
    "    y_test_reset = y_test.reset_index(drop=True)\n",
    "    X_not_normal = X_test_reset[y_pred_SVM != 'Normal']\n",
    "    y_not_normal = y_test_reset[y_pred_SVM != 'Normal']\n",
    "    df_deg = subset_data2.iloc[0:,1:].T\n",
    "    df_deg_test = X_not_normal[selected_genes_Python]\n",
    "    y_train2 = y_train[y_train['Simplified_class'] != 'Normal']\n",
    "    \n",
    "    # Support Vector Machine\n",
    "    SVM_model = SVC(kernel='linear', C=1)\n",
    "    SVM_model.fit(df_deg, y_train2['Simplified_class'])\n",
    "    y_pred_SVM2 = SVM_model.predict(df_deg_test)\n",
    "    SVM_precision = precision_score(y_not_normal['Simplified_class'], y_pred_SVM2, average='macro')\n",
    "    SVM_recall = recall_score(y_not_normal['Simplified_class'], y_pred_SVM2, average='macro')\n",
    "    SVM_precisions2.append(SVM_precision)\n",
    "    SVM_recalls2.append(SVM_recall)\n",
    "\n",
    "    y_pred_SVM[y_pred_SVM == 'Fibrosis'] = y_pred_SVM2\n",
    "    SVM_precision = precision_score(y_test['Simplified_class'], y_pred_SVM, average='macro')\n",
    "    SVM_recall = recall_score(y_test['Simplified_class'], y_pred_SVM, average='macro')\n",
    "    SVM_precisions3.append(SVM_precision)\n",
    "    SVM_recalls3.append(SVM_recall)\n",
    "\n",
    "\n",
    "\n",
    "\n",
    "    X_test_reset = X_test.reset_index(drop=True)\n",
    "    y_test_reset = y_test.reset_index(drop=True)\n",
    "    X_not_normal = X_test_reset[y_pred_RF != 'Normal']\n",
    "    y_not_normal = y_test_reset[y_pred_RF != 'Normal']\n",
    "    df_deg = subset_data2.iloc[0:,1:].T\n",
    "    df_deg_test = X_not_normal[selected_genes_Python]\n",
    "    y_train2 = y_train[y_train['Simplified_class'] != 'Normal']\n",
    "    \n",
    "    # Random Forest\n",
    "    RF_model = RandomForestClassifier(random_state=i)\n",
    "    RF_model.fit(df_deg, y_train2['Simplified_class'])\n",
    "    y_pred_RF2 = RF_model.predict(df_deg_test)\n",
    "    RF_precision = precision_score(y_not_normal['Simplified_class'], y_pred_RF2, average='macro')\n",
    "    RF_recall = recall_score(y_not_normal['Simplified_class'], y_pred_RF2, average='macro')\n",
    "    RF_precisions2.append(RF_precision)\n",
    "    RF_recalls2.append(RF_recall)\n",
    "\n",
    "    y_pred_RF[y_pred_RF == 'Fibrosis'] = y_pred_RF2\n",
    "    RF_precision = precision_score(y_test['Simplified_class'], y_pred_RF, average='macro')\n",
    "    RF_recall = recall_score(y_test['Simplified_class'], y_pred_RF, average='macro')\n",
    "    RF_precisions3.append(RF_precision)\n",
    "    RF_recalls3.append(RF_recall)\n",
    "\n",
    "\n",
    "\n",
    "\n",
    "\n",
    "    X_test_reset = X_test.reset_index(drop=True)\n",
    "    y_test_reset = y_test.reset_index(drop=True)\n",
    "    X_not_normal = X_test_reset[y_pred_MLP != 'Normal']\n",
    "    y_not_normal = y_test_reset[y_pred_MLP != 'Normal']\n",
    "    df_deg = subset_data2.iloc[0:,1:].T\n",
    "    df_deg_test = X_not_normal[selected_genes_Python]\n",
    "    y_train2 = y_train[y_train['Simplified_class'] != 'Normal']\n",
    "    \n",
    "    # Multi Layer Perceptron\n",
    "    MLP_model = MLPClassifier(hidden_layer_sizes=(100,), max_iter=300, activation='relu', solver='adam', random_state=i)\n",
    "    MLP_model.fit(df_deg, y_train2['Simplified_class'])\n",
    "    y_pred_MLP2 = MLP_model.predict(df_deg_test)\n",
    "    MLP_precision = precision_score(y_not_normal['Simplified_class'], y_pred_MLP2, average='macro')\n",
    "    MLP_recall = recall_score(y_not_normal['Simplified_class'], y_pred_MLP2, average='macro')\n",
    "    MLP_precisions2.append(MLP_precision)\n",
    "    MLP_recalls2.append(MLP_recall)\n",
    "\n",
    "    y_pred_MLP[y_pred_MLP == 'Fibrosis'] = y_pred_MLP2\n",
    "    MLP_precision = precision_score(y_test['Simplified_class'], y_pred_MLP, average='macro')\n",
    "    MLP_recall = recall_score(y_test['Simplified_class'], y_pred_MLP, average='macro')\n",
    "    MLP_precisions3.append(MLP_precision)\n",
    "    MLP_recalls3.append(MLP_recall)\n",
    "\n"
   ]
  },
  {
   "cell_type": "code",
   "execution_count": 313,
   "metadata": {},
   "outputs": [],
   "source": [
    "def Evaluation(LR_precisions,LR_recalls,SVM_precisions,SVM_recalls,RF_precisions,RF_recalls,MLP_precisions,MLP_recalls):\n",
    "\n",
    "  LR_mean_precision = np.mean(LR_precisions)\n",
    "  LR_mean_recall = np.mean(LR_recalls)\n",
    "  LR_precision_conf_interval = np.percentile(LR_precisions, [2.5, 97.5])\n",
    "  LR_recall_conf_interval = np.percentile(LR_recalls, [2.5, 97.5])\n",
    "  print(f'Mean Precision for Logistic Regression: {LR_mean_precision}, 95% CI: {LR_precision_conf_interval}')\n",
    "  print(f'Mean Recall for Logistic Regression: {LR_mean_recall}, 95% CI: {LR_recall_conf_interval}')\n",
    "  print(\"-------------------------------------------------------------------------------------------------\")\n",
    "\n",
    "  SVM_mean_precision = np.mean(SVM_precisions)\n",
    "  SVM_mean_recall = np.mean(SVM_recalls)\n",
    "  SVM_precision_conf_interval = np.percentile(SVM_precisions, [2.5, 97.5])\n",
    "  SVM_recall_conf_interval = np.percentile(SVM_recalls, [2.5, 97.5])\n",
    "  print(f'Mean Precision for Support Vector Machine: {SVM_mean_precision}, 95% CI: {SVM_precision_conf_interval}')\n",
    "  print(f'Mean Recall for Support Vector Machine: {SVM_mean_recall}, 95% CI: {SVM_recall_conf_interval}')\n",
    "  print(\"-------------------------------------------------------------------------------------------------\")\n",
    "\n",
    "  RF_mean_precision = np.mean(RF_precisions)\n",
    "  RF_mean_recall = np.mean(RF_recalls)\n",
    "  RF_precision_conf_interval = np.percentile(RF_precisions, [2.5, 97.5])\n",
    "  RF_recall_conf_interval = np.percentile(RF_recalls, [2.5, 97.5])\n",
    "  print(f'Mean Precision for Random Forest: {RF_mean_precision}, 95% CI: {RF_precision_conf_interval}')\n",
    "  print(f'Mean Recall for Random Forest: {RF_mean_recall}, 95% CI: {RF_recall_conf_interval}')\n",
    "  print(\"-------------------------------------------------------------------------------------------------\")\n",
    "\n",
    "  MLP_mean_precision = np.mean(MLP_precisions)\n",
    "  MLP_mean_recall = np.mean(MLP_recalls)\n",
    "  MLP_precision_conf_interval = np.percentile(MLP_precisions, [2.5, 97.5])\n",
    "  MLP_recall_conf_interval = np.percentile(MLP_recalls, [2.5, 97.5])\n",
    "  print(f'Mean Precision for Multi Layer Perceptron: {MLP_mean_precision}, 95% CI: {MLP_precision_conf_interval}')\n",
    "  print(f'Mean Recall for Multi Layer Perceptron: {MLP_mean_recall}, 95% CI: {MLP_recall_conf_interval}')\n",
    "\n",
    "  model_results = {\n",
    "      'RandomForest': {\n",
    "          'mean_precision': RF_mean_precision,\n",
    "          'precision_ci': RF_precision_conf_interval,\n",
    "          'mean_recall': RF_mean_recall,\n",
    "          'recall_ci': RF_precision_conf_interval\n",
    "      },\n",
    "      'SVM': {\n",
    "          'mean_precision': SVM_mean_precision,\n",
    "          'precision_ci': SVM_precision_conf_interval,\n",
    "          'mean_recall': SVM_mean_recall,\n",
    "          'recall_ci': SVM_precision_conf_interval\n",
    "      },\n",
    "          'LogisticRegression': {\n",
    "          'mean_precision': LR_mean_precision,\n",
    "          'precision_ci': LR_precision_conf_interval,\n",
    "          'mean_recall': LR_mean_recall,\n",
    "          'recall_ci': LR_precision_conf_interval\n",
    "      },\n",
    "      'MLP': {\n",
    "          'mean_precision': MLP_mean_precision,\n",
    "          'precision_ci': MLP_precision_conf_interval,\n",
    "          'mean_recall': MLP_mean_recall,\n",
    "          'recall_ci': MLP_precision_conf_interval\n",
    "      }\n",
    "  }\n",
    "\n",
    "  models = list(model_results.keys())\n",
    "  mean_precisions = [model_results[model]['mean_precision'] for model in models]\n",
    "  precision_cis = [model_results[model]['precision_ci'] for model in models]\n",
    "  mean_recalls = [model_results[model]['mean_recall'] for model in models]\n",
    "  recall_cis = [model_results[model]['recall_ci'] for model in models]\n",
    "  precision_errors = np.array([[mean - ci[0], ci[1] - mean] for mean, ci in zip(mean_precisions, precision_cis)]).T\n",
    "  recall_errors = np.array([[mean - ci[0], ci[1] - mean] for mean, ci in zip(mean_recalls, recall_cis)]).T\n",
    "\n",
    "\n",
    "  fig, ax = plt.subplots(1, 2, figsize=(14, 6))\n",
    "\n",
    "  # Plot precision\n",
    "  ax[0].bar(models, mean_precisions, yerr=precision_errors, capsize=5, color='skyblue')\n",
    "  ax[0].set_title('Mean Precision with 95% Confidence Interval')\n",
    "  ax[0].set_ylabel('Precision')\n",
    "  ax[0].set_ylim([0.2, 1])\n",
    "  ax[0].set_xticklabels(models, rotation=45, ha=\"right\")\n",
    "\n",
    "  # Plot recall\n",
    "  recall_errors = np.abs(recall_errors)\n",
    "  ax[1].bar(models, mean_recalls, yerr=recall_errors, capsize=5, color='lightgreen')\n",
    "  ax[1].set_title('Mean Recall with 95% Confidence Interval')\n",
    "  ax[1].set_ylabel('Recall')\n",
    "  ax[1].set_ylim([0.2, 1])\n",
    "  ax[1].set_xticklabels(models, rotation=45, ha=\"right\")\n",
    "\n",
    "  plt.tight_layout()\n",
    "  plt.show()"
   ]
  },
  {
   "cell_type": "code",
   "execution_count": 314,
   "metadata": {},
   "outputs": [
    {
     "name": "stdout",
     "output_type": "stream",
     "text": [
      "Mean Precision for Logistic Regression: 0.8504635687454539, 95% CI: [0.75096503 0.93044229]\n",
      "Mean Recall for Logistic Regression: 0.8181499470737417, 95% CI: [0.72995483 0.91247283]\n",
      "-------------------------------------------------------------------------------------------------\n",
      "Mean Precision for Support Vector Machine: 0.8541628167891444, 95% CI: [0.7451173  0.94618344]\n",
      "Mean Recall for Support Vector Machine: 0.8532791569141659, 95% CI: [0.72634525 0.94728788]\n",
      "-------------------------------------------------------------------------------------------------\n",
      "Mean Precision for Random Forest: 0.8662842019770599, 95% CI: [0.77367045 0.94186992]\n",
      "Mean Recall for Random Forest: 0.8423994128996357, 95% CI: [0.7519177  0.92569103]\n",
      "-------------------------------------------------------------------------------------------------\n",
      "Mean Precision for Multi Layer Perceptron: 0.8294359560661213, 95% CI: [0.69210366 0.94205763]\n",
      "Mean Recall for Multi Layer Perceptron: 0.8138548946171023, 95% CI: [0.67534091 0.93615888]\n"
     ]
    },
    {
     "data": {
      "image/png": "[encoded data removed]",
      "text/plain": [
       "<Figure size 1400x600 with 2 Axes>"
      ]
     },
     "metadata": {},
     "output_type": "display_data"
    }
   ],
   "source": [
    "Evaluation(LR_precisions,LR_recalls,SVM_precisions,SVM_recalls,RF_precisions,RF_recalls,MLP_precisions,MLP_recalls)"
   ]
  },
  {
   "cell_type": "code",
   "execution_count": 315,
   "metadata": {},
   "outputs": [
    {
     "name": "stdout",
     "output_type": "stream",
     "text": [
      "Mean Precision for Logistic Regression: 0.48561775590276585, 95% CI: [0.38149909 0.56918895]\n",
      "Mean Recall for Logistic Regression: 0.5799823719807061, 95% CI: [0.48022813 0.65833333]\n",
      "-------------------------------------------------------------------------------------------------\n",
      "Mean Precision for Support Vector Machine: 0.521669299221665, 95% CI: [0.39196682 0.60654762]\n",
      "Mean Recall for Support Vector Machine: 0.5853675838091306, 95% CI: [0.49366987 0.65041667]\n",
      "-------------------------------------------------------------------------------------------------\n",
      "Mean Precision for Random Forest: 0.4932939914363126, 95% CI: [0.40565889 0.58737179]\n",
      "Mean Recall for Random Forest: 0.5710494493927324, 95% CI: [0.48637821 0.64583333]\n",
      "-------------------------------------------------------------------------------------------------\n",
      "Mean Precision for Multi Layer Perceptron: 0.5019645664243881, 95% CI: [0.3821875  0.60328982]\n",
      "Mean Recall for Multi Layer Perceptron: 0.5924393001225852, 95% CI: [0.5        0.66666667]\n"
     ]
    },
    {
     "data": {
      "image/png": "[encoded data removed]",
      "text/plain": [
       "<Figure size 1400x600 with 2 Axes>"
      ]
     },
     "metadata": {},
     "output_type": "display_data"
    }
   ],
   "source": [
    "Evaluation(LR_precisions2,LR_recalls2,SVM_precisions2,SVM_recalls2,RF_precisions2,RF_recalls2,MLP_precisions2,MLP_recalls2)"
   ]
  },
  {
   "cell_type": "code",
   "execution_count": 316,
   "metadata": {},
   "outputs": [
    {
     "name": "stdout",
     "output_type": "stream",
     "text": [
      "Mean Precision for Logistic Regression: 0.7718759845373002, 95% CI: [0.68832768 0.86124603]\n",
      "Mean Recall for Logistic Regression: 0.7725350285486238, 95% CI: [0.67666647 0.87607026]\n",
      "-------------------------------------------------------------------------------------------------\n",
      "Mean Precision for Support Vector Machine: 0.792152196918704, 95% CI: [0.67607911 0.89426533]\n",
      "Mean Recall for Support Vector Machine: 0.7915281309131815, 95% CI: [0.67922436 0.8902451 ]\n",
      "-------------------------------------------------------------------------------------------------\n",
      "Mean Precision for Random Forest: 0.7823179426077859, 95% CI: [0.676875   0.88465385]\n",
      "Mean Recall for Random Forest: 0.7810645743189738, 95% CI: [0.64808837 0.88498188]\n",
      "-------------------------------------------------------------------------------------------------\n",
      "Mean Precision for Multi Layer Perceptron: 0.16327626954906724, 95% CI: [0.11730603 0.2       ]\n",
      "Mean Recall for Multi Layer Perceptron: 0.1476318812325906, 95% CI: [0.09738426 0.1911166 ]\n"
     ]
    },
    {
     "data": {
      "image/png": "[encoded data removed]",
      "text/plain": [
       "<Figure size 1400x600 with 2 Axes>"
      ]
     },
     "metadata": {},
     "output_type": "display_data"
    }
   ],
   "source": [
    "Evaluation(LR_precisions3,LR_recalls3,SVM_precisions3,SVM_recalls3,RF_precisions3,RF_recalls3,MLP_precisions3,MLP_recalls3)"
   ]
  },
  {
   "cell_type": "code",
   "execution_count": null,
   "metadata": {},
   "outputs": [],
   "source": []
  }
 ],
 "metadata": {
  "colab": {
   "provenance": []
  },
  "kernelspec": {
   "display_name": "Python 3 (ipykernel)",
   "language": "python",
   "name": "python3"
  },
  "language_info": {
   "codemirror_mode": {
    "name": "ipython",
    "version": 3
   },
   "file_extension": ".py",
   "mimetype": "text/x-python",
   "name": "python",
   "nbconvert_exporter": "python",
   "pygments_lexer": "ipython3",
   "version": "3.10.0"
  }
 },
 "nbformat": 4,
 "nbformat_minor": 4
}
