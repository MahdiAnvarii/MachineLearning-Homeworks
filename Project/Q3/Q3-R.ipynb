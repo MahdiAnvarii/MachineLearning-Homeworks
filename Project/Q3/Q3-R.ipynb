{
 "cells": [
  {
   "cell_type": "markdown",
   "id": "7a72e79c-89b5-47a7-af47-5b6d99382ddd",
   "metadata": {},
   "source": [
    "# Q3 - R section"
   ]
  },
  {
   "cell_type": "markdown",
   "id": "5548529a-6ee7-4f23-95d8-431cb3019404",
   "metadata": {},
   "source": [
    "In this section, we use R to perform differential expression analysis for feature selection. We are going to do this analysis for both machines"
   ]
  },
  {
   "cell_type": "markdown",
   "id": "5b514bde-042b-473b-960a-3ee3573bcad7",
   "metadata": {},
   "source": [
    "In my opinion, differential expression (DE) analysis is the most efficient feature selection method in this case because it not only considers the variance or mutual information of features but also how they are expressed across different classes. Therefore, I believe it will help us identify the best features (DEGs) for classification."
   ]
  },
  {
   "cell_type": "markdown",
   "id": "62d724ba-99de-4435-8f1e-78165acccdea",
   "metadata": {},
   "source": [
    "## First Machine ##"
   ]
  },
  {
   "cell_type": "code",
   "execution_count": 23,
   "id": "7bf83cda-72c7-49e3-9f9f-27784e47ba6c",
   "metadata": {},
   "outputs": [],
   "source": [
    "# Import needed libraries\n",
    "library(limma)\n",
    "library(edgeR)"
   ]
  },
  {
   "cell_type": "code",
   "execution_count": 24,
   "id": "71fbc81e-f80c-45cb-824e-94fd2cb81910",
   "metadata": {},
   "outputs": [],
   "source": [
    "# Load Data\n",
    "normal_counts <- read.csv(\"train_normal_counts.csv\")\n",
    "meta_data <- read.csv(\"train_meta_data.csv\")"
   ]
  },
  {
   "cell_type": "code",
   "execution_count": 25,
   "id": "d77acea4-9f2b-4e2c-95ee-b9580d5656fc",
   "metadata": {},
   "outputs": [
    {
     "data": {
      "text/html": [
       "<table class=\"dataframe\">\n",
       "<caption>A data.frame: 6 × 134</caption>\n",
       "<thead>\n",
       "\t<tr><th></th><th scope=col>DLDR_0036</th><th scope=col>DLDR_0081</th><th scope=col>DLDR_0191</th><th scope=col>DLDR_0188</th><th scope=col>DLDR_0130</th><th scope=col>DLDR_0013</th><th scope=col>DLDR_0079</th><th scope=col>DLDR_0131</th><th scope=col>DLDR_0135</th><th scope=col>DLDR_0190</th><th scope=col>⋯</th><th scope=col>DLDR_0175</th><th scope=col>DLDR_0052</th><th scope=col>DLDR_0087</th><th scope=col>DLDR_0155</th><th scope=col>DLDR_0092</th><th scope=col>DLDR_0187</th><th scope=col>DLDR_0186</th><th scope=col>DLDR_0179</th><th scope=col>DLDR_0182</th><th scope=col>DLDR_0001</th></tr>\n",
       "\t<tr><th></th><th scope=col>&lt;dbl&gt;</th><th scope=col>&lt;dbl&gt;</th><th scope=col>&lt;dbl&gt;</th><th scope=col>&lt;dbl&gt;</th><th scope=col>&lt;dbl&gt;</th><th scope=col>&lt;dbl&gt;</th><th scope=col>&lt;dbl&gt;</th><th scope=col>&lt;dbl&gt;</th><th scope=col>&lt;dbl&gt;</th><th scope=col>&lt;dbl&gt;</th><th scope=col>⋯</th><th scope=col>&lt;dbl&gt;</th><th scope=col>&lt;dbl&gt;</th><th scope=col>&lt;dbl&gt;</th><th scope=col>&lt;dbl&gt;</th><th scope=col>&lt;dbl&gt;</th><th scope=col>&lt;dbl&gt;</th><th scope=col>&lt;dbl&gt;</th><th scope=col>&lt;dbl&gt;</th><th scope=col>&lt;dbl&gt;</th><th scope=col>&lt;dbl&gt;</th></tr>\n",
       "</thead>\n",
       "<tbody>\n",
       "\t<tr><th scope=row>1</th><td> 5.820135</td><td>6.5462994</td><td> 6.6040504</td><td> 6.480745</td><td> 6.550016</td><td>6.5692529</td><td> 5.9652146</td><td>6.436726</td><td>6.3378589</td><td> 6.3677048</td><td>⋯</td><td>6.85952138</td><td> 6.3703867</td><td> 6.6352203</td><td>6.693334</td><td>6.26633823</td><td> 6.6089237</td><td> 6.34423435</td><td> 6.296354</td><td> 6.485184</td><td>5.965571</td></tr>\n",
       "\t<tr><th scope=row>2</th><td>-1.060061</td><td>0.5821648</td><td>-0.8650363</td><td>-1.083676</td><td>-1.222374</td><td>0.7672549</td><td>-0.2056643</td><td>1.225274</td><td>0.3287041</td><td>-0.9022011</td><td>⋯</td><td>0.03594184</td><td>-0.5651604</td><td>-0.4658174</td><td>1.603149</td><td>0.08898988</td><td>-0.7573986</td><td>-0.02658513</td><td>-2.568864</td><td>-0.486609</td><td>1.612375</td></tr>\n",
       "\t<tr><th scope=row>3</th><td> 4.388400</td><td>3.7520898</td><td> 4.3514891</td><td> 4.361634</td><td> 4.534941</td><td>4.1504701</td><td> 3.1093774</td><td>4.104779</td><td>4.6099902</td><td> 4.1480104</td><td>⋯</td><td>4.12340468</td><td> 4.7392966</td><td> 4.3778794</td><td>4.473400</td><td>4.31945643</td><td> 4.2744503</td><td> 4.17931917</td><td> 4.381449</td><td> 4.331904</td><td>4.133821</td></tr>\n",
       "\t<tr><th scope=row>4</th><td> 4.080172</td><td>4.6451746</td><td> 4.0721368</td><td> 4.313540</td><td> 4.370763</td><td>4.1660389</td><td> 4.8092861</td><td>4.411547</td><td>4.3253607</td><td> 4.5060579</td><td>⋯</td><td>4.76204644</td><td> 4.1208213</td><td> 4.2298584</td><td>4.755317</td><td>4.38806704</td><td> 4.0425768</td><td> 4.43879576</td><td> 4.365810</td><td> 4.090491</td><td>4.111056</td></tr>\n",
       "\t<tr><th scope=row>5</th><td> 2.564430</td><td>3.8408991</td><td> 3.1431376</td><td> 3.120196</td><td> 3.512952</td><td>3.7570108</td><td> 3.9527651</td><td>3.099743</td><td>3.3085263</td><td> 3.9820712</td><td>⋯</td><td>3.95559973</td><td> 2.9326175</td><td> 3.6972213</td><td>4.027257</td><td>3.97372734</td><td> 2.1264084</td><td> 3.81471713</td><td> 2.965115</td><td> 2.697188</td><td>4.150662</td></tr>\n",
       "\t<tr><th scope=row>6</th><td> 3.552685</td><td>3.2010747</td><td> 4.0374758</td><td> 1.941859</td><td> 2.517867</td><td>3.2536535</td><td> 2.7857226</td><td>3.357725</td><td>1.9136666</td><td> 2.2021356</td><td>⋯</td><td>2.72896408</td><td> 2.8246104</td><td> 2.2057995</td><td>1.576431</td><td>2.97651515</td><td> 3.4239312</td><td> 2.27774891</td><td> 3.408416</td><td> 3.630074</td><td>2.975845</td></tr>\n",
       "</tbody>\n",
       "</table>\n"
      ],
      "text/latex": [
       "A data.frame: 6 × 134\n",
       "\\begin{tabular}{r|lllllllllllllllllllll}\n",
       "  & DLDR\\_0036 & DLDR\\_0081 & DLDR\\_0191 & DLDR\\_0188 & DLDR\\_0130 & DLDR\\_0013 & DLDR\\_0079 & DLDR\\_0131 & DLDR\\_0135 & DLDR\\_0190 & ⋯ & DLDR\\_0175 & DLDR\\_0052 & DLDR\\_0087 & DLDR\\_0155 & DLDR\\_0092 & DLDR\\_0187 & DLDR\\_0186 & DLDR\\_0179 & DLDR\\_0182 & DLDR\\_0001\\\\\n",
       "  & <dbl> & <dbl> & <dbl> & <dbl> & <dbl> & <dbl> & <dbl> & <dbl> & <dbl> & <dbl> & ⋯ & <dbl> & <dbl> & <dbl> & <dbl> & <dbl> & <dbl> & <dbl> & <dbl> & <dbl> & <dbl>\\\\\n",
       "\\hline\n",
       "\t1 &  5.820135 & 6.5462994 &  6.6040504 &  6.480745 &  6.550016 & 6.5692529 &  5.9652146 & 6.436726 & 6.3378589 &  6.3677048 & ⋯ & 6.85952138 &  6.3703867 &  6.6352203 & 6.693334 & 6.26633823 &  6.6089237 &  6.34423435 &  6.296354 &  6.485184 & 5.965571\\\\\n",
       "\t2 & -1.060061 & 0.5821648 & -0.8650363 & -1.083676 & -1.222374 & 0.7672549 & -0.2056643 & 1.225274 & 0.3287041 & -0.9022011 & ⋯ & 0.03594184 & -0.5651604 & -0.4658174 & 1.603149 & 0.08898988 & -0.7573986 & -0.02658513 & -2.568864 & -0.486609 & 1.612375\\\\\n",
       "\t3 &  4.388400 & 3.7520898 &  4.3514891 &  4.361634 &  4.534941 & 4.1504701 &  3.1093774 & 4.104779 & 4.6099902 &  4.1480104 & ⋯ & 4.12340468 &  4.7392966 &  4.3778794 & 4.473400 & 4.31945643 &  4.2744503 &  4.17931917 &  4.381449 &  4.331904 & 4.133821\\\\\n",
       "\t4 &  4.080172 & 4.6451746 &  4.0721368 &  4.313540 &  4.370763 & 4.1660389 &  4.8092861 & 4.411547 & 4.3253607 &  4.5060579 & ⋯ & 4.76204644 &  4.1208213 &  4.2298584 & 4.755317 & 4.38806704 &  4.0425768 &  4.43879576 &  4.365810 &  4.090491 & 4.111056\\\\\n",
       "\t5 &  2.564430 & 3.8408991 &  3.1431376 &  3.120196 &  3.512952 & 3.7570108 &  3.9527651 & 3.099743 & 3.3085263 &  3.9820712 & ⋯ & 3.95559973 &  2.9326175 &  3.6972213 & 4.027257 & 3.97372734 &  2.1264084 &  3.81471713 &  2.965115 &  2.697188 & 4.150662\\\\\n",
       "\t6 &  3.552685 & 3.2010747 &  4.0374758 &  1.941859 &  2.517867 & 3.2536535 &  2.7857226 & 3.357725 & 1.9136666 &  2.2021356 & ⋯ & 2.72896408 &  2.8246104 &  2.2057995 & 1.576431 & 2.97651515 &  3.4239312 &  2.27774891 &  3.408416 &  3.630074 & 2.975845\\\\\n",
       "\\end{tabular}\n"
      ],
      "text/markdown": [
       "\n",
       "A data.frame: 6 × 134\n",
       "\n",
       "| <!--/--> | DLDR_0036 &lt;dbl&gt; | DLDR_0081 &lt;dbl&gt; | DLDR_0191 &lt;dbl&gt; | DLDR_0188 &lt;dbl&gt; | DLDR_0130 &lt;dbl&gt; | DLDR_0013 &lt;dbl&gt; | DLDR_0079 &lt;dbl&gt; | DLDR_0131 &lt;dbl&gt; | DLDR_0135 &lt;dbl&gt; | DLDR_0190 &lt;dbl&gt; | ⋯ ⋯ | DLDR_0175 &lt;dbl&gt; | DLDR_0052 &lt;dbl&gt; | DLDR_0087 &lt;dbl&gt; | DLDR_0155 &lt;dbl&gt; | DLDR_0092 &lt;dbl&gt; | DLDR_0187 &lt;dbl&gt; | DLDR_0186 &lt;dbl&gt; | DLDR_0179 &lt;dbl&gt; | DLDR_0182 &lt;dbl&gt; | DLDR_0001 &lt;dbl&gt; |\n",
       "|---|---|---|---|---|---|---|---|---|---|---|---|---|---|---|---|---|---|---|---|---|---|\n",
       "| 1 |  5.820135 | 6.5462994 |  6.6040504 |  6.480745 |  6.550016 | 6.5692529 |  5.9652146 | 6.436726 | 6.3378589 |  6.3677048 | ⋯ | 6.85952138 |  6.3703867 |  6.6352203 | 6.693334 | 6.26633823 |  6.6089237 |  6.34423435 |  6.296354 |  6.485184 | 5.965571 |\n",
       "| 2 | -1.060061 | 0.5821648 | -0.8650363 | -1.083676 | -1.222374 | 0.7672549 | -0.2056643 | 1.225274 | 0.3287041 | -0.9022011 | ⋯ | 0.03594184 | -0.5651604 | -0.4658174 | 1.603149 | 0.08898988 | -0.7573986 | -0.02658513 | -2.568864 | -0.486609 | 1.612375 |\n",
       "| 3 |  4.388400 | 3.7520898 |  4.3514891 |  4.361634 |  4.534941 | 4.1504701 |  3.1093774 | 4.104779 | 4.6099902 |  4.1480104 | ⋯ | 4.12340468 |  4.7392966 |  4.3778794 | 4.473400 | 4.31945643 |  4.2744503 |  4.17931917 |  4.381449 |  4.331904 | 4.133821 |\n",
       "| 4 |  4.080172 | 4.6451746 |  4.0721368 |  4.313540 |  4.370763 | 4.1660389 |  4.8092861 | 4.411547 | 4.3253607 |  4.5060579 | ⋯ | 4.76204644 |  4.1208213 |  4.2298584 | 4.755317 | 4.38806704 |  4.0425768 |  4.43879576 |  4.365810 |  4.090491 | 4.111056 |\n",
       "| 5 |  2.564430 | 3.8408991 |  3.1431376 |  3.120196 |  3.512952 | 3.7570108 |  3.9527651 | 3.099743 | 3.3085263 |  3.9820712 | ⋯ | 3.95559973 |  2.9326175 |  3.6972213 | 4.027257 | 3.97372734 |  2.1264084 |  3.81471713 |  2.965115 |  2.697188 | 4.150662 |\n",
       "| 6 |  3.552685 | 3.2010747 |  4.0374758 |  1.941859 |  2.517867 | 3.2536535 |  2.7857226 | 3.357725 | 1.9136666 |  2.2021356 | ⋯ | 2.72896408 |  2.8246104 |  2.2057995 | 1.576431 | 2.97651515 |  3.4239312 |  2.27774891 |  3.408416 |  3.630074 | 2.975845 |\n",
       "\n"
      ],
      "text/plain": [
       "  DLDR_0036 DLDR_0081 DLDR_0191  DLDR_0188 DLDR_0130 DLDR_0013 DLDR_0079 \n",
       "1  5.820135 6.5462994  6.6040504  6.480745  6.550016 6.5692529  5.9652146\n",
       "2 -1.060061 0.5821648 -0.8650363 -1.083676 -1.222374 0.7672549 -0.2056643\n",
       "3  4.388400 3.7520898  4.3514891  4.361634  4.534941 4.1504701  3.1093774\n",
       "4  4.080172 4.6451746  4.0721368  4.313540  4.370763 4.1660389  4.8092861\n",
       "5  2.564430 3.8408991  3.1431376  3.120196  3.512952 3.7570108  3.9527651\n",
       "6  3.552685 3.2010747  4.0374758  1.941859  2.517867 3.2536535  2.7857226\n",
       "  DLDR_0131 DLDR_0135 DLDR_0190  ⋯ DLDR_0175  DLDR_0052  DLDR_0087  DLDR_0155\n",
       "1 6.436726  6.3378589  6.3677048 ⋯ 6.85952138  6.3703867  6.6352203 6.693334 \n",
       "2 1.225274  0.3287041 -0.9022011 ⋯ 0.03594184 -0.5651604 -0.4658174 1.603149 \n",
       "3 4.104779  4.6099902  4.1480104 ⋯ 4.12340468  4.7392966  4.3778794 4.473400 \n",
       "4 4.411547  4.3253607  4.5060579 ⋯ 4.76204644  4.1208213  4.2298584 4.755317 \n",
       "5 3.099743  3.3085263  3.9820712 ⋯ 3.95559973  2.9326175  3.6972213 4.027257 \n",
       "6 3.357725  1.9136666  2.2021356 ⋯ 2.72896408  2.8246104  2.2057995 1.576431 \n",
       "  DLDR_0092  DLDR_0187  DLDR_0186   DLDR_0179 DLDR_0182 DLDR_0001\n",
       "1 6.26633823  6.6089237  6.34423435  6.296354  6.485184 5.965571 \n",
       "2 0.08898988 -0.7573986 -0.02658513 -2.568864 -0.486609 1.612375 \n",
       "3 4.31945643  4.2744503  4.17931917  4.381449  4.331904 4.133821 \n",
       "4 4.38806704  4.0425768  4.43879576  4.365810  4.090491 4.111056 \n",
       "5 3.97372734  2.1264084  3.81471713  2.965115  2.697188 4.150662 \n",
       "6 2.97651515  3.4239312  2.27774891  3.408416  3.630074 2.975845 "
      ]
     },
     "metadata": {},
     "output_type": "display_data"
    }
   ],
   "source": [
    "head(normal_counts)"
   ]
  },
  {
   "cell_type": "code",
   "execution_count": 26,
   "id": "555b7504-1fda-4cca-ab24-5dfc9e9c0977",
   "metadata": {},
   "outputs": [
    {
     "data": {
      "text/html": [
       "<style>\n",
       ".list-inline {list-style: none; margin:0; padding: 0}\n",
       ".list-inline>li {display: inline-block}\n",
       ".list-inline>li:not(:last-child)::after {content: \"\\00b7\"; padding: 0 .5ex}\n",
       "</style>\n",
       "<ol class=list-inline><li>17396</li><li>134</li></ol>\n"
      ],
      "text/latex": [
       "\\begin{enumerate*}\n",
       "\\item 17396\n",
       "\\item 134\n",
       "\\end{enumerate*}\n"
      ],
      "text/markdown": [
       "1. 17396\n",
       "2. 134\n",
       "\n",
       "\n"
      ],
      "text/plain": [
       "[1] 17396   134"
      ]
     },
     "metadata": {},
     "output_type": "display_data"
    }
   ],
   "source": [
    "dim(normal_counts)"
   ]
  },
  {
   "cell_type": "code",
   "execution_count": 27,
   "id": "f4365ed8-acec-4fa9-98a8-c4d4f56ebfb4",
   "metadata": {},
   "outputs": [
    {
     "data": {
      "text/html": [
       "<table class=\"dataframe\">\n",
       "<caption>A data.frame: 6 × 2</caption>\n",
       "<thead>\n",
       "\t<tr><th></th><th scope=col>Simplified_class</th><th scope=col>class</th></tr>\n",
       "\t<tr><th></th><th scope=col>&lt;chr&gt;</th><th scope=col>&lt;chr&gt;</th></tr>\n",
       "</thead>\n",
       "<tbody>\n",
       "\t<tr><th scope=row>1</th><td>Normal               </td><td>Normal  </td></tr>\n",
       "\t<tr><th scope=row>2</th><td>Advanced_fibrosis    </td><td>Fibrosis</td></tr>\n",
       "\t<tr><th scope=row>3</th><td>Normal               </td><td>Normal  </td></tr>\n",
       "\t<tr><th scope=row>4</th><td>Normal               </td><td>Normal  </td></tr>\n",
       "\t<tr><th scope=row>5</th><td>Non_advanced_Fibrosis</td><td>Fibrosis</td></tr>\n",
       "\t<tr><th scope=row>6</th><td>Normal               </td><td>Normal  </td></tr>\n",
       "</tbody>\n",
       "</table>\n"
      ],
      "text/latex": [
       "A data.frame: 6 × 2\n",
       "\\begin{tabular}{r|ll}\n",
       "  & Simplified\\_class & class\\\\\n",
       "  & <chr> & <chr>\\\\\n",
       "\\hline\n",
       "\t1 & Normal                & Normal  \\\\\n",
       "\t2 & Advanced\\_fibrosis     & Fibrosis\\\\\n",
       "\t3 & Normal                & Normal  \\\\\n",
       "\t4 & Normal                & Normal  \\\\\n",
       "\t5 & Non\\_advanced\\_Fibrosis & Fibrosis\\\\\n",
       "\t6 & Normal                & Normal  \\\\\n",
       "\\end{tabular}\n"
      ],
      "text/markdown": [
       "\n",
       "A data.frame: 6 × 2\n",
       "\n",
       "| <!--/--> | Simplified_class &lt;chr&gt; | class &lt;chr&gt; |\n",
       "|---|---|---|\n",
       "| 1 | Normal                | Normal   |\n",
       "| 2 | Advanced_fibrosis     | Fibrosis |\n",
       "| 3 | Normal                | Normal   |\n",
       "| 4 | Normal                | Normal   |\n",
       "| 5 | Non_advanced_Fibrosis | Fibrosis |\n",
       "| 6 | Normal                | Normal   |\n",
       "\n"
      ],
      "text/plain": [
       "  Simplified_class      class   \n",
       "1 Normal                Normal  \n",
       "2 Advanced_fibrosis     Fibrosis\n",
       "3 Normal                Normal  \n",
       "4 Normal                Normal  \n",
       "5 Non_advanced_Fibrosis Fibrosis\n",
       "6 Normal                Normal  "
      ]
     },
     "metadata": {},
     "output_type": "display_data"
    }
   ],
   "source": [
    "head(meta_data)"
   ]
  },
  {
   "cell_type": "code",
   "execution_count": 28,
   "id": "0204af7d-756d-43ca-b107-26f5f322facd",
   "metadata": {},
   "outputs": [],
   "source": [
    "labels <- factor(meta_data$class)"
   ]
  },
  {
   "cell_type": "code",
   "execution_count": 29,
   "id": "84342d95-453a-4c8e-8650-0cc4a383f209",
   "metadata": {},
   "outputs": [
    {
     "name": "stdout",
     "output_type": "stream",
     "text": [
      "  [1] Normal   Fibrosis Normal   Normal   Fibrosis Normal   Fibrosis Fibrosis\n",
      "  [9] Fibrosis Normal   Fibrosis Fibrosis Fibrosis Fibrosis Fibrosis Fibrosis\n",
      " [17] Normal   Normal   Normal   Normal   Fibrosis Fibrosis Fibrosis Fibrosis\n",
      " [25] Fibrosis Fibrosis Normal   Fibrosis Normal   Fibrosis Fibrosis Fibrosis\n",
      " [33] Fibrosis Normal   Normal   Fibrosis Fibrosis Fibrosis Fibrosis Fibrosis\n",
      " [41] Fibrosis Fibrosis Fibrosis Fibrosis Fibrosis Fibrosis Normal   Fibrosis\n",
      " [49] Fibrosis Fibrosis Fibrosis Fibrosis Normal   Fibrosis Normal   Fibrosis\n",
      " [57] Fibrosis Fibrosis Normal   Normal   Normal   Fibrosis Fibrosis Fibrosis\n",
      " [65] Normal   Normal   Fibrosis Normal   Fibrosis Fibrosis Fibrosis Fibrosis\n",
      " [73] Normal   Fibrosis Fibrosis Normal   Fibrosis Fibrosis Fibrosis Fibrosis\n",
      " [81] Fibrosis Normal   Fibrosis Fibrosis Fibrosis Fibrosis Normal   Fibrosis\n",
      " [89] Fibrosis Fibrosis Fibrosis Normal   Normal   Fibrosis Fibrosis Fibrosis\n",
      " [97] Fibrosis Fibrosis Fibrosis Fibrosis Normal   Normal   Fibrosis Fibrosis\n",
      "[105] Normal   Normal   Fibrosis Fibrosis Fibrosis Normal   Fibrosis Fibrosis\n",
      "[113] Normal   Normal   Fibrosis Normal   Normal   Fibrosis Fibrosis Fibrosis\n",
      "[121] Normal   Fibrosis Fibrosis Fibrosis Fibrosis Normal   Fibrosis Fibrosis\n",
      "[129] Fibrosis Normal   Normal   Normal   Normal   Normal  \n",
      "Levels: Fibrosis Normal\n"
     ]
    }
   ],
   "source": [
    "print(labels)"
   ]
  },
  {
   "cell_type": "markdown",
   "id": "7a1f56a8-2f23-4502-bf58-7b17be90d045",
   "metadata": {},
   "source": [
    "Let's perform DE analysis"
   ]
  },
  {
   "cell_type": "code",
   "execution_count": 30,
   "id": "c60f8394-9ef6-424b-9b2c-7e332203bcd6",
   "metadata": {},
   "outputs": [],
   "source": [
    "# Create a design matrix\n",
    "design <- model.matrix(~0 + labels)\n",
    "colnames(design) <- levels(labels)"
   ]
  },
  {
   "cell_type": "code",
   "execution_count": 31,
   "id": "306923dd-7413-48c4-ac95-2c3e6e92178d",
   "metadata": {},
   "outputs": [],
   "source": [
    "fit <- lmFit(normal_counts, design)"
   ]
  },
  {
   "cell_type": "code",
   "execution_count": 32,
   "id": "e593a8ad-2147-4db2-a529-5c4b45ccd5e4",
   "metadata": {},
   "outputs": [],
   "source": [
    "contrast.matrix <- makeContrasts(\n",
    "    Fibrosis_vs_Normal = `Fibrosis` - Normal,\n",
    "    levels = design\n",
    ")\n",
    "\n",
    "# Apply contrasts to the fit\n",
    "fit2 <- contrasts.fit(fit, contrast.matrix)\n",
    "\n",
    "# Empirical Bayes moderation to get p-values\n",
    "fit2 <- eBayes(fit2)"
   ]
  },
  {
   "cell_type": "markdown",
   "id": "9f51401c-5bf4-462f-af7a-0f06c2943707",
   "metadata": {},
   "source": [
    "Now, we are going to extract the DEGs for Fibrosis vs Normal pair and save them"
   ]
  },
  {
   "cell_type": "code",
   "execution_count": 33,
   "id": "c60ab8d3-d4d2-483d-9fa1-5f2d72302558",
   "metadata": {},
   "outputs": [
    {
     "data": {
      "text/html": [
       "<table class=\"dataframe\">\n",
       "<caption>A data.frame: 6 × 6</caption>\n",
       "<thead>\n",
       "\t<tr><th></th><th scope=col>logFC</th><th scope=col>AveExpr</th><th scope=col>t</th><th scope=col>P.Value</th><th scope=col>adj.P.Val</th><th scope=col>B</th></tr>\n",
       "\t<tr><th></th><th scope=col>&lt;dbl&gt;</th><th scope=col>&lt;dbl&gt;</th><th scope=col>&lt;dbl&gt;</th><th scope=col>&lt;dbl&gt;</th><th scope=col>&lt;dbl&gt;</th><th scope=col>&lt;dbl&gt;</th></tr>\n",
       "</thead>\n",
       "<tbody>\n",
       "\t<tr><th scope=row>6969</th><td>0.4767457</td><td>4.207436</td><td>11.50608</td><td>9.952564e-22</td><td>1.731348e-17</td><td>38.77566</td></tr>\n",
       "\t<tr><th scope=row>17075</th><td>0.5206691</td><td>7.265926</td><td>11.08760</td><td>1.140214e-20</td><td>7.320483e-17</td><td>36.39218</td></tr>\n",
       "\t<tr><th scope=row>4419</th><td>0.8110163</td><td>7.074491</td><td>11.04250</td><td>1.482760e-20</td><td>7.320483e-17</td><td>36.13539</td></tr>\n",
       "\t<tr><th scope=row>10970</th><td>0.5251446</td><td>5.361546</td><td>11.01330</td><td>1.757697e-20</td><td>7.320483e-17</td><td>35.96911</td></tr>\n",
       "\t<tr><th scope=row>7725</th><td>0.6071783</td><td>4.957512</td><td>10.97299</td><td>2.222858e-20</td><td>7.320483e-17</td><td>35.73958</td></tr>\n",
       "\t<tr><th scope=row>1776</th><td>0.7526904</td><td>4.613934</td><td>10.92701</td><td>2.905256e-20</td><td>7.320483e-17</td><td>35.47785</td></tr>\n",
       "</tbody>\n",
       "</table>\n"
      ],
      "text/latex": [
       "A data.frame: 6 × 6\n",
       "\\begin{tabular}{r|llllll}\n",
       "  & logFC & AveExpr & t & P.Value & adj.P.Val & B\\\\\n",
       "  & <dbl> & <dbl> & <dbl> & <dbl> & <dbl> & <dbl>\\\\\n",
       "\\hline\n",
       "\t6969 & 0.4767457 & 4.207436 & 11.50608 & 9.952564e-22 & 1.731348e-17 & 38.77566\\\\\n",
       "\t17075 & 0.5206691 & 7.265926 & 11.08760 & 1.140214e-20 & 7.320483e-17 & 36.39218\\\\\n",
       "\t4419 & 0.8110163 & 7.074491 & 11.04250 & 1.482760e-20 & 7.320483e-17 & 36.13539\\\\\n",
       "\t10970 & 0.5251446 & 5.361546 & 11.01330 & 1.757697e-20 & 7.320483e-17 & 35.96911\\\\\n",
       "\t7725 & 0.6071783 & 4.957512 & 10.97299 & 2.222858e-20 & 7.320483e-17 & 35.73958\\\\\n",
       "\t1776 & 0.7526904 & 4.613934 & 10.92701 & 2.905256e-20 & 7.320483e-17 & 35.47785\\\\\n",
       "\\end{tabular}\n"
      ],
      "text/markdown": [
       "\n",
       "A data.frame: 6 × 6\n",
       "\n",
       "| <!--/--> | logFC &lt;dbl&gt; | AveExpr &lt;dbl&gt; | t &lt;dbl&gt; | P.Value &lt;dbl&gt; | adj.P.Val &lt;dbl&gt; | B &lt;dbl&gt; |\n",
       "|---|---|---|---|---|---|---|\n",
       "| 6969 | 0.4767457 | 4.207436 | 11.50608 | 9.952564e-22 | 1.731348e-17 | 38.77566 |\n",
       "| 17075 | 0.5206691 | 7.265926 | 11.08760 | 1.140214e-20 | 7.320483e-17 | 36.39218 |\n",
       "| 4419 | 0.8110163 | 7.074491 | 11.04250 | 1.482760e-20 | 7.320483e-17 | 36.13539 |\n",
       "| 10970 | 0.5251446 | 5.361546 | 11.01330 | 1.757697e-20 | 7.320483e-17 | 35.96911 |\n",
       "| 7725 | 0.6071783 | 4.957512 | 10.97299 | 2.222858e-20 | 7.320483e-17 | 35.73958 |\n",
       "| 1776 | 0.7526904 | 4.613934 | 10.92701 | 2.905256e-20 | 7.320483e-17 | 35.47785 |\n",
       "\n"
      ],
      "text/plain": [
       "      logFC     AveExpr  t        P.Value      adj.P.Val    B       \n",
       "6969  0.4767457 4.207436 11.50608 9.952564e-22 1.731348e-17 38.77566\n",
       "17075 0.5206691 7.265926 11.08760 1.140214e-20 7.320483e-17 36.39218\n",
       "4419  0.8110163 7.074491 11.04250 1.482760e-20 7.320483e-17 36.13539\n",
       "10970 0.5251446 5.361546 11.01330 1.757697e-20 7.320483e-17 35.96911\n",
       "7725  0.6071783 4.957512 10.97299 2.222858e-20 7.320483e-17 35.73958\n",
       "1776  0.7526904 4.613934 10.92701 2.905256e-20 7.320483e-17 35.47785"
      ]
     },
     "metadata": {},
     "output_type": "display_data"
    }
   ],
   "source": [
    "# Get the top DEGs for the Fibrosis vs Normal comparison\n",
    "top_genes_fib_vs_norm <- topTable(fit2, coef = \"Fibrosis_vs_Normal\", adjust.method = \"BH\", number = Inf)\n",
    "\n",
    "# View the top DEGs\n",
    "head(top_genes_fib_vs_norm)"
   ]
  },
  {
   "cell_type": "code",
   "execution_count": 34,
   "id": "adb4f048-f310-47e5-94af-c8e85e9d60cd",
   "metadata": {},
   "outputs": [],
   "source": [
    "write.csv(top_genes_fib_vs_norm, \"DEGs_Fibrosis_from_Normal.csv\")"
   ]
  },
  {
   "cell_type": "markdown",
   "id": "4a3e253f-0154-4fc2-ac3e-10f442fedcdd",
   "metadata": {},
   "source": [
    "We have filtered the top 300 DEGs for each pair. The choice of 𝑘=300 appears to be optimized based on our greedy search, which has not been included in this notebook."
   ]
  },
  {
   "cell_type": "code",
   "execution_count": 35,
   "id": "dfaa0048-97fa-46e2-916d-77402fc9ebce",
   "metadata": {},
   "outputs": [
    {
     "data": {
      "text/html": [
       "<table class=\"dataframe\">\n",
       "<caption>A data.frame: 6 × 6</caption>\n",
       "<thead>\n",
       "\t<tr><th></th><th scope=col>logFC</th><th scope=col>AveExpr</th><th scope=col>t</th><th scope=col>P.Value</th><th scope=col>adj.P.Val</th><th scope=col>B</th></tr>\n",
       "\t<tr><th></th><th scope=col>&lt;dbl&gt;</th><th scope=col>&lt;dbl&gt;</th><th scope=col>&lt;dbl&gt;</th><th scope=col>&lt;dbl&gt;</th><th scope=col>&lt;dbl&gt;</th><th scope=col>&lt;dbl&gt;</th></tr>\n",
       "</thead>\n",
       "<tbody>\n",
       "\t<tr><th scope=row>6969</th><td>0.4767457</td><td>4.207436</td><td>11.50608</td><td>9.952564e-22</td><td>1.731348e-17</td><td>38.77566</td></tr>\n",
       "\t<tr><th scope=row>17075</th><td>0.5206691</td><td>7.265926</td><td>11.08760</td><td>1.140214e-20</td><td>7.320483e-17</td><td>36.39218</td></tr>\n",
       "\t<tr><th scope=row>4419</th><td>0.8110163</td><td>7.074491</td><td>11.04250</td><td>1.482760e-20</td><td>7.320483e-17</td><td>36.13539</td></tr>\n",
       "\t<tr><th scope=row>10970</th><td>0.5251446</td><td>5.361546</td><td>11.01330</td><td>1.757697e-20</td><td>7.320483e-17</td><td>35.96911</td></tr>\n",
       "\t<tr><th scope=row>7725</th><td>0.6071783</td><td>4.957512</td><td>10.97299</td><td>2.222858e-20</td><td>7.320483e-17</td><td>35.73958</td></tr>\n",
       "\t<tr><th scope=row>1776</th><td>0.7526904</td><td>4.613934</td><td>10.92701</td><td>2.905256e-20</td><td>7.320483e-17</td><td>35.47785</td></tr>\n",
       "</tbody>\n",
       "</table>\n"
      ],
      "text/latex": [
       "A data.frame: 6 × 6\n",
       "\\begin{tabular}{r|llllll}\n",
       "  & logFC & AveExpr & t & P.Value & adj.P.Val & B\\\\\n",
       "  & <dbl> & <dbl> & <dbl> & <dbl> & <dbl> & <dbl>\\\\\n",
       "\\hline\n",
       "\t6969 & 0.4767457 & 4.207436 & 11.50608 & 9.952564e-22 & 1.731348e-17 & 38.77566\\\\\n",
       "\t17075 & 0.5206691 & 7.265926 & 11.08760 & 1.140214e-20 & 7.320483e-17 & 36.39218\\\\\n",
       "\t4419 & 0.8110163 & 7.074491 & 11.04250 & 1.482760e-20 & 7.320483e-17 & 36.13539\\\\\n",
       "\t10970 & 0.5251446 & 5.361546 & 11.01330 & 1.757697e-20 & 7.320483e-17 & 35.96911\\\\\n",
       "\t7725 & 0.6071783 & 4.957512 & 10.97299 & 2.222858e-20 & 7.320483e-17 & 35.73958\\\\\n",
       "\t1776 & 0.7526904 & 4.613934 & 10.92701 & 2.905256e-20 & 7.320483e-17 & 35.47785\\\\\n",
       "\\end{tabular}\n"
      ],
      "text/markdown": [
       "\n",
       "A data.frame: 6 × 6\n",
       "\n",
       "| <!--/--> | logFC &lt;dbl&gt; | AveExpr &lt;dbl&gt; | t &lt;dbl&gt; | P.Value &lt;dbl&gt; | adj.P.Val &lt;dbl&gt; | B &lt;dbl&gt; |\n",
       "|---|---|---|---|---|---|---|\n",
       "| 6969 | 0.4767457 | 4.207436 | 11.50608 | 9.952564e-22 | 1.731348e-17 | 38.77566 |\n",
       "| 17075 | 0.5206691 | 7.265926 | 11.08760 | 1.140214e-20 | 7.320483e-17 | 36.39218 |\n",
       "| 4419 | 0.8110163 | 7.074491 | 11.04250 | 1.482760e-20 | 7.320483e-17 | 36.13539 |\n",
       "| 10970 | 0.5251446 | 5.361546 | 11.01330 | 1.757697e-20 | 7.320483e-17 | 35.96911 |\n",
       "| 7725 | 0.6071783 | 4.957512 | 10.97299 | 2.222858e-20 | 7.320483e-17 | 35.73958 |\n",
       "| 1776 | 0.7526904 | 4.613934 | 10.92701 | 2.905256e-20 | 7.320483e-17 | 35.47785 |\n",
       "\n"
      ],
      "text/plain": [
       "      logFC     AveExpr  t        P.Value      adj.P.Val    B       \n",
       "6969  0.4767457 4.207436 11.50608 9.952564e-22 1.731348e-17 38.77566\n",
       "17075 0.5206691 7.265926 11.08760 1.140214e-20 7.320483e-17 36.39218\n",
       "4419  0.8110163 7.074491 11.04250 1.482760e-20 7.320483e-17 36.13539\n",
       "10970 0.5251446 5.361546 11.01330 1.757697e-20 7.320483e-17 35.96911\n",
       "7725  0.6071783 4.957512 10.97299 2.222858e-20 7.320483e-17 35.73958\n",
       "1776  0.7526904 4.613934 10.92701 2.905256e-20 7.320483e-17 35.47785"
      ]
     },
     "metadata": {},
     "output_type": "display_data"
    }
   ],
   "source": [
    "filtered_genes_fib_vs_norm <- top_genes_fib_vs_norm[1:300,]\n",
    "\n",
    "# View filtered DEGs\n",
    "head(filtered_genes_fib_vs_norm)"
   ]
  },
  {
   "cell_type": "markdown",
   "id": "59f057d5-cf42-48b9-bc96-69f1efaac890",
   "metadata": {},
   "source": [
    "These top 300 DEGs are biologically meaningful in addition to their role in computationally classifying the data. They are likely genes whose expression changes significantly when transitioning from Normal to Fibrosis class. These genes are probably among the most correlated with the class labels, though they are not necessarily causal genes. This change in class label may have a substantial impact on their expression, potentially affecting their associated pathways or other related biological processes."
   ]
  },
  {
   "cell_type": "code",
   "execution_count": 36,
   "id": "4ddfee0d-e605-4293-8064-d58a4b69f2ab",
   "metadata": {},
   "outputs": [],
   "source": [
    "genes_fib_vs_norm_names <- rownames(filtered_genes_fib_vs_norm)"
   ]
  },
  {
   "cell_type": "code",
   "execution_count": 37,
   "id": "569d4365-de0a-443d-beef-21790104774e",
   "metadata": {},
   "outputs": [
    {
     "data": {
      "text/html": [
       "<table class=\"dataframe\">\n",
       "<caption>A data.frame: 6 × 134</caption>\n",
       "<thead>\n",
       "\t<tr><th></th><th scope=col>DLDR_0036</th><th scope=col>DLDR_0081</th><th scope=col>DLDR_0191</th><th scope=col>DLDR_0188</th><th scope=col>DLDR_0130</th><th scope=col>DLDR_0013</th><th scope=col>DLDR_0079</th><th scope=col>DLDR_0131</th><th scope=col>DLDR_0135</th><th scope=col>DLDR_0190</th><th scope=col>⋯</th><th scope=col>DLDR_0175</th><th scope=col>DLDR_0052</th><th scope=col>DLDR_0087</th><th scope=col>DLDR_0155</th><th scope=col>DLDR_0092</th><th scope=col>DLDR_0187</th><th scope=col>DLDR_0186</th><th scope=col>DLDR_0179</th><th scope=col>DLDR_0182</th><th scope=col>DLDR_0001</th></tr>\n",
       "\t<tr><th></th><th scope=col>&lt;dbl&gt;</th><th scope=col>&lt;dbl&gt;</th><th scope=col>&lt;dbl&gt;</th><th scope=col>&lt;dbl&gt;</th><th scope=col>&lt;dbl&gt;</th><th scope=col>&lt;dbl&gt;</th><th scope=col>&lt;dbl&gt;</th><th scope=col>&lt;dbl&gt;</th><th scope=col>&lt;dbl&gt;</th><th scope=col>&lt;dbl&gt;</th><th scope=col>⋯</th><th scope=col>&lt;dbl&gt;</th><th scope=col>&lt;dbl&gt;</th><th scope=col>&lt;dbl&gt;</th><th scope=col>&lt;dbl&gt;</th><th scope=col>&lt;dbl&gt;</th><th scope=col>&lt;dbl&gt;</th><th scope=col>&lt;dbl&gt;</th><th scope=col>&lt;dbl&gt;</th><th scope=col>&lt;dbl&gt;</th><th scope=col>&lt;dbl&gt;</th></tr>\n",
       "</thead>\n",
       "<tbody>\n",
       "\t<tr><th scope=row>10</th><td>4.5895546</td><td>5.48216905</td><td>5.013154</td><td>5.0660709</td><td>4.655817</td><td>4.299078</td><td>4.752957</td><td>5.4095139</td><td>4.99377681</td><td>4.5285302</td><td>⋯</td><td>4.8535651</td><td>4.5671727</td><td>4.9851582</td><td>5.2347762</td><td>4.9007545</td><td>4.9230866</td><td>5.0044999</td><td>5.058062</td><td>5.0024535</td><td>4.221450</td></tr>\n",
       "\t<tr><th scope=row>17</th><td>5.4498461</td><td>5.62655895</td><td>5.668470</td><td>5.8249308</td><td>5.645748</td><td>5.172477</td><td>5.550495</td><td>5.4456837</td><td>5.82529905</td><td>5.6696779</td><td>⋯</td><td>5.5740661</td><td>5.2507565</td><td>6.0089895</td><td>6.0142514</td><td>5.9716329</td><td>5.7074875</td><td>5.7846679</td><td>5.655138</td><td>5.9198271</td><td>5.086468</td></tr>\n",
       "\t<tr><th scope=row>67</th><td>5.5138387</td><td>6.02747535</td><td>6.073207</td><td>5.8621856</td><td>5.755947</td><td>4.997887</td><td>5.706940</td><td>5.7806501</td><td>6.01986604</td><td>5.8642174</td><td>⋯</td><td>5.7565851</td><td>5.4751801</td><td>5.9818563</td><td>5.8731974</td><td>5.8628355</td><td>5.8325646</td><td>5.7705851</td><td>5.658351</td><td>6.0170439</td><td>5.071807</td></tr>\n",
       "\t<tr><th scope=row>278</th><td>5.5299023</td><td>5.84627227</td><td>5.553583</td><td>5.3592673</td><td>5.774549</td><td>4.962662</td><td>5.201300</td><td>5.5002050</td><td>5.78205099</td><td>5.4935472</td><td>⋯</td><td>5.8620666</td><td>5.0386033</td><td>5.6652311</td><td>5.7811395</td><td>5.7451593</td><td>5.4380615</td><td>5.5701694</td><td>5.558701</td><td>5.7338219</td><td>5.220121</td></tr>\n",
       "\t<tr><th scope=row>301</th><td>5.7134081</td><td>6.17141469</td><td>5.919896</td><td>6.0819486</td><td>5.670238</td><td>5.175044</td><td>5.884826</td><td>5.8896988</td><td>6.27685502</td><td>5.6307392</td><td>⋯</td><td>5.9347951</td><td>5.7372670</td><td>6.2334328</td><td>6.2235198</td><td>5.9362710</td><td>6.1094388</td><td>5.7242487</td><td>6.160191</td><td>6.0321724</td><td>5.201384</td></tr>\n",
       "\t<tr><th scope=row>310</th><td>0.3184508</td><td>0.09673801</td><td>1.033084</td><td>0.3568963</td><td>0.362589</td><td>1.189082</td><td>1.777058</td><td>0.8940684</td><td>0.09737859</td><td>0.5484603</td><td>⋯</td><td>0.2165141</td><td>0.9837329</td><td>0.1862593</td><td>0.3895531</td><td>0.5744167</td><td>0.8726518</td><td>0.4208739</td><td>1.574094</td><td>0.6045389</td><td>2.394029</td></tr>\n",
       "</tbody>\n",
       "</table>\n"
      ],
      "text/latex": [
       "A data.frame: 6 × 134\n",
       "\\begin{tabular}{r|lllllllllllllllllllll}\n",
       "  & DLDR\\_0036 & DLDR\\_0081 & DLDR\\_0191 & DLDR\\_0188 & DLDR\\_0130 & DLDR\\_0013 & DLDR\\_0079 & DLDR\\_0131 & DLDR\\_0135 & DLDR\\_0190 & ⋯ & DLDR\\_0175 & DLDR\\_0052 & DLDR\\_0087 & DLDR\\_0155 & DLDR\\_0092 & DLDR\\_0187 & DLDR\\_0186 & DLDR\\_0179 & DLDR\\_0182 & DLDR\\_0001\\\\\n",
       "  & <dbl> & <dbl> & <dbl> & <dbl> & <dbl> & <dbl> & <dbl> & <dbl> & <dbl> & <dbl> & ⋯ & <dbl> & <dbl> & <dbl> & <dbl> & <dbl> & <dbl> & <dbl> & <dbl> & <dbl> & <dbl>\\\\\n",
       "\\hline\n",
       "\t10 & 4.5895546 & 5.48216905 & 5.013154 & 5.0660709 & 4.655817 & 4.299078 & 4.752957 & 5.4095139 & 4.99377681 & 4.5285302 & ⋯ & 4.8535651 & 4.5671727 & 4.9851582 & 5.2347762 & 4.9007545 & 4.9230866 & 5.0044999 & 5.058062 & 5.0024535 & 4.221450\\\\\n",
       "\t17 & 5.4498461 & 5.62655895 & 5.668470 & 5.8249308 & 5.645748 & 5.172477 & 5.550495 & 5.4456837 & 5.82529905 & 5.6696779 & ⋯ & 5.5740661 & 5.2507565 & 6.0089895 & 6.0142514 & 5.9716329 & 5.7074875 & 5.7846679 & 5.655138 & 5.9198271 & 5.086468\\\\\n",
       "\t67 & 5.5138387 & 6.02747535 & 6.073207 & 5.8621856 & 5.755947 & 4.997887 & 5.706940 & 5.7806501 & 6.01986604 & 5.8642174 & ⋯ & 5.7565851 & 5.4751801 & 5.9818563 & 5.8731974 & 5.8628355 & 5.8325646 & 5.7705851 & 5.658351 & 6.0170439 & 5.071807\\\\\n",
       "\t278 & 5.5299023 & 5.84627227 & 5.553583 & 5.3592673 & 5.774549 & 4.962662 & 5.201300 & 5.5002050 & 5.78205099 & 5.4935472 & ⋯ & 5.8620666 & 5.0386033 & 5.6652311 & 5.7811395 & 5.7451593 & 5.4380615 & 5.5701694 & 5.558701 & 5.7338219 & 5.220121\\\\\n",
       "\t301 & 5.7134081 & 6.17141469 & 5.919896 & 6.0819486 & 5.670238 & 5.175044 & 5.884826 & 5.8896988 & 6.27685502 & 5.6307392 & ⋯ & 5.9347951 & 5.7372670 & 6.2334328 & 6.2235198 & 5.9362710 & 6.1094388 & 5.7242487 & 6.160191 & 6.0321724 & 5.201384\\\\\n",
       "\t310 & 0.3184508 & 0.09673801 & 1.033084 & 0.3568963 & 0.362589 & 1.189082 & 1.777058 & 0.8940684 & 0.09737859 & 0.5484603 & ⋯ & 0.2165141 & 0.9837329 & 0.1862593 & 0.3895531 & 0.5744167 & 0.8726518 & 0.4208739 & 1.574094 & 0.6045389 & 2.394029\\\\\n",
       "\\end{tabular}\n"
      ],
      "text/markdown": [
       "\n",
       "A data.frame: 6 × 134\n",
       "\n",
       "| <!--/--> | DLDR_0036 &lt;dbl&gt; | DLDR_0081 &lt;dbl&gt; | DLDR_0191 &lt;dbl&gt; | DLDR_0188 &lt;dbl&gt; | DLDR_0130 &lt;dbl&gt; | DLDR_0013 &lt;dbl&gt; | DLDR_0079 &lt;dbl&gt; | DLDR_0131 &lt;dbl&gt; | DLDR_0135 &lt;dbl&gt; | DLDR_0190 &lt;dbl&gt; | ⋯ ⋯ | DLDR_0175 &lt;dbl&gt; | DLDR_0052 &lt;dbl&gt; | DLDR_0087 &lt;dbl&gt; | DLDR_0155 &lt;dbl&gt; | DLDR_0092 &lt;dbl&gt; | DLDR_0187 &lt;dbl&gt; | DLDR_0186 &lt;dbl&gt; | DLDR_0179 &lt;dbl&gt; | DLDR_0182 &lt;dbl&gt; | DLDR_0001 &lt;dbl&gt; |\n",
       "|---|---|---|---|---|---|---|---|---|---|---|---|---|---|---|---|---|---|---|---|---|---|\n",
       "| 10 | 4.5895546 | 5.48216905 | 5.013154 | 5.0660709 | 4.655817 | 4.299078 | 4.752957 | 5.4095139 | 4.99377681 | 4.5285302 | ⋯ | 4.8535651 | 4.5671727 | 4.9851582 | 5.2347762 | 4.9007545 | 4.9230866 | 5.0044999 | 5.058062 | 5.0024535 | 4.221450 |\n",
       "| 17 | 5.4498461 | 5.62655895 | 5.668470 | 5.8249308 | 5.645748 | 5.172477 | 5.550495 | 5.4456837 | 5.82529905 | 5.6696779 | ⋯ | 5.5740661 | 5.2507565 | 6.0089895 | 6.0142514 | 5.9716329 | 5.7074875 | 5.7846679 | 5.655138 | 5.9198271 | 5.086468 |\n",
       "| 67 | 5.5138387 | 6.02747535 | 6.073207 | 5.8621856 | 5.755947 | 4.997887 | 5.706940 | 5.7806501 | 6.01986604 | 5.8642174 | ⋯ | 5.7565851 | 5.4751801 | 5.9818563 | 5.8731974 | 5.8628355 | 5.8325646 | 5.7705851 | 5.658351 | 6.0170439 | 5.071807 |\n",
       "| 278 | 5.5299023 | 5.84627227 | 5.553583 | 5.3592673 | 5.774549 | 4.962662 | 5.201300 | 5.5002050 | 5.78205099 | 5.4935472 | ⋯ | 5.8620666 | 5.0386033 | 5.6652311 | 5.7811395 | 5.7451593 | 5.4380615 | 5.5701694 | 5.558701 | 5.7338219 | 5.220121 |\n",
       "| 301 | 5.7134081 | 6.17141469 | 5.919896 | 6.0819486 | 5.670238 | 5.175044 | 5.884826 | 5.8896988 | 6.27685502 | 5.6307392 | ⋯ | 5.9347951 | 5.7372670 | 6.2334328 | 6.2235198 | 5.9362710 | 6.1094388 | 5.7242487 | 6.160191 | 6.0321724 | 5.201384 |\n",
       "| 310 | 0.3184508 | 0.09673801 | 1.033084 | 0.3568963 | 0.362589 | 1.189082 | 1.777058 | 0.8940684 | 0.09737859 | 0.5484603 | ⋯ | 0.2165141 | 0.9837329 | 0.1862593 | 0.3895531 | 0.5744167 | 0.8726518 | 0.4208739 | 1.574094 | 0.6045389 | 2.394029 |\n",
       "\n"
      ],
      "text/plain": [
       "    DLDR_0036 DLDR_0081  DLDR_0191 DLDR_0188 DLDR_0130 DLDR_0013 DLDR_0079\n",
       "10  4.5895546 5.48216905 5.013154  5.0660709 4.655817  4.299078  4.752957 \n",
       "17  5.4498461 5.62655895 5.668470  5.8249308 5.645748  5.172477  5.550495 \n",
       "67  5.5138387 6.02747535 6.073207  5.8621856 5.755947  4.997887  5.706940 \n",
       "278 5.5299023 5.84627227 5.553583  5.3592673 5.774549  4.962662  5.201300 \n",
       "301 5.7134081 6.17141469 5.919896  6.0819486 5.670238  5.175044  5.884826 \n",
       "310 0.3184508 0.09673801 1.033084  0.3568963 0.362589  1.189082  1.777058 \n",
       "    DLDR_0131 DLDR_0135  DLDR_0190 ⋯ DLDR_0175 DLDR_0052 DLDR_0087 DLDR_0155\n",
       "10  5.4095139 4.99377681 4.5285302 ⋯ 4.8535651 4.5671727 4.9851582 5.2347762\n",
       "17  5.4456837 5.82529905 5.6696779 ⋯ 5.5740661 5.2507565 6.0089895 6.0142514\n",
       "67  5.7806501 6.01986604 5.8642174 ⋯ 5.7565851 5.4751801 5.9818563 5.8731974\n",
       "278 5.5002050 5.78205099 5.4935472 ⋯ 5.8620666 5.0386033 5.6652311 5.7811395\n",
       "301 5.8896988 6.27685502 5.6307392 ⋯ 5.9347951 5.7372670 6.2334328 6.2235198\n",
       "310 0.8940684 0.09737859 0.5484603 ⋯ 0.2165141 0.9837329 0.1862593 0.3895531\n",
       "    DLDR_0092 DLDR_0187 DLDR_0186 DLDR_0179 DLDR_0182 DLDR_0001\n",
       "10  4.9007545 4.9230866 5.0044999 5.058062  5.0024535 4.221450 \n",
       "17  5.9716329 5.7074875 5.7846679 5.655138  5.9198271 5.086468 \n",
       "67  5.8628355 5.8325646 5.7705851 5.658351  6.0170439 5.071807 \n",
       "278 5.7451593 5.4380615 5.5701694 5.558701  5.7338219 5.220121 \n",
       "301 5.9362710 6.1094388 5.7242487 6.160191  6.0321724 5.201384 \n",
       "310 0.5744167 0.8726518 0.4208739 1.574094  0.6045389 2.394029 "
      ]
     },
     "metadata": {},
     "output_type": "display_data"
    }
   ],
   "source": [
    "common_genes <- intersect(rownames(normal_counts), genes_fib_vs_norm_names)\n",
    "selected_normal_counts <- normal_counts[common_genes, ]\n",
    "head(selected_normal_counts)"
   ]
  },
  {
   "cell_type": "code",
   "execution_count": 38,
   "id": "91ed8cec-98ef-4cb8-a39e-7189f215f971",
   "metadata": {},
   "outputs": [
    {
     "data": {
      "text/html": [
       "<style>\n",
       ".list-inline {list-style: none; margin:0; padding: 0}\n",
       ".list-inline>li {display: inline-block}\n",
       ".list-inline>li:not(:last-child)::after {content: \"\\00b7\"; padding: 0 .5ex}\n",
       "</style>\n",
       "<ol class=list-inline><li>300</li><li>134</li></ol>\n"
      ],
      "text/latex": [
       "\\begin{enumerate*}\n",
       "\\item 300\n",
       "\\item 134\n",
       "\\end{enumerate*}\n"
      ],
      "text/markdown": [
       "1. 300\n",
       "2. 134\n",
       "\n",
       "\n"
      ],
      "text/plain": [
       "[1] 300 134"
      ]
     },
     "metadata": {},
     "output_type": "display_data"
    }
   ],
   "source": [
    "dim(selected_normal_counts)"
   ]
  },
  {
   "cell_type": "markdown",
   "id": "ffa100a6-ab5c-47ca-99c7-6a48a0285336",
   "metadata": {},
   "source": [
    "We extracted a subset from the data based on selected features. Let's save it and continue with the second machine."
   ]
  },
  {
   "cell_type": "code",
   "execution_count": 39,
   "id": "86e4b69b-8ec0-4913-97f2-8f56562f716d",
   "metadata": {},
   "outputs": [],
   "source": [
    "write.csv(selected_normal_counts, \"subset_data1.csv\")\n",
    "write.csv(meta_data, \"meta_data1.csv\")"
   ]
  },
  {
   "cell_type": "markdown",
   "id": "39863dcc-2bda-4673-869f-805679efb83c",
   "metadata": {},
   "source": [
    "## Second Machine ##"
   ]
  },
  {
   "cell_type": "code",
   "execution_count": 40,
   "id": "bbfa79d6-76a7-4052-9d0d-36ddc654ea68",
   "metadata": {},
   "outputs": [],
   "source": [
    "meta_data <- subset(meta_data, Simplified_class != 'Normal')"
   ]
  },
  {
   "cell_type": "code",
   "execution_count": 41,
   "id": "a09dc46d-276e-460d-b9f7-d34ebc8ae90c",
   "metadata": {},
   "outputs": [
    {
     "data": {
      "text/html": [
       "<table class=\"dataframe\">\n",
       "<caption>A data.frame: 6 × 2</caption>\n",
       "<thead>\n",
       "\t<tr><th></th><th scope=col>Simplified_class</th><th scope=col>class</th></tr>\n",
       "\t<tr><th></th><th scope=col>&lt;chr&gt;</th><th scope=col>&lt;chr&gt;</th></tr>\n",
       "</thead>\n",
       "<tbody>\n",
       "\t<tr><th scope=row>2</th><td>Advanced_fibrosis    </td><td>Fibrosis</td></tr>\n",
       "\t<tr><th scope=row>5</th><td>Non_advanced_Fibrosis</td><td>Fibrosis</td></tr>\n",
       "\t<tr><th scope=row>7</th><td>Advanced_fibrosis    </td><td>Fibrosis</td></tr>\n",
       "\t<tr><th scope=row>8</th><td>Non_advanced_Fibrosis</td><td>Fibrosis</td></tr>\n",
       "\t<tr><th scope=row>9</th><td>Non_advanced_Fibrosis</td><td>Fibrosis</td></tr>\n",
       "\t<tr><th scope=row>11</th><td>Advanced_fibrosis    </td><td>Fibrosis</td></tr>\n",
       "</tbody>\n",
       "</table>\n"
      ],
      "text/latex": [
       "A data.frame: 6 × 2\n",
       "\\begin{tabular}{r|ll}\n",
       "  & Simplified\\_class & class\\\\\n",
       "  & <chr> & <chr>\\\\\n",
       "\\hline\n",
       "\t2 & Advanced\\_fibrosis     & Fibrosis\\\\\n",
       "\t5 & Non\\_advanced\\_Fibrosis & Fibrosis\\\\\n",
       "\t7 & Advanced\\_fibrosis     & Fibrosis\\\\\n",
       "\t8 & Non\\_advanced\\_Fibrosis & Fibrosis\\\\\n",
       "\t9 & Non\\_advanced\\_Fibrosis & Fibrosis\\\\\n",
       "\t11 & Advanced\\_fibrosis     & Fibrosis\\\\\n",
       "\\end{tabular}\n"
      ],
      "text/markdown": [
       "\n",
       "A data.frame: 6 × 2\n",
       "\n",
       "| <!--/--> | Simplified_class &lt;chr&gt; | class &lt;chr&gt; |\n",
       "|---|---|---|\n",
       "| 2 | Advanced_fibrosis     | Fibrosis |\n",
       "| 5 | Non_advanced_Fibrosis | Fibrosis |\n",
       "| 7 | Advanced_fibrosis     | Fibrosis |\n",
       "| 8 | Non_advanced_Fibrosis | Fibrosis |\n",
       "| 9 | Non_advanced_Fibrosis | Fibrosis |\n",
       "| 11 | Advanced_fibrosis     | Fibrosis |\n",
       "\n"
      ],
      "text/plain": [
       "   Simplified_class      class   \n",
       "2  Advanced_fibrosis     Fibrosis\n",
       "5  Non_advanced_Fibrosis Fibrosis\n",
       "7  Advanced_fibrosis     Fibrosis\n",
       "8  Non_advanced_Fibrosis Fibrosis\n",
       "9  Non_advanced_Fibrosis Fibrosis\n",
       "11 Advanced_fibrosis     Fibrosis"
      ]
     },
     "metadata": {},
     "output_type": "display_data"
    }
   ],
   "source": [
    "head(meta_data)"
   ]
  },
  {
   "cell_type": "code",
   "execution_count": 42,
   "id": "7b17fbf1-21ac-41a9-8079-5292f4db9f3b",
   "metadata": {},
   "outputs": [
    {
     "data": {
      "text/html": [
       "<style>\n",
       ".list-inline {list-style: none; margin:0; padding: 0}\n",
       ".list-inline>li {display: inline-block}\n",
       ".list-inline>li:not(:last-child)::after {content: \"\\00b7\"; padding: 0 .5ex}\n",
       "</style>\n",
       "<ol class=list-inline><li>90</li><li>2</li></ol>\n"
      ],
      "text/latex": [
       "\\begin{enumerate*}\n",
       "\\item 90\n",
       "\\item 2\n",
       "\\end{enumerate*}\n"
      ],
      "text/markdown": [
       "1. 90\n",
       "2. 2\n",
       "\n",
       "\n"
      ],
      "text/plain": [
       "[1] 90  2"
      ]
     },
     "metadata": {},
     "output_type": "display_data"
    }
   ],
   "source": [
    "dim(meta_data)"
   ]
  },
  {
   "cell_type": "code",
   "execution_count": 43,
   "id": "a6c6efef-faf6-4a4b-9e7b-58dbe1eaeefa",
   "metadata": {},
   "outputs": [
    {
     "data": {
      "text/html": [
       "<style>\n",
       ".list-inline {list-style: none; margin:0; padding: 0}\n",
       ".list-inline>li {display: inline-block}\n",
       ".list-inline>li:not(:last-child)::after {content: \"\\00b7\"; padding: 0 .5ex}\n",
       "</style>\n",
       "<ol class=list-inline><li>'2'</li><li>'5'</li><li>'7'</li><li>'8'</li><li>'9'</li><li>'11'</li><li>'12'</li><li>'13'</li><li>'14'</li><li>'15'</li><li>'16'</li><li>'21'</li><li>'22'</li><li>'23'</li><li>'24'</li><li>'25'</li><li>'26'</li><li>'28'</li><li>'30'</li><li>'31'</li><li>'32'</li><li>'33'</li><li>'36'</li><li>'37'</li><li>'38'</li><li>'39'</li><li>'40'</li><li>'41'</li><li>'42'</li><li>'43'</li><li>'44'</li><li>'45'</li><li>'46'</li><li>'48'</li><li>'49'</li><li>'50'</li><li>'51'</li><li>'52'</li><li>'54'</li><li>'56'</li><li>'57'</li><li>'58'</li><li>'62'</li><li>'63'</li><li>'64'</li><li>'67'</li><li>'69'</li><li>'70'</li><li>'71'</li><li>'72'</li><li>'74'</li><li>'75'</li><li>'77'</li><li>'78'</li><li>'79'</li><li>'80'</li><li>'81'</li><li>'83'</li><li>'84'</li><li>'85'</li><li>'86'</li><li>'88'</li><li>'89'</li><li>'90'</li><li>'91'</li><li>'94'</li><li>'95'</li><li>'96'</li><li>'97'</li><li>'98'</li><li>'99'</li><li>'100'</li><li>'103'</li><li>'104'</li><li>'107'</li><li>'108'</li><li>'109'</li><li>'111'</li><li>'112'</li><li>'115'</li><li>'118'</li><li>'119'</li><li>'120'</li><li>'122'</li><li>'123'</li><li>'124'</li><li>'125'</li><li>'127'</li><li>'128'</li><li>'129'</li></ol>\n"
      ],
      "text/latex": [
       "\\begin{enumerate*}\n",
       "\\item '2'\n",
       "\\item '5'\n",
       "\\item '7'\n",
       "\\item '8'\n",
       "\\item '9'\n",
       "\\item '11'\n",
       "\\item '12'\n",
       "\\item '13'\n",
       "\\item '14'\n",
       "\\item '15'\n",
       "\\item '16'\n",
       "\\item '21'\n",
       "\\item '22'\n",
       "\\item '23'\n",
       "\\item '24'\n",
       "\\item '25'\n",
       "\\item '26'\n",
       "\\item '28'\n",
       "\\item '30'\n",
       "\\item '31'\n",
       "\\item '32'\n",
       "\\item '33'\n",
       "\\item '36'\n",
       "\\item '37'\n",
       "\\item '38'\n",
       "\\item '39'\n",
       "\\item '40'\n",
       "\\item '41'\n",
       "\\item '42'\n",
       "\\item '43'\n",
       "\\item '44'\n",
       "\\item '45'\n",
       "\\item '46'\n",
       "\\item '48'\n",
       "\\item '49'\n",
       "\\item '50'\n",
       "\\item '51'\n",
       "\\item '52'\n",
       "\\item '54'\n",
       "\\item '56'\n",
       "\\item '57'\n",
       "\\item '58'\n",
       "\\item '62'\n",
       "\\item '63'\n",
       "\\item '64'\n",
       "\\item '67'\n",
       "\\item '69'\n",
       "\\item '70'\n",
       "\\item '71'\n",
       "\\item '72'\n",
       "\\item '74'\n",
       "\\item '75'\n",
       "\\item '77'\n",
       "\\item '78'\n",
       "\\item '79'\n",
       "\\item '80'\n",
       "\\item '81'\n",
       "\\item '83'\n",
       "\\item '84'\n",
       "\\item '85'\n",
       "\\item '86'\n",
       "\\item '88'\n",
       "\\item '89'\n",
       "\\item '90'\n",
       "\\item '91'\n",
       "\\item '94'\n",
       "\\item '95'\n",
       "\\item '96'\n",
       "\\item '97'\n",
       "\\item '98'\n",
       "\\item '99'\n",
       "\\item '100'\n",
       "\\item '103'\n",
       "\\item '104'\n",
       "\\item '107'\n",
       "\\item '108'\n",
       "\\item '109'\n",
       "\\item '111'\n",
       "\\item '112'\n",
       "\\item '115'\n",
       "\\item '118'\n",
       "\\item '119'\n",
       "\\item '120'\n",
       "\\item '122'\n",
       "\\item '123'\n",
       "\\item '124'\n",
       "\\item '125'\n",
       "\\item '127'\n",
       "\\item '128'\n",
       "\\item '129'\n",
       "\\end{enumerate*}\n"
      ],
      "text/markdown": [
       "1. '2'\n",
       "2. '5'\n",
       "3. '7'\n",
       "4. '8'\n",
       "5. '9'\n",
       "6. '11'\n",
       "7. '12'\n",
       "8. '13'\n",
       "9. '14'\n",
       "10. '15'\n",
       "11. '16'\n",
       "12. '21'\n",
       "13. '22'\n",
       "14. '23'\n",
       "15. '24'\n",
       "16. '25'\n",
       "17. '26'\n",
       "18. '28'\n",
       "19. '30'\n",
       "20. '31'\n",
       "21. '32'\n",
       "22. '33'\n",
       "23. '36'\n",
       "24. '37'\n",
       "25. '38'\n",
       "26. '39'\n",
       "27. '40'\n",
       "28. '41'\n",
       "29. '42'\n",
       "30. '43'\n",
       "31. '44'\n",
       "32. '45'\n",
       "33. '46'\n",
       "34. '48'\n",
       "35. '49'\n",
       "36. '50'\n",
       "37. '51'\n",
       "38. '52'\n",
       "39. '54'\n",
       "40. '56'\n",
       "41. '57'\n",
       "42. '58'\n",
       "43. '62'\n",
       "44. '63'\n",
       "45. '64'\n",
       "46. '67'\n",
       "47. '69'\n",
       "48. '70'\n",
       "49. '71'\n",
       "50. '72'\n",
       "51. '74'\n",
       "52. '75'\n",
       "53. '77'\n",
       "54. '78'\n",
       "55. '79'\n",
       "56. '80'\n",
       "57. '81'\n",
       "58. '83'\n",
       "59. '84'\n",
       "60. '85'\n",
       "61. '86'\n",
       "62. '88'\n",
       "63. '89'\n",
       "64. '90'\n",
       "65. '91'\n",
       "66. '94'\n",
       "67. '95'\n",
       "68. '96'\n",
       "69. '97'\n",
       "70. '98'\n",
       "71. '99'\n",
       "72. '100'\n",
       "73. '103'\n",
       "74. '104'\n",
       "75. '107'\n",
       "76. '108'\n",
       "77. '109'\n",
       "78. '111'\n",
       "79. '112'\n",
       "80. '115'\n",
       "81. '118'\n",
       "82. '119'\n",
       "83. '120'\n",
       "84. '122'\n",
       "85. '123'\n",
       "86. '124'\n",
       "87. '125'\n",
       "88. '127'\n",
       "89. '128'\n",
       "90. '129'\n",
       "\n",
       "\n"
      ],
      "text/plain": [
       " [1] \"2\"   \"5\"   \"7\"   \"8\"   \"9\"   \"11\"  \"12\"  \"13\"  \"14\"  \"15\"  \"16\"  \"21\" \n",
       "[13] \"22\"  \"23\"  \"24\"  \"25\"  \"26\"  \"28\"  \"30\"  \"31\"  \"32\"  \"33\"  \"36\"  \"37\" \n",
       "[25] \"38\"  \"39\"  \"40\"  \"41\"  \"42\"  \"43\"  \"44\"  \"45\"  \"46\"  \"48\"  \"49\"  \"50\" \n",
       "[37] \"51\"  \"52\"  \"54\"  \"56\"  \"57\"  \"58\"  \"62\"  \"63\"  \"64\"  \"67\"  \"69\"  \"70\" \n",
       "[49] \"71\"  \"72\"  \"74\"  \"75\"  \"77\"  \"78\"  \"79\"  \"80\"  \"81\"  \"83\"  \"84\"  \"85\" \n",
       "[61] \"86\"  \"88\"  \"89\"  \"90\"  \"91\"  \"94\"  \"95\"  \"96\"  \"97\"  \"98\"  \"99\"  \"100\"\n",
       "[73] \"103\" \"104\" \"107\" \"108\" \"109\" \"111\" \"112\" \"115\" \"118\" \"119\" \"120\" \"122\"\n",
       "[85] \"123\" \"124\" \"125\" \"127\" \"128\" \"129\""
      ]
     },
     "metadata": {},
     "output_type": "display_data"
    }
   ],
   "source": [
    "rownames(meta_data)"
   ]
  },
  {
   "cell_type": "code",
   "execution_count": 44,
   "id": "56c3ef25-84e8-4ad2-99dc-095df2d51002",
   "metadata": {},
   "outputs": [],
   "source": [
    "fibrosis_normal_counts <- normal_counts[as.integer(rownames(meta_data))]"
   ]
  },
  {
   "cell_type": "code",
   "execution_count": 45,
   "id": "8f7158d3-9a65-43c6-878a-4c83e4de347f",
   "metadata": {},
   "outputs": [
    {
     "data": {
      "text/html": [
       "<table class=\"dataframe\">\n",
       "<caption>A data.frame: 6 × 90</caption>\n",
       "<thead>\n",
       "\t<tr><th></th><th scope=col>DLDR_0081</th><th scope=col>DLDR_0130</th><th scope=col>DLDR_0079</th><th scope=col>DLDR_0131</th><th scope=col>DLDR_0135</th><th scope=col>DLDR_0095</th><th scope=col>DLDR_0097</th><th scope=col>DLDR_0086</th><th scope=col>DLDR_0149</th><th scope=col>DLDR_0044</th><th scope=col>⋯</th><th scope=col>DLDR_0166</th><th scope=col>DLDR_0089</th><th scope=col>DLDR_0141</th><th scope=col>DLDR_0111</th><th scope=col>DLDR_0136</th><th scope=col>DLDR_0134</th><th scope=col>DLDR_0175</th><th scope=col>DLDR_0087</th><th scope=col>DLDR_0155</th><th scope=col>DLDR_0092</th></tr>\n",
       "\t<tr><th></th><th scope=col>&lt;dbl&gt;</th><th scope=col>&lt;dbl&gt;</th><th scope=col>&lt;dbl&gt;</th><th scope=col>&lt;dbl&gt;</th><th scope=col>&lt;dbl&gt;</th><th scope=col>&lt;dbl&gt;</th><th scope=col>&lt;dbl&gt;</th><th scope=col>&lt;dbl&gt;</th><th scope=col>&lt;dbl&gt;</th><th scope=col>&lt;dbl&gt;</th><th scope=col>⋯</th><th scope=col>&lt;dbl&gt;</th><th scope=col>&lt;dbl&gt;</th><th scope=col>&lt;dbl&gt;</th><th scope=col>&lt;dbl&gt;</th><th scope=col>&lt;dbl&gt;</th><th scope=col>&lt;dbl&gt;</th><th scope=col>&lt;dbl&gt;</th><th scope=col>&lt;dbl&gt;</th><th scope=col>&lt;dbl&gt;</th><th scope=col>&lt;dbl&gt;</th></tr>\n",
       "</thead>\n",
       "<tbody>\n",
       "\t<tr><th scope=row>1</th><td>6.5462994</td><td> 6.550016</td><td> 5.9652146</td><td>6.436726</td><td>6.3378589</td><td> 6.432976</td><td> 6.268976</td><td>6.7395306</td><td> 6.7404826</td><td> 5.689253</td><td>⋯</td><td> 6.8765094</td><td>6.9340665</td><td>6.6000053</td><td>6.4707867</td><td> 6.0799502</td><td> 6.1192447</td><td>6.85952138</td><td> 6.6352203</td><td>6.693334</td><td>6.26633823</td></tr>\n",
       "\t<tr><th scope=row>2</th><td>0.5821648</td><td>-1.222374</td><td>-0.2056643</td><td>1.225274</td><td>0.3287041</td><td>-1.235636</td><td>-2.378483</td><td>0.2980298</td><td>-0.8093479</td><td>-1.246025</td><td>⋯</td><td>-0.8545833</td><td>0.1054011</td><td>0.9989488</td><td>0.2178724</td><td>-0.3480662</td><td>-0.4492898</td><td>0.03594184</td><td>-0.4658174</td><td>1.603149</td><td>0.08898988</td></tr>\n",
       "\t<tr><th scope=row>3</th><td>3.7520898</td><td> 4.534941</td><td> 3.1093774</td><td>4.104779</td><td>4.6099902</td><td> 4.061103</td><td> 4.097251</td><td>4.2049204</td><td> 4.6702399</td><td> 4.245828</td><td>⋯</td><td> 4.2014221</td><td>3.8919974</td><td>4.8759379</td><td>4.6599428</td><td> 4.5581065</td><td> 4.3102366</td><td>4.12340468</td><td> 4.3778794</td><td>4.473400</td><td>4.31945643</td></tr>\n",
       "\t<tr><th scope=row>4</th><td>4.6451746</td><td> 4.370763</td><td> 4.8092861</td><td>4.411547</td><td>4.3253607</td><td> 4.620430</td><td> 4.191373</td><td>4.2132597</td><td> 4.4935629</td><td> 4.706380</td><td>⋯</td><td> 4.3444346</td><td>4.1351484</td><td>4.9302925</td><td>3.8586881</td><td> 4.4179435</td><td> 4.4967901</td><td>4.76204644</td><td> 4.2298584</td><td>4.755317</td><td>4.38806704</td></tr>\n",
       "\t<tr><th scope=row>5</th><td>3.8408991</td><td> 3.512952</td><td> 3.9527651</td><td>3.099743</td><td>3.3085263</td><td> 3.682309</td><td> 3.643885</td><td>3.3367102</td><td> 3.2119626</td><td> 3.467163</td><td>⋯</td><td> 3.4332830</td><td>2.2645997</td><td>3.3930267</td><td>3.0252273</td><td> 3.4912316</td><td> 3.1615746</td><td>3.95559973</td><td> 3.6972213</td><td>4.027257</td><td>3.97372734</td></tr>\n",
       "\t<tr><th scope=row>6</th><td>3.2010747</td><td> 2.517867</td><td> 2.7857226</td><td>3.357725</td><td>1.9136666</td><td> 1.506867</td><td> 2.145079</td><td>2.9741402</td><td> 1.5927505</td><td> 3.059160</td><td>⋯</td><td> 2.6897372</td><td>2.7063051</td><td>1.6442839</td><td>2.9811721</td><td> 2.5076855</td><td> 2.9158915</td><td>2.72896408</td><td> 2.2057995</td><td>1.576431</td><td>2.97651515</td></tr>\n",
       "</tbody>\n",
       "</table>\n"
      ],
      "text/latex": [
       "A data.frame: 6 × 90\n",
       "\\begin{tabular}{r|lllllllllllllllllllll}\n",
       "  & DLDR\\_0081 & DLDR\\_0130 & DLDR\\_0079 & DLDR\\_0131 & DLDR\\_0135 & DLDR\\_0095 & DLDR\\_0097 & DLDR\\_0086 & DLDR\\_0149 & DLDR\\_0044 & ⋯ & DLDR\\_0166 & DLDR\\_0089 & DLDR\\_0141 & DLDR\\_0111 & DLDR\\_0136 & DLDR\\_0134 & DLDR\\_0175 & DLDR\\_0087 & DLDR\\_0155 & DLDR\\_0092\\\\\n",
       "  & <dbl> & <dbl> & <dbl> & <dbl> & <dbl> & <dbl> & <dbl> & <dbl> & <dbl> & <dbl> & ⋯ & <dbl> & <dbl> & <dbl> & <dbl> & <dbl> & <dbl> & <dbl> & <dbl> & <dbl> & <dbl>\\\\\n",
       "\\hline\n",
       "\t1 & 6.5462994 &  6.550016 &  5.9652146 & 6.436726 & 6.3378589 &  6.432976 &  6.268976 & 6.7395306 &  6.7404826 &  5.689253 & ⋯ &  6.8765094 & 6.9340665 & 6.6000053 & 6.4707867 &  6.0799502 &  6.1192447 & 6.85952138 &  6.6352203 & 6.693334 & 6.26633823\\\\\n",
       "\t2 & 0.5821648 & -1.222374 & -0.2056643 & 1.225274 & 0.3287041 & -1.235636 & -2.378483 & 0.2980298 & -0.8093479 & -1.246025 & ⋯ & -0.8545833 & 0.1054011 & 0.9989488 & 0.2178724 & -0.3480662 & -0.4492898 & 0.03594184 & -0.4658174 & 1.603149 & 0.08898988\\\\\n",
       "\t3 & 3.7520898 &  4.534941 &  3.1093774 & 4.104779 & 4.6099902 &  4.061103 &  4.097251 & 4.2049204 &  4.6702399 &  4.245828 & ⋯ &  4.2014221 & 3.8919974 & 4.8759379 & 4.6599428 &  4.5581065 &  4.3102366 & 4.12340468 &  4.3778794 & 4.473400 & 4.31945643\\\\\n",
       "\t4 & 4.6451746 &  4.370763 &  4.8092861 & 4.411547 & 4.3253607 &  4.620430 &  4.191373 & 4.2132597 &  4.4935629 &  4.706380 & ⋯ &  4.3444346 & 4.1351484 & 4.9302925 & 3.8586881 &  4.4179435 &  4.4967901 & 4.76204644 &  4.2298584 & 4.755317 & 4.38806704\\\\\n",
       "\t5 & 3.8408991 &  3.512952 &  3.9527651 & 3.099743 & 3.3085263 &  3.682309 &  3.643885 & 3.3367102 &  3.2119626 &  3.467163 & ⋯ &  3.4332830 & 2.2645997 & 3.3930267 & 3.0252273 &  3.4912316 &  3.1615746 & 3.95559973 &  3.6972213 & 4.027257 & 3.97372734\\\\\n",
       "\t6 & 3.2010747 &  2.517867 &  2.7857226 & 3.357725 & 1.9136666 &  1.506867 &  2.145079 & 2.9741402 &  1.5927505 &  3.059160 & ⋯ &  2.6897372 & 2.7063051 & 1.6442839 & 2.9811721 &  2.5076855 &  2.9158915 & 2.72896408 &  2.2057995 & 1.576431 & 2.97651515\\\\\n",
       "\\end{tabular}\n"
      ],
      "text/markdown": [
       "\n",
       "A data.frame: 6 × 90\n",
       "\n",
       "| <!--/--> | DLDR_0081 &lt;dbl&gt; | DLDR_0130 &lt;dbl&gt; | DLDR_0079 &lt;dbl&gt; | DLDR_0131 &lt;dbl&gt; | DLDR_0135 &lt;dbl&gt; | DLDR_0095 &lt;dbl&gt; | DLDR_0097 &lt;dbl&gt; | DLDR_0086 &lt;dbl&gt; | DLDR_0149 &lt;dbl&gt; | DLDR_0044 &lt;dbl&gt; | ⋯ ⋯ | DLDR_0166 &lt;dbl&gt; | DLDR_0089 &lt;dbl&gt; | DLDR_0141 &lt;dbl&gt; | DLDR_0111 &lt;dbl&gt; | DLDR_0136 &lt;dbl&gt; | DLDR_0134 &lt;dbl&gt; | DLDR_0175 &lt;dbl&gt; | DLDR_0087 &lt;dbl&gt; | DLDR_0155 &lt;dbl&gt; | DLDR_0092 &lt;dbl&gt; |\n",
       "|---|---|---|---|---|---|---|---|---|---|---|---|---|---|---|---|---|---|---|---|---|---|\n",
       "| 1 | 6.5462994 |  6.550016 |  5.9652146 | 6.436726 | 6.3378589 |  6.432976 |  6.268976 | 6.7395306 |  6.7404826 |  5.689253 | ⋯ |  6.8765094 | 6.9340665 | 6.6000053 | 6.4707867 |  6.0799502 |  6.1192447 | 6.85952138 |  6.6352203 | 6.693334 | 6.26633823 |\n",
       "| 2 | 0.5821648 | -1.222374 | -0.2056643 | 1.225274 | 0.3287041 | -1.235636 | -2.378483 | 0.2980298 | -0.8093479 | -1.246025 | ⋯ | -0.8545833 | 0.1054011 | 0.9989488 | 0.2178724 | -0.3480662 | -0.4492898 | 0.03594184 | -0.4658174 | 1.603149 | 0.08898988 |\n",
       "| 3 | 3.7520898 |  4.534941 |  3.1093774 | 4.104779 | 4.6099902 |  4.061103 |  4.097251 | 4.2049204 |  4.6702399 |  4.245828 | ⋯ |  4.2014221 | 3.8919974 | 4.8759379 | 4.6599428 |  4.5581065 |  4.3102366 | 4.12340468 |  4.3778794 | 4.473400 | 4.31945643 |\n",
       "| 4 | 4.6451746 |  4.370763 |  4.8092861 | 4.411547 | 4.3253607 |  4.620430 |  4.191373 | 4.2132597 |  4.4935629 |  4.706380 | ⋯ |  4.3444346 | 4.1351484 | 4.9302925 | 3.8586881 |  4.4179435 |  4.4967901 | 4.76204644 |  4.2298584 | 4.755317 | 4.38806704 |\n",
       "| 5 | 3.8408991 |  3.512952 |  3.9527651 | 3.099743 | 3.3085263 |  3.682309 |  3.643885 | 3.3367102 |  3.2119626 |  3.467163 | ⋯ |  3.4332830 | 2.2645997 | 3.3930267 | 3.0252273 |  3.4912316 |  3.1615746 | 3.95559973 |  3.6972213 | 4.027257 | 3.97372734 |\n",
       "| 6 | 3.2010747 |  2.517867 |  2.7857226 | 3.357725 | 1.9136666 |  1.506867 |  2.145079 | 2.9741402 |  1.5927505 |  3.059160 | ⋯ |  2.6897372 | 2.7063051 | 1.6442839 | 2.9811721 |  2.5076855 |  2.9158915 | 2.72896408 |  2.2057995 | 1.576431 | 2.97651515 |\n",
       "\n"
      ],
      "text/plain": [
       "  DLDR_0081 DLDR_0130 DLDR_0079  DLDR_0131 DLDR_0135 DLDR_0095 DLDR_0097\n",
       "1 6.5462994  6.550016  5.9652146 6.436726  6.3378589  6.432976  6.268976\n",
       "2 0.5821648 -1.222374 -0.2056643 1.225274  0.3287041 -1.235636 -2.378483\n",
       "3 3.7520898  4.534941  3.1093774 4.104779  4.6099902  4.061103  4.097251\n",
       "4 4.6451746  4.370763  4.8092861 4.411547  4.3253607  4.620430  4.191373\n",
       "5 3.8408991  3.512952  3.9527651 3.099743  3.3085263  3.682309  3.643885\n",
       "6 3.2010747  2.517867  2.7857226 3.357725  1.9136666  1.506867  2.145079\n",
       "  DLDR_0086 DLDR_0149  DLDR_0044 ⋯ DLDR_0166  DLDR_0089 DLDR_0141 DLDR_0111\n",
       "1 6.7395306  6.7404826  5.689253 ⋯  6.8765094 6.9340665 6.6000053 6.4707867\n",
       "2 0.2980298 -0.8093479 -1.246025 ⋯ -0.8545833 0.1054011 0.9989488 0.2178724\n",
       "3 4.2049204  4.6702399  4.245828 ⋯  4.2014221 3.8919974 4.8759379 4.6599428\n",
       "4 4.2132597  4.4935629  4.706380 ⋯  4.3444346 4.1351484 4.9302925 3.8586881\n",
       "5 3.3367102  3.2119626  3.467163 ⋯  3.4332830 2.2645997 3.3930267 3.0252273\n",
       "6 2.9741402  1.5927505  3.059160 ⋯  2.6897372 2.7063051 1.6442839 2.9811721\n",
       "  DLDR_0136  DLDR_0134  DLDR_0175  DLDR_0087  DLDR_0155 DLDR_0092 \n",
       "1  6.0799502  6.1192447 6.85952138  6.6352203 6.693334  6.26633823\n",
       "2 -0.3480662 -0.4492898 0.03594184 -0.4658174 1.603149  0.08898988\n",
       "3  4.5581065  4.3102366 4.12340468  4.3778794 4.473400  4.31945643\n",
       "4  4.4179435  4.4967901 4.76204644  4.2298584 4.755317  4.38806704\n",
       "5  3.4912316  3.1615746 3.95559973  3.6972213 4.027257  3.97372734\n",
       "6  2.5076855  2.9158915 2.72896408  2.2057995 1.576431  2.97651515"
      ]
     },
     "metadata": {},
     "output_type": "display_data"
    }
   ],
   "source": [
    "head(fibrosis_normal_counts)"
   ]
  },
  {
   "cell_type": "code",
   "execution_count": 46,
   "id": "bc6fa345-dd41-4863-a498-28a2cf741ead",
   "metadata": {},
   "outputs": [
    {
     "data": {
      "text/html": [
       "<style>\n",
       ".list-inline {list-style: none; margin:0; padding: 0}\n",
       ".list-inline>li {display: inline-block}\n",
       ".list-inline>li:not(:last-child)::after {content: \"\\00b7\"; padding: 0 .5ex}\n",
       "</style>\n",
       "<ol class=list-inline><li>17396</li><li>90</li></ol>\n"
      ],
      "text/latex": [
       "\\begin{enumerate*}\n",
       "\\item 17396\n",
       "\\item 90\n",
       "\\end{enumerate*}\n"
      ],
      "text/markdown": [
       "1. 17396\n",
       "2. 90\n",
       "\n",
       "\n"
      ],
      "text/plain": [
       "[1] 17396    90"
      ]
     },
     "metadata": {},
     "output_type": "display_data"
    }
   ],
   "source": [
    "dim(fibrosis_normal_counts)"
   ]
  },
  {
   "cell_type": "code",
   "execution_count": 47,
   "id": "a3f1914a-3832-47a8-ba4c-e30cc01f6047",
   "metadata": {},
   "outputs": [],
   "source": [
    "labels <- factor(meta_data$Simplified_class)"
   ]
  },
  {
   "cell_type": "code",
   "execution_count": 48,
   "id": "0ed4b4b1-9640-48db-9e25-984b6190823f",
   "metadata": {},
   "outputs": [
    {
     "name": "stdout",
     "output_type": "stream",
     "text": [
      " [1] Advanced_fibrosis     Non_advanced_Fibrosis Advanced_fibrosis    \n",
      " [4] Non_advanced_Fibrosis Non_advanced_Fibrosis Advanced_fibrosis    \n",
      " [7] Advanced_fibrosis     Advanced_fibrosis     Non_advanced_Fibrosis\n",
      "[10] Advanced_fibrosis     Advanced_fibrosis     Advanced_fibrosis    \n",
      "[13] Advanced_fibrosis     Non_advanced_Fibrosis Non_advanced_Fibrosis\n",
      "[16] Advanced_fibrosis     Non_advanced_Fibrosis Non_advanced_Fibrosis\n",
      "[19] Advanced_fibrosis     Advanced_fibrosis     Advanced_fibrosis    \n",
      "[22] Advanced_fibrosis     Non_advanced_Fibrosis Non_advanced_Fibrosis\n",
      "[25] Advanced_fibrosis     Advanced_fibrosis     Non_advanced_Fibrosis\n",
      "[28] Advanced_fibrosis     Advanced_fibrosis     Advanced_fibrosis    \n",
      "[31] Advanced_fibrosis     Non_advanced_Fibrosis Non_advanced_Fibrosis\n",
      "[34] Advanced_fibrosis     Advanced_fibrosis     Advanced_fibrosis    \n",
      "[37] Non_advanced_Fibrosis Advanced_fibrosis     Non_advanced_Fibrosis\n",
      "[40] Advanced_fibrosis     Advanced_fibrosis     Non_advanced_Fibrosis\n",
      "[43] Non_advanced_Fibrosis Advanced_fibrosis     Advanced_fibrosis    \n",
      "[46] Advanced_fibrosis     Advanced_fibrosis     Advanced_fibrosis    \n",
      "[49] Advanced_fibrosis     Advanced_fibrosis     Advanced_fibrosis    \n",
      "[52] Non_advanced_Fibrosis Advanced_fibrosis     Advanced_fibrosis    \n",
      "[55] Non_advanced_Fibrosis Non_advanced_Fibrosis Advanced_fibrosis    \n",
      "[58] Advanced_fibrosis     Non_advanced_Fibrosis Non_advanced_Fibrosis\n",
      "[61] Advanced_fibrosis     Non_advanced_Fibrosis Advanced_fibrosis    \n",
      "[64] Non_advanced_Fibrosis Advanced_fibrosis     Advanced_fibrosis    \n",
      "[67] Non_advanced_Fibrosis Non_advanced_Fibrosis Non_advanced_Fibrosis\n",
      "[70] Advanced_fibrosis     Advanced_fibrosis     Advanced_fibrosis    \n",
      "[73] Non_advanced_Fibrosis Non_advanced_Fibrosis Advanced_fibrosis    \n",
      "[76] Non_advanced_Fibrosis Non_advanced_Fibrosis Advanced_fibrosis    \n",
      "[79] Non_advanced_Fibrosis Advanced_fibrosis     Non_advanced_Fibrosis\n",
      "[82] Advanced_fibrosis     Non_advanced_Fibrosis Advanced_fibrosis    \n",
      "[85] Non_advanced_Fibrosis Non_advanced_Fibrosis Non_advanced_Fibrosis\n",
      "[88] Advanced_fibrosis     Non_advanced_Fibrosis Advanced_fibrosis    \n",
      "Levels: Advanced_fibrosis Non_advanced_Fibrosis\n"
     ]
    }
   ],
   "source": [
    "print(labels)"
   ]
  },
  {
   "cell_type": "markdown",
   "id": "71789de2-055f-4725-ae0a-bec4d2b23483",
   "metadata": {},
   "source": [
    "Let's perform DE analysis"
   ]
  },
  {
   "cell_type": "code",
   "execution_count": 49,
   "id": "5797abe1-cf46-4f40-a29d-26edef56ccd4",
   "metadata": {},
   "outputs": [],
   "source": [
    "# Create a design matrix\n",
    "design <- model.matrix(~0 + labels)\n",
    "colnames(design) <- levels(labels)"
   ]
  },
  {
   "cell_type": "code",
   "execution_count": 50,
   "id": "6bce9557-d9d9-4c14-abf8-b181f5d6062f",
   "metadata": {},
   "outputs": [],
   "source": [
    "fit <- lmFit(fibrosis_normal_counts, design)"
   ]
  },
  {
   "cell_type": "code",
   "execution_count": 51,
   "id": "2136ebe2-bb9d-46ab-9ee0-35c9148d021c",
   "metadata": {},
   "outputs": [],
   "source": [
    "contrast.matrix <- makeContrasts(\n",
    "    AdvancedFibrosis_vs_Fibrosis = `Advanced_fibrosis` - Non_advanced_Fibrosis,\n",
    "    levels = design\n",
    ")\n",
    "\n",
    "# Apply contrasts to the fit\n",
    "fit2 <- contrasts.fit(fit, contrast.matrix)\n",
    "\n",
    "# Empirical Bayes moderation to get p-values\n",
    "fit2 <- eBayes(fit2)"
   ]
  },
  {
   "cell_type": "markdown",
   "id": "2599b2e2-9821-4805-ae8a-0a34a0b17e7c",
   "metadata": {},
   "source": [
    "Now, we are going to extract the DEGs for Advanced Fibrosis vs Non-Advanced Fibrosis pair and save them"
   ]
  },
  {
   "cell_type": "code",
   "execution_count": 53,
   "id": "1e0d1a61-7779-4d43-a471-6f947e8c1007",
   "metadata": {},
   "outputs": [
    {
     "data": {
      "text/html": [
       "<table class=\"dataframe\">\n",
       "<caption>A data.frame: 6 × 6</caption>\n",
       "<thead>\n",
       "\t<tr><th></th><th scope=col>logFC</th><th scope=col>AveExpr</th><th scope=col>t</th><th scope=col>P.Value</th><th scope=col>adj.P.Val</th><th scope=col>B</th></tr>\n",
       "\t<tr><th></th><th scope=col>&lt;dbl&gt;</th><th scope=col>&lt;dbl&gt;</th><th scope=col>&lt;dbl&gt;</th><th scope=col>&lt;dbl&gt;</th><th scope=col>&lt;dbl&gt;</th><th scope=col>&lt;dbl&gt;</th></tr>\n",
       "</thead>\n",
       "<tbody>\n",
       "\t<tr><th scope=row>16863</th><td>1.223013</td><td> 2.9231954</td><td>8.604058</td><td>2.266513e-13</td><td>3.942826e-09</td><td>19.90756</td></tr>\n",
       "\t<tr><th scope=row>4770</th><td>0.482585</td><td> 4.4402232</td><td>7.784892</td><td>1.119579e-11</td><td>4.824356e-08</td><td>16.20400</td></tr>\n",
       "\t<tr><th scope=row>12710</th><td>1.181496</td><td>-0.2294500</td><td>7.774583</td><td>1.175495e-11</td><td>4.824356e-08</td><td>16.15769</td></tr>\n",
       "\t<tr><th scope=row>673</th><td>1.485822</td><td> 1.1041118</td><td>7.739811</td><td>1.385410e-11</td><td>4.824356e-08</td><td>16.00156</td></tr>\n",
       "\t<tr><th scope=row>3296</th><td>1.594761</td><td> 2.1489644</td><td>7.739625</td><td>1.386628e-11</td><td>4.824356e-08</td><td>16.00073</td></tr>\n",
       "\t<tr><th scope=row>12060</th><td>1.675825</td><td>-0.0107199</td><td>7.562489</td><td>3.195875e-11</td><td>9.265907e-08</td><td>15.20726</td></tr>\n",
       "</tbody>\n",
       "</table>\n"
      ],
      "text/latex": [
       "A data.frame: 6 × 6\n",
       "\\begin{tabular}{r|llllll}\n",
       "  & logFC & AveExpr & t & P.Value & adj.P.Val & B\\\\\n",
       "  & <dbl> & <dbl> & <dbl> & <dbl> & <dbl> & <dbl>\\\\\n",
       "\\hline\n",
       "\t16863 & 1.223013 &  2.9231954 & 8.604058 & 2.266513e-13 & 3.942826e-09 & 19.90756\\\\\n",
       "\t4770 & 0.482585 &  4.4402232 & 7.784892 & 1.119579e-11 & 4.824356e-08 & 16.20400\\\\\n",
       "\t12710 & 1.181496 & -0.2294500 & 7.774583 & 1.175495e-11 & 4.824356e-08 & 16.15769\\\\\n",
       "\t673 & 1.485822 &  1.1041118 & 7.739811 & 1.385410e-11 & 4.824356e-08 & 16.00156\\\\\n",
       "\t3296 & 1.594761 &  2.1489644 & 7.739625 & 1.386628e-11 & 4.824356e-08 & 16.00073\\\\\n",
       "\t12060 & 1.675825 & -0.0107199 & 7.562489 & 3.195875e-11 & 9.265907e-08 & 15.20726\\\\\n",
       "\\end{tabular}\n"
      ],
      "text/markdown": [
       "\n",
       "A data.frame: 6 × 6\n",
       "\n",
       "| <!--/--> | logFC &lt;dbl&gt; | AveExpr &lt;dbl&gt; | t &lt;dbl&gt; | P.Value &lt;dbl&gt; | adj.P.Val &lt;dbl&gt; | B &lt;dbl&gt; |\n",
       "|---|---|---|---|---|---|---|\n",
       "| 16863 | 1.223013 |  2.9231954 | 8.604058 | 2.266513e-13 | 3.942826e-09 | 19.90756 |\n",
       "| 4770 | 0.482585 |  4.4402232 | 7.784892 | 1.119579e-11 | 4.824356e-08 | 16.20400 |\n",
       "| 12710 | 1.181496 | -0.2294500 | 7.774583 | 1.175495e-11 | 4.824356e-08 | 16.15769 |\n",
       "| 673 | 1.485822 |  1.1041118 | 7.739811 | 1.385410e-11 | 4.824356e-08 | 16.00156 |\n",
       "| 3296 | 1.594761 |  2.1489644 | 7.739625 | 1.386628e-11 | 4.824356e-08 | 16.00073 |\n",
       "| 12060 | 1.675825 | -0.0107199 | 7.562489 | 3.195875e-11 | 9.265907e-08 | 15.20726 |\n",
       "\n"
      ],
      "text/plain": [
       "      logFC    AveExpr    t        P.Value      adj.P.Val    B       \n",
       "16863 1.223013  2.9231954 8.604058 2.266513e-13 3.942826e-09 19.90756\n",
       "4770  0.482585  4.4402232 7.784892 1.119579e-11 4.824356e-08 16.20400\n",
       "12710 1.181496 -0.2294500 7.774583 1.175495e-11 4.824356e-08 16.15769\n",
       "673   1.485822  1.1041118 7.739811 1.385410e-11 4.824356e-08 16.00156\n",
       "3296  1.594761  2.1489644 7.739625 1.386628e-11 4.824356e-08 16.00073\n",
       "12060 1.675825 -0.0107199 7.562489 3.195875e-11 9.265907e-08 15.20726"
      ]
     },
     "metadata": {},
     "output_type": "display_data"
    }
   ],
   "source": [
    "# Get the top DEGs for the Advanced Fibrosis vs Fibrosis comparison\n",
    "top_genes_adv_vs_fib <- topTable(fit2, coef = \"AdvancedFibrosis_vs_Fibrosis\", adjust.method = \"BH\", number = Inf)\n",
    "\n",
    "# View the top DEGs\n",
    "head(top_genes_adv_vs_fib)"
   ]
  },
  {
   "cell_type": "code",
   "execution_count": 54,
   "id": "1961205d-f7e2-4ea6-a9e4-1de07aaa4706",
   "metadata": {},
   "outputs": [],
   "source": [
    "write.csv(top_genes_adv_vs_fib, \"DEGs_Advanced_from_NonAdvanced.csv\")"
   ]
  },
  {
   "cell_type": "markdown",
   "id": "6c81e561-1805-4add-a5b9-a798d5673b4b",
   "metadata": {},
   "source": [
    "We have filtered the top 300 DEGs for each pair. The choice of 𝑘=300 appears to be optimized based on our greedy search, which has not been included in this notebook."
   ]
  },
  {
   "cell_type": "code",
   "execution_count": 55,
   "id": "a06cec8b-ea23-4d99-9a2a-837838574d9c",
   "metadata": {},
   "outputs": [
    {
     "data": {
      "text/html": [
       "<table class=\"dataframe\">\n",
       "<caption>A data.frame: 6 × 6</caption>\n",
       "<thead>\n",
       "\t<tr><th></th><th scope=col>logFC</th><th scope=col>AveExpr</th><th scope=col>t</th><th scope=col>P.Value</th><th scope=col>adj.P.Val</th><th scope=col>B</th></tr>\n",
       "\t<tr><th></th><th scope=col>&lt;dbl&gt;</th><th scope=col>&lt;dbl&gt;</th><th scope=col>&lt;dbl&gt;</th><th scope=col>&lt;dbl&gt;</th><th scope=col>&lt;dbl&gt;</th><th scope=col>&lt;dbl&gt;</th></tr>\n",
       "</thead>\n",
       "<tbody>\n",
       "\t<tr><th scope=row>16863</th><td>1.223013</td><td> 2.9231954</td><td>8.604058</td><td>2.266513e-13</td><td>3.942826e-09</td><td>19.90756</td></tr>\n",
       "\t<tr><th scope=row>4770</th><td>0.482585</td><td> 4.4402232</td><td>7.784892</td><td>1.119579e-11</td><td>4.824356e-08</td><td>16.20400</td></tr>\n",
       "\t<tr><th scope=row>12710</th><td>1.181496</td><td>-0.2294500</td><td>7.774583</td><td>1.175495e-11</td><td>4.824356e-08</td><td>16.15769</td></tr>\n",
       "\t<tr><th scope=row>673</th><td>1.485822</td><td> 1.1041118</td><td>7.739811</td><td>1.385410e-11</td><td>4.824356e-08</td><td>16.00156</td></tr>\n",
       "\t<tr><th scope=row>3296</th><td>1.594761</td><td> 2.1489644</td><td>7.739625</td><td>1.386628e-11</td><td>4.824356e-08</td><td>16.00073</td></tr>\n",
       "\t<tr><th scope=row>12060</th><td>1.675825</td><td>-0.0107199</td><td>7.562489</td><td>3.195875e-11</td><td>9.265907e-08</td><td>15.20726</td></tr>\n",
       "</tbody>\n",
       "</table>\n"
      ],
      "text/latex": [
       "A data.frame: 6 × 6\n",
       "\\begin{tabular}{r|llllll}\n",
       "  & logFC & AveExpr & t & P.Value & adj.P.Val & B\\\\\n",
       "  & <dbl> & <dbl> & <dbl> & <dbl> & <dbl> & <dbl>\\\\\n",
       "\\hline\n",
       "\t16863 & 1.223013 &  2.9231954 & 8.604058 & 2.266513e-13 & 3.942826e-09 & 19.90756\\\\\n",
       "\t4770 & 0.482585 &  4.4402232 & 7.784892 & 1.119579e-11 & 4.824356e-08 & 16.20400\\\\\n",
       "\t12710 & 1.181496 & -0.2294500 & 7.774583 & 1.175495e-11 & 4.824356e-08 & 16.15769\\\\\n",
       "\t673 & 1.485822 &  1.1041118 & 7.739811 & 1.385410e-11 & 4.824356e-08 & 16.00156\\\\\n",
       "\t3296 & 1.594761 &  2.1489644 & 7.739625 & 1.386628e-11 & 4.824356e-08 & 16.00073\\\\\n",
       "\t12060 & 1.675825 & -0.0107199 & 7.562489 & 3.195875e-11 & 9.265907e-08 & 15.20726\\\\\n",
       "\\end{tabular}\n"
      ],
      "text/markdown": [
       "\n",
       "A data.frame: 6 × 6\n",
       "\n",
       "| <!--/--> | logFC &lt;dbl&gt; | AveExpr &lt;dbl&gt; | t &lt;dbl&gt; | P.Value &lt;dbl&gt; | adj.P.Val &lt;dbl&gt; | B &lt;dbl&gt; |\n",
       "|---|---|---|---|---|---|---|\n",
       "| 16863 | 1.223013 |  2.9231954 | 8.604058 | 2.266513e-13 | 3.942826e-09 | 19.90756 |\n",
       "| 4770 | 0.482585 |  4.4402232 | 7.784892 | 1.119579e-11 | 4.824356e-08 | 16.20400 |\n",
       "| 12710 | 1.181496 | -0.2294500 | 7.774583 | 1.175495e-11 | 4.824356e-08 | 16.15769 |\n",
       "| 673 | 1.485822 |  1.1041118 | 7.739811 | 1.385410e-11 | 4.824356e-08 | 16.00156 |\n",
       "| 3296 | 1.594761 |  2.1489644 | 7.739625 | 1.386628e-11 | 4.824356e-08 | 16.00073 |\n",
       "| 12060 | 1.675825 | -0.0107199 | 7.562489 | 3.195875e-11 | 9.265907e-08 | 15.20726 |\n",
       "\n"
      ],
      "text/plain": [
       "      logFC    AveExpr    t        P.Value      adj.P.Val    B       \n",
       "16863 1.223013  2.9231954 8.604058 2.266513e-13 3.942826e-09 19.90756\n",
       "4770  0.482585  4.4402232 7.784892 1.119579e-11 4.824356e-08 16.20400\n",
       "12710 1.181496 -0.2294500 7.774583 1.175495e-11 4.824356e-08 16.15769\n",
       "673   1.485822  1.1041118 7.739811 1.385410e-11 4.824356e-08 16.00156\n",
       "3296  1.594761  2.1489644 7.739625 1.386628e-11 4.824356e-08 16.00073\n",
       "12060 1.675825 -0.0107199 7.562489 3.195875e-11 9.265907e-08 15.20726"
      ]
     },
     "metadata": {},
     "output_type": "display_data"
    }
   ],
   "source": [
    "filtered_genes_adv_vs_fib <- top_genes_adv_vs_fib[1:300,]\n",
    "\n",
    "# View filtered DEGs\n",
    "head(filtered_genes_adv_vs_fib)"
   ]
  },
  {
   "cell_type": "markdown",
   "id": "4a73c80b-a65b-4415-a900-e6a899a4122b",
   "metadata": {},
   "source": [
    "These top 300 DEGs are biologically meaningful in addition to their role in computationally classifying the data. They are likely genes whose expression changes significantly when transitioning from Non-Advanced Fibrosis to Advanced Fibrosis class. These genes are probably among the most correlated with the class labels, though they are not necessarily causal genes. This change in class label may have a substantial impact on their expression, potentially affecting their associated pathways or other related biological processes."
   ]
  },
  {
   "cell_type": "code",
   "execution_count": 56,
   "id": "09f68d48-9c2c-48d0-8c9e-e46aa76ad949",
   "metadata": {},
   "outputs": [],
   "source": [
    "genes_adv_vs_fib_names <- rownames(filtered_genes_adv_vs_fib)"
   ]
  },
  {
   "cell_type": "code",
   "execution_count": 57,
   "id": "3e260b1c-75f6-4d4c-9cba-e8f13667b58e",
   "metadata": {},
   "outputs": [
    {
     "data": {
      "text/html": [
       "<table class=\"dataframe\">\n",
       "<caption>A data.frame: 6 × 90</caption>\n",
       "<thead>\n",
       "\t<tr><th></th><th scope=col>DLDR_0081</th><th scope=col>DLDR_0130</th><th scope=col>DLDR_0079</th><th scope=col>DLDR_0131</th><th scope=col>DLDR_0135</th><th scope=col>DLDR_0095</th><th scope=col>DLDR_0097</th><th scope=col>DLDR_0086</th><th scope=col>DLDR_0149</th><th scope=col>DLDR_0044</th><th scope=col>⋯</th><th scope=col>DLDR_0166</th><th scope=col>DLDR_0089</th><th scope=col>DLDR_0141</th><th scope=col>DLDR_0111</th><th scope=col>DLDR_0136</th><th scope=col>DLDR_0134</th><th scope=col>DLDR_0175</th><th scope=col>DLDR_0087</th><th scope=col>DLDR_0155</th><th scope=col>DLDR_0092</th></tr>\n",
       "\t<tr><th></th><th scope=col>&lt;dbl&gt;</th><th scope=col>&lt;dbl&gt;</th><th scope=col>&lt;dbl&gt;</th><th scope=col>&lt;dbl&gt;</th><th scope=col>&lt;dbl&gt;</th><th scope=col>&lt;dbl&gt;</th><th scope=col>&lt;dbl&gt;</th><th scope=col>&lt;dbl&gt;</th><th scope=col>&lt;dbl&gt;</th><th scope=col>&lt;dbl&gt;</th><th scope=col>⋯</th><th scope=col>&lt;dbl&gt;</th><th scope=col>&lt;dbl&gt;</th><th scope=col>&lt;dbl&gt;</th><th scope=col>&lt;dbl&gt;</th><th scope=col>&lt;dbl&gt;</th><th scope=col>&lt;dbl&gt;</th><th scope=col>&lt;dbl&gt;</th><th scope=col>&lt;dbl&gt;</th><th scope=col>&lt;dbl&gt;</th><th scope=col>&lt;dbl&gt;</th></tr>\n",
       "</thead>\n",
       "<tbody>\n",
       "\t<tr><th scope=row>57</th><td>0.5821648</td><td>-0.2894877</td><td>-1.138550</td><td>-4.060128</td><td>-2.1042553</td><td>0.01812021</td><td>-0.05655446</td><td>-1.903604</td><td>-1.7422337</td><td>-1.039574</td><td>⋯</td><td>-1.954119</td><td>-0.6315645</td><td>-4.286453</td><td>0.4935068</td><td>-2.0218380</td><td>-2.6509237</td><td>-2.285986</td><td>-0.385647</td><td>-3.580073</td><td>0.3172589</td></tr>\n",
       "\t<tr><th scope=row>209</th><td>7.0012221</td><td> 7.2057963</td><td> 6.750193</td><td> 7.459017</td><td> 7.3791575</td><td>7.11479286</td><td> 7.02026114</td><td> 7.433126</td><td> 7.5770278</td><td> 7.142655</td><td>⋯</td><td> 7.233940</td><td> 7.3864811</td><td> 7.616299</td><td>6.8790879</td><td> 7.2807466</td><td> 7.0989458</td><td> 7.339114</td><td> 7.366168</td><td> 7.612425</td><td>7.3409794</td></tr>\n",
       "\t<tr><th scope=row>232</th><td>7.1692726</td><td> 6.9989939</td><td> 7.278919</td><td> 7.887874</td><td> 7.7238812</td><td>7.41458689</td><td> 7.02026114</td><td> 7.363651</td><td> 7.6123162</td><td> 7.838375</td><td>⋯</td><td> 7.585871</td><td> 6.6216264</td><td> 7.817818</td><td>7.0580706</td><td> 7.7930878</td><td> 7.4547230</td><td> 7.755217</td><td> 7.485884</td><td> 7.339038</td><td>6.9069785</td></tr>\n",
       "\t<tr><th scope=row>275</th><td>2.5296974</td><td> 1.4679420</td><td> 2.031375</td><td> 2.048397</td><td> 0.5280129</td><td>1.13001309</td><td> 1.70898029</td><td> 0.418324</td><td> 0.7756146</td><td> 1.767781</td><td>⋯</td><td> 1.777685</td><td> 1.9264309</td><td> 1.644284</td><td>1.9923127</td><td> 0.5047078</td><td> 0.7550687</td><td> 1.083248</td><td> 2.055951</td><td> 1.374123</td><td>1.9022214</td></tr>\n",
       "\t<tr><th scope=row>297</th><td>7.7592284</td><td> 7.4394046</td><td> 7.481170</td><td> 7.556880</td><td> 8.3222192</td><td>8.61647293</td><td> 8.95075319</td><td> 8.212480</td><td> 7.6611657</td><td> 6.947216</td><td>⋯</td><td> 7.898745</td><td> 7.7979585</td><td> 7.851498</td><td>8.6013493</td><td> 7.1909768</td><td> 7.5771735</td><td> 7.462766</td><td> 8.581307</td><td> 7.940709</td><td>8.7308868</td></tr>\n",
       "\t<tr><th scope=row>390</th><td>8.6335680</td><td> 8.2483778</td><td> 8.367261</td><td> 8.726754</td><td> 7.2475674</td><td>7.84261708</td><td> 8.49419233</td><td> 8.105105</td><td> 7.4192417</td><td> 8.842356</td><td>⋯</td><td> 8.417658</td><td> 8.0937070</td><td> 7.483798</td><td>8.7469947</td><td> 7.6486497</td><td> 7.7942982</td><td> 8.077053</td><td> 8.348605</td><td> 7.768471</td><td>8.3494726</td></tr>\n",
       "</tbody>\n",
       "</table>\n"
      ],
      "text/latex": [
       "A data.frame: 6 × 90\n",
       "\\begin{tabular}{r|lllllllllllllllllllll}\n",
       "  & DLDR\\_0081 & DLDR\\_0130 & DLDR\\_0079 & DLDR\\_0131 & DLDR\\_0135 & DLDR\\_0095 & DLDR\\_0097 & DLDR\\_0086 & DLDR\\_0149 & DLDR\\_0044 & ⋯ & DLDR\\_0166 & DLDR\\_0089 & DLDR\\_0141 & DLDR\\_0111 & DLDR\\_0136 & DLDR\\_0134 & DLDR\\_0175 & DLDR\\_0087 & DLDR\\_0155 & DLDR\\_0092\\\\\n",
       "  & <dbl> & <dbl> & <dbl> & <dbl> & <dbl> & <dbl> & <dbl> & <dbl> & <dbl> & <dbl> & ⋯ & <dbl> & <dbl> & <dbl> & <dbl> & <dbl> & <dbl> & <dbl> & <dbl> & <dbl> & <dbl>\\\\\n",
       "\\hline\n",
       "\t57 & 0.5821648 & -0.2894877 & -1.138550 & -4.060128 & -2.1042553 & 0.01812021 & -0.05655446 & -1.903604 & -1.7422337 & -1.039574 & ⋯ & -1.954119 & -0.6315645 & -4.286453 & 0.4935068 & -2.0218380 & -2.6509237 & -2.285986 & -0.385647 & -3.580073 & 0.3172589\\\\\n",
       "\t209 & 7.0012221 &  7.2057963 &  6.750193 &  7.459017 &  7.3791575 & 7.11479286 &  7.02026114 &  7.433126 &  7.5770278 &  7.142655 & ⋯ &  7.233940 &  7.3864811 &  7.616299 & 6.8790879 &  7.2807466 &  7.0989458 &  7.339114 &  7.366168 &  7.612425 & 7.3409794\\\\\n",
       "\t232 & 7.1692726 &  6.9989939 &  7.278919 &  7.887874 &  7.7238812 & 7.41458689 &  7.02026114 &  7.363651 &  7.6123162 &  7.838375 & ⋯ &  7.585871 &  6.6216264 &  7.817818 & 7.0580706 &  7.7930878 &  7.4547230 &  7.755217 &  7.485884 &  7.339038 & 6.9069785\\\\\n",
       "\t275 & 2.5296974 &  1.4679420 &  2.031375 &  2.048397 &  0.5280129 & 1.13001309 &  1.70898029 &  0.418324 &  0.7756146 &  1.767781 & ⋯ &  1.777685 &  1.9264309 &  1.644284 & 1.9923127 &  0.5047078 &  0.7550687 &  1.083248 &  2.055951 &  1.374123 & 1.9022214\\\\\n",
       "\t297 & 7.7592284 &  7.4394046 &  7.481170 &  7.556880 &  8.3222192 & 8.61647293 &  8.95075319 &  8.212480 &  7.6611657 &  6.947216 & ⋯ &  7.898745 &  7.7979585 &  7.851498 & 8.6013493 &  7.1909768 &  7.5771735 &  7.462766 &  8.581307 &  7.940709 & 8.7308868\\\\\n",
       "\t390 & 8.6335680 &  8.2483778 &  8.367261 &  8.726754 &  7.2475674 & 7.84261708 &  8.49419233 &  8.105105 &  7.4192417 &  8.842356 & ⋯ &  8.417658 &  8.0937070 &  7.483798 & 8.7469947 &  7.6486497 &  7.7942982 &  8.077053 &  8.348605 &  7.768471 & 8.3494726\\\\\n",
       "\\end{tabular}\n"
      ],
      "text/markdown": [
       "\n",
       "A data.frame: 6 × 90\n",
       "\n",
       "| <!--/--> | DLDR_0081 &lt;dbl&gt; | DLDR_0130 &lt;dbl&gt; | DLDR_0079 &lt;dbl&gt; | DLDR_0131 &lt;dbl&gt; | DLDR_0135 &lt;dbl&gt; | DLDR_0095 &lt;dbl&gt; | DLDR_0097 &lt;dbl&gt; | DLDR_0086 &lt;dbl&gt; | DLDR_0149 &lt;dbl&gt; | DLDR_0044 &lt;dbl&gt; | ⋯ ⋯ | DLDR_0166 &lt;dbl&gt; | DLDR_0089 &lt;dbl&gt; | DLDR_0141 &lt;dbl&gt; | DLDR_0111 &lt;dbl&gt; | DLDR_0136 &lt;dbl&gt; | DLDR_0134 &lt;dbl&gt; | DLDR_0175 &lt;dbl&gt; | DLDR_0087 &lt;dbl&gt; | DLDR_0155 &lt;dbl&gt; | DLDR_0092 &lt;dbl&gt; |\n",
       "|---|---|---|---|---|---|---|---|---|---|---|---|---|---|---|---|---|---|---|---|---|---|\n",
       "| 57 | 0.5821648 | -0.2894877 | -1.138550 | -4.060128 | -2.1042553 | 0.01812021 | -0.05655446 | -1.903604 | -1.7422337 | -1.039574 | ⋯ | -1.954119 | -0.6315645 | -4.286453 | 0.4935068 | -2.0218380 | -2.6509237 | -2.285986 | -0.385647 | -3.580073 | 0.3172589 |\n",
       "| 209 | 7.0012221 |  7.2057963 |  6.750193 |  7.459017 |  7.3791575 | 7.11479286 |  7.02026114 |  7.433126 |  7.5770278 |  7.142655 | ⋯ |  7.233940 |  7.3864811 |  7.616299 | 6.8790879 |  7.2807466 |  7.0989458 |  7.339114 |  7.366168 |  7.612425 | 7.3409794 |\n",
       "| 232 | 7.1692726 |  6.9989939 |  7.278919 |  7.887874 |  7.7238812 | 7.41458689 |  7.02026114 |  7.363651 |  7.6123162 |  7.838375 | ⋯ |  7.585871 |  6.6216264 |  7.817818 | 7.0580706 |  7.7930878 |  7.4547230 |  7.755217 |  7.485884 |  7.339038 | 6.9069785 |\n",
       "| 275 | 2.5296974 |  1.4679420 |  2.031375 |  2.048397 |  0.5280129 | 1.13001309 |  1.70898029 |  0.418324 |  0.7756146 |  1.767781 | ⋯ |  1.777685 |  1.9264309 |  1.644284 | 1.9923127 |  0.5047078 |  0.7550687 |  1.083248 |  2.055951 |  1.374123 | 1.9022214 |\n",
       "| 297 | 7.7592284 |  7.4394046 |  7.481170 |  7.556880 |  8.3222192 | 8.61647293 |  8.95075319 |  8.212480 |  7.6611657 |  6.947216 | ⋯ |  7.898745 |  7.7979585 |  7.851498 | 8.6013493 |  7.1909768 |  7.5771735 |  7.462766 |  8.581307 |  7.940709 | 8.7308868 |\n",
       "| 390 | 8.6335680 |  8.2483778 |  8.367261 |  8.726754 |  7.2475674 | 7.84261708 |  8.49419233 |  8.105105 |  7.4192417 |  8.842356 | ⋯ |  8.417658 |  8.0937070 |  7.483798 | 8.7469947 |  7.6486497 |  7.7942982 |  8.077053 |  8.348605 |  7.768471 | 8.3494726 |\n",
       "\n"
      ],
      "text/plain": [
       "    DLDR_0081 DLDR_0130  DLDR_0079 DLDR_0131 DLDR_0135  DLDR_0095  DLDR_0097  \n",
       "57  0.5821648 -0.2894877 -1.138550 -4.060128 -2.1042553 0.01812021 -0.05655446\n",
       "209 7.0012221  7.2057963  6.750193  7.459017  7.3791575 7.11479286  7.02026114\n",
       "232 7.1692726  6.9989939  7.278919  7.887874  7.7238812 7.41458689  7.02026114\n",
       "275 2.5296974  1.4679420  2.031375  2.048397  0.5280129 1.13001309  1.70898029\n",
       "297 7.7592284  7.4394046  7.481170  7.556880  8.3222192 8.61647293  8.95075319\n",
       "390 8.6335680  8.2483778  8.367261  8.726754  7.2475674 7.84261708  8.49419233\n",
       "    DLDR_0086 DLDR_0149  DLDR_0044 ⋯ DLDR_0166 DLDR_0089  DLDR_0141 DLDR_0111\n",
       "57  -1.903604 -1.7422337 -1.039574 ⋯ -1.954119 -0.6315645 -4.286453 0.4935068\n",
       "209  7.433126  7.5770278  7.142655 ⋯  7.233940  7.3864811  7.616299 6.8790879\n",
       "232  7.363651  7.6123162  7.838375 ⋯  7.585871  6.6216264  7.817818 7.0580706\n",
       "275  0.418324  0.7756146  1.767781 ⋯  1.777685  1.9264309  1.644284 1.9923127\n",
       "297  8.212480  7.6611657  6.947216 ⋯  7.898745  7.7979585  7.851498 8.6013493\n",
       "390  8.105105  7.4192417  8.842356 ⋯  8.417658  8.0937070  7.483798 8.7469947\n",
       "    DLDR_0136  DLDR_0134  DLDR_0175 DLDR_0087 DLDR_0155 DLDR_0092\n",
       "57  -2.0218380 -2.6509237 -2.285986 -0.385647 -3.580073 0.3172589\n",
       "209  7.2807466  7.0989458  7.339114  7.366168  7.612425 7.3409794\n",
       "232  7.7930878  7.4547230  7.755217  7.485884  7.339038 6.9069785\n",
       "275  0.5047078  0.7550687  1.083248  2.055951  1.374123 1.9022214\n",
       "297  7.1909768  7.5771735  7.462766  8.581307  7.940709 8.7308868\n",
       "390  7.6486497  7.7942982  8.077053  8.348605  7.768471 8.3494726"
      ]
     },
     "metadata": {},
     "output_type": "display_data"
    }
   ],
   "source": [
    "common_genes <- intersect(rownames(fibrosis_normal_counts), genes_adv_vs_fib_names)\n",
    "selected_normal_counts <- fibrosis_normal_counts[common_genes, ]\n",
    "head(selected_normal_counts)"
   ]
  },
  {
   "cell_type": "code",
   "execution_count": 58,
   "id": "ba86c290-30f6-46e9-ade5-69a56a6246b7",
   "metadata": {},
   "outputs": [
    {
     "data": {
      "text/html": [
       "<style>\n",
       ".list-inline {list-style: none; margin:0; padding: 0}\n",
       ".list-inline>li {display: inline-block}\n",
       ".list-inline>li:not(:last-child)::after {content: \"\\00b7\"; padding: 0 .5ex}\n",
       "</style>\n",
       "<ol class=list-inline><li>300</li><li>90</li></ol>\n"
      ],
      "text/latex": [
       "\\begin{enumerate*}\n",
       "\\item 300\n",
       "\\item 90\n",
       "\\end{enumerate*}\n"
      ],
      "text/markdown": [
       "1. 300\n",
       "2. 90\n",
       "\n",
       "\n"
      ],
      "text/plain": [
       "[1] 300  90"
      ]
     },
     "metadata": {},
     "output_type": "display_data"
    }
   ],
   "source": [
    "dim(selected_normal_counts)"
   ]
  },
  {
   "cell_type": "markdown",
   "id": "d730ab9d-7bf7-460f-abcb-95e1dcf8b4b1",
   "metadata": {},
   "source": [
    "We extracted a subset from the data based on selected features. Let's save it and continue the analysis in Python Jupyter Notebook"
   ]
  },
  {
   "cell_type": "code",
   "execution_count": 59,
   "id": "2b84ea51-5bfc-44d2-a883-0297b044f4b8",
   "metadata": {},
   "outputs": [],
   "source": [
    "write.csv(selected_normal_counts, \"subset_data2.csv\")\n",
    "write.csv(meta_data, \"meta_data2.csv\")"
   ]
  }
 ],
 "metadata": {
  "kernelspec": {
   "display_name": "R",
   "language": "R",
   "name": "ir"
  },
  "language_info": {
   "codemirror_mode": "r",
   "file_extension": ".r",
   "mimetype": "text/x-r-source",
   "name": "R",
   "pygments_lexer": "r",
   "version": "4.2.1"
  }
 },
 "nbformat": 4,
 "nbformat_minor": 5
}
