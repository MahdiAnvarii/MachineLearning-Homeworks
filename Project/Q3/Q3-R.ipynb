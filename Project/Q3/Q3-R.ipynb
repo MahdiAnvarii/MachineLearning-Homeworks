{
 "cells": [
  {
   "cell_type": "markdown",
   "id": "7a72e79c-89b5-47a7-af47-5b6d99382ddd",
   "metadata": {},
   "source": [
    "# Q3 - R section"
   ]
  },
  {
   "cell_type": "markdown",
   "id": "62d724ba-99de-4435-8f1e-78165acccdea",
   "metadata": {},
   "source": [
    "## First Machine ##"
   ]
  },
  {
   "cell_type": "code",
   "execution_count": 45,
   "id": "7bf83cda-72c7-49e3-9f9f-27784e47ba6c",
   "metadata": {},
   "outputs": [],
   "source": [
    "library(limma)\n",
    "library(edgeR)"
   ]
  },
  {
   "cell_type": "code",
   "execution_count": 46,
   "id": "71fbc81e-f80c-45cb-824e-94fd2cb81910",
   "metadata": {},
   "outputs": [],
   "source": [
    "normal_counts <- read.csv(\"train_normal_counts.csv\")"
   ]
  },
  {
   "cell_type": "code",
   "execution_count": 47,
   "id": "d77acea4-9f2b-4e2c-95ee-b9580d5656fc",
   "metadata": {},
   "outputs": [
    {
     "data": {
      "text/html": [
       "<table class=\"dataframe\">\n",
       "<caption>A data.frame: 6 × 134</caption>\n",
       "<thead>\n",
       "\t<tr><th></th><th scope=col>DLDR_0036</th><th scope=col>DLDR_0081</th><th scope=col>DLDR_0191</th><th scope=col>DLDR_0188</th><th scope=col>DLDR_0130</th><th scope=col>DLDR_0013</th><th scope=col>DLDR_0079</th><th scope=col>DLDR_0131</th><th scope=col>DLDR_0135</th><th scope=col>DLDR_0190</th><th scope=col>⋯</th><th scope=col>DLDR_0175</th><th scope=col>DLDR_0052</th><th scope=col>DLDR_0087</th><th scope=col>DLDR_0155</th><th scope=col>DLDR_0092</th><th scope=col>DLDR_0187</th><th scope=col>DLDR_0186</th><th scope=col>DLDR_0179</th><th scope=col>DLDR_0182</th><th scope=col>DLDR_0001</th></tr>\n",
       "\t<tr><th></th><th scope=col>&lt;dbl&gt;</th><th scope=col>&lt;dbl&gt;</th><th scope=col>&lt;dbl&gt;</th><th scope=col>&lt;dbl&gt;</th><th scope=col>&lt;dbl&gt;</th><th scope=col>&lt;dbl&gt;</th><th scope=col>&lt;dbl&gt;</th><th scope=col>&lt;dbl&gt;</th><th scope=col>&lt;dbl&gt;</th><th scope=col>&lt;dbl&gt;</th><th scope=col>⋯</th><th scope=col>&lt;dbl&gt;</th><th scope=col>&lt;dbl&gt;</th><th scope=col>&lt;dbl&gt;</th><th scope=col>&lt;dbl&gt;</th><th scope=col>&lt;dbl&gt;</th><th scope=col>&lt;dbl&gt;</th><th scope=col>&lt;dbl&gt;</th><th scope=col>&lt;dbl&gt;</th><th scope=col>&lt;dbl&gt;</th><th scope=col>&lt;dbl&gt;</th></tr>\n",
       "</thead>\n",
       "<tbody>\n",
       "\t<tr><th scope=row>1</th><td> 5.820135</td><td>6.5462994</td><td> 6.6040504</td><td> 6.480745</td><td> 6.550016</td><td>6.5692529</td><td> 5.9652146</td><td>6.436726</td><td>6.3378589</td><td> 6.3677048</td><td>⋯</td><td>6.85952138</td><td> 6.3703867</td><td> 6.6352203</td><td>6.693334</td><td>6.26633823</td><td> 6.6089237</td><td> 6.34423435</td><td> 6.296354</td><td> 6.485184</td><td>5.965571</td></tr>\n",
       "\t<tr><th scope=row>2</th><td>-1.060061</td><td>0.5821648</td><td>-0.8650363</td><td>-1.083676</td><td>-1.222374</td><td>0.7672549</td><td>-0.2056643</td><td>1.225274</td><td>0.3287041</td><td>-0.9022011</td><td>⋯</td><td>0.03594184</td><td>-0.5651604</td><td>-0.4658174</td><td>1.603149</td><td>0.08898988</td><td>-0.7573986</td><td>-0.02658513</td><td>-2.568864</td><td>-0.486609</td><td>1.612375</td></tr>\n",
       "\t<tr><th scope=row>3</th><td> 4.388400</td><td>3.7520898</td><td> 4.3514891</td><td> 4.361634</td><td> 4.534941</td><td>4.1504701</td><td> 3.1093774</td><td>4.104779</td><td>4.6099902</td><td> 4.1480104</td><td>⋯</td><td>4.12340468</td><td> 4.7392966</td><td> 4.3778794</td><td>4.473400</td><td>4.31945643</td><td> 4.2744503</td><td> 4.17931917</td><td> 4.381449</td><td> 4.331904</td><td>4.133821</td></tr>\n",
       "\t<tr><th scope=row>4</th><td> 4.080172</td><td>4.6451746</td><td> 4.0721368</td><td> 4.313540</td><td> 4.370763</td><td>4.1660389</td><td> 4.8092861</td><td>4.411547</td><td>4.3253607</td><td> 4.5060579</td><td>⋯</td><td>4.76204644</td><td> 4.1208213</td><td> 4.2298584</td><td>4.755317</td><td>4.38806704</td><td> 4.0425768</td><td> 4.43879576</td><td> 4.365810</td><td> 4.090491</td><td>4.111056</td></tr>\n",
       "\t<tr><th scope=row>5</th><td> 2.564430</td><td>3.8408991</td><td> 3.1431376</td><td> 3.120196</td><td> 3.512952</td><td>3.7570108</td><td> 3.9527651</td><td>3.099743</td><td>3.3085263</td><td> 3.9820712</td><td>⋯</td><td>3.95559973</td><td> 2.9326175</td><td> 3.6972213</td><td>4.027257</td><td>3.97372734</td><td> 2.1264084</td><td> 3.81471713</td><td> 2.965115</td><td> 2.697188</td><td>4.150662</td></tr>\n",
       "\t<tr><th scope=row>6</th><td> 3.552685</td><td>3.2010747</td><td> 4.0374758</td><td> 1.941859</td><td> 2.517867</td><td>3.2536535</td><td> 2.7857226</td><td>3.357725</td><td>1.9136666</td><td> 2.2021356</td><td>⋯</td><td>2.72896408</td><td> 2.8246104</td><td> 2.2057995</td><td>1.576431</td><td>2.97651515</td><td> 3.4239312</td><td> 2.27774891</td><td> 3.408416</td><td> 3.630074</td><td>2.975845</td></tr>\n",
       "</tbody>\n",
       "</table>\n"
      ],
      "text/latex": [
       "A data.frame: 6 × 134\n",
       "\\begin{tabular}{r|lllllllllllllllllllll}\n",
       "  & DLDR\\_0036 & DLDR\\_0081 & DLDR\\_0191 & DLDR\\_0188 & DLDR\\_0130 & DLDR\\_0013 & DLDR\\_0079 & DLDR\\_0131 & DLDR\\_0135 & DLDR\\_0190 & ⋯ & DLDR\\_0175 & DLDR\\_0052 & DLDR\\_0087 & DLDR\\_0155 & DLDR\\_0092 & DLDR\\_0187 & DLDR\\_0186 & DLDR\\_0179 & DLDR\\_0182 & DLDR\\_0001\\\\\n",
       "  & <dbl> & <dbl> & <dbl> & <dbl> & <dbl> & <dbl> & <dbl> & <dbl> & <dbl> & <dbl> & ⋯ & <dbl> & <dbl> & <dbl> & <dbl> & <dbl> & <dbl> & <dbl> & <dbl> & <dbl> & <dbl>\\\\\n",
       "\\hline\n",
       "\t1 &  5.820135 & 6.5462994 &  6.6040504 &  6.480745 &  6.550016 & 6.5692529 &  5.9652146 & 6.436726 & 6.3378589 &  6.3677048 & ⋯ & 6.85952138 &  6.3703867 &  6.6352203 & 6.693334 & 6.26633823 &  6.6089237 &  6.34423435 &  6.296354 &  6.485184 & 5.965571\\\\\n",
       "\t2 & -1.060061 & 0.5821648 & -0.8650363 & -1.083676 & -1.222374 & 0.7672549 & -0.2056643 & 1.225274 & 0.3287041 & -0.9022011 & ⋯ & 0.03594184 & -0.5651604 & -0.4658174 & 1.603149 & 0.08898988 & -0.7573986 & -0.02658513 & -2.568864 & -0.486609 & 1.612375\\\\\n",
       "\t3 &  4.388400 & 3.7520898 &  4.3514891 &  4.361634 &  4.534941 & 4.1504701 &  3.1093774 & 4.104779 & 4.6099902 &  4.1480104 & ⋯ & 4.12340468 &  4.7392966 &  4.3778794 & 4.473400 & 4.31945643 &  4.2744503 &  4.17931917 &  4.381449 &  4.331904 & 4.133821\\\\\n",
       "\t4 &  4.080172 & 4.6451746 &  4.0721368 &  4.313540 &  4.370763 & 4.1660389 &  4.8092861 & 4.411547 & 4.3253607 &  4.5060579 & ⋯ & 4.76204644 &  4.1208213 &  4.2298584 & 4.755317 & 4.38806704 &  4.0425768 &  4.43879576 &  4.365810 &  4.090491 & 4.111056\\\\\n",
       "\t5 &  2.564430 & 3.8408991 &  3.1431376 &  3.120196 &  3.512952 & 3.7570108 &  3.9527651 & 3.099743 & 3.3085263 &  3.9820712 & ⋯ & 3.95559973 &  2.9326175 &  3.6972213 & 4.027257 & 3.97372734 &  2.1264084 &  3.81471713 &  2.965115 &  2.697188 & 4.150662\\\\\n",
       "\t6 &  3.552685 & 3.2010747 &  4.0374758 &  1.941859 &  2.517867 & 3.2536535 &  2.7857226 & 3.357725 & 1.9136666 &  2.2021356 & ⋯ & 2.72896408 &  2.8246104 &  2.2057995 & 1.576431 & 2.97651515 &  3.4239312 &  2.27774891 &  3.408416 &  3.630074 & 2.975845\\\\\n",
       "\\end{tabular}\n"
      ],
      "text/markdown": [
       "\n",
       "A data.frame: 6 × 134\n",
       "\n",
       "| <!--/--> | DLDR_0036 &lt;dbl&gt; | DLDR_0081 &lt;dbl&gt; | DLDR_0191 &lt;dbl&gt; | DLDR_0188 &lt;dbl&gt; | DLDR_0130 &lt;dbl&gt; | DLDR_0013 &lt;dbl&gt; | DLDR_0079 &lt;dbl&gt; | DLDR_0131 &lt;dbl&gt; | DLDR_0135 &lt;dbl&gt; | DLDR_0190 &lt;dbl&gt; | ⋯ ⋯ | DLDR_0175 &lt;dbl&gt; | DLDR_0052 &lt;dbl&gt; | DLDR_0087 &lt;dbl&gt; | DLDR_0155 &lt;dbl&gt; | DLDR_0092 &lt;dbl&gt; | DLDR_0187 &lt;dbl&gt; | DLDR_0186 &lt;dbl&gt; | DLDR_0179 &lt;dbl&gt; | DLDR_0182 &lt;dbl&gt; | DLDR_0001 &lt;dbl&gt; |\n",
       "|---|---|---|---|---|---|---|---|---|---|---|---|---|---|---|---|---|---|---|---|---|---|\n",
       "| 1 |  5.820135 | 6.5462994 |  6.6040504 |  6.480745 |  6.550016 | 6.5692529 |  5.9652146 | 6.436726 | 6.3378589 |  6.3677048 | ⋯ | 6.85952138 |  6.3703867 |  6.6352203 | 6.693334 | 6.26633823 |  6.6089237 |  6.34423435 |  6.296354 |  6.485184 | 5.965571 |\n",
       "| 2 | -1.060061 | 0.5821648 | -0.8650363 | -1.083676 | -1.222374 | 0.7672549 | -0.2056643 | 1.225274 | 0.3287041 | -0.9022011 | ⋯ | 0.03594184 | -0.5651604 | -0.4658174 | 1.603149 | 0.08898988 | -0.7573986 | -0.02658513 | -2.568864 | -0.486609 | 1.612375 |\n",
       "| 3 |  4.388400 | 3.7520898 |  4.3514891 |  4.361634 |  4.534941 | 4.1504701 |  3.1093774 | 4.104779 | 4.6099902 |  4.1480104 | ⋯ | 4.12340468 |  4.7392966 |  4.3778794 | 4.473400 | 4.31945643 |  4.2744503 |  4.17931917 |  4.381449 |  4.331904 | 4.133821 |\n",
       "| 4 |  4.080172 | 4.6451746 |  4.0721368 |  4.313540 |  4.370763 | 4.1660389 |  4.8092861 | 4.411547 | 4.3253607 |  4.5060579 | ⋯ | 4.76204644 |  4.1208213 |  4.2298584 | 4.755317 | 4.38806704 |  4.0425768 |  4.43879576 |  4.365810 |  4.090491 | 4.111056 |\n",
       "| 5 |  2.564430 | 3.8408991 |  3.1431376 |  3.120196 |  3.512952 | 3.7570108 |  3.9527651 | 3.099743 | 3.3085263 |  3.9820712 | ⋯ | 3.95559973 |  2.9326175 |  3.6972213 | 4.027257 | 3.97372734 |  2.1264084 |  3.81471713 |  2.965115 |  2.697188 | 4.150662 |\n",
       "| 6 |  3.552685 | 3.2010747 |  4.0374758 |  1.941859 |  2.517867 | 3.2536535 |  2.7857226 | 3.357725 | 1.9136666 |  2.2021356 | ⋯ | 2.72896408 |  2.8246104 |  2.2057995 | 1.576431 | 2.97651515 |  3.4239312 |  2.27774891 |  3.408416 |  3.630074 | 2.975845 |\n",
       "\n"
      ],
      "text/plain": [
       "  DLDR_0036 DLDR_0081 DLDR_0191  DLDR_0188 DLDR_0130 DLDR_0013 DLDR_0079 \n",
       "1  5.820135 6.5462994  6.6040504  6.480745  6.550016 6.5692529  5.9652146\n",
       "2 -1.060061 0.5821648 -0.8650363 -1.083676 -1.222374 0.7672549 -0.2056643\n",
       "3  4.388400 3.7520898  4.3514891  4.361634  4.534941 4.1504701  3.1093774\n",
       "4  4.080172 4.6451746  4.0721368  4.313540  4.370763 4.1660389  4.8092861\n",
       "5  2.564430 3.8408991  3.1431376  3.120196  3.512952 3.7570108  3.9527651\n",
       "6  3.552685 3.2010747  4.0374758  1.941859  2.517867 3.2536535  2.7857226\n",
       "  DLDR_0131 DLDR_0135 DLDR_0190  ⋯ DLDR_0175  DLDR_0052  DLDR_0087  DLDR_0155\n",
       "1 6.436726  6.3378589  6.3677048 ⋯ 6.85952138  6.3703867  6.6352203 6.693334 \n",
       "2 1.225274  0.3287041 -0.9022011 ⋯ 0.03594184 -0.5651604 -0.4658174 1.603149 \n",
       "3 4.104779  4.6099902  4.1480104 ⋯ 4.12340468  4.7392966  4.3778794 4.473400 \n",
       "4 4.411547  4.3253607  4.5060579 ⋯ 4.76204644  4.1208213  4.2298584 4.755317 \n",
       "5 3.099743  3.3085263  3.9820712 ⋯ 3.95559973  2.9326175  3.6972213 4.027257 \n",
       "6 3.357725  1.9136666  2.2021356 ⋯ 2.72896408  2.8246104  2.2057995 1.576431 \n",
       "  DLDR_0092  DLDR_0187  DLDR_0186   DLDR_0179 DLDR_0182 DLDR_0001\n",
       "1 6.26633823  6.6089237  6.34423435  6.296354  6.485184 5.965571 \n",
       "2 0.08898988 -0.7573986 -0.02658513 -2.568864 -0.486609 1.612375 \n",
       "3 4.31945643  4.2744503  4.17931917  4.381449  4.331904 4.133821 \n",
       "4 4.38806704  4.0425768  4.43879576  4.365810  4.090491 4.111056 \n",
       "5 3.97372734  2.1264084  3.81471713  2.965115  2.697188 4.150662 \n",
       "6 2.97651515  3.4239312  2.27774891  3.408416  3.630074 2.975845 "
      ]
     },
     "metadata": {},
     "output_type": "display_data"
    }
   ],
   "source": [
    "head(normal_counts)"
   ]
  },
  {
   "cell_type": "code",
   "execution_count": 48,
   "id": "555b7504-1fda-4cca-ab24-5dfc9e9c0977",
   "metadata": {},
   "outputs": [
    {
     "data": {
      "text/html": [
       "<style>\n",
       ".list-inline {list-style: none; margin:0; padding: 0}\n",
       ".list-inline>li {display: inline-block}\n",
       ".list-inline>li:not(:last-child)::after {content: \"\\00b7\"; padding: 0 .5ex}\n",
       "</style>\n",
       "<ol class=list-inline><li>17396</li><li>134</li></ol>\n"
      ],
      "text/latex": [
       "\\begin{enumerate*}\n",
       "\\item 17396\n",
       "\\item 134\n",
       "\\end{enumerate*}\n"
      ],
      "text/markdown": [
       "1. 17396\n",
       "2. 134\n",
       "\n",
       "\n"
      ],
      "text/plain": [
       "[1] 17396   134"
      ]
     },
     "metadata": {},
     "output_type": "display_data"
    }
   ],
   "source": [
    "dim(normal_counts)"
   ]
  },
  {
   "cell_type": "code",
   "execution_count": 49,
   "id": "6fcdb972-a959-417e-b165-ab95824f206e",
   "metadata": {},
   "outputs": [],
   "source": [
    "meta_data <- read.csv(\"train_meta_data.csv\")"
   ]
  },
  {
   "cell_type": "code",
   "execution_count": 50,
   "id": "ee2a67e0-31e8-48e3-9228-2ed64825638d",
   "metadata": {},
   "outputs": [
    {
     "data": {
      "text/html": [
       "<table class=\"dataframe\">\n",
       "<caption>A data.frame: 6 × 1</caption>\n",
       "<thead>\n",
       "\t<tr><th></th><th scope=col>Simplified_class</th></tr>\n",
       "\t<tr><th></th><th scope=col>&lt;chr&gt;</th></tr>\n",
       "</thead>\n",
       "<tbody>\n",
       "\t<tr><th scope=row>1</th><td>Normal               </td></tr>\n",
       "\t<tr><th scope=row>2</th><td>Advanced_fibrosis    </td></tr>\n",
       "\t<tr><th scope=row>3</th><td>Normal               </td></tr>\n",
       "\t<tr><th scope=row>4</th><td>Normal               </td></tr>\n",
       "\t<tr><th scope=row>5</th><td>Non_advanced_Fibrosis</td></tr>\n",
       "\t<tr><th scope=row>6</th><td>Normal               </td></tr>\n",
       "</tbody>\n",
       "</table>\n"
      ],
      "text/latex": [
       "A data.frame: 6 × 1\n",
       "\\begin{tabular}{r|l}\n",
       "  & Simplified\\_class\\\\\n",
       "  & <chr>\\\\\n",
       "\\hline\n",
       "\t1 & Normal               \\\\\n",
       "\t2 & Advanced\\_fibrosis    \\\\\n",
       "\t3 & Normal               \\\\\n",
       "\t4 & Normal               \\\\\n",
       "\t5 & Non\\_advanced\\_Fibrosis\\\\\n",
       "\t6 & Normal               \\\\\n",
       "\\end{tabular}\n"
      ],
      "text/markdown": [
       "\n",
       "A data.frame: 6 × 1\n",
       "\n",
       "| <!--/--> | Simplified_class &lt;chr&gt; |\n",
       "|---|---|\n",
       "| 1 | Normal                |\n",
       "| 2 | Advanced_fibrosis     |\n",
       "| 3 | Normal                |\n",
       "| 4 | Normal                |\n",
       "| 5 | Non_advanced_Fibrosis |\n",
       "| 6 | Normal                |\n",
       "\n"
      ],
      "text/plain": [
       "  Simplified_class     \n",
       "1 Normal               \n",
       "2 Advanced_fibrosis    \n",
       "3 Normal               \n",
       "4 Normal               \n",
       "5 Non_advanced_Fibrosis\n",
       "6 Normal               "
      ]
     },
     "metadata": {},
     "output_type": "display_data"
    }
   ],
   "source": [
    "head(meta_data)"
   ]
  },
  {
   "cell_type": "code",
   "execution_count": 51,
   "id": "dfff2a62-a8ee-4c63-8d25-1cf651234eb2",
   "metadata": {},
   "outputs": [],
   "source": [
    "meta_data$Simplified_class[meta_data$Simplified_class != 'Normal'] <- 'Fibrosis'"
   ]
  },
  {
   "cell_type": "code",
   "execution_count": 52,
   "id": "0204af7d-756d-43ca-b107-26f5f322facd",
   "metadata": {},
   "outputs": [],
   "source": [
    "labels <- factor(meta_data$Simplified_class)"
   ]
  },
  {
   "cell_type": "code",
   "execution_count": 53,
   "id": "84342d95-453a-4c8e-8650-0cc4a383f209",
   "metadata": {},
   "outputs": [
    {
     "name": "stdout",
     "output_type": "stream",
     "text": [
      "  [1] Normal   Fibrosis Normal   Normal   Fibrosis Normal   Fibrosis Fibrosis\n",
      "  [9] Fibrosis Normal   Fibrosis Fibrosis Fibrosis Fibrosis Fibrosis Fibrosis\n",
      " [17] Normal   Normal   Normal   Normal   Fibrosis Fibrosis Fibrosis Fibrosis\n",
      " [25] Fibrosis Fibrosis Normal   Fibrosis Normal   Fibrosis Fibrosis Fibrosis\n",
      " [33] Fibrosis Normal   Normal   Fibrosis Fibrosis Fibrosis Fibrosis Fibrosis\n",
      " [41] Fibrosis Fibrosis Fibrosis Fibrosis Fibrosis Fibrosis Normal   Fibrosis\n",
      " [49] Fibrosis Fibrosis Fibrosis Fibrosis Normal   Fibrosis Normal   Fibrosis\n",
      " [57] Fibrosis Fibrosis Normal   Normal   Normal   Fibrosis Fibrosis Fibrosis\n",
      " [65] Normal   Normal   Fibrosis Normal   Fibrosis Fibrosis Fibrosis Fibrosis\n",
      " [73] Normal   Fibrosis Fibrosis Normal   Fibrosis Fibrosis Fibrosis Fibrosis\n",
      " [81] Fibrosis Normal   Fibrosis Fibrosis Fibrosis Fibrosis Normal   Fibrosis\n",
      " [89] Fibrosis Fibrosis Fibrosis Normal   Normal   Fibrosis Fibrosis Fibrosis\n",
      " [97] Fibrosis Fibrosis Fibrosis Fibrosis Normal   Normal   Fibrosis Fibrosis\n",
      "[105] Normal   Normal   Fibrosis Fibrosis Fibrosis Normal   Fibrosis Fibrosis\n",
      "[113] Normal   Normal   Fibrosis Normal   Normal   Fibrosis Fibrosis Fibrosis\n",
      "[121] Normal   Fibrosis Fibrosis Fibrosis Fibrosis Normal   Fibrosis Fibrosis\n",
      "[129] Fibrosis Normal   Normal   Normal   Normal   Normal  \n",
      "Levels: Fibrosis Normal\n"
     ]
    }
   ],
   "source": [
    "print(labels)"
   ]
  },
  {
   "cell_type": "code",
   "execution_count": 54,
   "id": "c60f8394-9ef6-424b-9b2c-7e332203bcd6",
   "metadata": {},
   "outputs": [],
   "source": [
    "# Create a design matrix\n",
    "design <- model.matrix(~0 + labels)\n",
    "colnames(design) <- levels(labels)"
   ]
  },
  {
   "cell_type": "code",
   "execution_count": 55,
   "id": "306923dd-7413-48c4-ac95-2c3e6e92178d",
   "metadata": {},
   "outputs": [],
   "source": [
    "fit <- lmFit(normal_counts, design)"
   ]
  },
  {
   "cell_type": "code",
   "execution_count": 56,
   "id": "e593a8ad-2147-4db2-a529-5c4b45ccd5e4",
   "metadata": {},
   "outputs": [],
   "source": [
    "contrast.matrix <- makeContrasts(\n",
    "    Fibrosis_vs_Normal = `Fibrosis` - Normal,\n",
    "    levels = design\n",
    ")\n",
    "\n",
    "# Apply contrasts to the fit\n",
    "fit2 <- contrasts.fit(fit, contrast.matrix)\n",
    "\n",
    "# Empirical Bayes moderation to get p-values\n",
    "fit2 <- eBayes(fit2)"
   ]
  },
  {
   "cell_type": "code",
   "execution_count": 57,
   "id": "c60ab8d3-d4d2-483d-9fa1-5f2d72302558",
   "metadata": {},
   "outputs": [
    {
     "data": {
      "text/html": [
       "<table class=\"dataframe\">\n",
       "<caption>A data.frame: 6 × 6</caption>\n",
       "<thead>\n",
       "\t<tr><th></th><th scope=col>logFC</th><th scope=col>AveExpr</th><th scope=col>t</th><th scope=col>P.Value</th><th scope=col>adj.P.Val</th><th scope=col>B</th></tr>\n",
       "\t<tr><th></th><th scope=col>&lt;dbl&gt;</th><th scope=col>&lt;dbl&gt;</th><th scope=col>&lt;dbl&gt;</th><th scope=col>&lt;dbl&gt;</th><th scope=col>&lt;dbl&gt;</th><th scope=col>&lt;dbl&gt;</th></tr>\n",
       "</thead>\n",
       "<tbody>\n",
       "\t<tr><th scope=row>6969</th><td>0.4767457</td><td>4.207436</td><td>11.50608</td><td>9.952564e-22</td><td>1.731348e-17</td><td>38.77566</td></tr>\n",
       "\t<tr><th scope=row>17075</th><td>0.5206691</td><td>7.265926</td><td>11.08760</td><td>1.140214e-20</td><td>7.320483e-17</td><td>36.39218</td></tr>\n",
       "\t<tr><th scope=row>4419</th><td>0.8110163</td><td>7.074491</td><td>11.04250</td><td>1.482760e-20</td><td>7.320483e-17</td><td>36.13539</td></tr>\n",
       "\t<tr><th scope=row>10970</th><td>0.5251446</td><td>5.361546</td><td>11.01330</td><td>1.757697e-20</td><td>7.320483e-17</td><td>35.96911</td></tr>\n",
       "\t<tr><th scope=row>7725</th><td>0.6071783</td><td>4.957512</td><td>10.97299</td><td>2.222858e-20</td><td>7.320483e-17</td><td>35.73958</td></tr>\n",
       "\t<tr><th scope=row>1776</th><td>0.7526904</td><td>4.613934</td><td>10.92701</td><td>2.905256e-20</td><td>7.320483e-17</td><td>35.47785</td></tr>\n",
       "</tbody>\n",
       "</table>\n"
      ],
      "text/latex": [
       "A data.frame: 6 × 6\n",
       "\\begin{tabular}{r|llllll}\n",
       "  & logFC & AveExpr & t & P.Value & adj.P.Val & B\\\\\n",
       "  & <dbl> & <dbl> & <dbl> & <dbl> & <dbl> & <dbl>\\\\\n",
       "\\hline\n",
       "\t6969 & 0.4767457 & 4.207436 & 11.50608 & 9.952564e-22 & 1.731348e-17 & 38.77566\\\\\n",
       "\t17075 & 0.5206691 & 7.265926 & 11.08760 & 1.140214e-20 & 7.320483e-17 & 36.39218\\\\\n",
       "\t4419 & 0.8110163 & 7.074491 & 11.04250 & 1.482760e-20 & 7.320483e-17 & 36.13539\\\\\n",
       "\t10970 & 0.5251446 & 5.361546 & 11.01330 & 1.757697e-20 & 7.320483e-17 & 35.96911\\\\\n",
       "\t7725 & 0.6071783 & 4.957512 & 10.97299 & 2.222858e-20 & 7.320483e-17 & 35.73958\\\\\n",
       "\t1776 & 0.7526904 & 4.613934 & 10.92701 & 2.905256e-20 & 7.320483e-17 & 35.47785\\\\\n",
       "\\end{tabular}\n"
      ],
      "text/markdown": [
       "\n",
       "A data.frame: 6 × 6\n",
       "\n",
       "| <!--/--> | logFC &lt;dbl&gt; | AveExpr &lt;dbl&gt; | t &lt;dbl&gt; | P.Value &lt;dbl&gt; | adj.P.Val &lt;dbl&gt; | B &lt;dbl&gt; |\n",
       "|---|---|---|---|---|---|---|\n",
       "| 6969 | 0.4767457 | 4.207436 | 11.50608 | 9.952564e-22 | 1.731348e-17 | 38.77566 |\n",
       "| 17075 | 0.5206691 | 7.265926 | 11.08760 | 1.140214e-20 | 7.320483e-17 | 36.39218 |\n",
       "| 4419 | 0.8110163 | 7.074491 | 11.04250 | 1.482760e-20 | 7.320483e-17 | 36.13539 |\n",
       "| 10970 | 0.5251446 | 5.361546 | 11.01330 | 1.757697e-20 | 7.320483e-17 | 35.96911 |\n",
       "| 7725 | 0.6071783 | 4.957512 | 10.97299 | 2.222858e-20 | 7.320483e-17 | 35.73958 |\n",
       "| 1776 | 0.7526904 | 4.613934 | 10.92701 | 2.905256e-20 | 7.320483e-17 | 35.47785 |\n",
       "\n"
      ],
      "text/plain": [
       "      logFC     AveExpr  t        P.Value      adj.P.Val    B       \n",
       "6969  0.4767457 4.207436 11.50608 9.952564e-22 1.731348e-17 38.77566\n",
       "17075 0.5206691 7.265926 11.08760 1.140214e-20 7.320483e-17 36.39218\n",
       "4419  0.8110163 7.074491 11.04250 1.482760e-20 7.320483e-17 36.13539\n",
       "10970 0.5251446 5.361546 11.01330 1.757697e-20 7.320483e-17 35.96911\n",
       "7725  0.6071783 4.957512 10.97299 2.222858e-20 7.320483e-17 35.73958\n",
       "1776  0.7526904 4.613934 10.92701 2.905256e-20 7.320483e-17 35.47785"
      ]
     },
     "metadata": {},
     "output_type": "display_data"
    }
   ],
   "source": [
    "# Get the top DEGs for the Fibrosis vs Normal comparison\n",
    "top_genes_fib_vs_norm <- topTable(fit2, coef = \"Fibrosis_vs_Normal\", adjust.method = \"BH\", number = Inf)\n",
    "\n",
    "# View the top DEGs\n",
    "head(top_genes_fib_vs_norm)"
   ]
  },
  {
   "cell_type": "code",
   "execution_count": 58,
   "id": "adb4f048-f310-47e5-94af-c8e85e9d60cd",
   "metadata": {},
   "outputs": [],
   "source": [
    "write.csv(top_genes_fib_vs_norm, \"DEGs_Fibrosis_from_Normal.csv\")"
   ]
  },
  {
   "cell_type": "code",
   "execution_count": 59,
   "id": "dfaa0048-97fa-46e2-916d-77402fc9ebce",
   "metadata": {},
   "outputs": [
    {
     "data": {
      "text/html": [
       "<table class=\"dataframe\">\n",
       "<caption>A data.frame: 6 × 6</caption>\n",
       "<thead>\n",
       "\t<tr><th></th><th scope=col>logFC</th><th scope=col>AveExpr</th><th scope=col>t</th><th scope=col>P.Value</th><th scope=col>adj.P.Val</th><th scope=col>B</th></tr>\n",
       "\t<tr><th></th><th scope=col>&lt;dbl&gt;</th><th scope=col>&lt;dbl&gt;</th><th scope=col>&lt;dbl&gt;</th><th scope=col>&lt;dbl&gt;</th><th scope=col>&lt;dbl&gt;</th><th scope=col>&lt;dbl&gt;</th></tr>\n",
       "</thead>\n",
       "<tbody>\n",
       "\t<tr><th scope=row>6969</th><td>0.4767457</td><td>4.207436</td><td>11.50608</td><td>9.952564e-22</td><td>1.731348e-17</td><td>38.77566</td></tr>\n",
       "\t<tr><th scope=row>17075</th><td>0.5206691</td><td>7.265926</td><td>11.08760</td><td>1.140214e-20</td><td>7.320483e-17</td><td>36.39218</td></tr>\n",
       "\t<tr><th scope=row>4419</th><td>0.8110163</td><td>7.074491</td><td>11.04250</td><td>1.482760e-20</td><td>7.320483e-17</td><td>36.13539</td></tr>\n",
       "\t<tr><th scope=row>10970</th><td>0.5251446</td><td>5.361546</td><td>11.01330</td><td>1.757697e-20</td><td>7.320483e-17</td><td>35.96911</td></tr>\n",
       "\t<tr><th scope=row>7725</th><td>0.6071783</td><td>4.957512</td><td>10.97299</td><td>2.222858e-20</td><td>7.320483e-17</td><td>35.73958</td></tr>\n",
       "\t<tr><th scope=row>1776</th><td>0.7526904</td><td>4.613934</td><td>10.92701</td><td>2.905256e-20</td><td>7.320483e-17</td><td>35.47785</td></tr>\n",
       "</tbody>\n",
       "</table>\n"
      ],
      "text/latex": [
       "A data.frame: 6 × 6\n",
       "\\begin{tabular}{r|llllll}\n",
       "  & logFC & AveExpr & t & P.Value & adj.P.Val & B\\\\\n",
       "  & <dbl> & <dbl> & <dbl> & <dbl> & <dbl> & <dbl>\\\\\n",
       "\\hline\n",
       "\t6969 & 0.4767457 & 4.207436 & 11.50608 & 9.952564e-22 & 1.731348e-17 & 38.77566\\\\\n",
       "\t17075 & 0.5206691 & 7.265926 & 11.08760 & 1.140214e-20 & 7.320483e-17 & 36.39218\\\\\n",
       "\t4419 & 0.8110163 & 7.074491 & 11.04250 & 1.482760e-20 & 7.320483e-17 & 36.13539\\\\\n",
       "\t10970 & 0.5251446 & 5.361546 & 11.01330 & 1.757697e-20 & 7.320483e-17 & 35.96911\\\\\n",
       "\t7725 & 0.6071783 & 4.957512 & 10.97299 & 2.222858e-20 & 7.320483e-17 & 35.73958\\\\\n",
       "\t1776 & 0.7526904 & 4.613934 & 10.92701 & 2.905256e-20 & 7.320483e-17 & 35.47785\\\\\n",
       "\\end{tabular}\n"
      ],
      "text/markdown": [
       "\n",
       "A data.frame: 6 × 6\n",
       "\n",
       "| <!--/--> | logFC &lt;dbl&gt; | AveExpr &lt;dbl&gt; | t &lt;dbl&gt; | P.Value &lt;dbl&gt; | adj.P.Val &lt;dbl&gt; | B &lt;dbl&gt; |\n",
       "|---|---|---|---|---|---|---|\n",
       "| 6969 | 0.4767457 | 4.207436 | 11.50608 | 9.952564e-22 | 1.731348e-17 | 38.77566 |\n",
       "| 17075 | 0.5206691 | 7.265926 | 11.08760 | 1.140214e-20 | 7.320483e-17 | 36.39218 |\n",
       "| 4419 | 0.8110163 | 7.074491 | 11.04250 | 1.482760e-20 | 7.320483e-17 | 36.13539 |\n",
       "| 10970 | 0.5251446 | 5.361546 | 11.01330 | 1.757697e-20 | 7.320483e-17 | 35.96911 |\n",
       "| 7725 | 0.6071783 | 4.957512 | 10.97299 | 2.222858e-20 | 7.320483e-17 | 35.73958 |\n",
       "| 1776 | 0.7526904 | 4.613934 | 10.92701 | 2.905256e-20 | 7.320483e-17 | 35.47785 |\n",
       "\n"
      ],
      "text/plain": [
       "      logFC     AveExpr  t        P.Value      adj.P.Val    B       \n",
       "6969  0.4767457 4.207436 11.50608 9.952564e-22 1.731348e-17 38.77566\n",
       "17075 0.5206691 7.265926 11.08760 1.140214e-20 7.320483e-17 36.39218\n",
       "4419  0.8110163 7.074491 11.04250 1.482760e-20 7.320483e-17 36.13539\n",
       "10970 0.5251446 5.361546 11.01330 1.757697e-20 7.320483e-17 35.96911\n",
       "7725  0.6071783 4.957512 10.97299 2.222858e-20 7.320483e-17 35.73958\n",
       "1776  0.7526904 4.613934 10.92701 2.905256e-20 7.320483e-17 35.47785"
      ]
     },
     "metadata": {},
     "output_type": "display_data"
    }
   ],
   "source": [
    "filtered_genes_fib_vs_norm <- top_genes_fib_vs_norm[1:500,]\n",
    "\n",
    "# View filtered DEGs\n",
    "head(filtered_genes_fib_vs_norm)"
   ]
  },
  {
   "cell_type": "code",
   "execution_count": 60,
   "id": "4ddfee0d-e605-4293-8064-d58a4b69f2ab",
   "metadata": {},
   "outputs": [],
   "source": [
    "genes_fib_vs_norm_names <- rownames(filtered_genes_fib_vs_norm)"
   ]
  },
  {
   "cell_type": "code",
   "execution_count": 61,
   "id": "569d4365-de0a-443d-beef-21790104774e",
   "metadata": {},
   "outputs": [
    {
     "data": {
      "text/html": [
       "<table class=\"dataframe\">\n",
       "<caption>A data.frame: 6 × 134</caption>\n",
       "<thead>\n",
       "\t<tr><th></th><th scope=col>DLDR_0036</th><th scope=col>DLDR_0081</th><th scope=col>DLDR_0191</th><th scope=col>DLDR_0188</th><th scope=col>DLDR_0130</th><th scope=col>DLDR_0013</th><th scope=col>DLDR_0079</th><th scope=col>DLDR_0131</th><th scope=col>DLDR_0135</th><th scope=col>DLDR_0190</th><th scope=col>⋯</th><th scope=col>DLDR_0175</th><th scope=col>DLDR_0052</th><th scope=col>DLDR_0087</th><th scope=col>DLDR_0155</th><th scope=col>DLDR_0092</th><th scope=col>DLDR_0187</th><th scope=col>DLDR_0186</th><th scope=col>DLDR_0179</th><th scope=col>DLDR_0182</th><th scope=col>DLDR_0001</th></tr>\n",
       "\t<tr><th></th><th scope=col>&lt;dbl&gt;</th><th scope=col>&lt;dbl&gt;</th><th scope=col>&lt;dbl&gt;</th><th scope=col>&lt;dbl&gt;</th><th scope=col>&lt;dbl&gt;</th><th scope=col>&lt;dbl&gt;</th><th scope=col>&lt;dbl&gt;</th><th scope=col>&lt;dbl&gt;</th><th scope=col>&lt;dbl&gt;</th><th scope=col>&lt;dbl&gt;</th><th scope=col>⋯</th><th scope=col>&lt;dbl&gt;</th><th scope=col>&lt;dbl&gt;</th><th scope=col>&lt;dbl&gt;</th><th scope=col>&lt;dbl&gt;</th><th scope=col>&lt;dbl&gt;</th><th scope=col>&lt;dbl&gt;</th><th scope=col>&lt;dbl&gt;</th><th scope=col>&lt;dbl&gt;</th><th scope=col>&lt;dbl&gt;</th><th scope=col>&lt;dbl&gt;</th></tr>\n",
       "</thead>\n",
       "<tbody>\n",
       "\t<tr><th scope=row>10</th><td>4.5895546</td><td> 5.4821690</td><td>5.013154</td><td>5.0660709</td><td>4.6558168</td><td>4.299078</td><td>4.7529575</td><td> 5.4095139</td><td> 4.9937768</td><td>4.5285302</td><td>⋯</td><td>4.85356510</td><td> 4.5671727</td><td>4.98515819</td><td> 5.2347762</td><td> 4.9007545</td><td> 4.923087</td><td>5.0044999</td><td>5.058062</td><td>5.0024535</td><td>4.221450</td></tr>\n",
       "\t<tr><th scope=row>17</th><td>5.4498461</td><td> 5.6265590</td><td>5.668470</td><td>5.8249308</td><td>5.6457475</td><td>5.172477</td><td>5.5504949</td><td> 5.4456837</td><td> 5.8252990</td><td>5.6696779</td><td>⋯</td><td>5.57406609</td><td> 5.2507565</td><td>6.00898948</td><td> 6.0142514</td><td> 5.9716329</td><td> 5.707487</td><td>5.7846679</td><td>5.655138</td><td>5.9198271</td><td>5.086468</td></tr>\n",
       "\t<tr><th scope=row>39</th><td>7.9621220</td><td> 8.1135463</td><td>8.351269</td><td>8.1821062</td><td>8.3109562</td><td>7.149491</td><td>7.9505994</td><td> 8.3611480</td><td> 8.2160940</td><td>8.0972352</td><td>⋯</td><td>8.25672321</td><td> 7.8754781</td><td>8.03891652</td><td> 8.0412155</td><td> 8.1943746</td><td> 8.353489</td><td>8.4129625</td><td>8.349751</td><td>8.4014724</td><td>7.200374</td></tr>\n",
       "\t<tr><th scope=row>58</th><td>0.8144082</td><td>-0.6402276</td><td>0.199094</td><td>0.5012863</td><td>0.5276482</td><td>2.050562</td><td>0.8282831</td><td>-0.8902029</td><td>-0.3387205</td><td>0.7454972</td><td>⋯</td><td>0.03594184</td><td>-0.4620669</td><td>0.01960947</td><td>-0.4101482</td><td>-0.3964369</td><td>-0.626154</td><td>0.6014461</td><td>1.338027</td><td>0.4160938</td><td>2.125326</td></tr>\n",
       "\t<tr><th scope=row>67</th><td>5.5138387</td><td> 6.0274753</td><td>6.073207</td><td>5.8621856</td><td>5.7559469</td><td>4.997887</td><td>5.7069400</td><td> 5.7806501</td><td> 6.0198660</td><td>5.8642174</td><td>⋯</td><td>5.75658513</td><td> 5.4751801</td><td>5.98185629</td><td> 5.8731974</td><td> 5.8628355</td><td> 5.832565</td><td>5.7705851</td><td>5.658351</td><td>6.0170439</td><td>5.071807</td></tr>\n",
       "\t<tr><th scope=row>121</th><td>6.2815691</td><td> 6.4648079</td><td>6.162367</td><td>6.2472406</td><td>6.1707244</td><td>5.744103</td><td>6.3216265</td><td> 6.3755424</td><td> 6.5432032</td><td>6.2974713</td><td>⋯</td><td>6.50300390</td><td> 6.2821870</td><td>6.55750137</td><td> 6.5650098</td><td> 6.1550791</td><td> 6.374336</td><td>6.2230671</td><td>6.531799</td><td>6.2607083</td><td>5.943191</td></tr>\n",
       "</tbody>\n",
       "</table>\n"
      ],
      "text/latex": [
       "A data.frame: 6 × 134\n",
       "\\begin{tabular}{r|lllllllllllllllllllll}\n",
       "  & DLDR\\_0036 & DLDR\\_0081 & DLDR\\_0191 & DLDR\\_0188 & DLDR\\_0130 & DLDR\\_0013 & DLDR\\_0079 & DLDR\\_0131 & DLDR\\_0135 & DLDR\\_0190 & ⋯ & DLDR\\_0175 & DLDR\\_0052 & DLDR\\_0087 & DLDR\\_0155 & DLDR\\_0092 & DLDR\\_0187 & DLDR\\_0186 & DLDR\\_0179 & DLDR\\_0182 & DLDR\\_0001\\\\\n",
       "  & <dbl> & <dbl> & <dbl> & <dbl> & <dbl> & <dbl> & <dbl> & <dbl> & <dbl> & <dbl> & ⋯ & <dbl> & <dbl> & <dbl> & <dbl> & <dbl> & <dbl> & <dbl> & <dbl> & <dbl> & <dbl>\\\\\n",
       "\\hline\n",
       "\t10 & 4.5895546 &  5.4821690 & 5.013154 & 5.0660709 & 4.6558168 & 4.299078 & 4.7529575 &  5.4095139 &  4.9937768 & 4.5285302 & ⋯ & 4.85356510 &  4.5671727 & 4.98515819 &  5.2347762 &  4.9007545 &  4.923087 & 5.0044999 & 5.058062 & 5.0024535 & 4.221450\\\\\n",
       "\t17 & 5.4498461 &  5.6265590 & 5.668470 & 5.8249308 & 5.6457475 & 5.172477 & 5.5504949 &  5.4456837 &  5.8252990 & 5.6696779 & ⋯ & 5.57406609 &  5.2507565 & 6.00898948 &  6.0142514 &  5.9716329 &  5.707487 & 5.7846679 & 5.655138 & 5.9198271 & 5.086468\\\\\n",
       "\t39 & 7.9621220 &  8.1135463 & 8.351269 & 8.1821062 & 8.3109562 & 7.149491 & 7.9505994 &  8.3611480 &  8.2160940 & 8.0972352 & ⋯ & 8.25672321 &  7.8754781 & 8.03891652 &  8.0412155 &  8.1943746 &  8.353489 & 8.4129625 & 8.349751 & 8.4014724 & 7.200374\\\\\n",
       "\t58 & 0.8144082 & -0.6402276 & 0.199094 & 0.5012863 & 0.5276482 & 2.050562 & 0.8282831 & -0.8902029 & -0.3387205 & 0.7454972 & ⋯ & 0.03594184 & -0.4620669 & 0.01960947 & -0.4101482 & -0.3964369 & -0.626154 & 0.6014461 & 1.338027 & 0.4160938 & 2.125326\\\\\n",
       "\t67 & 5.5138387 &  6.0274753 & 6.073207 & 5.8621856 & 5.7559469 & 4.997887 & 5.7069400 &  5.7806501 &  6.0198660 & 5.8642174 & ⋯ & 5.75658513 &  5.4751801 & 5.98185629 &  5.8731974 &  5.8628355 &  5.832565 & 5.7705851 & 5.658351 & 6.0170439 & 5.071807\\\\\n",
       "\t121 & 6.2815691 &  6.4648079 & 6.162367 & 6.2472406 & 6.1707244 & 5.744103 & 6.3216265 &  6.3755424 &  6.5432032 & 6.2974713 & ⋯ & 6.50300390 &  6.2821870 & 6.55750137 &  6.5650098 &  6.1550791 &  6.374336 & 6.2230671 & 6.531799 & 6.2607083 & 5.943191\\\\\n",
       "\\end{tabular}\n"
      ],
      "text/markdown": [
       "\n",
       "A data.frame: 6 × 134\n",
       "\n",
       "| <!--/--> | DLDR_0036 &lt;dbl&gt; | DLDR_0081 &lt;dbl&gt; | DLDR_0191 &lt;dbl&gt; | DLDR_0188 &lt;dbl&gt; | DLDR_0130 &lt;dbl&gt; | DLDR_0013 &lt;dbl&gt; | DLDR_0079 &lt;dbl&gt; | DLDR_0131 &lt;dbl&gt; | DLDR_0135 &lt;dbl&gt; | DLDR_0190 &lt;dbl&gt; | ⋯ ⋯ | DLDR_0175 &lt;dbl&gt; | DLDR_0052 &lt;dbl&gt; | DLDR_0087 &lt;dbl&gt; | DLDR_0155 &lt;dbl&gt; | DLDR_0092 &lt;dbl&gt; | DLDR_0187 &lt;dbl&gt; | DLDR_0186 &lt;dbl&gt; | DLDR_0179 &lt;dbl&gt; | DLDR_0182 &lt;dbl&gt; | DLDR_0001 &lt;dbl&gt; |\n",
       "|---|---|---|---|---|---|---|---|---|---|---|---|---|---|---|---|---|---|---|---|---|---|\n",
       "| 10 | 4.5895546 |  5.4821690 | 5.013154 | 5.0660709 | 4.6558168 | 4.299078 | 4.7529575 |  5.4095139 |  4.9937768 | 4.5285302 | ⋯ | 4.85356510 |  4.5671727 | 4.98515819 |  5.2347762 |  4.9007545 |  4.923087 | 5.0044999 | 5.058062 | 5.0024535 | 4.221450 |\n",
       "| 17 | 5.4498461 |  5.6265590 | 5.668470 | 5.8249308 | 5.6457475 | 5.172477 | 5.5504949 |  5.4456837 |  5.8252990 | 5.6696779 | ⋯ | 5.57406609 |  5.2507565 | 6.00898948 |  6.0142514 |  5.9716329 |  5.707487 | 5.7846679 | 5.655138 | 5.9198271 | 5.086468 |\n",
       "| 39 | 7.9621220 |  8.1135463 | 8.351269 | 8.1821062 | 8.3109562 | 7.149491 | 7.9505994 |  8.3611480 |  8.2160940 | 8.0972352 | ⋯ | 8.25672321 |  7.8754781 | 8.03891652 |  8.0412155 |  8.1943746 |  8.353489 | 8.4129625 | 8.349751 | 8.4014724 | 7.200374 |\n",
       "| 58 | 0.8144082 | -0.6402276 | 0.199094 | 0.5012863 | 0.5276482 | 2.050562 | 0.8282831 | -0.8902029 | -0.3387205 | 0.7454972 | ⋯ | 0.03594184 | -0.4620669 | 0.01960947 | -0.4101482 | -0.3964369 | -0.626154 | 0.6014461 | 1.338027 | 0.4160938 | 2.125326 |\n",
       "| 67 | 5.5138387 |  6.0274753 | 6.073207 | 5.8621856 | 5.7559469 | 4.997887 | 5.7069400 |  5.7806501 |  6.0198660 | 5.8642174 | ⋯ | 5.75658513 |  5.4751801 | 5.98185629 |  5.8731974 |  5.8628355 |  5.832565 | 5.7705851 | 5.658351 | 6.0170439 | 5.071807 |\n",
       "| 121 | 6.2815691 |  6.4648079 | 6.162367 | 6.2472406 | 6.1707244 | 5.744103 | 6.3216265 |  6.3755424 |  6.5432032 | 6.2974713 | ⋯ | 6.50300390 |  6.2821870 | 6.55750137 |  6.5650098 |  6.1550791 |  6.374336 | 6.2230671 | 6.531799 | 6.2607083 | 5.943191 |\n",
       "\n"
      ],
      "text/plain": [
       "    DLDR_0036 DLDR_0081  DLDR_0191 DLDR_0188 DLDR_0130 DLDR_0013 DLDR_0079\n",
       "10  4.5895546  5.4821690 5.013154  5.0660709 4.6558168 4.299078  4.7529575\n",
       "17  5.4498461  5.6265590 5.668470  5.8249308 5.6457475 5.172477  5.5504949\n",
       "39  7.9621220  8.1135463 8.351269  8.1821062 8.3109562 7.149491  7.9505994\n",
       "58  0.8144082 -0.6402276 0.199094  0.5012863 0.5276482 2.050562  0.8282831\n",
       "67  5.5138387  6.0274753 6.073207  5.8621856 5.7559469 4.997887  5.7069400\n",
       "121 6.2815691  6.4648079 6.162367  6.2472406 6.1707244 5.744103  6.3216265\n",
       "    DLDR_0131  DLDR_0135  DLDR_0190 ⋯ DLDR_0175  DLDR_0052  DLDR_0087 \n",
       "10   5.4095139  4.9937768 4.5285302 ⋯ 4.85356510  4.5671727 4.98515819\n",
       "17   5.4456837  5.8252990 5.6696779 ⋯ 5.57406609  5.2507565 6.00898948\n",
       "39   8.3611480  8.2160940 8.0972352 ⋯ 8.25672321  7.8754781 8.03891652\n",
       "58  -0.8902029 -0.3387205 0.7454972 ⋯ 0.03594184 -0.4620669 0.01960947\n",
       "67   5.7806501  6.0198660 5.8642174 ⋯ 5.75658513  5.4751801 5.98185629\n",
       "121  6.3755424  6.5432032 6.2974713 ⋯ 6.50300390  6.2821870 6.55750137\n",
       "    DLDR_0155  DLDR_0092  DLDR_0187 DLDR_0186 DLDR_0179 DLDR_0182 DLDR_0001\n",
       "10   5.2347762  4.9007545  4.923087 5.0044999 5.058062  5.0024535 4.221450 \n",
       "17   6.0142514  5.9716329  5.707487 5.7846679 5.655138  5.9198271 5.086468 \n",
       "39   8.0412155  8.1943746  8.353489 8.4129625 8.349751  8.4014724 7.200374 \n",
       "58  -0.4101482 -0.3964369 -0.626154 0.6014461 1.338027  0.4160938 2.125326 \n",
       "67   5.8731974  5.8628355  5.832565 5.7705851 5.658351  6.0170439 5.071807 \n",
       "121  6.5650098  6.1550791  6.374336 6.2230671 6.531799  6.2607083 5.943191 "
      ]
     },
     "metadata": {},
     "output_type": "display_data"
    }
   ],
   "source": [
    "common_genes <- intersect(rownames(normal_counts), genes_fib_vs_norm_names)\n",
    "selected_normal_counts <- normal_counts[common_genes, ]\n",
    "head(selected_normal_counts)"
   ]
  },
  {
   "cell_type": "code",
   "execution_count": 62,
   "id": "91ed8cec-98ef-4cb8-a39e-7189f215f971",
   "metadata": {},
   "outputs": [
    {
     "data": {
      "text/html": [
       "<style>\n",
       ".list-inline {list-style: none; margin:0; padding: 0}\n",
       ".list-inline>li {display: inline-block}\n",
       ".list-inline>li:not(:last-child)::after {content: \"\\00b7\"; padding: 0 .5ex}\n",
       "</style>\n",
       "<ol class=list-inline><li>500</li><li>134</li></ol>\n"
      ],
      "text/latex": [
       "\\begin{enumerate*}\n",
       "\\item 500\n",
       "\\item 134\n",
       "\\end{enumerate*}\n"
      ],
      "text/markdown": [
       "1. 500\n",
       "2. 134\n",
       "\n",
       "\n"
      ],
      "text/plain": [
       "[1] 500 134"
      ]
     },
     "metadata": {},
     "output_type": "display_data"
    }
   ],
   "source": [
    "dim(selected_normal_counts)"
   ]
  },
  {
   "cell_type": "code",
   "execution_count": 63,
   "id": "86e4b69b-8ec0-4913-97f2-8f56562f716d",
   "metadata": {},
   "outputs": [],
   "source": [
    "write.csv(selected_normal_counts, \"subset_data1.csv\")\n",
    "write.csv(meta_data, \"meta_data1.csv\")"
   ]
  },
  {
   "cell_type": "markdown",
   "id": "39863dcc-2bda-4673-869f-805679efb83c",
   "metadata": {},
   "source": [
    "## Second Machine ##"
   ]
  },
  {
   "cell_type": "code",
   "execution_count": 64,
   "id": "efc080af-4a0f-4877-863b-1c9e9df7240e",
   "metadata": {},
   "outputs": [],
   "source": [
    "meta_data <- read.csv(\"train_meta_data.csv\")"
   ]
  },
  {
   "cell_type": "code",
   "execution_count": 65,
   "id": "bbfa79d6-76a7-4052-9d0d-36ddc654ea68",
   "metadata": {},
   "outputs": [],
   "source": [
    "meta_data <- subset(meta_data, Simplified_class != 'Normal')"
   ]
  },
  {
   "cell_type": "code",
   "execution_count": 66,
   "id": "a09dc46d-276e-460d-b9f7-d34ebc8ae90c",
   "metadata": {},
   "outputs": [
    {
     "data": {
      "text/html": [
       "<table class=\"dataframe\">\n",
       "<caption>A data.frame: 6 × 1</caption>\n",
       "<thead>\n",
       "\t<tr><th></th><th scope=col>Simplified_class</th></tr>\n",
       "\t<tr><th></th><th scope=col>&lt;chr&gt;</th></tr>\n",
       "</thead>\n",
       "<tbody>\n",
       "\t<tr><th scope=row>2</th><td>Advanced_fibrosis    </td></tr>\n",
       "\t<tr><th scope=row>5</th><td>Non_advanced_Fibrosis</td></tr>\n",
       "\t<tr><th scope=row>7</th><td>Advanced_fibrosis    </td></tr>\n",
       "\t<tr><th scope=row>8</th><td>Non_advanced_Fibrosis</td></tr>\n",
       "\t<tr><th scope=row>9</th><td>Non_advanced_Fibrosis</td></tr>\n",
       "\t<tr><th scope=row>11</th><td>Advanced_fibrosis    </td></tr>\n",
       "</tbody>\n",
       "</table>\n"
      ],
      "text/latex": [
       "A data.frame: 6 × 1\n",
       "\\begin{tabular}{r|l}\n",
       "  & Simplified\\_class\\\\\n",
       "  & <chr>\\\\\n",
       "\\hline\n",
       "\t2 & Advanced\\_fibrosis    \\\\\n",
       "\t5 & Non\\_advanced\\_Fibrosis\\\\\n",
       "\t7 & Advanced\\_fibrosis    \\\\\n",
       "\t8 & Non\\_advanced\\_Fibrosis\\\\\n",
       "\t9 & Non\\_advanced\\_Fibrosis\\\\\n",
       "\t11 & Advanced\\_fibrosis    \\\\\n",
       "\\end{tabular}\n"
      ],
      "text/markdown": [
       "\n",
       "A data.frame: 6 × 1\n",
       "\n",
       "| <!--/--> | Simplified_class &lt;chr&gt; |\n",
       "|---|---|\n",
       "| 2 | Advanced_fibrosis     |\n",
       "| 5 | Non_advanced_Fibrosis |\n",
       "| 7 | Advanced_fibrosis     |\n",
       "| 8 | Non_advanced_Fibrosis |\n",
       "| 9 | Non_advanced_Fibrosis |\n",
       "| 11 | Advanced_fibrosis     |\n",
       "\n"
      ],
      "text/plain": [
       "   Simplified_class     \n",
       "2  Advanced_fibrosis    \n",
       "5  Non_advanced_Fibrosis\n",
       "7  Advanced_fibrosis    \n",
       "8  Non_advanced_Fibrosis\n",
       "9  Non_advanced_Fibrosis\n",
       "11 Advanced_fibrosis    "
      ]
     },
     "metadata": {},
     "output_type": "display_data"
    }
   ],
   "source": [
    "head(meta_data)"
   ]
  },
  {
   "cell_type": "code",
   "execution_count": 67,
   "id": "7b17fbf1-21ac-41a9-8079-5292f4db9f3b",
   "metadata": {},
   "outputs": [
    {
     "data": {
      "text/html": [
       "<style>\n",
       ".list-inline {list-style: none; margin:0; padding: 0}\n",
       ".list-inline>li {display: inline-block}\n",
       ".list-inline>li:not(:last-child)::after {content: \"\\00b7\"; padding: 0 .5ex}\n",
       "</style>\n",
       "<ol class=list-inline><li>90</li><li>1</li></ol>\n"
      ],
      "text/latex": [
       "\\begin{enumerate*}\n",
       "\\item 90\n",
       "\\item 1\n",
       "\\end{enumerate*}\n"
      ],
      "text/markdown": [
       "1. 90\n",
       "2. 1\n",
       "\n",
       "\n"
      ],
      "text/plain": [
       "[1] 90  1"
      ]
     },
     "metadata": {},
     "output_type": "display_data"
    }
   ],
   "source": [
    "dim(meta_data)"
   ]
  },
  {
   "cell_type": "code",
   "execution_count": 68,
   "id": "a6c6efef-faf6-4a4b-9e7b-58dbe1eaeefa",
   "metadata": {},
   "outputs": [
    {
     "data": {
      "text/html": [
       "<style>\n",
       ".list-inline {list-style: none; margin:0; padding: 0}\n",
       ".list-inline>li {display: inline-block}\n",
       ".list-inline>li:not(:last-child)::after {content: \"\\00b7\"; padding: 0 .5ex}\n",
       "</style>\n",
       "<ol class=list-inline><li>'2'</li><li>'5'</li><li>'7'</li><li>'8'</li><li>'9'</li><li>'11'</li><li>'12'</li><li>'13'</li><li>'14'</li><li>'15'</li><li>'16'</li><li>'21'</li><li>'22'</li><li>'23'</li><li>'24'</li><li>'25'</li><li>'26'</li><li>'28'</li><li>'30'</li><li>'31'</li><li>'32'</li><li>'33'</li><li>'36'</li><li>'37'</li><li>'38'</li><li>'39'</li><li>'40'</li><li>'41'</li><li>'42'</li><li>'43'</li><li>'44'</li><li>'45'</li><li>'46'</li><li>'48'</li><li>'49'</li><li>'50'</li><li>'51'</li><li>'52'</li><li>'54'</li><li>'56'</li><li>'57'</li><li>'58'</li><li>'62'</li><li>'63'</li><li>'64'</li><li>'67'</li><li>'69'</li><li>'70'</li><li>'71'</li><li>'72'</li><li>'74'</li><li>'75'</li><li>'77'</li><li>'78'</li><li>'79'</li><li>'80'</li><li>'81'</li><li>'83'</li><li>'84'</li><li>'85'</li><li>'86'</li><li>'88'</li><li>'89'</li><li>'90'</li><li>'91'</li><li>'94'</li><li>'95'</li><li>'96'</li><li>'97'</li><li>'98'</li><li>'99'</li><li>'100'</li><li>'103'</li><li>'104'</li><li>'107'</li><li>'108'</li><li>'109'</li><li>'111'</li><li>'112'</li><li>'115'</li><li>'118'</li><li>'119'</li><li>'120'</li><li>'122'</li><li>'123'</li><li>'124'</li><li>'125'</li><li>'127'</li><li>'128'</li><li>'129'</li></ol>\n"
      ],
      "text/latex": [
       "\\begin{enumerate*}\n",
       "\\item '2'\n",
       "\\item '5'\n",
       "\\item '7'\n",
       "\\item '8'\n",
       "\\item '9'\n",
       "\\item '11'\n",
       "\\item '12'\n",
       "\\item '13'\n",
       "\\item '14'\n",
       "\\item '15'\n",
       "\\item '16'\n",
       "\\item '21'\n",
       "\\item '22'\n",
       "\\item '23'\n",
       "\\item '24'\n",
       "\\item '25'\n",
       "\\item '26'\n",
       "\\item '28'\n",
       "\\item '30'\n",
       "\\item '31'\n",
       "\\item '32'\n",
       "\\item '33'\n",
       "\\item '36'\n",
       "\\item '37'\n",
       "\\item '38'\n",
       "\\item '39'\n",
       "\\item '40'\n",
       "\\item '41'\n",
       "\\item '42'\n",
       "\\item '43'\n",
       "\\item '44'\n",
       "\\item '45'\n",
       "\\item '46'\n",
       "\\item '48'\n",
       "\\item '49'\n",
       "\\item '50'\n",
       "\\item '51'\n",
       "\\item '52'\n",
       "\\item '54'\n",
       "\\item '56'\n",
       "\\item '57'\n",
       "\\item '58'\n",
       "\\item '62'\n",
       "\\item '63'\n",
       "\\item '64'\n",
       "\\item '67'\n",
       "\\item '69'\n",
       "\\item '70'\n",
       "\\item '71'\n",
       "\\item '72'\n",
       "\\item '74'\n",
       "\\item '75'\n",
       "\\item '77'\n",
       "\\item '78'\n",
       "\\item '79'\n",
       "\\item '80'\n",
       "\\item '81'\n",
       "\\item '83'\n",
       "\\item '84'\n",
       "\\item '85'\n",
       "\\item '86'\n",
       "\\item '88'\n",
       "\\item '89'\n",
       "\\item '90'\n",
       "\\item '91'\n",
       "\\item '94'\n",
       "\\item '95'\n",
       "\\item '96'\n",
       "\\item '97'\n",
       "\\item '98'\n",
       "\\item '99'\n",
       "\\item '100'\n",
       "\\item '103'\n",
       "\\item '104'\n",
       "\\item '107'\n",
       "\\item '108'\n",
       "\\item '109'\n",
       "\\item '111'\n",
       "\\item '112'\n",
       "\\item '115'\n",
       "\\item '118'\n",
       "\\item '119'\n",
       "\\item '120'\n",
       "\\item '122'\n",
       "\\item '123'\n",
       "\\item '124'\n",
       "\\item '125'\n",
       "\\item '127'\n",
       "\\item '128'\n",
       "\\item '129'\n",
       "\\end{enumerate*}\n"
      ],
      "text/markdown": [
       "1. '2'\n",
       "2. '5'\n",
       "3. '7'\n",
       "4. '8'\n",
       "5. '9'\n",
       "6. '11'\n",
       "7. '12'\n",
       "8. '13'\n",
       "9. '14'\n",
       "10. '15'\n",
       "11. '16'\n",
       "12. '21'\n",
       "13. '22'\n",
       "14. '23'\n",
       "15. '24'\n",
       "16. '25'\n",
       "17. '26'\n",
       "18. '28'\n",
       "19. '30'\n",
       "20. '31'\n",
       "21. '32'\n",
       "22. '33'\n",
       "23. '36'\n",
       "24. '37'\n",
       "25. '38'\n",
       "26. '39'\n",
       "27. '40'\n",
       "28. '41'\n",
       "29. '42'\n",
       "30. '43'\n",
       "31. '44'\n",
       "32. '45'\n",
       "33. '46'\n",
       "34. '48'\n",
       "35. '49'\n",
       "36. '50'\n",
       "37. '51'\n",
       "38. '52'\n",
       "39. '54'\n",
       "40. '56'\n",
       "41. '57'\n",
       "42. '58'\n",
       "43. '62'\n",
       "44. '63'\n",
       "45. '64'\n",
       "46. '67'\n",
       "47. '69'\n",
       "48. '70'\n",
       "49. '71'\n",
       "50. '72'\n",
       "51. '74'\n",
       "52. '75'\n",
       "53. '77'\n",
       "54. '78'\n",
       "55. '79'\n",
       "56. '80'\n",
       "57. '81'\n",
       "58. '83'\n",
       "59. '84'\n",
       "60. '85'\n",
       "61. '86'\n",
       "62. '88'\n",
       "63. '89'\n",
       "64. '90'\n",
       "65. '91'\n",
       "66. '94'\n",
       "67. '95'\n",
       "68. '96'\n",
       "69. '97'\n",
       "70. '98'\n",
       "71. '99'\n",
       "72. '100'\n",
       "73. '103'\n",
       "74. '104'\n",
       "75. '107'\n",
       "76. '108'\n",
       "77. '109'\n",
       "78. '111'\n",
       "79. '112'\n",
       "80. '115'\n",
       "81. '118'\n",
       "82. '119'\n",
       "83. '120'\n",
       "84. '122'\n",
       "85. '123'\n",
       "86. '124'\n",
       "87. '125'\n",
       "88. '127'\n",
       "89. '128'\n",
       "90. '129'\n",
       "\n",
       "\n"
      ],
      "text/plain": [
       " [1] \"2\"   \"5\"   \"7\"   \"8\"   \"9\"   \"11\"  \"12\"  \"13\"  \"14\"  \"15\"  \"16\"  \"21\" \n",
       "[13] \"22\"  \"23\"  \"24\"  \"25\"  \"26\"  \"28\"  \"30\"  \"31\"  \"32\"  \"33\"  \"36\"  \"37\" \n",
       "[25] \"38\"  \"39\"  \"40\"  \"41\"  \"42\"  \"43\"  \"44\"  \"45\"  \"46\"  \"48\"  \"49\"  \"50\" \n",
       "[37] \"51\"  \"52\"  \"54\"  \"56\"  \"57\"  \"58\"  \"62\"  \"63\"  \"64\"  \"67\"  \"69\"  \"70\" \n",
       "[49] \"71\"  \"72\"  \"74\"  \"75\"  \"77\"  \"78\"  \"79\"  \"80\"  \"81\"  \"83\"  \"84\"  \"85\" \n",
       "[61] \"86\"  \"88\"  \"89\"  \"90\"  \"91\"  \"94\"  \"95\"  \"96\"  \"97\"  \"98\"  \"99\"  \"100\"\n",
       "[73] \"103\" \"104\" \"107\" \"108\" \"109\" \"111\" \"112\" \"115\" \"118\" \"119\" \"120\" \"122\"\n",
       "[85] \"123\" \"124\" \"125\" \"127\" \"128\" \"129\""
      ]
     },
     "metadata": {},
     "output_type": "display_data"
    }
   ],
   "source": [
    "rownames(meta_data)"
   ]
  },
  {
   "cell_type": "code",
   "execution_count": 69,
   "id": "56c3ef25-84e8-4ad2-99dc-095df2d51002",
   "metadata": {},
   "outputs": [],
   "source": [
    "fibrosis_normal_counts <- normal_counts[as.integer(rownames(meta_data))]"
   ]
  },
  {
   "cell_type": "code",
   "execution_count": 70,
   "id": "8f7158d3-9a65-43c6-878a-4c83e4de347f",
   "metadata": {},
   "outputs": [
    {
     "data": {
      "text/html": [
       "<table class=\"dataframe\">\n",
       "<caption>A data.frame: 6 × 90</caption>\n",
       "<thead>\n",
       "\t<tr><th></th><th scope=col>DLDR_0081</th><th scope=col>DLDR_0130</th><th scope=col>DLDR_0079</th><th scope=col>DLDR_0131</th><th scope=col>DLDR_0135</th><th scope=col>DLDR_0095</th><th scope=col>DLDR_0097</th><th scope=col>DLDR_0086</th><th scope=col>DLDR_0149</th><th scope=col>DLDR_0044</th><th scope=col>⋯</th><th scope=col>DLDR_0166</th><th scope=col>DLDR_0089</th><th scope=col>DLDR_0141</th><th scope=col>DLDR_0111</th><th scope=col>DLDR_0136</th><th scope=col>DLDR_0134</th><th scope=col>DLDR_0175</th><th scope=col>DLDR_0087</th><th scope=col>DLDR_0155</th><th scope=col>DLDR_0092</th></tr>\n",
       "\t<tr><th></th><th scope=col>&lt;dbl&gt;</th><th scope=col>&lt;dbl&gt;</th><th scope=col>&lt;dbl&gt;</th><th scope=col>&lt;dbl&gt;</th><th scope=col>&lt;dbl&gt;</th><th scope=col>&lt;dbl&gt;</th><th scope=col>&lt;dbl&gt;</th><th scope=col>&lt;dbl&gt;</th><th scope=col>&lt;dbl&gt;</th><th scope=col>&lt;dbl&gt;</th><th scope=col>⋯</th><th scope=col>&lt;dbl&gt;</th><th scope=col>&lt;dbl&gt;</th><th scope=col>&lt;dbl&gt;</th><th scope=col>&lt;dbl&gt;</th><th scope=col>&lt;dbl&gt;</th><th scope=col>&lt;dbl&gt;</th><th scope=col>&lt;dbl&gt;</th><th scope=col>&lt;dbl&gt;</th><th scope=col>&lt;dbl&gt;</th><th scope=col>&lt;dbl&gt;</th></tr>\n",
       "</thead>\n",
       "<tbody>\n",
       "\t<tr><th scope=row>1</th><td>6.5462994</td><td> 6.550016</td><td> 5.9652146</td><td>6.436726</td><td>6.3378589</td><td> 6.432976</td><td> 6.268976</td><td>6.7395306</td><td> 6.7404826</td><td> 5.689253</td><td>⋯</td><td> 6.8765094</td><td>6.9340665</td><td>6.6000053</td><td>6.4707867</td><td> 6.0799502</td><td> 6.1192447</td><td>6.85952138</td><td> 6.6352203</td><td>6.693334</td><td>6.26633823</td></tr>\n",
       "\t<tr><th scope=row>2</th><td>0.5821648</td><td>-1.222374</td><td>-0.2056643</td><td>1.225274</td><td>0.3287041</td><td>-1.235636</td><td>-2.378483</td><td>0.2980298</td><td>-0.8093479</td><td>-1.246025</td><td>⋯</td><td>-0.8545833</td><td>0.1054011</td><td>0.9989488</td><td>0.2178724</td><td>-0.3480662</td><td>-0.4492898</td><td>0.03594184</td><td>-0.4658174</td><td>1.603149</td><td>0.08898988</td></tr>\n",
       "\t<tr><th scope=row>3</th><td>3.7520898</td><td> 4.534941</td><td> 3.1093774</td><td>4.104779</td><td>4.6099902</td><td> 4.061103</td><td> 4.097251</td><td>4.2049204</td><td> 4.6702399</td><td> 4.245828</td><td>⋯</td><td> 4.2014221</td><td>3.8919974</td><td>4.8759379</td><td>4.6599428</td><td> 4.5581065</td><td> 4.3102366</td><td>4.12340468</td><td> 4.3778794</td><td>4.473400</td><td>4.31945643</td></tr>\n",
       "\t<tr><th scope=row>4</th><td>4.6451746</td><td> 4.370763</td><td> 4.8092861</td><td>4.411547</td><td>4.3253607</td><td> 4.620430</td><td> 4.191373</td><td>4.2132597</td><td> 4.4935629</td><td> 4.706380</td><td>⋯</td><td> 4.3444346</td><td>4.1351484</td><td>4.9302925</td><td>3.8586881</td><td> 4.4179435</td><td> 4.4967901</td><td>4.76204644</td><td> 4.2298584</td><td>4.755317</td><td>4.38806704</td></tr>\n",
       "\t<tr><th scope=row>5</th><td>3.8408991</td><td> 3.512952</td><td> 3.9527651</td><td>3.099743</td><td>3.3085263</td><td> 3.682309</td><td> 3.643885</td><td>3.3367102</td><td> 3.2119626</td><td> 3.467163</td><td>⋯</td><td> 3.4332830</td><td>2.2645997</td><td>3.3930267</td><td>3.0252273</td><td> 3.4912316</td><td> 3.1615746</td><td>3.95559973</td><td> 3.6972213</td><td>4.027257</td><td>3.97372734</td></tr>\n",
       "\t<tr><th scope=row>6</th><td>3.2010747</td><td> 2.517867</td><td> 2.7857226</td><td>3.357725</td><td>1.9136666</td><td> 1.506867</td><td> 2.145079</td><td>2.9741402</td><td> 1.5927505</td><td> 3.059160</td><td>⋯</td><td> 2.6897372</td><td>2.7063051</td><td>1.6442839</td><td>2.9811721</td><td> 2.5076855</td><td> 2.9158915</td><td>2.72896408</td><td> 2.2057995</td><td>1.576431</td><td>2.97651515</td></tr>\n",
       "</tbody>\n",
       "</table>\n"
      ],
      "text/latex": [
       "A data.frame: 6 × 90\n",
       "\\begin{tabular}{r|lllllllllllllllllllll}\n",
       "  & DLDR\\_0081 & DLDR\\_0130 & DLDR\\_0079 & DLDR\\_0131 & DLDR\\_0135 & DLDR\\_0095 & DLDR\\_0097 & DLDR\\_0086 & DLDR\\_0149 & DLDR\\_0044 & ⋯ & DLDR\\_0166 & DLDR\\_0089 & DLDR\\_0141 & DLDR\\_0111 & DLDR\\_0136 & DLDR\\_0134 & DLDR\\_0175 & DLDR\\_0087 & DLDR\\_0155 & DLDR\\_0092\\\\\n",
       "  & <dbl> & <dbl> & <dbl> & <dbl> & <dbl> & <dbl> & <dbl> & <dbl> & <dbl> & <dbl> & ⋯ & <dbl> & <dbl> & <dbl> & <dbl> & <dbl> & <dbl> & <dbl> & <dbl> & <dbl> & <dbl>\\\\\n",
       "\\hline\n",
       "\t1 & 6.5462994 &  6.550016 &  5.9652146 & 6.436726 & 6.3378589 &  6.432976 &  6.268976 & 6.7395306 &  6.7404826 &  5.689253 & ⋯ &  6.8765094 & 6.9340665 & 6.6000053 & 6.4707867 &  6.0799502 &  6.1192447 & 6.85952138 &  6.6352203 & 6.693334 & 6.26633823\\\\\n",
       "\t2 & 0.5821648 & -1.222374 & -0.2056643 & 1.225274 & 0.3287041 & -1.235636 & -2.378483 & 0.2980298 & -0.8093479 & -1.246025 & ⋯ & -0.8545833 & 0.1054011 & 0.9989488 & 0.2178724 & -0.3480662 & -0.4492898 & 0.03594184 & -0.4658174 & 1.603149 & 0.08898988\\\\\n",
       "\t3 & 3.7520898 &  4.534941 &  3.1093774 & 4.104779 & 4.6099902 &  4.061103 &  4.097251 & 4.2049204 &  4.6702399 &  4.245828 & ⋯ &  4.2014221 & 3.8919974 & 4.8759379 & 4.6599428 &  4.5581065 &  4.3102366 & 4.12340468 &  4.3778794 & 4.473400 & 4.31945643\\\\\n",
       "\t4 & 4.6451746 &  4.370763 &  4.8092861 & 4.411547 & 4.3253607 &  4.620430 &  4.191373 & 4.2132597 &  4.4935629 &  4.706380 & ⋯ &  4.3444346 & 4.1351484 & 4.9302925 & 3.8586881 &  4.4179435 &  4.4967901 & 4.76204644 &  4.2298584 & 4.755317 & 4.38806704\\\\\n",
       "\t5 & 3.8408991 &  3.512952 &  3.9527651 & 3.099743 & 3.3085263 &  3.682309 &  3.643885 & 3.3367102 &  3.2119626 &  3.467163 & ⋯ &  3.4332830 & 2.2645997 & 3.3930267 & 3.0252273 &  3.4912316 &  3.1615746 & 3.95559973 &  3.6972213 & 4.027257 & 3.97372734\\\\\n",
       "\t6 & 3.2010747 &  2.517867 &  2.7857226 & 3.357725 & 1.9136666 &  1.506867 &  2.145079 & 2.9741402 &  1.5927505 &  3.059160 & ⋯ &  2.6897372 & 2.7063051 & 1.6442839 & 2.9811721 &  2.5076855 &  2.9158915 & 2.72896408 &  2.2057995 & 1.576431 & 2.97651515\\\\\n",
       "\\end{tabular}\n"
      ],
      "text/markdown": [
       "\n",
       "A data.frame: 6 × 90\n",
       "\n",
       "| <!--/--> | DLDR_0081 &lt;dbl&gt; | DLDR_0130 &lt;dbl&gt; | DLDR_0079 &lt;dbl&gt; | DLDR_0131 &lt;dbl&gt; | DLDR_0135 &lt;dbl&gt; | DLDR_0095 &lt;dbl&gt; | DLDR_0097 &lt;dbl&gt; | DLDR_0086 &lt;dbl&gt; | DLDR_0149 &lt;dbl&gt; | DLDR_0044 &lt;dbl&gt; | ⋯ ⋯ | DLDR_0166 &lt;dbl&gt; | DLDR_0089 &lt;dbl&gt; | DLDR_0141 &lt;dbl&gt; | DLDR_0111 &lt;dbl&gt; | DLDR_0136 &lt;dbl&gt; | DLDR_0134 &lt;dbl&gt; | DLDR_0175 &lt;dbl&gt; | DLDR_0087 &lt;dbl&gt; | DLDR_0155 &lt;dbl&gt; | DLDR_0092 &lt;dbl&gt; |\n",
       "|---|---|---|---|---|---|---|---|---|---|---|---|---|---|---|---|---|---|---|---|---|---|\n",
       "| 1 | 6.5462994 |  6.550016 |  5.9652146 | 6.436726 | 6.3378589 |  6.432976 |  6.268976 | 6.7395306 |  6.7404826 |  5.689253 | ⋯ |  6.8765094 | 6.9340665 | 6.6000053 | 6.4707867 |  6.0799502 |  6.1192447 | 6.85952138 |  6.6352203 | 6.693334 | 6.26633823 |\n",
       "| 2 | 0.5821648 | -1.222374 | -0.2056643 | 1.225274 | 0.3287041 | -1.235636 | -2.378483 | 0.2980298 | -0.8093479 | -1.246025 | ⋯ | -0.8545833 | 0.1054011 | 0.9989488 | 0.2178724 | -0.3480662 | -0.4492898 | 0.03594184 | -0.4658174 | 1.603149 | 0.08898988 |\n",
       "| 3 | 3.7520898 |  4.534941 |  3.1093774 | 4.104779 | 4.6099902 |  4.061103 |  4.097251 | 4.2049204 |  4.6702399 |  4.245828 | ⋯ |  4.2014221 | 3.8919974 | 4.8759379 | 4.6599428 |  4.5581065 |  4.3102366 | 4.12340468 |  4.3778794 | 4.473400 | 4.31945643 |\n",
       "| 4 | 4.6451746 |  4.370763 |  4.8092861 | 4.411547 | 4.3253607 |  4.620430 |  4.191373 | 4.2132597 |  4.4935629 |  4.706380 | ⋯ |  4.3444346 | 4.1351484 | 4.9302925 | 3.8586881 |  4.4179435 |  4.4967901 | 4.76204644 |  4.2298584 | 4.755317 | 4.38806704 |\n",
       "| 5 | 3.8408991 |  3.512952 |  3.9527651 | 3.099743 | 3.3085263 |  3.682309 |  3.643885 | 3.3367102 |  3.2119626 |  3.467163 | ⋯ |  3.4332830 | 2.2645997 | 3.3930267 | 3.0252273 |  3.4912316 |  3.1615746 | 3.95559973 |  3.6972213 | 4.027257 | 3.97372734 |\n",
       "| 6 | 3.2010747 |  2.517867 |  2.7857226 | 3.357725 | 1.9136666 |  1.506867 |  2.145079 | 2.9741402 |  1.5927505 |  3.059160 | ⋯ |  2.6897372 | 2.7063051 | 1.6442839 | 2.9811721 |  2.5076855 |  2.9158915 | 2.72896408 |  2.2057995 | 1.576431 | 2.97651515 |\n",
       "\n"
      ],
      "text/plain": [
       "  DLDR_0081 DLDR_0130 DLDR_0079  DLDR_0131 DLDR_0135 DLDR_0095 DLDR_0097\n",
       "1 6.5462994  6.550016  5.9652146 6.436726  6.3378589  6.432976  6.268976\n",
       "2 0.5821648 -1.222374 -0.2056643 1.225274  0.3287041 -1.235636 -2.378483\n",
       "3 3.7520898  4.534941  3.1093774 4.104779  4.6099902  4.061103  4.097251\n",
       "4 4.6451746  4.370763  4.8092861 4.411547  4.3253607  4.620430  4.191373\n",
       "5 3.8408991  3.512952  3.9527651 3.099743  3.3085263  3.682309  3.643885\n",
       "6 3.2010747  2.517867  2.7857226 3.357725  1.9136666  1.506867  2.145079\n",
       "  DLDR_0086 DLDR_0149  DLDR_0044 ⋯ DLDR_0166  DLDR_0089 DLDR_0141 DLDR_0111\n",
       "1 6.7395306  6.7404826  5.689253 ⋯  6.8765094 6.9340665 6.6000053 6.4707867\n",
       "2 0.2980298 -0.8093479 -1.246025 ⋯ -0.8545833 0.1054011 0.9989488 0.2178724\n",
       "3 4.2049204  4.6702399  4.245828 ⋯  4.2014221 3.8919974 4.8759379 4.6599428\n",
       "4 4.2132597  4.4935629  4.706380 ⋯  4.3444346 4.1351484 4.9302925 3.8586881\n",
       "5 3.3367102  3.2119626  3.467163 ⋯  3.4332830 2.2645997 3.3930267 3.0252273\n",
       "6 2.9741402  1.5927505  3.059160 ⋯  2.6897372 2.7063051 1.6442839 2.9811721\n",
       "  DLDR_0136  DLDR_0134  DLDR_0175  DLDR_0087  DLDR_0155 DLDR_0092 \n",
       "1  6.0799502  6.1192447 6.85952138  6.6352203 6.693334  6.26633823\n",
       "2 -0.3480662 -0.4492898 0.03594184 -0.4658174 1.603149  0.08898988\n",
       "3  4.5581065  4.3102366 4.12340468  4.3778794 4.473400  4.31945643\n",
       "4  4.4179435  4.4967901 4.76204644  4.2298584 4.755317  4.38806704\n",
       "5  3.4912316  3.1615746 3.95559973  3.6972213 4.027257  3.97372734\n",
       "6  2.5076855  2.9158915 2.72896408  2.2057995 1.576431  2.97651515"
      ]
     },
     "metadata": {},
     "output_type": "display_data"
    }
   ],
   "source": [
    "head(fibrosis_normal_counts)"
   ]
  },
  {
   "cell_type": "code",
   "execution_count": 71,
   "id": "bc6fa345-dd41-4863-a498-28a2cf741ead",
   "metadata": {},
   "outputs": [
    {
     "data": {
      "text/html": [
       "<style>\n",
       ".list-inline {list-style: none; margin:0; padding: 0}\n",
       ".list-inline>li {display: inline-block}\n",
       ".list-inline>li:not(:last-child)::after {content: \"\\00b7\"; padding: 0 .5ex}\n",
       "</style>\n",
       "<ol class=list-inline><li>17396</li><li>90</li></ol>\n"
      ],
      "text/latex": [
       "\\begin{enumerate*}\n",
       "\\item 17396\n",
       "\\item 90\n",
       "\\end{enumerate*}\n"
      ],
      "text/markdown": [
       "1. 17396\n",
       "2. 90\n",
       "\n",
       "\n"
      ],
      "text/plain": [
       "[1] 17396    90"
      ]
     },
     "metadata": {},
     "output_type": "display_data"
    }
   ],
   "source": [
    "dim(fibrosis_normal_counts)"
   ]
  },
  {
   "cell_type": "code",
   "execution_count": 72,
   "id": "a3f1914a-3832-47a8-ba4c-e30cc01f6047",
   "metadata": {},
   "outputs": [],
   "source": [
    "labels <- factor(meta_data$Simplified_class)"
   ]
  },
  {
   "cell_type": "code",
   "execution_count": 73,
   "id": "0ed4b4b1-9640-48db-9e25-984b6190823f",
   "metadata": {},
   "outputs": [
    {
     "name": "stdout",
     "output_type": "stream",
     "text": [
      " [1] Advanced_fibrosis     Non_advanced_Fibrosis Advanced_fibrosis    \n",
      " [4] Non_advanced_Fibrosis Non_advanced_Fibrosis Advanced_fibrosis    \n",
      " [7] Advanced_fibrosis     Advanced_fibrosis     Non_advanced_Fibrosis\n",
      "[10] Advanced_fibrosis     Advanced_fibrosis     Advanced_fibrosis    \n",
      "[13] Advanced_fibrosis     Non_advanced_Fibrosis Non_advanced_Fibrosis\n",
      "[16] Advanced_fibrosis     Non_advanced_Fibrosis Non_advanced_Fibrosis\n",
      "[19] Advanced_fibrosis     Advanced_fibrosis     Advanced_fibrosis    \n",
      "[22] Advanced_fibrosis     Non_advanced_Fibrosis Non_advanced_Fibrosis\n",
      "[25] Advanced_fibrosis     Advanced_fibrosis     Non_advanced_Fibrosis\n",
      "[28] Advanced_fibrosis     Advanced_fibrosis     Advanced_fibrosis    \n",
      "[31] Advanced_fibrosis     Non_advanced_Fibrosis Non_advanced_Fibrosis\n",
      "[34] Advanced_fibrosis     Advanced_fibrosis     Advanced_fibrosis    \n",
      "[37] Non_advanced_Fibrosis Advanced_fibrosis     Non_advanced_Fibrosis\n",
      "[40] Advanced_fibrosis     Advanced_fibrosis     Non_advanced_Fibrosis\n",
      "[43] Non_advanced_Fibrosis Advanced_fibrosis     Advanced_fibrosis    \n",
      "[46] Advanced_fibrosis     Advanced_fibrosis     Advanced_fibrosis    \n",
      "[49] Advanced_fibrosis     Advanced_fibrosis     Advanced_fibrosis    \n",
      "[52] Non_advanced_Fibrosis Advanced_fibrosis     Advanced_fibrosis    \n",
      "[55] Non_advanced_Fibrosis Non_advanced_Fibrosis Advanced_fibrosis    \n",
      "[58] Advanced_fibrosis     Non_advanced_Fibrosis Non_advanced_Fibrosis\n",
      "[61] Advanced_fibrosis     Non_advanced_Fibrosis Advanced_fibrosis    \n",
      "[64] Non_advanced_Fibrosis Advanced_fibrosis     Advanced_fibrosis    \n",
      "[67] Non_advanced_Fibrosis Non_advanced_Fibrosis Non_advanced_Fibrosis\n",
      "[70] Advanced_fibrosis     Advanced_fibrosis     Advanced_fibrosis    \n",
      "[73] Non_advanced_Fibrosis Non_advanced_Fibrosis Advanced_fibrosis    \n",
      "[76] Non_advanced_Fibrosis Non_advanced_Fibrosis Advanced_fibrosis    \n",
      "[79] Non_advanced_Fibrosis Advanced_fibrosis     Non_advanced_Fibrosis\n",
      "[82] Advanced_fibrosis     Non_advanced_Fibrosis Advanced_fibrosis    \n",
      "[85] Non_advanced_Fibrosis Non_advanced_Fibrosis Non_advanced_Fibrosis\n",
      "[88] Advanced_fibrosis     Non_advanced_Fibrosis Advanced_fibrosis    \n",
      "Levels: Advanced_fibrosis Non_advanced_Fibrosis\n"
     ]
    }
   ],
   "source": [
    "print(labels)"
   ]
  },
  {
   "cell_type": "code",
   "execution_count": 74,
   "id": "5797abe1-cf46-4f40-a29d-26edef56ccd4",
   "metadata": {},
   "outputs": [],
   "source": [
    "# Create a design matrix\n",
    "design <- model.matrix(~0 + labels)\n",
    "colnames(design) <- levels(labels)"
   ]
  },
  {
   "cell_type": "code",
   "execution_count": 75,
   "id": "6bce9557-d9d9-4c14-abf8-b181f5d6062f",
   "metadata": {},
   "outputs": [],
   "source": [
    "fit <- lmFit(fibrosis_normal_counts, design)"
   ]
  },
  {
   "cell_type": "code",
   "execution_count": 76,
   "id": "2136ebe2-bb9d-46ab-9ee0-35c9148d021c",
   "metadata": {},
   "outputs": [],
   "source": [
    "contrast.matrix <- makeContrasts(\n",
    "    AdvancedFibrosis_vs_Fibrosis = `Advanced_fibrosis` - Non_advanced_Fibrosis,\n",
    "    levels = design\n",
    ")\n",
    "\n",
    "# Apply contrasts to the fit\n",
    "fit2 <- contrasts.fit(fit, contrast.matrix)\n",
    "\n",
    "# Empirical Bayes moderation to get p-values\n",
    "fit2 <- eBayes(fit2)"
   ]
  },
  {
   "cell_type": "code",
   "execution_count": 77,
   "id": "1e0d1a61-7779-4d43-a471-6f947e8c1007",
   "metadata": {},
   "outputs": [
    {
     "data": {
      "text/html": [
       "<table class=\"dataframe\">\n",
       "<caption>A data.frame: 6 × 6</caption>\n",
       "<thead>\n",
       "\t<tr><th></th><th scope=col>logFC</th><th scope=col>AveExpr</th><th scope=col>t</th><th scope=col>P.Value</th><th scope=col>adj.P.Val</th><th scope=col>B</th></tr>\n",
       "\t<tr><th></th><th scope=col>&lt;dbl&gt;</th><th scope=col>&lt;dbl&gt;</th><th scope=col>&lt;dbl&gt;</th><th scope=col>&lt;dbl&gt;</th><th scope=col>&lt;dbl&gt;</th><th scope=col>&lt;dbl&gt;</th></tr>\n",
       "</thead>\n",
       "<tbody>\n",
       "\t<tr><th scope=row>16863</th><td>1.223013</td><td> 2.9231954</td><td>8.604058</td><td>2.266513e-13</td><td>3.942826e-09</td><td>19.90756</td></tr>\n",
       "\t<tr><th scope=row>4770</th><td>0.482585</td><td> 4.4402232</td><td>7.784892</td><td>1.119579e-11</td><td>4.824356e-08</td><td>16.20400</td></tr>\n",
       "\t<tr><th scope=row>12710</th><td>1.181496</td><td>-0.2294500</td><td>7.774583</td><td>1.175495e-11</td><td>4.824356e-08</td><td>16.15769</td></tr>\n",
       "\t<tr><th scope=row>673</th><td>1.485822</td><td> 1.1041118</td><td>7.739811</td><td>1.385410e-11</td><td>4.824356e-08</td><td>16.00156</td></tr>\n",
       "\t<tr><th scope=row>3296</th><td>1.594761</td><td> 2.1489644</td><td>7.739625</td><td>1.386628e-11</td><td>4.824356e-08</td><td>16.00073</td></tr>\n",
       "\t<tr><th scope=row>12060</th><td>1.675825</td><td>-0.0107199</td><td>7.562489</td><td>3.195875e-11</td><td>9.265907e-08</td><td>15.20726</td></tr>\n",
       "</tbody>\n",
       "</table>\n"
      ],
      "text/latex": [
       "A data.frame: 6 × 6\n",
       "\\begin{tabular}{r|llllll}\n",
       "  & logFC & AveExpr & t & P.Value & adj.P.Val & B\\\\\n",
       "  & <dbl> & <dbl> & <dbl> & <dbl> & <dbl> & <dbl>\\\\\n",
       "\\hline\n",
       "\t16863 & 1.223013 &  2.9231954 & 8.604058 & 2.266513e-13 & 3.942826e-09 & 19.90756\\\\\n",
       "\t4770 & 0.482585 &  4.4402232 & 7.784892 & 1.119579e-11 & 4.824356e-08 & 16.20400\\\\\n",
       "\t12710 & 1.181496 & -0.2294500 & 7.774583 & 1.175495e-11 & 4.824356e-08 & 16.15769\\\\\n",
       "\t673 & 1.485822 &  1.1041118 & 7.739811 & 1.385410e-11 & 4.824356e-08 & 16.00156\\\\\n",
       "\t3296 & 1.594761 &  2.1489644 & 7.739625 & 1.386628e-11 & 4.824356e-08 & 16.00073\\\\\n",
       "\t12060 & 1.675825 & -0.0107199 & 7.562489 & 3.195875e-11 & 9.265907e-08 & 15.20726\\\\\n",
       "\\end{tabular}\n"
      ],
      "text/markdown": [
       "\n",
       "A data.frame: 6 × 6\n",
       "\n",
       "| <!--/--> | logFC &lt;dbl&gt; | AveExpr &lt;dbl&gt; | t &lt;dbl&gt; | P.Value &lt;dbl&gt; | adj.P.Val &lt;dbl&gt; | B &lt;dbl&gt; |\n",
       "|---|---|---|---|---|---|---|\n",
       "| 16863 | 1.223013 |  2.9231954 | 8.604058 | 2.266513e-13 | 3.942826e-09 | 19.90756 |\n",
       "| 4770 | 0.482585 |  4.4402232 | 7.784892 | 1.119579e-11 | 4.824356e-08 | 16.20400 |\n",
       "| 12710 | 1.181496 | -0.2294500 | 7.774583 | 1.175495e-11 | 4.824356e-08 | 16.15769 |\n",
       "| 673 | 1.485822 |  1.1041118 | 7.739811 | 1.385410e-11 | 4.824356e-08 | 16.00156 |\n",
       "| 3296 | 1.594761 |  2.1489644 | 7.739625 | 1.386628e-11 | 4.824356e-08 | 16.00073 |\n",
       "| 12060 | 1.675825 | -0.0107199 | 7.562489 | 3.195875e-11 | 9.265907e-08 | 15.20726 |\n",
       "\n"
      ],
      "text/plain": [
       "      logFC    AveExpr    t        P.Value      adj.P.Val    B       \n",
       "16863 1.223013  2.9231954 8.604058 2.266513e-13 3.942826e-09 19.90756\n",
       "4770  0.482585  4.4402232 7.784892 1.119579e-11 4.824356e-08 16.20400\n",
       "12710 1.181496 -0.2294500 7.774583 1.175495e-11 4.824356e-08 16.15769\n",
       "673   1.485822  1.1041118 7.739811 1.385410e-11 4.824356e-08 16.00156\n",
       "3296  1.594761  2.1489644 7.739625 1.386628e-11 4.824356e-08 16.00073\n",
       "12060 1.675825 -0.0107199 7.562489 3.195875e-11 9.265907e-08 15.20726"
      ]
     },
     "metadata": {},
     "output_type": "display_data"
    }
   ],
   "source": [
    "# Get the top DEGs for the Advanced Fibrosis vs Fibrosis comparison\n",
    "top_genes_adv_vs_fib <- topTable(fit2, coef = \"AdvancedFibrosis_vs_Fibrosis\", adjust.method = \"BH\", number = Inf)\n",
    "\n",
    "# View the top DEGs\n",
    "head(top_genes_adv_vs_fib)"
   ]
  },
  {
   "cell_type": "code",
   "execution_count": 78,
   "id": "1961205d-f7e2-4ea6-a9e4-1de07aaa4706",
   "metadata": {},
   "outputs": [],
   "source": [
    "write.csv(top_genes_adv_vs_fib, \"DEGs_Advanced_from_NonAdvanced.csv\")"
   ]
  },
  {
   "cell_type": "code",
   "execution_count": 79,
   "id": "a06cec8b-ea23-4d99-9a2a-837838574d9c",
   "metadata": {},
   "outputs": [
    {
     "data": {
      "text/html": [
       "<table class=\"dataframe\">\n",
       "<caption>A data.frame: 6 × 6</caption>\n",
       "<thead>\n",
       "\t<tr><th></th><th scope=col>logFC</th><th scope=col>AveExpr</th><th scope=col>t</th><th scope=col>P.Value</th><th scope=col>adj.P.Val</th><th scope=col>B</th></tr>\n",
       "\t<tr><th></th><th scope=col>&lt;dbl&gt;</th><th scope=col>&lt;dbl&gt;</th><th scope=col>&lt;dbl&gt;</th><th scope=col>&lt;dbl&gt;</th><th scope=col>&lt;dbl&gt;</th><th scope=col>&lt;dbl&gt;</th></tr>\n",
       "</thead>\n",
       "<tbody>\n",
       "\t<tr><th scope=row>16863</th><td>1.223013</td><td> 2.9231954</td><td>8.604058</td><td>2.266513e-13</td><td>3.942826e-09</td><td>19.90756</td></tr>\n",
       "\t<tr><th scope=row>4770</th><td>0.482585</td><td> 4.4402232</td><td>7.784892</td><td>1.119579e-11</td><td>4.824356e-08</td><td>16.20400</td></tr>\n",
       "\t<tr><th scope=row>12710</th><td>1.181496</td><td>-0.2294500</td><td>7.774583</td><td>1.175495e-11</td><td>4.824356e-08</td><td>16.15769</td></tr>\n",
       "\t<tr><th scope=row>673</th><td>1.485822</td><td> 1.1041118</td><td>7.739811</td><td>1.385410e-11</td><td>4.824356e-08</td><td>16.00156</td></tr>\n",
       "\t<tr><th scope=row>3296</th><td>1.594761</td><td> 2.1489644</td><td>7.739625</td><td>1.386628e-11</td><td>4.824356e-08</td><td>16.00073</td></tr>\n",
       "\t<tr><th scope=row>12060</th><td>1.675825</td><td>-0.0107199</td><td>7.562489</td><td>3.195875e-11</td><td>9.265907e-08</td><td>15.20726</td></tr>\n",
       "</tbody>\n",
       "</table>\n"
      ],
      "text/latex": [
       "A data.frame: 6 × 6\n",
       "\\begin{tabular}{r|llllll}\n",
       "  & logFC & AveExpr & t & P.Value & adj.P.Val & B\\\\\n",
       "  & <dbl> & <dbl> & <dbl> & <dbl> & <dbl> & <dbl>\\\\\n",
       "\\hline\n",
       "\t16863 & 1.223013 &  2.9231954 & 8.604058 & 2.266513e-13 & 3.942826e-09 & 19.90756\\\\\n",
       "\t4770 & 0.482585 &  4.4402232 & 7.784892 & 1.119579e-11 & 4.824356e-08 & 16.20400\\\\\n",
       "\t12710 & 1.181496 & -0.2294500 & 7.774583 & 1.175495e-11 & 4.824356e-08 & 16.15769\\\\\n",
       "\t673 & 1.485822 &  1.1041118 & 7.739811 & 1.385410e-11 & 4.824356e-08 & 16.00156\\\\\n",
       "\t3296 & 1.594761 &  2.1489644 & 7.739625 & 1.386628e-11 & 4.824356e-08 & 16.00073\\\\\n",
       "\t12060 & 1.675825 & -0.0107199 & 7.562489 & 3.195875e-11 & 9.265907e-08 & 15.20726\\\\\n",
       "\\end{tabular}\n"
      ],
      "text/markdown": [
       "\n",
       "A data.frame: 6 × 6\n",
       "\n",
       "| <!--/--> | logFC &lt;dbl&gt; | AveExpr &lt;dbl&gt; | t &lt;dbl&gt; | P.Value &lt;dbl&gt; | adj.P.Val &lt;dbl&gt; | B &lt;dbl&gt; |\n",
       "|---|---|---|---|---|---|---|\n",
       "| 16863 | 1.223013 |  2.9231954 | 8.604058 | 2.266513e-13 | 3.942826e-09 | 19.90756 |\n",
       "| 4770 | 0.482585 |  4.4402232 | 7.784892 | 1.119579e-11 | 4.824356e-08 | 16.20400 |\n",
       "| 12710 | 1.181496 | -0.2294500 | 7.774583 | 1.175495e-11 | 4.824356e-08 | 16.15769 |\n",
       "| 673 | 1.485822 |  1.1041118 | 7.739811 | 1.385410e-11 | 4.824356e-08 | 16.00156 |\n",
       "| 3296 | 1.594761 |  2.1489644 | 7.739625 | 1.386628e-11 | 4.824356e-08 | 16.00073 |\n",
       "| 12060 | 1.675825 | -0.0107199 | 7.562489 | 3.195875e-11 | 9.265907e-08 | 15.20726 |\n",
       "\n"
      ],
      "text/plain": [
       "      logFC    AveExpr    t        P.Value      adj.P.Val    B       \n",
       "16863 1.223013  2.9231954 8.604058 2.266513e-13 3.942826e-09 19.90756\n",
       "4770  0.482585  4.4402232 7.784892 1.119579e-11 4.824356e-08 16.20400\n",
       "12710 1.181496 -0.2294500 7.774583 1.175495e-11 4.824356e-08 16.15769\n",
       "673   1.485822  1.1041118 7.739811 1.385410e-11 4.824356e-08 16.00156\n",
       "3296  1.594761  2.1489644 7.739625 1.386628e-11 4.824356e-08 16.00073\n",
       "12060 1.675825 -0.0107199 7.562489 3.195875e-11 9.265907e-08 15.20726"
      ]
     },
     "metadata": {},
     "output_type": "display_data"
    }
   ],
   "source": [
    "filtered_genes_adv_vs_fib <- top_genes_adv_vs_fib[1:500,]\n",
    "\n",
    "# View filtered DEGs\n",
    "head(filtered_genes_adv_vs_fib)"
   ]
  },
  {
   "cell_type": "code",
   "execution_count": 80,
   "id": "09f68d48-9c2c-48d0-8c9e-e46aa76ad949",
   "metadata": {},
   "outputs": [],
   "source": [
    "genes_adv_vs_fib_names <- rownames(filtered_genes_adv_vs_fib)"
   ]
  },
  {
   "cell_type": "code",
   "execution_count": 81,
   "id": "3e260b1c-75f6-4d4c-9cba-e8f13667b58e",
   "metadata": {},
   "outputs": [
    {
     "data": {
      "text/html": [
       "<table class=\"dataframe\">\n",
       "<caption>A data.frame: 6 × 90</caption>\n",
       "<thead>\n",
       "\t<tr><th></th><th scope=col>DLDR_0081</th><th scope=col>DLDR_0130</th><th scope=col>DLDR_0079</th><th scope=col>DLDR_0131</th><th scope=col>DLDR_0135</th><th scope=col>DLDR_0095</th><th scope=col>DLDR_0097</th><th scope=col>DLDR_0086</th><th scope=col>DLDR_0149</th><th scope=col>DLDR_0044</th><th scope=col>⋯</th><th scope=col>DLDR_0166</th><th scope=col>DLDR_0089</th><th scope=col>DLDR_0141</th><th scope=col>DLDR_0111</th><th scope=col>DLDR_0136</th><th scope=col>DLDR_0134</th><th scope=col>DLDR_0175</th><th scope=col>DLDR_0087</th><th scope=col>DLDR_0155</th><th scope=col>DLDR_0092</th></tr>\n",
       "\t<tr><th></th><th scope=col>&lt;dbl&gt;</th><th scope=col>&lt;dbl&gt;</th><th scope=col>&lt;dbl&gt;</th><th scope=col>&lt;dbl&gt;</th><th scope=col>&lt;dbl&gt;</th><th scope=col>&lt;dbl&gt;</th><th scope=col>&lt;dbl&gt;</th><th scope=col>&lt;dbl&gt;</th><th scope=col>&lt;dbl&gt;</th><th scope=col>&lt;dbl&gt;</th><th scope=col>⋯</th><th scope=col>&lt;dbl&gt;</th><th scope=col>&lt;dbl&gt;</th><th scope=col>&lt;dbl&gt;</th><th scope=col>&lt;dbl&gt;</th><th scope=col>&lt;dbl&gt;</th><th scope=col>&lt;dbl&gt;</th><th scope=col>&lt;dbl&gt;</th><th scope=col>&lt;dbl&gt;</th><th scope=col>&lt;dbl&gt;</th><th scope=col>&lt;dbl&gt;</th></tr>\n",
       "</thead>\n",
       "<tbody>\n",
       "\t<tr><th scope=row>57</th><td>0.5821648</td><td>-0.2894877</td><td>-1.138550</td><td>-4.060128</td><td>-2.104255</td><td>0.01812021</td><td>-0.05655446</td><td>-1.903604</td><td>-1.7422337</td><td>-1.039574</td><td>⋯</td><td>-1.954119</td><td>-0.6315645</td><td>-4.2864534</td><td>0.4935068</td><td>-2.0218380</td><td>-2.650924</td><td>-2.285986</td><td>-0.385647</td><td>-3.5800732</td><td>0.3172589</td></tr>\n",
       "\t<tr><th scope=row>113</th><td>2.9842633</td><td> 2.3734773</td><td> 2.714901</td><td> 2.882387</td><td> 1.802635</td><td>2.11920634</td><td> 0.79144245</td><td> 1.924215</td><td> 2.0175032</td><td> 3.306201</td><td>⋯</td><td> 2.204310</td><td> 2.8850110</td><td> 1.4949063</td><td>2.5398005</td><td> 1.7406627</td><td> 1.713649</td><td> 2.728964</td><td> 1.544451</td><td> 1.6031486</td><td>1.7541227</td></tr>\n",
       "\t<tr><th scope=row>173</th><td>0.9447349</td><td> 1.8259895</td><td> 1.234908</td><td> 1.366137</td><td> 1.188526</td><td>0.94656695</td><td>-0.05655446</td><td> 2.041254</td><td> 0.7756146</td><td> 2.172476</td><td>⋯</td><td> 1.896738</td><td> 3.1173737</td><td> 0.2371086</td><td>2.1987636</td><td> 0.2152012</td><td> 0.453413</td><td> 1.338505</td><td> 1.624068</td><td> 0.9434887</td><td>0.8904442</td></tr>\n",
       "\t<tr><th scope=row>209</th><td>7.0012221</td><td> 7.2057963</td><td> 6.750193</td><td> 7.459017</td><td> 7.379157</td><td>7.11479286</td><td> 7.02026114</td><td> 7.433126</td><td> 7.5770278</td><td> 7.142655</td><td>⋯</td><td> 7.233940</td><td> 7.3864811</td><td> 7.6162986</td><td>6.8790879</td><td> 7.2807466</td><td> 7.098946</td><td> 7.339114</td><td> 7.366168</td><td> 7.6124251</td><td>7.3409794</td></tr>\n",
       "\t<tr><th scope=row>227</th><td>7.4204683</td><td> 7.8082936</td><td> 7.245547</td><td> 7.685967</td><td> 8.043204</td><td>7.85080609</td><td> 7.79269424</td><td> 8.012574</td><td> 8.1505160</td><td> 7.201694</td><td>⋯</td><td> 7.846088</td><td> 8.0286295</td><td> 8.2602000</td><td>7.6621244</td><td> 7.7030819</td><td> 7.764607</td><td> 7.869254</td><td> 7.942482</td><td> 7.9550401</td><td>7.9623461</td></tr>\n",
       "\t<tr><th scope=row>232</th><td>7.1692726</td><td> 6.9989939</td><td> 7.278919</td><td> 7.887874</td><td> 7.723881</td><td>7.41458689</td><td> 7.02026114</td><td> 7.363651</td><td> 7.6123162</td><td> 7.838375</td><td>⋯</td><td> 7.585871</td><td> 6.6216264</td><td> 7.8178177</td><td>7.0580706</td><td> 7.7930878</td><td> 7.454723</td><td> 7.755217</td><td> 7.485884</td><td> 7.3390384</td><td>6.9069785</td></tr>\n",
       "</tbody>\n",
       "</table>\n"
      ],
      "text/latex": [
       "A data.frame: 6 × 90\n",
       "\\begin{tabular}{r|lllllllllllllllllllll}\n",
       "  & DLDR\\_0081 & DLDR\\_0130 & DLDR\\_0079 & DLDR\\_0131 & DLDR\\_0135 & DLDR\\_0095 & DLDR\\_0097 & DLDR\\_0086 & DLDR\\_0149 & DLDR\\_0044 & ⋯ & DLDR\\_0166 & DLDR\\_0089 & DLDR\\_0141 & DLDR\\_0111 & DLDR\\_0136 & DLDR\\_0134 & DLDR\\_0175 & DLDR\\_0087 & DLDR\\_0155 & DLDR\\_0092\\\\\n",
       "  & <dbl> & <dbl> & <dbl> & <dbl> & <dbl> & <dbl> & <dbl> & <dbl> & <dbl> & <dbl> & ⋯ & <dbl> & <dbl> & <dbl> & <dbl> & <dbl> & <dbl> & <dbl> & <dbl> & <dbl> & <dbl>\\\\\n",
       "\\hline\n",
       "\t57 & 0.5821648 & -0.2894877 & -1.138550 & -4.060128 & -2.104255 & 0.01812021 & -0.05655446 & -1.903604 & -1.7422337 & -1.039574 & ⋯ & -1.954119 & -0.6315645 & -4.2864534 & 0.4935068 & -2.0218380 & -2.650924 & -2.285986 & -0.385647 & -3.5800732 & 0.3172589\\\\\n",
       "\t113 & 2.9842633 &  2.3734773 &  2.714901 &  2.882387 &  1.802635 & 2.11920634 &  0.79144245 &  1.924215 &  2.0175032 &  3.306201 & ⋯ &  2.204310 &  2.8850110 &  1.4949063 & 2.5398005 &  1.7406627 &  1.713649 &  2.728964 &  1.544451 &  1.6031486 & 1.7541227\\\\\n",
       "\t173 & 0.9447349 &  1.8259895 &  1.234908 &  1.366137 &  1.188526 & 0.94656695 & -0.05655446 &  2.041254 &  0.7756146 &  2.172476 & ⋯ &  1.896738 &  3.1173737 &  0.2371086 & 2.1987636 &  0.2152012 &  0.453413 &  1.338505 &  1.624068 &  0.9434887 & 0.8904442\\\\\n",
       "\t209 & 7.0012221 &  7.2057963 &  6.750193 &  7.459017 &  7.379157 & 7.11479286 &  7.02026114 &  7.433126 &  7.5770278 &  7.142655 & ⋯ &  7.233940 &  7.3864811 &  7.6162986 & 6.8790879 &  7.2807466 &  7.098946 &  7.339114 &  7.366168 &  7.6124251 & 7.3409794\\\\\n",
       "\t227 & 7.4204683 &  7.8082936 &  7.245547 &  7.685967 &  8.043204 & 7.85080609 &  7.79269424 &  8.012574 &  8.1505160 &  7.201694 & ⋯ &  7.846088 &  8.0286295 &  8.2602000 & 7.6621244 &  7.7030819 &  7.764607 &  7.869254 &  7.942482 &  7.9550401 & 7.9623461\\\\\n",
       "\t232 & 7.1692726 &  6.9989939 &  7.278919 &  7.887874 &  7.723881 & 7.41458689 &  7.02026114 &  7.363651 &  7.6123162 &  7.838375 & ⋯ &  7.585871 &  6.6216264 &  7.8178177 & 7.0580706 &  7.7930878 &  7.454723 &  7.755217 &  7.485884 &  7.3390384 & 6.9069785\\\\\n",
       "\\end{tabular}\n"
      ],
      "text/markdown": [
       "\n",
       "A data.frame: 6 × 90\n",
       "\n",
       "| <!--/--> | DLDR_0081 &lt;dbl&gt; | DLDR_0130 &lt;dbl&gt; | DLDR_0079 &lt;dbl&gt; | DLDR_0131 &lt;dbl&gt; | DLDR_0135 &lt;dbl&gt; | DLDR_0095 &lt;dbl&gt; | DLDR_0097 &lt;dbl&gt; | DLDR_0086 &lt;dbl&gt; | DLDR_0149 &lt;dbl&gt; | DLDR_0044 &lt;dbl&gt; | ⋯ ⋯ | DLDR_0166 &lt;dbl&gt; | DLDR_0089 &lt;dbl&gt; | DLDR_0141 &lt;dbl&gt; | DLDR_0111 &lt;dbl&gt; | DLDR_0136 &lt;dbl&gt; | DLDR_0134 &lt;dbl&gt; | DLDR_0175 &lt;dbl&gt; | DLDR_0087 &lt;dbl&gt; | DLDR_0155 &lt;dbl&gt; | DLDR_0092 &lt;dbl&gt; |\n",
       "|---|---|---|---|---|---|---|---|---|---|---|---|---|---|---|---|---|---|---|---|---|---|\n",
       "| 57 | 0.5821648 | -0.2894877 | -1.138550 | -4.060128 | -2.104255 | 0.01812021 | -0.05655446 | -1.903604 | -1.7422337 | -1.039574 | ⋯ | -1.954119 | -0.6315645 | -4.2864534 | 0.4935068 | -2.0218380 | -2.650924 | -2.285986 | -0.385647 | -3.5800732 | 0.3172589 |\n",
       "| 113 | 2.9842633 |  2.3734773 |  2.714901 |  2.882387 |  1.802635 | 2.11920634 |  0.79144245 |  1.924215 |  2.0175032 |  3.306201 | ⋯ |  2.204310 |  2.8850110 |  1.4949063 | 2.5398005 |  1.7406627 |  1.713649 |  2.728964 |  1.544451 |  1.6031486 | 1.7541227 |\n",
       "| 173 | 0.9447349 |  1.8259895 |  1.234908 |  1.366137 |  1.188526 | 0.94656695 | -0.05655446 |  2.041254 |  0.7756146 |  2.172476 | ⋯ |  1.896738 |  3.1173737 |  0.2371086 | 2.1987636 |  0.2152012 |  0.453413 |  1.338505 |  1.624068 |  0.9434887 | 0.8904442 |\n",
       "| 209 | 7.0012221 |  7.2057963 |  6.750193 |  7.459017 |  7.379157 | 7.11479286 |  7.02026114 |  7.433126 |  7.5770278 |  7.142655 | ⋯ |  7.233940 |  7.3864811 |  7.6162986 | 6.8790879 |  7.2807466 |  7.098946 |  7.339114 |  7.366168 |  7.6124251 | 7.3409794 |\n",
       "| 227 | 7.4204683 |  7.8082936 |  7.245547 |  7.685967 |  8.043204 | 7.85080609 |  7.79269424 |  8.012574 |  8.1505160 |  7.201694 | ⋯ |  7.846088 |  8.0286295 |  8.2602000 | 7.6621244 |  7.7030819 |  7.764607 |  7.869254 |  7.942482 |  7.9550401 | 7.9623461 |\n",
       "| 232 | 7.1692726 |  6.9989939 |  7.278919 |  7.887874 |  7.723881 | 7.41458689 |  7.02026114 |  7.363651 |  7.6123162 |  7.838375 | ⋯ |  7.585871 |  6.6216264 |  7.8178177 | 7.0580706 |  7.7930878 |  7.454723 |  7.755217 |  7.485884 |  7.3390384 | 6.9069785 |\n",
       "\n"
      ],
      "text/plain": [
       "    DLDR_0081 DLDR_0130  DLDR_0079 DLDR_0131 DLDR_0135 DLDR_0095  DLDR_0097  \n",
       "57  0.5821648 -0.2894877 -1.138550 -4.060128 -2.104255 0.01812021 -0.05655446\n",
       "113 2.9842633  2.3734773  2.714901  2.882387  1.802635 2.11920634  0.79144245\n",
       "173 0.9447349  1.8259895  1.234908  1.366137  1.188526 0.94656695 -0.05655446\n",
       "209 7.0012221  7.2057963  6.750193  7.459017  7.379157 7.11479286  7.02026114\n",
       "227 7.4204683  7.8082936  7.245547  7.685967  8.043204 7.85080609  7.79269424\n",
       "232 7.1692726  6.9989939  7.278919  7.887874  7.723881 7.41458689  7.02026114\n",
       "    DLDR_0086 DLDR_0149  DLDR_0044 ⋯ DLDR_0166 DLDR_0089  DLDR_0141  DLDR_0111\n",
       "57  -1.903604 -1.7422337 -1.039574 ⋯ -1.954119 -0.6315645 -4.2864534 0.4935068\n",
       "113  1.924215  2.0175032  3.306201 ⋯  2.204310  2.8850110  1.4949063 2.5398005\n",
       "173  2.041254  0.7756146  2.172476 ⋯  1.896738  3.1173737  0.2371086 2.1987636\n",
       "209  7.433126  7.5770278  7.142655 ⋯  7.233940  7.3864811  7.6162986 6.8790879\n",
       "227  8.012574  8.1505160  7.201694 ⋯  7.846088  8.0286295  8.2602000 7.6621244\n",
       "232  7.363651  7.6123162  7.838375 ⋯  7.585871  6.6216264  7.8178177 7.0580706\n",
       "    DLDR_0136  DLDR_0134 DLDR_0175 DLDR_0087 DLDR_0155  DLDR_0092\n",
       "57  -2.0218380 -2.650924 -2.285986 -0.385647 -3.5800732 0.3172589\n",
       "113  1.7406627  1.713649  2.728964  1.544451  1.6031486 1.7541227\n",
       "173  0.2152012  0.453413  1.338505  1.624068  0.9434887 0.8904442\n",
       "209  7.2807466  7.098946  7.339114  7.366168  7.6124251 7.3409794\n",
       "227  7.7030819  7.764607  7.869254  7.942482  7.9550401 7.9623461\n",
       "232  7.7930878  7.454723  7.755217  7.485884  7.3390384 6.9069785"
      ]
     },
     "metadata": {},
     "output_type": "display_data"
    }
   ],
   "source": [
    "common_genes <- intersect(rownames(fibrosis_normal_counts), genes_adv_vs_fib_names)\n",
    "selected_normal_counts <- fibrosis_normal_counts[common_genes, ]\n",
    "head(selected_normal_counts)"
   ]
  },
  {
   "cell_type": "code",
   "execution_count": 82,
   "id": "ba86c290-30f6-46e9-ade5-69a56a6246b7",
   "metadata": {},
   "outputs": [
    {
     "data": {
      "text/html": [
       "<style>\n",
       ".list-inline {list-style: none; margin:0; padding: 0}\n",
       ".list-inline>li {display: inline-block}\n",
       ".list-inline>li:not(:last-child)::after {content: \"\\00b7\"; padding: 0 .5ex}\n",
       "</style>\n",
       "<ol class=list-inline><li>500</li><li>90</li></ol>\n"
      ],
      "text/latex": [
       "\\begin{enumerate*}\n",
       "\\item 500\n",
       "\\item 90\n",
       "\\end{enumerate*}\n"
      ],
      "text/markdown": [
       "1. 500\n",
       "2. 90\n",
       "\n",
       "\n"
      ],
      "text/plain": [
       "[1] 500  90"
      ]
     },
     "metadata": {},
     "output_type": "display_data"
    }
   ],
   "source": [
    "dim(selected_normal_counts)"
   ]
  },
  {
   "cell_type": "code",
   "execution_count": 83,
   "id": "2b84ea51-5bfc-44d2-a883-0297b044f4b8",
   "metadata": {},
   "outputs": [],
   "source": [
    "write.csv(selected_normal_counts, \"subset_data2.csv\")\n",
    "write.csv(meta_data, \"meta_data2.csv\")"
   ]
  },
  {
   "cell_type": "code",
   "execution_count": null,
   "id": "f2807bdd-df36-4d56-b76c-c24df3950bc1",
   "metadata": {},
   "outputs": [],
   "source": []
  }
 ],
 "metadata": {
  "kernelspec": {
   "display_name": "R",
   "language": "R",
   "name": "ir"
  },
  "language_info": {
   "codemirror_mode": "r",
   "file_extension": ".r",
   "mimetype": "text/x-r-source",
   "name": "R",
   "pygments_lexer": "r",
   "version": "4.2.1"
  }
 },
 "nbformat": 4,
 "nbformat_minor": 5
}
