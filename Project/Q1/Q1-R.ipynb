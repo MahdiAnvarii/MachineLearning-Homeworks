{
 "cells": [
  {
   "cell_type": "markdown",
   "id": "7a72e79c-89b5-47a7-af47-5b6d99382ddd",
   "metadata": {},
   "source": [
    "# Q1 - R section"
   ]
  },
  {
   "cell_type": "code",
   "execution_count": 1,
   "id": "7bf83cda-72c7-49e3-9f9f-27784e47ba6c",
   "metadata": {},
   "outputs": [],
   "source": [
    "library(limma)\n",
    "library(edgeR)"
   ]
  },
  {
   "cell_type": "code",
   "execution_count": 2,
   "id": "71fbc81e-f80c-45cb-824e-94fd2cb81910",
   "metadata": {},
   "outputs": [],
   "source": [
    "normal_counts <- read.csv(\"train_normal_counts.csv\")"
   ]
  },
  {
   "cell_type": "code",
   "execution_count": 3,
   "id": "d77acea4-9f2b-4e2c-95ee-b9580d5656fc",
   "metadata": {},
   "outputs": [
    {
     "data": {
      "text/html": [
       "<table class=\"dataframe\">\n",
       "<caption>A data.frame: 6 × 134</caption>\n",
       "<thead>\n",
       "\t<tr><th></th><th scope=col>DLDR_0036</th><th scope=col>DLDR_0081</th><th scope=col>DLDR_0191</th><th scope=col>DLDR_0188</th><th scope=col>DLDR_0130</th><th scope=col>DLDR_0013</th><th scope=col>DLDR_0079</th><th scope=col>DLDR_0131</th><th scope=col>DLDR_0135</th><th scope=col>DLDR_0190</th><th scope=col>⋯</th><th scope=col>DLDR_0175</th><th scope=col>DLDR_0052</th><th scope=col>DLDR_0087</th><th scope=col>DLDR_0155</th><th scope=col>DLDR_0092</th><th scope=col>DLDR_0187</th><th scope=col>DLDR_0186</th><th scope=col>DLDR_0179</th><th scope=col>DLDR_0182</th><th scope=col>DLDR_0001</th></tr>\n",
       "\t<tr><th></th><th scope=col>&lt;dbl&gt;</th><th scope=col>&lt;dbl&gt;</th><th scope=col>&lt;dbl&gt;</th><th scope=col>&lt;dbl&gt;</th><th scope=col>&lt;dbl&gt;</th><th scope=col>&lt;dbl&gt;</th><th scope=col>&lt;dbl&gt;</th><th scope=col>&lt;dbl&gt;</th><th scope=col>&lt;dbl&gt;</th><th scope=col>&lt;dbl&gt;</th><th scope=col>⋯</th><th scope=col>&lt;dbl&gt;</th><th scope=col>&lt;dbl&gt;</th><th scope=col>&lt;dbl&gt;</th><th scope=col>&lt;dbl&gt;</th><th scope=col>&lt;dbl&gt;</th><th scope=col>&lt;dbl&gt;</th><th scope=col>&lt;dbl&gt;</th><th scope=col>&lt;dbl&gt;</th><th scope=col>&lt;dbl&gt;</th><th scope=col>&lt;dbl&gt;</th></tr>\n",
       "</thead>\n",
       "<tbody>\n",
       "\t<tr><th scope=row>1</th><td> 5.820135</td><td>6.5462994</td><td> 6.6040504</td><td> 6.480745</td><td> 6.550016</td><td>6.5692529</td><td> 5.9652146</td><td>6.436726</td><td>6.3378589</td><td> 6.3677048</td><td>⋯</td><td>6.85952138</td><td> 6.3703867</td><td> 6.6352203</td><td>6.693334</td><td>6.26633823</td><td> 6.6089237</td><td> 6.34423435</td><td> 6.296354</td><td> 6.485184</td><td>5.965571</td></tr>\n",
       "\t<tr><th scope=row>2</th><td>-1.060061</td><td>0.5821648</td><td>-0.8650363</td><td>-1.083676</td><td>-1.222374</td><td>0.7672549</td><td>-0.2056643</td><td>1.225274</td><td>0.3287041</td><td>-0.9022011</td><td>⋯</td><td>0.03594184</td><td>-0.5651604</td><td>-0.4658174</td><td>1.603149</td><td>0.08898988</td><td>-0.7573986</td><td>-0.02658513</td><td>-2.568864</td><td>-0.486609</td><td>1.612375</td></tr>\n",
       "\t<tr><th scope=row>3</th><td> 4.388400</td><td>3.7520898</td><td> 4.3514891</td><td> 4.361634</td><td> 4.534941</td><td>4.1504701</td><td> 3.1093774</td><td>4.104779</td><td>4.6099902</td><td> 4.1480104</td><td>⋯</td><td>4.12340468</td><td> 4.7392966</td><td> 4.3778794</td><td>4.473400</td><td>4.31945643</td><td> 4.2744503</td><td> 4.17931917</td><td> 4.381449</td><td> 4.331904</td><td>4.133821</td></tr>\n",
       "\t<tr><th scope=row>4</th><td> 4.080172</td><td>4.6451746</td><td> 4.0721368</td><td> 4.313540</td><td> 4.370763</td><td>4.1660389</td><td> 4.8092861</td><td>4.411547</td><td>4.3253607</td><td> 4.5060579</td><td>⋯</td><td>4.76204644</td><td> 4.1208213</td><td> 4.2298584</td><td>4.755317</td><td>4.38806704</td><td> 4.0425768</td><td> 4.43879576</td><td> 4.365810</td><td> 4.090491</td><td>4.111056</td></tr>\n",
       "\t<tr><th scope=row>5</th><td> 2.564430</td><td>3.8408991</td><td> 3.1431376</td><td> 3.120196</td><td> 3.512952</td><td>3.7570108</td><td> 3.9527651</td><td>3.099743</td><td>3.3085263</td><td> 3.9820712</td><td>⋯</td><td>3.95559973</td><td> 2.9326175</td><td> 3.6972213</td><td>4.027257</td><td>3.97372734</td><td> 2.1264084</td><td> 3.81471713</td><td> 2.965115</td><td> 2.697188</td><td>4.150662</td></tr>\n",
       "\t<tr><th scope=row>6</th><td> 3.552685</td><td>3.2010747</td><td> 4.0374758</td><td> 1.941859</td><td> 2.517867</td><td>3.2536535</td><td> 2.7857226</td><td>3.357725</td><td>1.9136666</td><td> 2.2021356</td><td>⋯</td><td>2.72896408</td><td> 2.8246104</td><td> 2.2057995</td><td>1.576431</td><td>2.97651515</td><td> 3.4239312</td><td> 2.27774891</td><td> 3.408416</td><td> 3.630074</td><td>2.975845</td></tr>\n",
       "</tbody>\n",
       "</table>\n"
      ],
      "text/latex": [
       "A data.frame: 6 × 134\n",
       "\\begin{tabular}{r|lllllllllllllllllllll}\n",
       "  & DLDR\\_0036 & DLDR\\_0081 & DLDR\\_0191 & DLDR\\_0188 & DLDR\\_0130 & DLDR\\_0013 & DLDR\\_0079 & DLDR\\_0131 & DLDR\\_0135 & DLDR\\_0190 & ⋯ & DLDR\\_0175 & DLDR\\_0052 & DLDR\\_0087 & DLDR\\_0155 & DLDR\\_0092 & DLDR\\_0187 & DLDR\\_0186 & DLDR\\_0179 & DLDR\\_0182 & DLDR\\_0001\\\\\n",
       "  & <dbl> & <dbl> & <dbl> & <dbl> & <dbl> & <dbl> & <dbl> & <dbl> & <dbl> & <dbl> & ⋯ & <dbl> & <dbl> & <dbl> & <dbl> & <dbl> & <dbl> & <dbl> & <dbl> & <dbl> & <dbl>\\\\\n",
       "\\hline\n",
       "\t1 &  5.820135 & 6.5462994 &  6.6040504 &  6.480745 &  6.550016 & 6.5692529 &  5.9652146 & 6.436726 & 6.3378589 &  6.3677048 & ⋯ & 6.85952138 &  6.3703867 &  6.6352203 & 6.693334 & 6.26633823 &  6.6089237 &  6.34423435 &  6.296354 &  6.485184 & 5.965571\\\\\n",
       "\t2 & -1.060061 & 0.5821648 & -0.8650363 & -1.083676 & -1.222374 & 0.7672549 & -0.2056643 & 1.225274 & 0.3287041 & -0.9022011 & ⋯ & 0.03594184 & -0.5651604 & -0.4658174 & 1.603149 & 0.08898988 & -0.7573986 & -0.02658513 & -2.568864 & -0.486609 & 1.612375\\\\\n",
       "\t3 &  4.388400 & 3.7520898 &  4.3514891 &  4.361634 &  4.534941 & 4.1504701 &  3.1093774 & 4.104779 & 4.6099902 &  4.1480104 & ⋯ & 4.12340468 &  4.7392966 &  4.3778794 & 4.473400 & 4.31945643 &  4.2744503 &  4.17931917 &  4.381449 &  4.331904 & 4.133821\\\\\n",
       "\t4 &  4.080172 & 4.6451746 &  4.0721368 &  4.313540 &  4.370763 & 4.1660389 &  4.8092861 & 4.411547 & 4.3253607 &  4.5060579 & ⋯ & 4.76204644 &  4.1208213 &  4.2298584 & 4.755317 & 4.38806704 &  4.0425768 &  4.43879576 &  4.365810 &  4.090491 & 4.111056\\\\\n",
       "\t5 &  2.564430 & 3.8408991 &  3.1431376 &  3.120196 &  3.512952 & 3.7570108 &  3.9527651 & 3.099743 & 3.3085263 &  3.9820712 & ⋯ & 3.95559973 &  2.9326175 &  3.6972213 & 4.027257 & 3.97372734 &  2.1264084 &  3.81471713 &  2.965115 &  2.697188 & 4.150662\\\\\n",
       "\t6 &  3.552685 & 3.2010747 &  4.0374758 &  1.941859 &  2.517867 & 3.2536535 &  2.7857226 & 3.357725 & 1.9136666 &  2.2021356 & ⋯ & 2.72896408 &  2.8246104 &  2.2057995 & 1.576431 & 2.97651515 &  3.4239312 &  2.27774891 &  3.408416 &  3.630074 & 2.975845\\\\\n",
       "\\end{tabular}\n"
      ],
      "text/markdown": [
       "\n",
       "A data.frame: 6 × 134\n",
       "\n",
       "| <!--/--> | DLDR_0036 &lt;dbl&gt; | DLDR_0081 &lt;dbl&gt; | DLDR_0191 &lt;dbl&gt; | DLDR_0188 &lt;dbl&gt; | DLDR_0130 &lt;dbl&gt; | DLDR_0013 &lt;dbl&gt; | DLDR_0079 &lt;dbl&gt; | DLDR_0131 &lt;dbl&gt; | DLDR_0135 &lt;dbl&gt; | DLDR_0190 &lt;dbl&gt; | ⋯ ⋯ | DLDR_0175 &lt;dbl&gt; | DLDR_0052 &lt;dbl&gt; | DLDR_0087 &lt;dbl&gt; | DLDR_0155 &lt;dbl&gt; | DLDR_0092 &lt;dbl&gt; | DLDR_0187 &lt;dbl&gt; | DLDR_0186 &lt;dbl&gt; | DLDR_0179 &lt;dbl&gt; | DLDR_0182 &lt;dbl&gt; | DLDR_0001 &lt;dbl&gt; |\n",
       "|---|---|---|---|---|---|---|---|---|---|---|---|---|---|---|---|---|---|---|---|---|---|\n",
       "| 1 |  5.820135 | 6.5462994 |  6.6040504 |  6.480745 |  6.550016 | 6.5692529 |  5.9652146 | 6.436726 | 6.3378589 |  6.3677048 | ⋯ | 6.85952138 |  6.3703867 |  6.6352203 | 6.693334 | 6.26633823 |  6.6089237 |  6.34423435 |  6.296354 |  6.485184 | 5.965571 |\n",
       "| 2 | -1.060061 | 0.5821648 | -0.8650363 | -1.083676 | -1.222374 | 0.7672549 | -0.2056643 | 1.225274 | 0.3287041 | -0.9022011 | ⋯ | 0.03594184 | -0.5651604 | -0.4658174 | 1.603149 | 0.08898988 | -0.7573986 | -0.02658513 | -2.568864 | -0.486609 | 1.612375 |\n",
       "| 3 |  4.388400 | 3.7520898 |  4.3514891 |  4.361634 |  4.534941 | 4.1504701 |  3.1093774 | 4.104779 | 4.6099902 |  4.1480104 | ⋯ | 4.12340468 |  4.7392966 |  4.3778794 | 4.473400 | 4.31945643 |  4.2744503 |  4.17931917 |  4.381449 |  4.331904 | 4.133821 |\n",
       "| 4 |  4.080172 | 4.6451746 |  4.0721368 |  4.313540 |  4.370763 | 4.1660389 |  4.8092861 | 4.411547 | 4.3253607 |  4.5060579 | ⋯ | 4.76204644 |  4.1208213 |  4.2298584 | 4.755317 | 4.38806704 |  4.0425768 |  4.43879576 |  4.365810 |  4.090491 | 4.111056 |\n",
       "| 5 |  2.564430 | 3.8408991 |  3.1431376 |  3.120196 |  3.512952 | 3.7570108 |  3.9527651 | 3.099743 | 3.3085263 |  3.9820712 | ⋯ | 3.95559973 |  2.9326175 |  3.6972213 | 4.027257 | 3.97372734 |  2.1264084 |  3.81471713 |  2.965115 |  2.697188 | 4.150662 |\n",
       "| 6 |  3.552685 | 3.2010747 |  4.0374758 |  1.941859 |  2.517867 | 3.2536535 |  2.7857226 | 3.357725 | 1.9136666 |  2.2021356 | ⋯ | 2.72896408 |  2.8246104 |  2.2057995 | 1.576431 | 2.97651515 |  3.4239312 |  2.27774891 |  3.408416 |  3.630074 | 2.975845 |\n",
       "\n"
      ],
      "text/plain": [
       "  DLDR_0036 DLDR_0081 DLDR_0191  DLDR_0188 DLDR_0130 DLDR_0013 DLDR_0079 \n",
       "1  5.820135 6.5462994  6.6040504  6.480745  6.550016 6.5692529  5.9652146\n",
       "2 -1.060061 0.5821648 -0.8650363 -1.083676 -1.222374 0.7672549 -0.2056643\n",
       "3  4.388400 3.7520898  4.3514891  4.361634  4.534941 4.1504701  3.1093774\n",
       "4  4.080172 4.6451746  4.0721368  4.313540  4.370763 4.1660389  4.8092861\n",
       "5  2.564430 3.8408991  3.1431376  3.120196  3.512952 3.7570108  3.9527651\n",
       "6  3.552685 3.2010747  4.0374758  1.941859  2.517867 3.2536535  2.7857226\n",
       "  DLDR_0131 DLDR_0135 DLDR_0190  ⋯ DLDR_0175  DLDR_0052  DLDR_0087  DLDR_0155\n",
       "1 6.436726  6.3378589  6.3677048 ⋯ 6.85952138  6.3703867  6.6352203 6.693334 \n",
       "2 1.225274  0.3287041 -0.9022011 ⋯ 0.03594184 -0.5651604 -0.4658174 1.603149 \n",
       "3 4.104779  4.6099902  4.1480104 ⋯ 4.12340468  4.7392966  4.3778794 4.473400 \n",
       "4 4.411547  4.3253607  4.5060579 ⋯ 4.76204644  4.1208213  4.2298584 4.755317 \n",
       "5 3.099743  3.3085263  3.9820712 ⋯ 3.95559973  2.9326175  3.6972213 4.027257 \n",
       "6 3.357725  1.9136666  2.2021356 ⋯ 2.72896408  2.8246104  2.2057995 1.576431 \n",
       "  DLDR_0092  DLDR_0187  DLDR_0186   DLDR_0179 DLDR_0182 DLDR_0001\n",
       "1 6.26633823  6.6089237  6.34423435  6.296354  6.485184 5.965571 \n",
       "2 0.08898988 -0.7573986 -0.02658513 -2.568864 -0.486609 1.612375 \n",
       "3 4.31945643  4.2744503  4.17931917  4.381449  4.331904 4.133821 \n",
       "4 4.38806704  4.0425768  4.43879576  4.365810  4.090491 4.111056 \n",
       "5 3.97372734  2.1264084  3.81471713  2.965115  2.697188 4.150662 \n",
       "6 2.97651515  3.4239312  2.27774891  3.408416  3.630074 2.975845 "
      ]
     },
     "metadata": {},
     "output_type": "display_data"
    }
   ],
   "source": [
    "head(normal_counts)"
   ]
  },
  {
   "cell_type": "code",
   "execution_count": 4,
   "id": "555b7504-1fda-4cca-ab24-5dfc9e9c0977",
   "metadata": {},
   "outputs": [
    {
     "data": {
      "text/html": [
       "<style>\n",
       ".list-inline {list-style: none; margin:0; padding: 0}\n",
       ".list-inline>li {display: inline-block}\n",
       ".list-inline>li:not(:last-child)::after {content: \"\\00b7\"; padding: 0 .5ex}\n",
       "</style>\n",
       "<ol class=list-inline><li>17396</li><li>134</li></ol>\n"
      ],
      "text/latex": [
       "\\begin{enumerate*}\n",
       "\\item 17396\n",
       "\\item 134\n",
       "\\end{enumerate*}\n"
      ],
      "text/markdown": [
       "1. 17396\n",
       "2. 134\n",
       "\n",
       "\n"
      ],
      "text/plain": [
       "[1] 17396   134"
      ]
     },
     "metadata": {},
     "output_type": "display_data"
    }
   ],
   "source": [
    "dim(normal_counts)"
   ]
  },
  {
   "cell_type": "code",
   "execution_count": 5,
   "id": "49a2e5fa-d93e-46be-87e8-5bea99bb0fda",
   "metadata": {},
   "outputs": [],
   "source": [
    "meta_data <- read.csv(\"train_meta_data.csv\")"
   ]
  },
  {
   "cell_type": "code",
   "execution_count": 6,
   "id": "ee2a67e0-31e8-48e3-9228-2ed64825638d",
   "metadata": {},
   "outputs": [
    {
     "data": {
      "text/html": [
       "<table class=\"dataframe\">\n",
       "<caption>A data.frame: 6 × 1</caption>\n",
       "<thead>\n",
       "\t<tr><th></th><th scope=col>Simplified_class</th></tr>\n",
       "\t<tr><th></th><th scope=col>&lt;chr&gt;</th></tr>\n",
       "</thead>\n",
       "<tbody>\n",
       "\t<tr><th scope=row>1</th><td>Normal               </td></tr>\n",
       "\t<tr><th scope=row>2</th><td>Advanced_fibrosis    </td></tr>\n",
       "\t<tr><th scope=row>3</th><td>Normal               </td></tr>\n",
       "\t<tr><th scope=row>4</th><td>Normal               </td></tr>\n",
       "\t<tr><th scope=row>5</th><td>Non_advanced_Fibrosis</td></tr>\n",
       "\t<tr><th scope=row>6</th><td>Normal               </td></tr>\n",
       "</tbody>\n",
       "</table>\n"
      ],
      "text/latex": [
       "A data.frame: 6 × 1\n",
       "\\begin{tabular}{r|l}\n",
       "  & Simplified\\_class\\\\\n",
       "  & <chr>\\\\\n",
       "\\hline\n",
       "\t1 & Normal               \\\\\n",
       "\t2 & Advanced\\_fibrosis    \\\\\n",
       "\t3 & Normal               \\\\\n",
       "\t4 & Normal               \\\\\n",
       "\t5 & Non\\_advanced\\_Fibrosis\\\\\n",
       "\t6 & Normal               \\\\\n",
       "\\end{tabular}\n"
      ],
      "text/markdown": [
       "\n",
       "A data.frame: 6 × 1\n",
       "\n",
       "| <!--/--> | Simplified_class &lt;chr&gt; |\n",
       "|---|---|\n",
       "| 1 | Normal                |\n",
       "| 2 | Advanced_fibrosis     |\n",
       "| 3 | Normal                |\n",
       "| 4 | Normal                |\n",
       "| 5 | Non_advanced_Fibrosis |\n",
       "| 6 | Normal                |\n",
       "\n"
      ],
      "text/plain": [
       "  Simplified_class     \n",
       "1 Normal               \n",
       "2 Advanced_fibrosis    \n",
       "3 Normal               \n",
       "4 Normal               \n",
       "5 Non_advanced_Fibrosis\n",
       "6 Normal               "
      ]
     },
     "metadata": {},
     "output_type": "display_data"
    }
   ],
   "source": [
    "head(meta_data)"
   ]
  },
  {
   "cell_type": "code",
   "execution_count": 7,
   "id": "00a4ad72-4c22-4312-9ac8-5b5c7fd8441c",
   "metadata": {},
   "outputs": [
    {
     "data": {
      "text/html": [
       "<style>\n",
       ".list-inline {list-style: none; margin:0; padding: 0}\n",
       ".list-inline>li {display: inline-block}\n",
       ".list-inline>li:not(:last-child)::after {content: \"\\00b7\"; padding: 0 .5ex}\n",
       "</style>\n",
       "<ol class=list-inline><li>134</li><li>1</li></ol>\n"
      ],
      "text/latex": [
       "\\begin{enumerate*}\n",
       "\\item 134\n",
       "\\item 1\n",
       "\\end{enumerate*}\n"
      ],
      "text/markdown": [
       "1. 134\n",
       "2. 1\n",
       "\n",
       "\n"
      ],
      "text/plain": [
       "[1] 134   1"
      ]
     },
     "metadata": {},
     "output_type": "display_data"
    }
   ],
   "source": [
    "dim(meta_data)"
   ]
  },
  {
   "cell_type": "code",
   "execution_count": 8,
   "id": "0204af7d-756d-43ca-b107-26f5f322facd",
   "metadata": {},
   "outputs": [],
   "source": [
    "labels <- factor(meta_data$Simplified_class)"
   ]
  },
  {
   "cell_type": "code",
   "execution_count": 9,
   "id": "84342d95-453a-4c8e-8650-0cc4a383f209",
   "metadata": {},
   "outputs": [
    {
     "name": "stdout",
     "output_type": "stream",
     "text": [
      "  [1] Normal                Advanced_fibrosis     Normal               \n",
      "  [4] Normal                Non_advanced_Fibrosis Normal               \n",
      "  [7] Advanced_fibrosis     Non_advanced_Fibrosis Non_advanced_Fibrosis\n",
      " [10] Normal                Advanced_fibrosis     Advanced_fibrosis    \n",
      " [13] Advanced_fibrosis     Non_advanced_Fibrosis Advanced_fibrosis    \n",
      " [16] Advanced_fibrosis     Normal                Normal               \n",
      " [19] Normal                Normal                Advanced_fibrosis    \n",
      " [22] Advanced_fibrosis     Non_advanced_Fibrosis Non_advanced_Fibrosis\n",
      " [25] Advanced_fibrosis     Non_advanced_Fibrosis Normal               \n",
      " [28] Non_advanced_Fibrosis Normal                Advanced_fibrosis    \n",
      " [31] Advanced_fibrosis     Advanced_fibrosis     Advanced_fibrosis    \n",
      " [34] Normal                Normal                Non_advanced_Fibrosis\n",
      " [37] Non_advanced_Fibrosis Advanced_fibrosis     Advanced_fibrosis    \n",
      " [40] Non_advanced_Fibrosis Advanced_fibrosis     Advanced_fibrosis    \n",
      " [43] Advanced_fibrosis     Advanced_fibrosis     Non_advanced_Fibrosis\n",
      " [46] Non_advanced_Fibrosis Normal                Advanced_fibrosis    \n",
      " [49] Advanced_fibrosis     Advanced_fibrosis     Non_advanced_Fibrosis\n",
      " [52] Advanced_fibrosis     Normal                Non_advanced_Fibrosis\n",
      " [55] Normal                Advanced_fibrosis     Advanced_fibrosis    \n",
      " [58] Non_advanced_Fibrosis Normal                Normal               \n",
      " [61] Normal                Non_advanced_Fibrosis Advanced_fibrosis    \n",
      " [64] Advanced_fibrosis     Normal                Normal               \n",
      " [67] Advanced_fibrosis     Normal                Advanced_fibrosis    \n",
      " [70] Advanced_fibrosis     Advanced_fibrosis     Advanced_fibrosis    \n",
      " [73] Normal                Advanced_fibrosis     Non_advanced_Fibrosis\n",
      " [76] Normal                Advanced_fibrosis     Advanced_fibrosis    \n",
      " [79] Non_advanced_Fibrosis Non_advanced_Fibrosis Advanced_fibrosis    \n",
      " [82] Normal                Advanced_fibrosis     Non_advanced_Fibrosis\n",
      " [85] Non_advanced_Fibrosis Advanced_fibrosis     Normal               \n",
      " [88] Non_advanced_Fibrosis Advanced_fibrosis     Non_advanced_Fibrosis\n",
      " [91] Advanced_fibrosis     Normal                Normal               \n",
      " [94] Advanced_fibrosis     Non_advanced_Fibrosis Non_advanced_Fibrosis\n",
      " [97] Non_advanced_Fibrosis Advanced_fibrosis     Advanced_fibrosis    \n",
      "[100] Advanced_fibrosis     Normal                Normal               \n",
      "[103] Non_advanced_Fibrosis Non_advanced_Fibrosis Normal               \n",
      "[106] Normal                Advanced_fibrosis     Non_advanced_Fibrosis\n",
      "[109] Non_advanced_Fibrosis Normal                Advanced_fibrosis    \n",
      "[112] Non_advanced_Fibrosis Normal                Normal               \n",
      "[115] Advanced_fibrosis     Normal                Normal               \n",
      "[118] Non_advanced_Fibrosis Advanced_fibrosis     Non_advanced_Fibrosis\n",
      "[121] Normal                Advanced_fibrosis     Non_advanced_Fibrosis\n",
      "[124] Non_advanced_Fibrosis Non_advanced_Fibrosis Normal               \n",
      "[127] Advanced_fibrosis     Non_advanced_Fibrosis Advanced_fibrosis    \n",
      "[130] Normal                Normal                Normal               \n",
      "[133] Normal                Normal               \n",
      "Levels: Advanced_fibrosis Non_advanced_Fibrosis Normal\n"
     ]
    }
   ],
   "source": [
    "print(labels)"
   ]
  },
  {
   "cell_type": "code",
   "execution_count": 10,
   "id": "c60f8394-9ef6-424b-9b2c-7e332203bcd6",
   "metadata": {},
   "outputs": [],
   "source": [
    "# Create a design matrix\n",
    "design <- model.matrix(~0 + labels)\n",
    "colnames(design) <- levels(labels)"
   ]
  },
  {
   "cell_type": "code",
   "execution_count": 11,
   "id": "306923dd-7413-48c4-ac95-2c3e6e92178d",
   "metadata": {},
   "outputs": [],
   "source": [
    "fit <- lmFit(normal_counts, design)"
   ]
  },
  {
   "cell_type": "code",
   "execution_count": 12,
   "id": "e593a8ad-2147-4db2-a529-5c4b45ccd5e4",
   "metadata": {},
   "outputs": [],
   "source": [
    "contrast.matrix <- makeContrasts(\n",
    "    AdvancedFibrosis_vs_Normal = `Advanced_fibrosis` - Normal,\n",
    "    Fibrosis_vs_Normal = Non_advanced_Fibrosis - Normal,\n",
    "    AdvancedFibrosis_vs_Fibrosis = `Advanced_fibrosis` - Non_advanced_Fibrosis,\n",
    "    levels = design\n",
    ")\n",
    "\n",
    "# Apply contrasts to the fit\n",
    "fit2 <- contrasts.fit(fit, contrast.matrix)\n",
    "\n",
    "# Empirical Bayes moderation to get p-values\n",
    "fit2 <- eBayes(fit2)"
   ]
  },
  {
   "cell_type": "code",
   "execution_count": 13,
   "id": "c60ab8d3-d4d2-483d-9fa1-5f2d72302558",
   "metadata": {},
   "outputs": [
    {
     "data": {
      "text/html": [
       "<table class=\"dataframe\">\n",
       "<caption>A data.frame: 6 × 6</caption>\n",
       "<thead>\n",
       "\t<tr><th></th><th scope=col>logFC</th><th scope=col>AveExpr</th><th scope=col>t</th><th scope=col>P.Value</th><th scope=col>adj.P.Val</th><th scope=col>B</th></tr>\n",
       "\t<tr><th></th><th scope=col>&lt;dbl&gt;</th><th scope=col>&lt;dbl&gt;</th><th scope=col>&lt;dbl&gt;</th><th scope=col>&lt;dbl&gt;</th><th scope=col>&lt;dbl&gt;</th><th scope=col>&lt;dbl&gt;</th></tr>\n",
       "</thead>\n",
       "<tbody>\n",
       "\t<tr><th scope=row>10728</th><td>-1.3278914</td><td> 1.902497</td><td>-10.235955</td><td>1.733536e-18</td><td>3.015659e-14</td><td>31.41974</td></tr>\n",
       "\t<tr><th scope=row>13385</th><td> 1.0088994</td><td> 6.051398</td><td>  9.886439</td><td>1.299982e-17</td><td>9.020981e-14</td><td>29.46392</td></tr>\n",
       "\t<tr><th scope=row>10694</th><td>-1.3132140</td><td> 3.432308</td><td> -9.855214</td><td>1.555699e-17</td><td>9.020981e-14</td><td>29.28958</td></tr>\n",
       "\t<tr><th scope=row>16113</th><td>-3.4233202</td><td>-1.392599</td><td> -9.734863</td><td>3.105946e-17</td><td>1.350776e-13</td><td>28.61834</td></tr>\n",
       "\t<tr><th scope=row>16278</th><td>-2.8530739</td><td>-0.172656</td><td> -9.680406</td><td>4.245065e-17</td><td>1.476943e-13</td><td>28.31501</td></tr>\n",
       "\t<tr><th scope=row>6969</th><td> 0.4379282</td><td> 4.207436</td><td>  9.600224</td><td>6.721385e-17</td><td>1.948753e-13</td><td>27.86885</td></tr>\n",
       "</tbody>\n",
       "</table>\n"
      ],
      "text/latex": [
       "A data.frame: 6 × 6\n",
       "\\begin{tabular}{r|llllll}\n",
       "  & logFC & AveExpr & t & P.Value & adj.P.Val & B\\\\\n",
       "  & <dbl> & <dbl> & <dbl> & <dbl> & <dbl> & <dbl>\\\\\n",
       "\\hline\n",
       "\t10728 & -1.3278914 &  1.902497 & -10.235955 & 1.733536e-18 & 3.015659e-14 & 31.41974\\\\\n",
       "\t13385 &  1.0088994 &  6.051398 &   9.886439 & 1.299982e-17 & 9.020981e-14 & 29.46392\\\\\n",
       "\t10694 & -1.3132140 &  3.432308 &  -9.855214 & 1.555699e-17 & 9.020981e-14 & 29.28958\\\\\n",
       "\t16113 & -3.4233202 & -1.392599 &  -9.734863 & 3.105946e-17 & 1.350776e-13 & 28.61834\\\\\n",
       "\t16278 & -2.8530739 & -0.172656 &  -9.680406 & 4.245065e-17 & 1.476943e-13 & 28.31501\\\\\n",
       "\t6969 &  0.4379282 &  4.207436 &   9.600224 & 6.721385e-17 & 1.948753e-13 & 27.86885\\\\\n",
       "\\end{tabular}\n"
      ],
      "text/markdown": [
       "\n",
       "A data.frame: 6 × 6\n",
       "\n",
       "| <!--/--> | logFC &lt;dbl&gt; | AveExpr &lt;dbl&gt; | t &lt;dbl&gt; | P.Value &lt;dbl&gt; | adj.P.Val &lt;dbl&gt; | B &lt;dbl&gt; |\n",
       "|---|---|---|---|---|---|---|\n",
       "| 10728 | -1.3278914 |  1.902497 | -10.235955 | 1.733536e-18 | 3.015659e-14 | 31.41974 |\n",
       "| 13385 |  1.0088994 |  6.051398 |   9.886439 | 1.299982e-17 | 9.020981e-14 | 29.46392 |\n",
       "| 10694 | -1.3132140 |  3.432308 |  -9.855214 | 1.555699e-17 | 9.020981e-14 | 29.28958 |\n",
       "| 16113 | -3.4233202 | -1.392599 |  -9.734863 | 3.105946e-17 | 1.350776e-13 | 28.61834 |\n",
       "| 16278 | -2.8530739 | -0.172656 |  -9.680406 | 4.245065e-17 | 1.476943e-13 | 28.31501 |\n",
       "| 6969 |  0.4379282 |  4.207436 |   9.600224 | 6.721385e-17 | 1.948753e-13 | 27.86885 |\n",
       "\n"
      ],
      "text/plain": [
       "      logFC      AveExpr   t          P.Value      adj.P.Val    B       \n",
       "10728 -1.3278914  1.902497 -10.235955 1.733536e-18 3.015659e-14 31.41974\n",
       "13385  1.0088994  6.051398   9.886439 1.299982e-17 9.020981e-14 29.46392\n",
       "10694 -1.3132140  3.432308  -9.855214 1.555699e-17 9.020981e-14 29.28958\n",
       "16113 -3.4233202 -1.392599  -9.734863 3.105946e-17 1.350776e-13 28.61834\n",
       "16278 -2.8530739 -0.172656  -9.680406 4.245065e-17 1.476943e-13 28.31501\n",
       "6969   0.4379282  4.207436   9.600224 6.721385e-17 1.948753e-13 27.86885"
      ]
     },
     "metadata": {},
     "output_type": "display_data"
    },
    {
     "data": {
      "text/html": [
       "<table class=\"dataframe\">\n",
       "<caption>A data.frame: 6 × 6</caption>\n",
       "<thead>\n",
       "\t<tr><th></th><th scope=col>logFC</th><th scope=col>AveExpr</th><th scope=col>t</th><th scope=col>P.Value</th><th scope=col>adj.P.Val</th><th scope=col>B</th></tr>\n",
       "\t<tr><th></th><th scope=col>&lt;dbl&gt;</th><th scope=col>&lt;dbl&gt;</th><th scope=col>&lt;dbl&gt;</th><th scope=col>&lt;dbl&gt;</th><th scope=col>&lt;dbl&gt;</th><th scope=col>&lt;dbl&gt;</th></tr>\n",
       "</thead>\n",
       "<tbody>\n",
       "\t<tr><th scope=row>13623</th><td> 0.7946468</td><td>5.255822</td><td> 11.73980</td><td>2.831866e-22</td><td>4.926315e-18</td><td>40.01880</td></tr>\n",
       "\t<tr><th scope=row>10970</th><td> 0.6321228</td><td>5.361546</td><td> 11.47202</td><td>1.339959e-21</td><td>1.021819e-17</td><td>38.49831</td></tr>\n",
       "\t<tr><th scope=row>5442</th><td>-1.4931333</td><td>2.180779</td><td>-11.38733</td><td>2.190883e-21</td><td>1.021819e-17</td><td>38.01728</td></tr>\n",
       "\t<tr><th scope=row>17075</th><td> 0.6202635</td><td>7.265926</td><td> 11.37529</td><td>2.349550e-21</td><td>1.021819e-17</td><td>37.94887</td></tr>\n",
       "\t<tr><th scope=row>4461</th><td> 0.6782287</td><td>6.569435</td><td> 11.29235</td><td>3.802820e-21</td><td>1.323077e-17</td><td>37.47774</td></tr>\n",
       "\t<tr><th scope=row>6563</th><td> 0.6004911</td><td>5.545244</td><td> 11.13147</td><td>9.676618e-21</td><td>2.805574e-17</td><td>36.56387</td></tr>\n",
       "</tbody>\n",
       "</table>\n"
      ],
      "text/latex": [
       "A data.frame: 6 × 6\n",
       "\\begin{tabular}{r|llllll}\n",
       "  & logFC & AveExpr & t & P.Value & adj.P.Val & B\\\\\n",
       "  & <dbl> & <dbl> & <dbl> & <dbl> & <dbl> & <dbl>\\\\\n",
       "\\hline\n",
       "\t13623 &  0.7946468 & 5.255822 &  11.73980 & 2.831866e-22 & 4.926315e-18 & 40.01880\\\\\n",
       "\t10970 &  0.6321228 & 5.361546 &  11.47202 & 1.339959e-21 & 1.021819e-17 & 38.49831\\\\\n",
       "\t5442 & -1.4931333 & 2.180779 & -11.38733 & 2.190883e-21 & 1.021819e-17 & 38.01728\\\\\n",
       "\t17075 &  0.6202635 & 7.265926 &  11.37529 & 2.349550e-21 & 1.021819e-17 & 37.94887\\\\\n",
       "\t4461 &  0.6782287 & 6.569435 &  11.29235 & 3.802820e-21 & 1.323077e-17 & 37.47774\\\\\n",
       "\t6563 &  0.6004911 & 5.545244 &  11.13147 & 9.676618e-21 & 2.805574e-17 & 36.56387\\\\\n",
       "\\end{tabular}\n"
      ],
      "text/markdown": [
       "\n",
       "A data.frame: 6 × 6\n",
       "\n",
       "| <!--/--> | logFC &lt;dbl&gt; | AveExpr &lt;dbl&gt; | t &lt;dbl&gt; | P.Value &lt;dbl&gt; | adj.P.Val &lt;dbl&gt; | B &lt;dbl&gt; |\n",
       "|---|---|---|---|---|---|---|\n",
       "| 13623 |  0.7946468 | 5.255822 |  11.73980 | 2.831866e-22 | 4.926315e-18 | 40.01880 |\n",
       "| 10970 |  0.6321228 | 5.361546 |  11.47202 | 1.339959e-21 | 1.021819e-17 | 38.49831 |\n",
       "| 5442 | -1.4931333 | 2.180779 | -11.38733 | 2.190883e-21 | 1.021819e-17 | 38.01728 |\n",
       "| 17075 |  0.6202635 | 7.265926 |  11.37529 | 2.349550e-21 | 1.021819e-17 | 37.94887 |\n",
       "| 4461 |  0.6782287 | 6.569435 |  11.29235 | 3.802820e-21 | 1.323077e-17 | 37.47774 |\n",
       "| 6563 |  0.6004911 | 5.545244 |  11.13147 | 9.676618e-21 | 2.805574e-17 | 36.56387 |\n",
       "\n"
      ],
      "text/plain": [
       "      logFC      AveExpr  t         P.Value      adj.P.Val    B       \n",
       "13623  0.7946468 5.255822  11.73980 2.831866e-22 4.926315e-18 40.01880\n",
       "10970  0.6321228 5.361546  11.47202 1.339959e-21 1.021819e-17 38.49831\n",
       "5442  -1.4931333 2.180779 -11.38733 2.190883e-21 1.021819e-17 38.01728\n",
       "17075  0.6202635 7.265926  11.37529 2.349550e-21 1.021819e-17 37.94887\n",
       "4461   0.6782287 6.569435  11.29235 3.802820e-21 1.323077e-17 37.47774\n",
       "6563   0.6004911 5.545244  11.13147 9.676618e-21 2.805574e-17 36.56387"
      ]
     },
     "metadata": {},
     "output_type": "display_data"
    },
    {
     "data": {
      "text/html": [
       "<table class=\"dataframe\">\n",
       "<caption>A data.frame: 6 × 6</caption>\n",
       "<thead>\n",
       "\t<tr><th></th><th scope=col>logFC</th><th scope=col>AveExpr</th><th scope=col>t</th><th scope=col>P.Value</th><th scope=col>adj.P.Val</th><th scope=col>B</th></tr>\n",
       "\t<tr><th></th><th scope=col>&lt;dbl&gt;</th><th scope=col>&lt;dbl&gt;</th><th scope=col>&lt;dbl&gt;</th><th scope=col>&lt;dbl&gt;</th><th scope=col>&lt;dbl&gt;</th><th scope=col>&lt;dbl&gt;</th></tr>\n",
       "</thead>\n",
       "<tbody>\n",
       "\t<tr><th scope=row>16863</th><td> 1.223013</td><td>2.9208664</td><td> 9.097265</td><td>1.182040e-15</td><td>2.056276e-11</td><td>24.90970</td></tr>\n",
       "\t<tr><th scope=row>3296</th><td> 1.594761</td><td>1.9955120</td><td> 8.122841</td><td>2.755851e-13</td><td>1.021684e-09</td><td>19.70546</td></tr>\n",
       "\t<tr><th scope=row>673</th><td> 1.485822</td><td>1.1568774</td><td> 8.121636</td><td>2.774199e-13</td><td>1.021684e-09</td><td>19.69912</td></tr>\n",
       "\t<tr><th scope=row>14913</th><td>-1.153029</td><td>2.6115748</td><td>-8.115173</td><td>2.874679e-13</td><td>1.021684e-09</td><td>19.66515</td></tr>\n",
       "\t<tr><th scope=row>12060</th><td> 1.675825</td><td>0.1951384</td><td> 8.111304</td><td>2.936548e-13</td><td>1.021684e-09</td><td>19.64482</td></tr>\n",
       "\t<tr><th scope=row>3227</th><td> 1.279852</td><td>4.3441375</td><td> 8.016339</td><td>4.947792e-13</td><td>1.434530e-09</td><td>19.14676</td></tr>\n",
       "</tbody>\n",
       "</table>\n"
      ],
      "text/latex": [
       "A data.frame: 6 × 6\n",
       "\\begin{tabular}{r|llllll}\n",
       "  & logFC & AveExpr & t & P.Value & adj.P.Val & B\\\\\n",
       "  & <dbl> & <dbl> & <dbl> & <dbl> & <dbl> & <dbl>\\\\\n",
       "\\hline\n",
       "\t16863 &  1.223013 & 2.9208664 &  9.097265 & 1.182040e-15 & 2.056276e-11 & 24.90970\\\\\n",
       "\t3296 &  1.594761 & 1.9955120 &  8.122841 & 2.755851e-13 & 1.021684e-09 & 19.70546\\\\\n",
       "\t673 &  1.485822 & 1.1568774 &  8.121636 & 2.774199e-13 & 1.021684e-09 & 19.69912\\\\\n",
       "\t14913 & -1.153029 & 2.6115748 & -8.115173 & 2.874679e-13 & 1.021684e-09 & 19.66515\\\\\n",
       "\t12060 &  1.675825 & 0.1951384 &  8.111304 & 2.936548e-13 & 1.021684e-09 & 19.64482\\\\\n",
       "\t3227 &  1.279852 & 4.3441375 &  8.016339 & 4.947792e-13 & 1.434530e-09 & 19.14676\\\\\n",
       "\\end{tabular}\n"
      ],
      "text/markdown": [
       "\n",
       "A data.frame: 6 × 6\n",
       "\n",
       "| <!--/--> | logFC &lt;dbl&gt; | AveExpr &lt;dbl&gt; | t &lt;dbl&gt; | P.Value &lt;dbl&gt; | adj.P.Val &lt;dbl&gt; | B &lt;dbl&gt; |\n",
       "|---|---|---|---|---|---|---|\n",
       "| 16863 |  1.223013 | 2.9208664 |  9.097265 | 1.182040e-15 | 2.056276e-11 | 24.90970 |\n",
       "| 3296 |  1.594761 | 1.9955120 |  8.122841 | 2.755851e-13 | 1.021684e-09 | 19.70546 |\n",
       "| 673 |  1.485822 | 1.1568774 |  8.121636 | 2.774199e-13 | 1.021684e-09 | 19.69912 |\n",
       "| 14913 | -1.153029 | 2.6115748 | -8.115173 | 2.874679e-13 | 1.021684e-09 | 19.66515 |\n",
       "| 12060 |  1.675825 | 0.1951384 |  8.111304 | 2.936548e-13 | 1.021684e-09 | 19.64482 |\n",
       "| 3227 |  1.279852 | 4.3441375 |  8.016339 | 4.947792e-13 | 1.434530e-09 | 19.14676 |\n",
       "\n"
      ],
      "text/plain": [
       "      logFC     AveExpr   t         P.Value      adj.P.Val    B       \n",
       "16863  1.223013 2.9208664  9.097265 1.182040e-15 2.056276e-11 24.90970\n",
       "3296   1.594761 1.9955120  8.122841 2.755851e-13 1.021684e-09 19.70546\n",
       "673    1.485822 1.1568774  8.121636 2.774199e-13 1.021684e-09 19.69912\n",
       "14913 -1.153029 2.6115748 -8.115173 2.874679e-13 1.021684e-09 19.66515\n",
       "12060  1.675825 0.1951384  8.111304 2.936548e-13 1.021684e-09 19.64482\n",
       "3227   1.279852 4.3441375  8.016339 4.947792e-13 1.434530e-09 19.14676"
      ]
     },
     "metadata": {},
     "output_type": "display_data"
    }
   ],
   "source": [
    "# Get the top DEGs for the Advanced Fibrosis vs Normal comparison\n",
    "top_genes_adv_vs_norm <- topTable(fit2, coef = \"AdvancedFibrosis_vs_Normal\", adjust.method = \"BH\", number = Inf)\n",
    "\n",
    "# Get the top DEGs for the Fibrosis vs Normal comparison\n",
    "top_genes_fib_vs_norm <- topTable(fit2, coef = \"Fibrosis_vs_Normal\", adjust.method = \"BH\", number = Inf)\n",
    "\n",
    "# Get the top DEGs for the Advanced Fibrosis vs Fibrosis comparison\n",
    "top_genes_adv_vs_fib <- topTable(fit2, coef = \"AdvancedFibrosis_vs_Fibrosis\", adjust.method = \"BH\", number = Inf)\n",
    "\n",
    "# View the top DEGs\n",
    "head(top_genes_adv_vs_norm)\n",
    "head(top_genes_fib_vs_norm)\n",
    "head(top_genes_adv_vs_fib)"
   ]
  },
  {
   "cell_type": "code",
   "execution_count": 14,
   "id": "adb4f048-f310-47e5-94af-c8e85e9d60cd",
   "metadata": {},
   "outputs": [],
   "source": [
    "write.csv(top_genes_adv_vs_norm, \"DEGs_AdvancedFibrosis_vs_Normal.csv\")\n",
    "write.csv(top_genes_fib_vs_norm, \"DEGs_Fibrosis_vs_Normal.csv\")\n",
    "write.csv(top_genes_adv_vs_fib, \"DEGs_AdvancedFibrosis_vs_Fibrosis.csv\")"
   ]
  },
  {
   "cell_type": "code",
   "execution_count": 15,
   "id": "dfaa0048-97fa-46e2-916d-77402fc9ebce",
   "metadata": {},
   "outputs": [
    {
     "data": {
      "text/html": [
       "<table class=\"dataframe\">\n",
       "<caption>A data.frame: 6 × 6</caption>\n",
       "<thead>\n",
       "\t<tr><th></th><th scope=col>logFC</th><th scope=col>AveExpr</th><th scope=col>t</th><th scope=col>P.Value</th><th scope=col>adj.P.Val</th><th scope=col>B</th></tr>\n",
       "\t<tr><th></th><th scope=col>&lt;dbl&gt;</th><th scope=col>&lt;dbl&gt;</th><th scope=col>&lt;dbl&gt;</th><th scope=col>&lt;dbl&gt;</th><th scope=col>&lt;dbl&gt;</th><th scope=col>&lt;dbl&gt;</th></tr>\n",
       "</thead>\n",
       "<tbody>\n",
       "\t<tr><th scope=row>10728</th><td>-1.3278914</td><td> 1.902497</td><td>-10.235955</td><td>1.733536e-18</td><td>3.015659e-14</td><td>31.41974</td></tr>\n",
       "\t<tr><th scope=row>13385</th><td> 1.0088994</td><td> 6.051398</td><td>  9.886439</td><td>1.299982e-17</td><td>9.020981e-14</td><td>29.46392</td></tr>\n",
       "\t<tr><th scope=row>10694</th><td>-1.3132140</td><td> 3.432308</td><td> -9.855214</td><td>1.555699e-17</td><td>9.020981e-14</td><td>29.28958</td></tr>\n",
       "\t<tr><th scope=row>16113</th><td>-3.4233202</td><td>-1.392599</td><td> -9.734863</td><td>3.105946e-17</td><td>1.350776e-13</td><td>28.61834</td></tr>\n",
       "\t<tr><th scope=row>16278</th><td>-2.8530739</td><td>-0.172656</td><td> -9.680406</td><td>4.245065e-17</td><td>1.476943e-13</td><td>28.31501</td></tr>\n",
       "\t<tr><th scope=row>6969</th><td> 0.4379282</td><td> 4.207436</td><td>  9.600224</td><td>6.721385e-17</td><td>1.948753e-13</td><td>27.86885</td></tr>\n",
       "</tbody>\n",
       "</table>\n"
      ],
      "text/latex": [
       "A data.frame: 6 × 6\n",
       "\\begin{tabular}{r|llllll}\n",
       "  & logFC & AveExpr & t & P.Value & adj.P.Val & B\\\\\n",
       "  & <dbl> & <dbl> & <dbl> & <dbl> & <dbl> & <dbl>\\\\\n",
       "\\hline\n",
       "\t10728 & -1.3278914 &  1.902497 & -10.235955 & 1.733536e-18 & 3.015659e-14 & 31.41974\\\\\n",
       "\t13385 &  1.0088994 &  6.051398 &   9.886439 & 1.299982e-17 & 9.020981e-14 & 29.46392\\\\\n",
       "\t10694 & -1.3132140 &  3.432308 &  -9.855214 & 1.555699e-17 & 9.020981e-14 & 29.28958\\\\\n",
       "\t16113 & -3.4233202 & -1.392599 &  -9.734863 & 3.105946e-17 & 1.350776e-13 & 28.61834\\\\\n",
       "\t16278 & -2.8530739 & -0.172656 &  -9.680406 & 4.245065e-17 & 1.476943e-13 & 28.31501\\\\\n",
       "\t6969 &  0.4379282 &  4.207436 &   9.600224 & 6.721385e-17 & 1.948753e-13 & 27.86885\\\\\n",
       "\\end{tabular}\n"
      ],
      "text/markdown": [
       "\n",
       "A data.frame: 6 × 6\n",
       "\n",
       "| <!--/--> | logFC &lt;dbl&gt; | AveExpr &lt;dbl&gt; | t &lt;dbl&gt; | P.Value &lt;dbl&gt; | adj.P.Val &lt;dbl&gt; | B &lt;dbl&gt; |\n",
       "|---|---|---|---|---|---|---|\n",
       "| 10728 | -1.3278914 |  1.902497 | -10.235955 | 1.733536e-18 | 3.015659e-14 | 31.41974 |\n",
       "| 13385 |  1.0088994 |  6.051398 |   9.886439 | 1.299982e-17 | 9.020981e-14 | 29.46392 |\n",
       "| 10694 | -1.3132140 |  3.432308 |  -9.855214 | 1.555699e-17 | 9.020981e-14 | 29.28958 |\n",
       "| 16113 | -3.4233202 | -1.392599 |  -9.734863 | 3.105946e-17 | 1.350776e-13 | 28.61834 |\n",
       "| 16278 | -2.8530739 | -0.172656 |  -9.680406 | 4.245065e-17 | 1.476943e-13 | 28.31501 |\n",
       "| 6969 |  0.4379282 |  4.207436 |   9.600224 | 6.721385e-17 | 1.948753e-13 | 27.86885 |\n",
       "\n"
      ],
      "text/plain": [
       "      logFC      AveExpr   t          P.Value      adj.P.Val    B       \n",
       "10728 -1.3278914  1.902497 -10.235955 1.733536e-18 3.015659e-14 31.41974\n",
       "13385  1.0088994  6.051398   9.886439 1.299982e-17 9.020981e-14 29.46392\n",
       "10694 -1.3132140  3.432308  -9.855214 1.555699e-17 9.020981e-14 29.28958\n",
       "16113 -3.4233202 -1.392599  -9.734863 3.105946e-17 1.350776e-13 28.61834\n",
       "16278 -2.8530739 -0.172656  -9.680406 4.245065e-17 1.476943e-13 28.31501\n",
       "6969   0.4379282  4.207436   9.600224 6.721385e-17 1.948753e-13 27.86885"
      ]
     },
     "metadata": {},
     "output_type": "display_data"
    },
    {
     "data": {
      "text/html": [
       "<table class=\"dataframe\">\n",
       "<caption>A data.frame: 6 × 6</caption>\n",
       "<thead>\n",
       "\t<tr><th></th><th scope=col>logFC</th><th scope=col>AveExpr</th><th scope=col>t</th><th scope=col>P.Value</th><th scope=col>adj.P.Val</th><th scope=col>B</th></tr>\n",
       "\t<tr><th></th><th scope=col>&lt;dbl&gt;</th><th scope=col>&lt;dbl&gt;</th><th scope=col>&lt;dbl&gt;</th><th scope=col>&lt;dbl&gt;</th><th scope=col>&lt;dbl&gt;</th><th scope=col>&lt;dbl&gt;</th></tr>\n",
       "</thead>\n",
       "<tbody>\n",
       "\t<tr><th scope=row>13623</th><td> 0.7946468</td><td>5.255822</td><td> 11.73980</td><td>2.831866e-22</td><td>4.926315e-18</td><td>40.01880</td></tr>\n",
       "\t<tr><th scope=row>10970</th><td> 0.6321228</td><td>5.361546</td><td> 11.47202</td><td>1.339959e-21</td><td>1.021819e-17</td><td>38.49831</td></tr>\n",
       "\t<tr><th scope=row>5442</th><td>-1.4931333</td><td>2.180779</td><td>-11.38733</td><td>2.190883e-21</td><td>1.021819e-17</td><td>38.01728</td></tr>\n",
       "\t<tr><th scope=row>17075</th><td> 0.6202635</td><td>7.265926</td><td> 11.37529</td><td>2.349550e-21</td><td>1.021819e-17</td><td>37.94887</td></tr>\n",
       "\t<tr><th scope=row>4461</th><td> 0.6782287</td><td>6.569435</td><td> 11.29235</td><td>3.802820e-21</td><td>1.323077e-17</td><td>37.47774</td></tr>\n",
       "\t<tr><th scope=row>6563</th><td> 0.6004911</td><td>5.545244</td><td> 11.13147</td><td>9.676618e-21</td><td>2.805574e-17</td><td>36.56387</td></tr>\n",
       "</tbody>\n",
       "</table>\n"
      ],
      "text/latex": [
       "A data.frame: 6 × 6\n",
       "\\begin{tabular}{r|llllll}\n",
       "  & logFC & AveExpr & t & P.Value & adj.P.Val & B\\\\\n",
       "  & <dbl> & <dbl> & <dbl> & <dbl> & <dbl> & <dbl>\\\\\n",
       "\\hline\n",
       "\t13623 &  0.7946468 & 5.255822 &  11.73980 & 2.831866e-22 & 4.926315e-18 & 40.01880\\\\\n",
       "\t10970 &  0.6321228 & 5.361546 &  11.47202 & 1.339959e-21 & 1.021819e-17 & 38.49831\\\\\n",
       "\t5442 & -1.4931333 & 2.180779 & -11.38733 & 2.190883e-21 & 1.021819e-17 & 38.01728\\\\\n",
       "\t17075 &  0.6202635 & 7.265926 &  11.37529 & 2.349550e-21 & 1.021819e-17 & 37.94887\\\\\n",
       "\t4461 &  0.6782287 & 6.569435 &  11.29235 & 3.802820e-21 & 1.323077e-17 & 37.47774\\\\\n",
       "\t6563 &  0.6004911 & 5.545244 &  11.13147 & 9.676618e-21 & 2.805574e-17 & 36.56387\\\\\n",
       "\\end{tabular}\n"
      ],
      "text/markdown": [
       "\n",
       "A data.frame: 6 × 6\n",
       "\n",
       "| <!--/--> | logFC &lt;dbl&gt; | AveExpr &lt;dbl&gt; | t &lt;dbl&gt; | P.Value &lt;dbl&gt; | adj.P.Val &lt;dbl&gt; | B &lt;dbl&gt; |\n",
       "|---|---|---|---|---|---|---|\n",
       "| 13623 |  0.7946468 | 5.255822 |  11.73980 | 2.831866e-22 | 4.926315e-18 | 40.01880 |\n",
       "| 10970 |  0.6321228 | 5.361546 |  11.47202 | 1.339959e-21 | 1.021819e-17 | 38.49831 |\n",
       "| 5442 | -1.4931333 | 2.180779 | -11.38733 | 2.190883e-21 | 1.021819e-17 | 38.01728 |\n",
       "| 17075 |  0.6202635 | 7.265926 |  11.37529 | 2.349550e-21 | 1.021819e-17 | 37.94887 |\n",
       "| 4461 |  0.6782287 | 6.569435 |  11.29235 | 3.802820e-21 | 1.323077e-17 | 37.47774 |\n",
       "| 6563 |  0.6004911 | 5.545244 |  11.13147 | 9.676618e-21 | 2.805574e-17 | 36.56387 |\n",
       "\n"
      ],
      "text/plain": [
       "      logFC      AveExpr  t         P.Value      adj.P.Val    B       \n",
       "13623  0.7946468 5.255822  11.73980 2.831866e-22 4.926315e-18 40.01880\n",
       "10970  0.6321228 5.361546  11.47202 1.339959e-21 1.021819e-17 38.49831\n",
       "5442  -1.4931333 2.180779 -11.38733 2.190883e-21 1.021819e-17 38.01728\n",
       "17075  0.6202635 7.265926  11.37529 2.349550e-21 1.021819e-17 37.94887\n",
       "4461   0.6782287 6.569435  11.29235 3.802820e-21 1.323077e-17 37.47774\n",
       "6563   0.6004911 5.545244  11.13147 9.676618e-21 2.805574e-17 36.56387"
      ]
     },
     "metadata": {},
     "output_type": "display_data"
    },
    {
     "data": {
      "text/html": [
       "<table class=\"dataframe\">\n",
       "<caption>A data.frame: 6 × 6</caption>\n",
       "<thead>\n",
       "\t<tr><th></th><th scope=col>logFC</th><th scope=col>AveExpr</th><th scope=col>t</th><th scope=col>P.Value</th><th scope=col>adj.P.Val</th><th scope=col>B</th></tr>\n",
       "\t<tr><th></th><th scope=col>&lt;dbl&gt;</th><th scope=col>&lt;dbl&gt;</th><th scope=col>&lt;dbl&gt;</th><th scope=col>&lt;dbl&gt;</th><th scope=col>&lt;dbl&gt;</th><th scope=col>&lt;dbl&gt;</th></tr>\n",
       "</thead>\n",
       "<tbody>\n",
       "\t<tr><th scope=row>16863</th><td> 1.223013</td><td>2.9208664</td><td> 9.097265</td><td>1.182040e-15</td><td>2.056276e-11</td><td>24.90970</td></tr>\n",
       "\t<tr><th scope=row>3296</th><td> 1.594761</td><td>1.9955120</td><td> 8.122841</td><td>2.755851e-13</td><td>1.021684e-09</td><td>19.70546</td></tr>\n",
       "\t<tr><th scope=row>673</th><td> 1.485822</td><td>1.1568774</td><td> 8.121636</td><td>2.774199e-13</td><td>1.021684e-09</td><td>19.69912</td></tr>\n",
       "\t<tr><th scope=row>14913</th><td>-1.153029</td><td>2.6115748</td><td>-8.115173</td><td>2.874679e-13</td><td>1.021684e-09</td><td>19.66515</td></tr>\n",
       "\t<tr><th scope=row>12060</th><td> 1.675825</td><td>0.1951384</td><td> 8.111304</td><td>2.936548e-13</td><td>1.021684e-09</td><td>19.64482</td></tr>\n",
       "\t<tr><th scope=row>3227</th><td> 1.279852</td><td>4.3441375</td><td> 8.016339</td><td>4.947792e-13</td><td>1.434530e-09</td><td>19.14676</td></tr>\n",
       "</tbody>\n",
       "</table>\n"
      ],
      "text/latex": [
       "A data.frame: 6 × 6\n",
       "\\begin{tabular}{r|llllll}\n",
       "  & logFC & AveExpr & t & P.Value & adj.P.Val & B\\\\\n",
       "  & <dbl> & <dbl> & <dbl> & <dbl> & <dbl> & <dbl>\\\\\n",
       "\\hline\n",
       "\t16863 &  1.223013 & 2.9208664 &  9.097265 & 1.182040e-15 & 2.056276e-11 & 24.90970\\\\\n",
       "\t3296 &  1.594761 & 1.9955120 &  8.122841 & 2.755851e-13 & 1.021684e-09 & 19.70546\\\\\n",
       "\t673 &  1.485822 & 1.1568774 &  8.121636 & 2.774199e-13 & 1.021684e-09 & 19.69912\\\\\n",
       "\t14913 & -1.153029 & 2.6115748 & -8.115173 & 2.874679e-13 & 1.021684e-09 & 19.66515\\\\\n",
       "\t12060 &  1.675825 & 0.1951384 &  8.111304 & 2.936548e-13 & 1.021684e-09 & 19.64482\\\\\n",
       "\t3227 &  1.279852 & 4.3441375 &  8.016339 & 4.947792e-13 & 1.434530e-09 & 19.14676\\\\\n",
       "\\end{tabular}\n"
      ],
      "text/markdown": [
       "\n",
       "A data.frame: 6 × 6\n",
       "\n",
       "| <!--/--> | logFC &lt;dbl&gt; | AveExpr &lt;dbl&gt; | t &lt;dbl&gt; | P.Value &lt;dbl&gt; | adj.P.Val &lt;dbl&gt; | B &lt;dbl&gt; |\n",
       "|---|---|---|---|---|---|---|\n",
       "| 16863 |  1.223013 | 2.9208664 |  9.097265 | 1.182040e-15 | 2.056276e-11 | 24.90970 |\n",
       "| 3296 |  1.594761 | 1.9955120 |  8.122841 | 2.755851e-13 | 1.021684e-09 | 19.70546 |\n",
       "| 673 |  1.485822 | 1.1568774 |  8.121636 | 2.774199e-13 | 1.021684e-09 | 19.69912 |\n",
       "| 14913 | -1.153029 | 2.6115748 | -8.115173 | 2.874679e-13 | 1.021684e-09 | 19.66515 |\n",
       "| 12060 |  1.675825 | 0.1951384 |  8.111304 | 2.936548e-13 | 1.021684e-09 | 19.64482 |\n",
       "| 3227 |  1.279852 | 4.3441375 |  8.016339 | 4.947792e-13 | 1.434530e-09 | 19.14676 |\n",
       "\n"
      ],
      "text/plain": [
       "      logFC     AveExpr   t         P.Value      adj.P.Val    B       \n",
       "16863  1.223013 2.9208664  9.097265 1.182040e-15 2.056276e-11 24.90970\n",
       "3296   1.594761 1.9955120  8.122841 2.755851e-13 1.021684e-09 19.70546\n",
       "673    1.485822 1.1568774  8.121636 2.774199e-13 1.021684e-09 19.69912\n",
       "14913 -1.153029 2.6115748 -8.115173 2.874679e-13 1.021684e-09 19.66515\n",
       "12060  1.675825 0.1951384  8.111304 2.936548e-13 1.021684e-09 19.64482\n",
       "3227   1.279852 4.3441375  8.016339 4.947792e-13 1.434530e-09 19.14676"
      ]
     },
     "metadata": {},
     "output_type": "display_data"
    }
   ],
   "source": [
    "filtered_genes_adv_vs_norm <- top_genes_adv_vs_norm[1:200,]\n",
    "filtered_genes_fib_vs_norm <- top_genes_fib_vs_norm[1:200,]\n",
    "filtered_genes_adv_vs_fib <- top_genes_adv_vs_fib[1:200,]\n",
    "\n",
    "# View filtered DEGs\n",
    "head(filtered_genes_adv_vs_norm)\n",
    "head(filtered_genes_fib_vs_norm)\n",
    "head(filtered_genes_adv_vs_fib)"
   ]
  },
  {
   "cell_type": "code",
   "execution_count": 16,
   "id": "9cfa925e-548f-4188-b0c9-2f988537fa7f",
   "metadata": {},
   "outputs": [
    {
     "data": {
      "text/html": [
       "<style>\n",
       ".list-inline {list-style: none; margin:0; padding: 0}\n",
       ".list-inline>li {display: inline-block}\n",
       ".list-inline>li:not(:last-child)::after {content: \"\\00b7\"; padding: 0 .5ex}\n",
       "</style>\n",
       "<ol class=list-inline><li>200</li><li>6</li></ol>\n"
      ],
      "text/latex": [
       "\\begin{enumerate*}\n",
       "\\item 200\n",
       "\\item 6\n",
       "\\end{enumerate*}\n"
      ],
      "text/markdown": [
       "1. 200\n",
       "2. 6\n",
       "\n",
       "\n"
      ],
      "text/plain": [
       "[1] 200   6"
      ]
     },
     "metadata": {},
     "output_type": "display_data"
    },
    {
     "data": {
      "text/html": [
       "<style>\n",
       ".list-inline {list-style: none; margin:0; padding: 0}\n",
       ".list-inline>li {display: inline-block}\n",
       ".list-inline>li:not(:last-child)::after {content: \"\\00b7\"; padding: 0 .5ex}\n",
       "</style>\n",
       "<ol class=list-inline><li>200</li><li>6</li></ol>\n"
      ],
      "text/latex": [
       "\\begin{enumerate*}\n",
       "\\item 200\n",
       "\\item 6\n",
       "\\end{enumerate*}\n"
      ],
      "text/markdown": [
       "1. 200\n",
       "2. 6\n",
       "\n",
       "\n"
      ],
      "text/plain": [
       "[1] 200   6"
      ]
     },
     "metadata": {},
     "output_type": "display_data"
    },
    {
     "data": {
      "text/html": [
       "<style>\n",
       ".list-inline {list-style: none; margin:0; padding: 0}\n",
       ".list-inline>li {display: inline-block}\n",
       ".list-inline>li:not(:last-child)::after {content: \"\\00b7\"; padding: 0 .5ex}\n",
       "</style>\n",
       "<ol class=list-inline><li>200</li><li>6</li></ol>\n"
      ],
      "text/latex": [
       "\\begin{enumerate*}\n",
       "\\item 200\n",
       "\\item 6\n",
       "\\end{enumerate*}\n"
      ],
      "text/markdown": [
       "1. 200\n",
       "2. 6\n",
       "\n",
       "\n"
      ],
      "text/plain": [
       "[1] 200   6"
      ]
     },
     "metadata": {},
     "output_type": "display_data"
    }
   ],
   "source": [
    "dim(filtered_genes_adv_vs_norm)\n",
    "dim(filtered_genes_fib_vs_norm)\n",
    "dim(filtered_genes_adv_vs_fib)"
   ]
  },
  {
   "cell_type": "code",
   "execution_count": 17,
   "id": "4ddfee0d-e605-4293-8064-d58a4b69f2ab",
   "metadata": {},
   "outputs": [],
   "source": [
    "genes_adv_vs_norm_names <- rownames(filtered_genes_adv_vs_norm)\n",
    "genes_fib_vs_norm_names <- rownames(filtered_genes_fib_vs_norm)\n",
    "genes_adv_vs_fib_names <- rownames(filtered_genes_adv_vs_fib)"
   ]
  },
  {
   "cell_type": "code",
   "execution_count": 18,
   "id": "7fbd76d8-09c4-44a9-9fb5-4f32070ee101",
   "metadata": {},
   "outputs": [],
   "source": [
    "combined_gene_names <- unique(c(genes_adv_vs_norm_names,\n",
    "                                genes_fib_vs_norm_names,\n",
    "                                genes_adv_vs_fib_names))"
   ]
  },
  {
   "cell_type": "code",
   "execution_count": 19,
   "id": "09be721f-0233-4e8b-b738-85ecbcacabdc",
   "metadata": {},
   "outputs": [
    {
     "data": {
      "text/html": [
       "527"
      ],
      "text/latex": [
       "527"
      ],
      "text/markdown": [
       "527"
      ],
      "text/plain": [
       "[1] 527"
      ]
     },
     "metadata": {},
     "output_type": "display_data"
    }
   ],
   "source": [
    "length(combined_gene_names)"
   ]
  },
  {
   "cell_type": "code",
   "execution_count": 20,
   "id": "569d4365-de0a-443d-beef-21790104774e",
   "metadata": {},
   "outputs": [
    {
     "data": {
      "text/html": [
       "<table class=\"dataframe\">\n",
       "<caption>A data.frame: 6 × 134</caption>\n",
       "<thead>\n",
       "\t<tr><th></th><th scope=col>DLDR_0036</th><th scope=col>DLDR_0081</th><th scope=col>DLDR_0191</th><th scope=col>DLDR_0188</th><th scope=col>DLDR_0130</th><th scope=col>DLDR_0013</th><th scope=col>DLDR_0079</th><th scope=col>DLDR_0131</th><th scope=col>DLDR_0135</th><th scope=col>DLDR_0190</th><th scope=col>⋯</th><th scope=col>DLDR_0175</th><th scope=col>DLDR_0052</th><th scope=col>DLDR_0087</th><th scope=col>DLDR_0155</th><th scope=col>DLDR_0092</th><th scope=col>DLDR_0187</th><th scope=col>DLDR_0186</th><th scope=col>DLDR_0179</th><th scope=col>DLDR_0182</th><th scope=col>DLDR_0001</th></tr>\n",
       "\t<tr><th></th><th scope=col>&lt;dbl&gt;</th><th scope=col>&lt;dbl&gt;</th><th scope=col>&lt;dbl&gt;</th><th scope=col>&lt;dbl&gt;</th><th scope=col>&lt;dbl&gt;</th><th scope=col>&lt;dbl&gt;</th><th scope=col>&lt;dbl&gt;</th><th scope=col>&lt;dbl&gt;</th><th scope=col>&lt;dbl&gt;</th><th scope=col>&lt;dbl&gt;</th><th scope=col>⋯</th><th scope=col>&lt;dbl&gt;</th><th scope=col>&lt;dbl&gt;</th><th scope=col>&lt;dbl&gt;</th><th scope=col>&lt;dbl&gt;</th><th scope=col>&lt;dbl&gt;</th><th scope=col>&lt;dbl&gt;</th><th scope=col>&lt;dbl&gt;</th><th scope=col>&lt;dbl&gt;</th><th scope=col>&lt;dbl&gt;</th><th scope=col>&lt;dbl&gt;</th></tr>\n",
       "</thead>\n",
       "<tbody>\n",
       "\t<tr><th scope=row>10</th><td> 4.5895546</td><td> 5.4821690</td><td> 5.01315395</td><td> 5.0660709</td><td> 4.6558168</td><td> 4.29907767</td><td> 4.752957</td><td> 5.4095139</td><td> 4.9937768</td><td> 4.5285302</td><td>⋯</td><td> 4.853565</td><td> 4.5671727</td><td> 4.9851582</td><td> 5.2347762</td><td>4.9007545</td><td> 4.9230866</td><td> 5.0044999</td><td> 5.0580621</td><td> 5.0024535</td><td> 4.221449898</td></tr>\n",
       "\t<tr><th scope=row>57</th><td>-0.7190239</td><td> 0.5821648</td><td>-1.15454295</td><td>-1.0836762</td><td>-0.2894877</td><td>-0.00646928</td><td>-1.138550</td><td>-4.0601279</td><td>-2.1042553</td><td>-1.3496601</td><td>⋯</td><td>-2.285986</td><td>-0.1105945</td><td>-0.3856470</td><td>-3.5800732</td><td>0.3172589</td><td>-0.7573986</td><td>-3.4860167</td><td>-1.3464713</td><td>-1.1032804</td><td>-0.005377495</td></tr>\n",
       "\t<tr><th scope=row>265</th><td> 0.5876374</td><td>-2.2251901</td><td>-0.07654044</td><td> 0.1964317</td><td> 0.2723912</td><td> 2.52315019</td><td> 1.424386</td><td> 0.3321895</td><td> 0.2176728</td><td> 0.1451046</td><td>⋯</td><td> 1.083248</td><td> 0.3523775</td><td>-0.3096982</td><td> 0.1203665</td><td>0.8904442</td><td>-0.2917350</td><td> 0.8116638</td><td>-0.2469356</td><td> 0.4160938</td><td> 2.729098547</td></tr>\n",
       "\t<tr><th scope=row>275</th><td> 1.6624052</td><td> 2.5296974</td><td> 1.50842206</td><td> 1.9916119</td><td> 1.4679420</td><td> 1.93415217</td><td> 2.031375</td><td> 2.0483966</td><td> 0.5280129</td><td> 1.6338518</td><td>⋯</td><td> 1.083248</td><td> 2.5564691</td><td> 2.0559513</td><td> 1.3741231</td><td>1.9022214</td><td> 1.8389687</td><td> 1.6432663</td><td> 1.2724386</td><td> 1.9323435</td><td> 2.467558388</td></tr>\n",
       "\t<tr><th scope=row>278</th><td> 5.5299023</td><td> 5.8462723</td><td> 5.55358296</td><td> 5.3592673</td><td> 5.7745493</td><td> 4.96266190</td><td> 5.201300</td><td> 5.5002050</td><td> 5.7820510</td><td> 5.4935472</td><td>⋯</td><td> 5.862067</td><td> 5.0386033</td><td> 5.6652311</td><td> 5.7811395</td><td>5.7451593</td><td> 5.4380615</td><td> 5.5701694</td><td> 5.5587008</td><td> 5.7338219</td><td> 5.220120837</td></tr>\n",
       "\t<tr><th scope=row>297</th><td> 7.5494873</td><td> 7.7592284</td><td> 7.61253797</td><td> 8.0700567</td><td> 7.4394046</td><td> 7.67164807</td><td> 7.481170</td><td> 7.5568804</td><td> 8.3222192</td><td> 7.5618681</td><td>⋯</td><td> 7.462766</td><td> 8.3865560</td><td> 8.5813066</td><td> 7.9407091</td><td>8.7308868</td><td> 8.0046275</td><td> 7.7268849</td><td> 7.2454517</td><td> 7.7264423</td><td> 8.111235350</td></tr>\n",
       "</tbody>\n",
       "</table>\n"
      ],
      "text/latex": [
       "A data.frame: 6 × 134\n",
       "\\begin{tabular}{r|lllllllllllllllllllll}\n",
       "  & DLDR\\_0036 & DLDR\\_0081 & DLDR\\_0191 & DLDR\\_0188 & DLDR\\_0130 & DLDR\\_0013 & DLDR\\_0079 & DLDR\\_0131 & DLDR\\_0135 & DLDR\\_0190 & ⋯ & DLDR\\_0175 & DLDR\\_0052 & DLDR\\_0087 & DLDR\\_0155 & DLDR\\_0092 & DLDR\\_0187 & DLDR\\_0186 & DLDR\\_0179 & DLDR\\_0182 & DLDR\\_0001\\\\\n",
       "  & <dbl> & <dbl> & <dbl> & <dbl> & <dbl> & <dbl> & <dbl> & <dbl> & <dbl> & <dbl> & ⋯ & <dbl> & <dbl> & <dbl> & <dbl> & <dbl> & <dbl> & <dbl> & <dbl> & <dbl> & <dbl>\\\\\n",
       "\\hline\n",
       "\t10 &  4.5895546 &  5.4821690 &  5.01315395 &  5.0660709 &  4.6558168 &  4.29907767 &  4.752957 &  5.4095139 &  4.9937768 &  4.5285302 & ⋯ &  4.853565 &  4.5671727 &  4.9851582 &  5.2347762 & 4.9007545 &  4.9230866 &  5.0044999 &  5.0580621 &  5.0024535 &  4.221449898\\\\\n",
       "\t57 & -0.7190239 &  0.5821648 & -1.15454295 & -1.0836762 & -0.2894877 & -0.00646928 & -1.138550 & -4.0601279 & -2.1042553 & -1.3496601 & ⋯ & -2.285986 & -0.1105945 & -0.3856470 & -3.5800732 & 0.3172589 & -0.7573986 & -3.4860167 & -1.3464713 & -1.1032804 & -0.005377495\\\\\n",
       "\t265 &  0.5876374 & -2.2251901 & -0.07654044 &  0.1964317 &  0.2723912 &  2.52315019 &  1.424386 &  0.3321895 &  0.2176728 &  0.1451046 & ⋯ &  1.083248 &  0.3523775 & -0.3096982 &  0.1203665 & 0.8904442 & -0.2917350 &  0.8116638 & -0.2469356 &  0.4160938 &  2.729098547\\\\\n",
       "\t275 &  1.6624052 &  2.5296974 &  1.50842206 &  1.9916119 &  1.4679420 &  1.93415217 &  2.031375 &  2.0483966 &  0.5280129 &  1.6338518 & ⋯ &  1.083248 &  2.5564691 &  2.0559513 &  1.3741231 & 1.9022214 &  1.8389687 &  1.6432663 &  1.2724386 &  1.9323435 &  2.467558388\\\\\n",
       "\t278 &  5.5299023 &  5.8462723 &  5.55358296 &  5.3592673 &  5.7745493 &  4.96266190 &  5.201300 &  5.5002050 &  5.7820510 &  5.4935472 & ⋯ &  5.862067 &  5.0386033 &  5.6652311 &  5.7811395 & 5.7451593 &  5.4380615 &  5.5701694 &  5.5587008 &  5.7338219 &  5.220120837\\\\\n",
       "\t297 &  7.5494873 &  7.7592284 &  7.61253797 &  8.0700567 &  7.4394046 &  7.67164807 &  7.481170 &  7.5568804 &  8.3222192 &  7.5618681 & ⋯ &  7.462766 &  8.3865560 &  8.5813066 &  7.9407091 & 8.7308868 &  8.0046275 &  7.7268849 &  7.2454517 &  7.7264423 &  8.111235350\\\\\n",
       "\\end{tabular}\n"
      ],
      "text/markdown": [
       "\n",
       "A data.frame: 6 × 134\n",
       "\n",
       "| <!--/--> | DLDR_0036 &lt;dbl&gt; | DLDR_0081 &lt;dbl&gt; | DLDR_0191 &lt;dbl&gt; | DLDR_0188 &lt;dbl&gt; | DLDR_0130 &lt;dbl&gt; | DLDR_0013 &lt;dbl&gt; | DLDR_0079 &lt;dbl&gt; | DLDR_0131 &lt;dbl&gt; | DLDR_0135 &lt;dbl&gt; | DLDR_0190 &lt;dbl&gt; | ⋯ ⋯ | DLDR_0175 &lt;dbl&gt; | DLDR_0052 &lt;dbl&gt; | DLDR_0087 &lt;dbl&gt; | DLDR_0155 &lt;dbl&gt; | DLDR_0092 &lt;dbl&gt; | DLDR_0187 &lt;dbl&gt; | DLDR_0186 &lt;dbl&gt; | DLDR_0179 &lt;dbl&gt; | DLDR_0182 &lt;dbl&gt; | DLDR_0001 &lt;dbl&gt; |\n",
       "|---|---|---|---|---|---|---|---|---|---|---|---|---|---|---|---|---|---|---|---|---|---|\n",
       "| 10 |  4.5895546 |  5.4821690 |  5.01315395 |  5.0660709 |  4.6558168 |  4.29907767 |  4.752957 |  5.4095139 |  4.9937768 |  4.5285302 | ⋯ |  4.853565 |  4.5671727 |  4.9851582 |  5.2347762 | 4.9007545 |  4.9230866 |  5.0044999 |  5.0580621 |  5.0024535 |  4.221449898 |\n",
       "| 57 | -0.7190239 |  0.5821648 | -1.15454295 | -1.0836762 | -0.2894877 | -0.00646928 | -1.138550 | -4.0601279 | -2.1042553 | -1.3496601 | ⋯ | -2.285986 | -0.1105945 | -0.3856470 | -3.5800732 | 0.3172589 | -0.7573986 | -3.4860167 | -1.3464713 | -1.1032804 | -0.005377495 |\n",
       "| 265 |  0.5876374 | -2.2251901 | -0.07654044 |  0.1964317 |  0.2723912 |  2.52315019 |  1.424386 |  0.3321895 |  0.2176728 |  0.1451046 | ⋯ |  1.083248 |  0.3523775 | -0.3096982 |  0.1203665 | 0.8904442 | -0.2917350 |  0.8116638 | -0.2469356 |  0.4160938 |  2.729098547 |\n",
       "| 275 |  1.6624052 |  2.5296974 |  1.50842206 |  1.9916119 |  1.4679420 |  1.93415217 |  2.031375 |  2.0483966 |  0.5280129 |  1.6338518 | ⋯ |  1.083248 |  2.5564691 |  2.0559513 |  1.3741231 | 1.9022214 |  1.8389687 |  1.6432663 |  1.2724386 |  1.9323435 |  2.467558388 |\n",
       "| 278 |  5.5299023 |  5.8462723 |  5.55358296 |  5.3592673 |  5.7745493 |  4.96266190 |  5.201300 |  5.5002050 |  5.7820510 |  5.4935472 | ⋯ |  5.862067 |  5.0386033 |  5.6652311 |  5.7811395 | 5.7451593 |  5.4380615 |  5.5701694 |  5.5587008 |  5.7338219 |  5.220120837 |\n",
       "| 297 |  7.5494873 |  7.7592284 |  7.61253797 |  8.0700567 |  7.4394046 |  7.67164807 |  7.481170 |  7.5568804 |  8.3222192 |  7.5618681 | ⋯ |  7.462766 |  8.3865560 |  8.5813066 |  7.9407091 | 8.7308868 |  8.0046275 |  7.7268849 |  7.2454517 |  7.7264423 |  8.111235350 |\n",
       "\n"
      ],
      "text/plain": [
       "    DLDR_0036  DLDR_0081  DLDR_0191   DLDR_0188  DLDR_0130  DLDR_0013  \n",
       "10   4.5895546  5.4821690  5.01315395  5.0660709  4.6558168  4.29907767\n",
       "57  -0.7190239  0.5821648 -1.15454295 -1.0836762 -0.2894877 -0.00646928\n",
       "265  0.5876374 -2.2251901 -0.07654044  0.1964317  0.2723912  2.52315019\n",
       "275  1.6624052  2.5296974  1.50842206  1.9916119  1.4679420  1.93415217\n",
       "278  5.5299023  5.8462723  5.55358296  5.3592673  5.7745493  4.96266190\n",
       "297  7.5494873  7.7592284  7.61253797  8.0700567  7.4394046  7.67164807\n",
       "    DLDR_0079 DLDR_0131  DLDR_0135  DLDR_0190  ⋯ DLDR_0175 DLDR_0052 \n",
       "10   4.752957  5.4095139  4.9937768  4.5285302 ⋯  4.853565  4.5671727\n",
       "57  -1.138550 -4.0601279 -2.1042553 -1.3496601 ⋯ -2.285986 -0.1105945\n",
       "265  1.424386  0.3321895  0.2176728  0.1451046 ⋯  1.083248  0.3523775\n",
       "275  2.031375  2.0483966  0.5280129  1.6338518 ⋯  1.083248  2.5564691\n",
       "278  5.201300  5.5002050  5.7820510  5.4935472 ⋯  5.862067  5.0386033\n",
       "297  7.481170  7.5568804  8.3222192  7.5618681 ⋯  7.462766  8.3865560\n",
       "    DLDR_0087  DLDR_0155  DLDR_0092 DLDR_0187  DLDR_0186  DLDR_0179  DLDR_0182 \n",
       "10   4.9851582  5.2347762 4.9007545  4.9230866  5.0044999  5.0580621  5.0024535\n",
       "57  -0.3856470 -3.5800732 0.3172589 -0.7573986 -3.4860167 -1.3464713 -1.1032804\n",
       "265 -0.3096982  0.1203665 0.8904442 -0.2917350  0.8116638 -0.2469356  0.4160938\n",
       "275  2.0559513  1.3741231 1.9022214  1.8389687  1.6432663  1.2724386  1.9323435\n",
       "278  5.6652311  5.7811395 5.7451593  5.4380615  5.5701694  5.5587008  5.7338219\n",
       "297  8.5813066  7.9407091 8.7308868  8.0046275  7.7268849  7.2454517  7.7264423\n",
       "    DLDR_0001   \n",
       "10   4.221449898\n",
       "57  -0.005377495\n",
       "265  2.729098547\n",
       "275  2.467558388\n",
       "278  5.220120837\n",
       "297  8.111235350"
      ]
     },
     "metadata": {},
     "output_type": "display_data"
    }
   ],
   "source": [
    "common_genes <- intersect(rownames(normal_counts), combined_gene_names)\n",
    "selected_normal_counts <- normal_counts[common_genes, ]\n",
    "head(selected_normal_counts)"
   ]
  },
  {
   "cell_type": "code",
   "execution_count": 22,
   "id": "91ed8cec-98ef-4cb8-a39e-7189f215f971",
   "metadata": {},
   "outputs": [
    {
     "data": {
      "text/html": [
       "<style>\n",
       ".list-inline {list-style: none; margin:0; padding: 0}\n",
       ".list-inline>li {display: inline-block}\n",
       ".list-inline>li:not(:last-child)::after {content: \"\\00b7\"; padding: 0 .5ex}\n",
       "</style>\n",
       "<ol class=list-inline><li>527</li><li>134</li></ol>\n"
      ],
      "text/latex": [
       "\\begin{enumerate*}\n",
       "\\item 527\n",
       "\\item 134\n",
       "\\end{enumerate*}\n"
      ],
      "text/markdown": [
       "1. 527\n",
       "2. 134\n",
       "\n",
       "\n"
      ],
      "text/plain": [
       "[1] 527 134"
      ]
     },
     "metadata": {},
     "output_type": "display_data"
    }
   ],
   "source": [
    "dim(selected_normal_counts)"
   ]
  },
  {
   "cell_type": "code",
   "execution_count": 23,
   "id": "86e4b69b-8ec0-4913-97f2-8f56562f716d",
   "metadata": {},
   "outputs": [],
   "source": [
    "write.csv(selected_normal_counts, \"subset_data.csv\")"
   ]
  }
 ],
 "metadata": {
  "kernelspec": {
   "display_name": "R",
   "language": "R",
   "name": "ir"
  },
  "language_info": {
   "codemirror_mode": "r",
   "file_extension": ".r",
   "mimetype": "text/x-r-source",
   "name": "R",
   "pygments_lexer": "r",
   "version": "4.2.1"
  }
 },
 "nbformat": 4,
 "nbformat_minor": 5
}
