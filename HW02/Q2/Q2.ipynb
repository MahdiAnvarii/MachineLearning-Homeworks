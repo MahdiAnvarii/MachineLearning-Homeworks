{
 "cells": [
  {
   "cell_type": "markdown",
   "id": "6c6b9b1e-eaf4-49bb-a396-8159494b4420",
   "metadata": {},
   "source": [
    "## Mahdi Anvari 610700002 Homework 2 of Machine Learning Question 2"
   ]
  },
  {
   "cell_type": "code",
   "execution_count": 15,
   "id": "9c39e446-beb3-4aa7-b4ff-877a2494680d",
   "metadata": {},
   "outputs": [],
   "source": [
    "# importing libraries\n",
    "import numpy as np\n",
    "import tensorflow as tf\n",
    "from sklearn.decomposition import PCA\n",
    "from sklearn.preprocessing import StandardScaler"
   ]
  },
  {
   "cell_type": "markdown",
   "id": "64d47fe6-2c9d-483d-a978-c3a9309dbef5",
   "metadata": {},
   "source": [
    "Dataset: \n",
    "• Load MNIST dataset (could be accessed using from keras.datasets in python)\n",
    "• Separate them by label into 10 smaller sets"
   ]
  },
  {
   "cell_type": "code",
   "execution_count": 9,
   "id": "749e3577-181c-45d1-a51c-a5e39c97d6ff",
   "metadata": {},
   "outputs": [
    {
     "name": "stdout",
     "output_type": "stream",
     "text": [
      "(70000, 28, 28)\n",
      "(70000,)\n",
      "Length of label 0 is:  6903\n",
      "Length of label 1 is:  7877\n",
      "Length of label 2 is:  6990\n",
      "Length of label 3 is:  7141\n",
      "Length of label 4 is:  6824\n",
      "Length of label 5 is:  6313\n",
      "Length of label 6 is:  6876\n",
      "Length of label 7 is:  7293\n",
      "Length of label 8 is:  6825\n",
      "Length of label 9 is:  6958\n"
     ]
    }
   ],
   "source": [
    "mnist_path = 'c:/Users/M/Downloads/mnist.npz'\n",
    "with np.load(mnist_path, allow_pickle=True) as f:\n",
    "    X_train, Y_train = f['x_train'], f['y_train']\n",
    "    X_test, Y_test = f['x_test'], f['y_test']\n",
    "\n",
    "X_all = np.concatenate((X_train, X_test), axis=0)\n",
    "Y_all = np.concatenate((Y_train, Y_test), axis=0)\n",
    "print((X_all.shape))\n",
    "print((Y_all.shape))\n",
    "\n",
    "Sets = [[] for _ in range(10)]\n",
    "for i in range(len(X_all)):\n",
    "    label = Y_all[i]\n",
    "    Sets[label].append(X_all[i])\n",
    "\n",
    "for i in range(10):\n",
    "    print(f\"Length of label {i} is: \",len(Sets[i]))"
   ]
  },
  {
   "cell_type": "markdown",
   "id": "23d423ab-8fb2-4f39-a4f8-499a904b6d3a",
   "metadata": {},
   "source": [
    "a. Flatten the pictures and apply PCA"
   ]
  },
  {
   "cell_type": "code",
   "execution_count": 14,
   "id": "7835d40d-c478-4f87-bac0-97939a4baa81",
   "metadata": {},
   "outputs": [
    {
     "name": "stdout",
     "output_type": "stream",
     "text": [
      "(6903, 28, 28)\n",
      "(6903, 784)\n"
     ]
    }
   ],
   "source": [
    "for i in range(10):\n",
    "    Sets[i] = np.array(Sets[i])\n",
    "print(Sets[0].shape)\n",
    "for i in range(10):\n",
    "    Sets[i] = (Sets[i]).reshape(Sets[i].shape[0],-1)\n",
    "print(Sets[0].shape)"
   ]
  },
  {
   "cell_type": "code",
   "execution_count": 20,
   "id": "703e5c6a-8ed8-4c5b-8931-eaf3a3cf1a16",
   "metadata": {},
   "outputs": [
    {
     "name": "stdout",
     "output_type": "stream",
     "text": [
      "(6903, 784)\n"
     ]
    }
   ],
   "source": [
    "NormalizedSets = [[] for _ in range(10)]\n",
    "for i in range(10):\n",
    "    scaler = StandardScaler()\n",
    "    NormalizedSets[i] = scaler.fit_transform(Sets[i])\n",
    "print(NormalizedSets[0].shape)"
   ]
  },
  {
   "cell_type": "code",
   "execution_count": 22,
   "id": "7854a314-f176-4124-9c99-c8cfbc999d05",
   "metadata": {},
   "outputs": [
    {
     "name": "stdout",
     "output_type": "stream",
     "text": [
      "(6903, 50)\n"
     ]
    }
   ],
   "source": [
    "PCASets = [[] for _ in range(10)]\n",
    "for i in range(10):\n",
    "    NormalizedSets[i] = scaler.fit_transform(Sets[i])\n",
    "    pca = PCA(n_components=50)\n",
    "    pca.fit(NormalizedSets[i])\n",
    "    PCASets[i] = pca.transform(NormalizedSets[i])\n",
    "print(PCASets[0].shape)"
   ]
  },
  {
   "cell_type": "code",
   "execution_count": null,
   "id": "6bce7b5e-e621-48b2-8546-4169bca6588a",
   "metadata": {},
   "outputs": [],
   "source": []
  }
 ],
 "metadata": {
  "kernelspec": {
   "display_name": "Python 3 (ipykernel)",
   "language": "python",
   "name": "python3"
  },
  "language_info": {
   "codemirror_mode": {
    "name": "ipython",
    "version": 3
   },
   "file_extension": ".py",
   "mimetype": "text/x-python",
   "name": "python",
   "nbconvert_exporter": "python",
   "pygments_lexer": "ipython3",
   "version": "3.10.0"
  }
 },
 "nbformat": 4,
 "nbformat_minor": 5
}
