{
 "cells": [
  {
   "cell_type": "markdown",
   "id": "55e2be89-1a9a-486b-aded-b40404d06abf",
   "metadata": {},
   "source": [
    "## Question 1"
   ]
  },
  {
   "cell_type": "markdown",
   "id": "70e7a884-8d39-4449-b31d-7204623666a4",
   "metadata": {},
   "source": [
    "\n",
    "![Q1](C:/Users/M/Desktop/ML3Q1.png)"
   ]
  },
  {
   "cell_type": "markdown",
   "id": "aafc5d68-b866-482c-9e85-c6cbb58f94d5",
   "metadata": {},
   "source": [
    "\n",
    "![A1](C:/Users/M/Desktop/ML3A1.jpg)"
   ]
  },
  {
   "cell_type": "markdown",
   "id": "5411f0f0-4368-47ee-973f-07742d446d7d",
   "metadata": {},
   "source": [
    "## Question 2"
   ]
  },
  {
   "cell_type": "markdown",
   "id": "5b03ff03-3270-4663-bdfe-eaabf863ce8b",
   "metadata": {},
   "source": [
    "\n",
    "![Q2](C:/Users/M/Desktop/ML3Q2.png)"
   ]
  },
  {
   "cell_type": "markdown",
   "id": "d6fc063b-c89f-418b-856b-0fb46ffc2ff3",
   "metadata": {},
   "source": [
    "\n",
    "![A2](C:/Users/M/Desktop/ML3A2.jpg)"
   ]
  },
  {
   "cell_type": "markdown",
   "id": "921923fb-9ae9-493b-bfb5-2da2d1f308a1",
   "metadata": {},
   "source": [
    "## Question 3"
   ]
  },
  {
   "cell_type": "markdown",
   "id": "47e3dfea-7b30-40fd-bc2d-a411141d6555",
   "metadata": {},
   "source": [
    "\n",
    "![Q3](C:/Users/M/Desktop/ML3Q3.png)"
   ]
  },
  {
   "cell_type": "markdown",
   "id": "ae215204-8ec1-4a00-96ee-bcac6af0aae7",
   "metadata": {},
   "source": [
    "\n",
    "![A3](C:/Users/M/Desktop/ML3A3.jpg)"
   ]
  },
  {
   "cell_type": "markdown",
   "id": "ca382393-32a8-4e2d-84cc-eebbe11d68ff",
   "metadata": {},
   "source": [
    "## Question 4"
   ]
  },
  {
   "cell_type": "markdown",
   "id": "378c155d-91f9-4bc2-b797-7442de3bd855",
   "metadata": {},
   "source": [
    "\n",
    "![Q4](C:/Users/M/Desktop/ML3Q4.png)"
   ]
  },
  {
   "cell_type": "code",
   "execution_count": null,
   "id": "bccc5769-b893-4484-b3fe-cca88ea033c1",
   "metadata": {},
   "outputs": [],
   "source": []
  },
  {
   "cell_type": "markdown",
   "id": "e0629667-b517-4b1d-9d8e-0c6efdff895e",
   "metadata": {},
   "source": [
    "## Question 5"
   ]
  },
  {
   "cell_type": "markdown",
   "id": "cbf6cb4b-0512-425b-a38b-e196fb10ba2d",
   "metadata": {},
   "source": [
    "\n",
    "![Q5](C:/Users/M/Desktop/ML3Q5P1.png)"
   ]
  },
  {
   "cell_type": "markdown",
   "id": "b81024dc-6444-42fc-a15b-6a3b74030025",
   "metadata": {},
   "source": [
    "\n",
    "![Q5](C:/Users/M/Desktop/ML3Q5P2.png)"
   ]
  },
  {
   "cell_type": "code",
   "execution_count": null,
   "id": "00c3acbd-8012-427b-a3eb-c107f954596a",
   "metadata": {},
   "outputs": [],
   "source": []
  }
 ],
 "metadata": {
  "kernelspec": {
   "display_name": "R",
   "language": "R",
   "name": "ir"
  },
  "language_info": {
   "codemirror_mode": "r",
   "file_extension": ".r",
   "mimetype": "text/x-r-source",
   "name": "R",
   "pygments_lexer": "r",
   "version": "4.2.1"
  }
 },
 "nbformat": 4,
 "nbformat_minor": 5
}
